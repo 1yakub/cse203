{
  "nbformat": 4,
  "nbformat_minor": 0,
  "metadata": {
    "colab": {
      "name": "CSE203Lecture8.ipynb",
      "provenance": [],
      "include_colab_link": true
    },
    "kernelspec": {
      "name": "python3",
      "display_name": "Python 3"
    }
  },
  "cells": [
    {
      "cell_type": "markdown",
      "metadata": {
        "id": "view-in-github",
        "colab_type": "text"
      },
      "source": [
        "<a href=\"https://colab.research.google.com/github/mohammadmotiurrahman/cse203/blob/master/CSE203Lecture8.ipynb\" target=\"_parent\"><img src=\"https://colab.research.google.com/assets/colab-badge.svg\" alt=\"Open In Colab\"/></a>"
      ]
    },
    {
      "cell_type": "markdown",
      "metadata": {
        "id": "xydmic_uTabg",
        "colab_type": "text"
      },
      "source": [
        "# Binary Search Tree\n",
        "\n",
        "In singly linked list , we managed to solve one problem that arrays had. It is the problem of extra space. However, at the same time, we also introduced another problem in the mix, the search time of an element in a linked list in the worst case is O(n). It means that to find an element, in the worst case, one has to search `n` number of elements to find the number that he/she is looking for. Is there something that can be done better than O(n), at the same time keeping the flexibility. Enter Binary Search Tree, where searching can done much faster, without sacrificing much space for insertion or deletion. In a binary search tree the node which are larger than the parent node are kept on the right side of the tree. The nodes which are smaller than the parent node are kept on the left side of the tree. What is a tree, you may ask ... it is a way of representing data in a inverted tree shape.\n",
        "\n",
        "Example of a generic binary search tree is the following:\n",
        "\n",
        "                  16\n",
        "                 /  \\\n",
        "                /    \\\n",
        "               /      \\\n",
        "             10        20\n",
        "            / \\        /\\\n",
        "           /   \\      /  \\\n",
        "          /     \\    /    \\\n",
        "         5      11  18    25\n",
        "\n",
        "Here every value on the right is greater than the parent node, and any value on the left is less than the value of the parent node. This relationship recursively trickles downwards. Now let us define binary search tree using C++ notations.\n",
        "\n",
        "```\n",
        "struct node{\n",
        "    int data;\n",
        "    node* left;//Left node\n",
        "    node* right;//Right node\n",
        "}\n",
        "```\n",
        "Remember that doubly linked list was also defined somewhat similarly:\n",
        "```\n",
        "struct node{\n",
        "    int data;\n",
        "    node* next;\n",
        "    node* previous;\n",
        "}\n",
        "```\n",
        "Doubly linked list looked like the following:\n",
        "```\n",
        "NULL <-2-> <-4-> <-6-> <-8-> <-10-> NULL\n",
        "```\n",
        "\n",
        "while binary search tree is a little bit different.\n",
        "\n"
      ]
    },
    {
      "cell_type": "code",
      "metadata": {
        "id": "3TKmwvQmQUM2",
        "colab_type": "code",
        "colab": {}
      },
      "source": [
        "%%writefile test.cpp\n",
        "#include <iostream>\n",
        "using namespace std;\n",
        "struct node{\n",
        "    int data;\n",
        "    node* left;//Left node\n",
        "    node* right;//Right node\n",
        "}\n",
        "/*There are 3 functions that we will focus most here \n",
        "a - Insertion\n",
        "b - Deletion\n",
        "c - Search\n",
        "Lets begin ....\n",
        "*/\n",
        "void insert(node *&n, int val){\n",
        "    /*This will result in something like\n",
        "    NULL <- 2 -> NULL \n",
        "    if(n == NULL){\n",
        "        n = new node;\n",
        "        n->data = val;\n",
        "        n->left = n->right = NULL;\n",
        "    }\n",
        "}\n",
        "int main(){\n",
        "    node* a = NULL;\n",
        "    insert(a,2);\n",
        "\n",
        "}"
      ],
      "execution_count": null,
      "outputs": []
    },
    {
      "cell_type": "code",
      "metadata": {
        "id": "zTeSB3Az_owf",
        "colab_type": "code",
        "colab": {}
      },
      "source": [
        ""
      ],
      "execution_count": null,
      "outputs": []
    }
  ]
}