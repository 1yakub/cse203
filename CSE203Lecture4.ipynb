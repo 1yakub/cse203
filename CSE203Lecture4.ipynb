{
  "nbformat": 4,
  "nbformat_minor": 0,
  "metadata": {
    "colab": {
      "name": "CSE203Lecture4.ipynb",
      "provenance": [],
      "authorship_tag": "ABX9TyParqzFlhqPuynxKDGRpDah",
      "include_colab_link": true
    },
    "kernelspec": {
      "name": "python3",
      "display_name": "Python 3"
    }
  },
  "cells": [
    {
      "cell_type": "markdown",
      "metadata": {
        "id": "view-in-github",
        "colab_type": "text"
      },
      "source": [
        "<a href=\"https://colab.research.google.com/github/mohammadmotiurrahman/cse203/blob/master/CSE203Lecture4.ipynb\" target=\"_parent\"><img src=\"https://colab.research.google.com/assets/colab-badge.svg\" alt=\"Open In Colab\"/></a>"
      ]
    },
    {
      "cell_type": "markdown",
      "metadata": {
        "id": "1Jrc3ZueYuF0",
        "colab_type": "text"
      },
      "source": [
        "## About `structs`\n",
        "Structs are used to assemble multiple data type such as `int`, `string`, `float` together. This is useful in situations where just describing something with a simple data type is not good enough. For example in order to represent a patient in a hospital more than one data type is required. The hospital authorities needs to know his/her name, his/her age, gender, blood type, COVID positive or negative(unfortunately) these days. There are entities that requires such input, for example, in order to describe a student, students name, id, gender, age, highest degree achieved is required. For other trivial cases such as describing a flower, name of the flower/color of the flower/no of petals of the flower is required. In this notebook we would be focusing on the data representation for a rectangle. In order to represent a rectangle, two things are required, one is it length and another is its width. So here we go."
      ]
    },
    {
      "cell_type": "code",
      "metadata": {
        "id": "7n3MfwFElAGR",
        "colab_type": "code",
        "colab": {
          "base_uri": "https://localhost:8080/",
          "height": 35
        },
        "outputId": "e51b076e-55f6-49b5-8421-d07da51969bf"
      },
      "source": [
        "%%writefile test.cpp\n",
        "#include <iostream>\n",
        "using namespace std;\n",
        "/*Let us start with describing a \n",
        "student. In order to describe an \n",
        "entity like student, keyword \"struct\"\n",
        "is used like the following. And \n",
        "all the elements relevant to that\n",
        "entity which is student is enclosed\n",
        "in it.*/\n",
        "\n",
        "struct student{\n",
        "  string name;\n",
        "  int id;  \n",
        "};\n",
        "\n",
        "int main(){\n",
        "  /*Afterwards in order to instantiate\n",
        "  a student, one has to declare a \n",
        "  variable of the student, similar \n",
        "  to a variable of int type*/\n",
        "\n",
        "  student s;//to declare a variable like \"s\"\n",
        "  int x;//to declare a variable like \"x\"\n",
        "  \n",
        "  /*To write to an elements of the variable \"s\"\n",
        "  that describes a student, do something like this*/\n",
        "  \n",
        "  s.name = \"motiur\";\n",
        "  s.id = 123;\n",
        "\n",
        "  /*In order to display the elements that was\n",
        "  written do something like this.*/\n",
        "  \n",
        "  cout<<\"Name is : \"<<s.name<<\" Id is :\"<<s.id<<endl;\n",
        "  \n",
        "  return 0;\n",
        "}\n",
        "\n"
      ],
      "execution_count": 1,
      "outputs": [
        {
          "output_type": "stream",
          "text": [
            "Overwriting test.cpp\n"
          ],
          "name": "stdout"
        }
      ]
    },
    {
      "cell_type": "code",
      "metadata": {
        "id": "APpipyGncGJV",
        "colab_type": "code",
        "colab": {
          "base_uri": "https://localhost:8080/",
          "height": 35
        },
        "outputId": "6b9ff590-e460-4eb4-8517-aef096cb3164"
      },
      "source": [
        "%%script bash\n",
        "g++ test.cpp -o test \n",
        "./test"
      ],
      "execution_count": 2,
      "outputs": [
        {
          "output_type": "stream",
          "text": [
            "Name is : motiur Id is :123\n"
          ],
          "name": "stdout"
        }
      ]
    },
    {
      "cell_type": "markdown",
      "metadata": {
        "id": "9LRA0sVQ6PXx",
        "colab_type": "text"
      },
      "source": [
        "The code block above is a basic example of the usage of `struct` construct. Things gets a little bit more involved to make a robust system of data structures. Below will be a given highlights of arrays of structs and how structs are used in conjunction with dynamic and static memory."
      ]
    },
    {
      "cell_type": "code",
      "metadata": {
        "id": "3DwV_wdq6H-o",
        "colab_type": "code",
        "colab": {
          "base_uri": "https://localhost:8080/",
          "height": 35
        },
        "outputId": "27578c42-2046-4ac0-e4b2-6d9cceffaa9e"
      },
      "source": [
        "%%writefile test.cpp\n",
        "#include <iostream>\n",
        "using namespace std;\n",
        "/*So let us rewrite the above code\n",
        "using dynamic memory constructs.*/\n",
        "\n",
        "struct student{\n",
        "  string name;\n",
        "  int id;  \n",
        "};\n",
        "\n",
        "int main(){\n",
        "  /*Remember that an integer can be \n",
        "  declared like this, even though\n",
        "  it is strictly not necessary*/\n",
        "\n",
        "  int *x = new int(3);\n",
        "  /*Similarly student data variable\n",
        "  can be declared as follows using\n",
        "  dynamic memory notations.*/\n",
        "  \n",
        "  student *s = new student;\n",
        "  s->name = \"motiur\";\n",
        "  s->id = 124;\n",
        "\n",
        "  /*After that the dat variable\n",
        "  can be read as:*/\n",
        "  cout<<\"Name: \"<<s->name<<\" Id: \"<<s->id<<endl;\n",
        "\n",
        "  delete[] s;\n",
        "  \n",
        "  return 0;\n",
        "}\n",
        "\n"
      ],
      "execution_count": 3,
      "outputs": [
        {
          "output_type": "stream",
          "text": [
            "Overwriting test.cpp\n"
          ],
          "name": "stdout"
        }
      ]
    },
    {
      "cell_type": "code",
      "metadata": {
        "id": "s5mvlXvNTWOV",
        "colab_type": "code",
        "colab": {
          "base_uri": "https://localhost:8080/",
          "height": 35
        },
        "outputId": "7945c6f5-8d1c-4e3f-969b-099982670aaf"
      },
      "source": [
        "%%script bash\n",
        "g++ test.cpp -o test \n",
        "./test"
      ],
      "execution_count": 4,
      "outputs": [
        {
          "output_type": "stream",
          "text": [
            "Name: motiur Id: 124\n"
          ],
          "name": "stdout"
        }
      ]
    },
    {
      "cell_type": "markdown",
      "metadata": {
        "id": "TMqopiMNULD8",
        "colab_type": "text"
      },
      "source": [
        "Structs can be initialized to work with functions in couple of ways. Some of them are displayed below:\n",
        "1. Using static memory \n",
        "*   structs passed to functions for a single element.   "
      ]
    },
    {
      "cell_type": "code",
      "metadata": {
        "id": "SkPmXgFITagU",
        "colab_type": "code",
        "colab": {
          "base_uri": "https://localhost:8080/",
          "height": 35
        },
        "outputId": "bfc56b5b-2161-4d1b-92ce-8ba04cef4181"
      },
      "source": [
        "%%writefile test.cpp\n",
        "#include <iostream>\n",
        "using namespace std;\n",
        "\n",
        "struct rectangle{\n",
        "  float height;\n",
        "  float width;\n",
        "};\n",
        "void setLengthWidth(rectangle r){\n",
        "    r.height = 3;\n",
        "    r.width  = 4;\n",
        "}\n",
        "void getArea(rectangle r){\n",
        "    cout<<\"Area is: \"<<r.height*r.width<<endl;\n",
        "}\n",
        "\n",
        "int main(){\n",
        "  rectangle r;\n",
        "  setLengthWidth(r);\n",
        "  getArea(r); \n",
        "\n",
        "  return 0;\n",
        "}\n"
      ],
      "execution_count": 5,
      "outputs": [
        {
          "output_type": "stream",
          "text": [
            "Overwriting test.cpp\n"
          ],
          "name": "stdout"
        }
      ]
    },
    {
      "cell_type": "code",
      "metadata": {
        "id": "SieDSfOxXNtp",
        "colab_type": "code",
        "colab": {
          "base_uri": "https://localhost:8080/",
          "height": 35
        },
        "outputId": "79ae7aff-1dec-466c-a8ca-eb869a1c1aae"
      },
      "source": [
        "%%script bash\n",
        "g++ test.cpp -o test \n",
        "./test"
      ],
      "execution_count": 6,
      "outputs": [
        {
          "output_type": "stream",
          "text": [
            "Area is: -0\n"
          ],
          "name": "stdout"
        }
      ]
    },
    {
      "cell_type": "markdown",
      "metadata": {
        "id": "IyAolxn4XZjK",
        "colab_type": "text"
      },
      "source": [
        "So after running the above code block the output from `getArea()` function turns out to be `-0`, even though the length and width were set to be `3` and `4` respectively. There is a reason for these type of return value, the reason is the values are not transferred to the functions in the way it is supposed to. The proper way to send this is pass by reference. Pass by reference helps variables to be \"remembered\" across functions. Let us rewrite the code again, but this time using pass by reference notations. "
      ]
    },
    {
      "cell_type": "code",
      "metadata": {
        "id": "Zm_1z_bdZKPv",
        "colab_type": "code",
        "colab": {
          "base_uri": "https://localhost:8080/",
          "height": 35
        },
        "outputId": "82a9df39-f0e4-4da2-c003-2d18613398ce"
      },
      "source": [
        "%%writefile test.cpp\n",
        "#include <iostream>\n",
        "using namespace std;\n",
        "\n",
        "struct rectangle{\n",
        "  float height;\n",
        "  float width;\n",
        "};\n",
        "void setLengthWidth(rectangle &r){\n",
        "    r.height = 3;\n",
        "    r.width  = 4;\n",
        "}\n",
        "void getArea(rectangle &r){\n",
        "    cout<<\"Area is: \"<<r.height*r.width<<endl;\n",
        "}\n",
        "\n",
        "int main(){\n",
        "  rectangle r;\n",
        "  setLengthWidth(r);\n",
        "  getArea(r); \n",
        "\n",
        "  return 0;\n",
        "}\n"
      ],
      "execution_count": 7,
      "outputs": [
        {
          "output_type": "stream",
          "text": [
            "Overwriting test.cpp\n"
          ],
          "name": "stdout"
        }
      ]
    },
    {
      "cell_type": "code",
      "metadata": {
        "id": "IC4b5MQEZOG2",
        "colab_type": "code",
        "colab": {
          "base_uri": "https://localhost:8080/",
          "height": 35
        },
        "outputId": "c3263538-671d-4eb3-a086-0bc2032ae38b"
      },
      "source": [
        "%%script bash\n",
        "g++ test.cpp -o test \n",
        "./test"
      ],
      "execution_count": 8,
      "outputs": [
        {
          "output_type": "stream",
          "text": [
            "Area is: 12\n"
          ],
          "name": "stdout"
        }
      ]
    },
    {
      "cell_type": "markdown",
      "metadata": {
        "id": "uPqYlWpXZ-Cv",
        "colab_type": "text"
      },
      "source": [
        "*    structs passed to functions for multiple elements"
      ]
    },
    {
      "cell_type": "code",
      "metadata": {
        "id": "O8tDmP7DZSnE",
        "colab_type": "code",
        "colab": {
          "base_uri": "https://localhost:8080/",
          "height": 35
        },
        "outputId": "e2557409-f706-4ecb-aab5-ea171663822e"
      },
      "source": [
        "%%writefile test.cpp\n",
        "#include <iostream>\n",
        "using namespace std;\n",
        "\n",
        "struct rectangle{\n",
        "  float height;\n",
        "  float width;\n",
        "};\n",
        "\n",
        "//This is just like a 1d array of integers\n",
        "void setLengthWidth(rectangle r[],int n){\n",
        "  for(int i = 0; i<n; ++i){\n",
        "    r[i].height = 5.0;r[i].width=4.0;\n",
        "  }\n",
        "}\n",
        "\n",
        "/*Note that without even displaying the \n",
        "values like the following, the values\n",
        "could have been stored in the rectangle \"r\"*/\n",
        "\n",
        "void getArea(rectangle r[], int n) {\n",
        "  for(int i=0; i<n; ++i){\n",
        "    cout<<r[i].height*r[i].width<<endl;\n",
        "    }\n",
        "}\n",
        "\n",
        "int main(){\n",
        "  /*So, here an array of rectangles\n",
        "  is initialized .*/\n",
        "  rectangle r[3];\n",
        "\n",
        "  /*This function helps to set the\n",
        "  values in this array of rectangles*/\n",
        "\n",
        "  setLengthWidth(r,3);\n",
        "  \n",
        "  /*Get the area printed out*/\n",
        "  cout<<\"The areas of the rectangle: \"<<endl;\n",
        "  \n",
        "  getArea(r,3);\n",
        "\n",
        "  return 0;\n",
        "}\n"
      ],
      "execution_count": 9,
      "outputs": [
        {
          "output_type": "stream",
          "text": [
            "Overwriting test.cpp\n"
          ],
          "name": "stdout"
        }
      ]
    },
    {
      "cell_type": "code",
      "metadata": {
        "id": "a7G-yUFFaG8_",
        "colab_type": "code",
        "colab": {
          "base_uri": "https://localhost:8080/",
          "height": 87
        },
        "outputId": "f148c44f-b0df-4697-c506-e8a413c45ce3"
      },
      "source": [
        "%%script bash\n",
        "g++ test.cpp -o test \n",
        "./test"
      ],
      "execution_count": 10,
      "outputs": [
        {
          "output_type": "stream",
          "text": [
            "The areas of the rectangle: \n",
            "20\n",
            "20\n",
            "20\n"
          ],
          "name": "stdout"
        }
      ]
    },
    {
      "cell_type": "markdown",
      "metadata": {
        "id": "eLBBUpc6jgEQ",
        "colab_type": "text"
      },
      "source": [
        "2.   Dynamic Memory\n",
        "*    `structs` with `function` for single element\n",
        "\n",
        "It is similar to static memory with couple of notational change. "
      ]
    },
    {
      "cell_type": "code",
      "metadata": {
        "id": "jgs4lGZalhCS",
        "colab_type": "code",
        "colab": {
          "base_uri": "https://localhost:8080/",
          "height": 35
        },
        "outputId": "e13fb944-c267-41f4-fb61-7f6b8b5ec59b"
      },
      "source": [
        "%%writefile test.cpp\n",
        "\n",
        "//Single Element\n",
        "#include <iostream>\n",
        "using namespace std;\n",
        "\n",
        "struct rectangle{\n",
        "  float length;\n",
        "  float width;\n",
        "};\n",
        "\n",
        "\n",
        "void setLengthWidth(rectangle *r){\n",
        "  /*Look at the notation to access the \n",
        "  the variable length and the variable width*/\n",
        "  r->length = 5.0;r->width = 4.0;\n",
        "\n",
        "  //It can also be written like this\n",
        "  //(*r).length = 5.0; (*r).width = 4.0;\n",
        "}\n",
        "\n",
        "void getArea(rectangle *r) {\n",
        "  //Printing the area of the rectangle\n",
        "  cout<<r->length*r->width<<endl;\n",
        "  \n",
        "  //It can also be written like this\n",
        "\t//cout<<(*r).length*(*r).width<<endl;\n",
        "}\n",
        "\n",
        "\n",
        "int main(){\n",
        "  \n",
        "  /*Pointer to data type of rectangle,\n",
        "  the memory is allocated from the heap.\n",
        "  This is similar to int * x = new int;*/\n",
        "\n",
        "  rectangle *r = new rectangle;\n",
        "\n",
        "  //The variable \"r\" is send as an address\n",
        "  setLengthWidth(r);\n",
        "  \n",
        "  //The variable \"r\" is send as an address\n",
        "  cout<<\"The area is : \";\n",
        "  getArea(r);\n",
        "\n",
        "  //Reclaim the memory\n",
        "  delete[] r;\n",
        "\n",
        "  return 0;\n",
        "}"
      ],
      "execution_count": 11,
      "outputs": [
        {
          "output_type": "stream",
          "text": [
            "Overwriting test.cpp\n"
          ],
          "name": "stdout"
        }
      ]
    },
    {
      "cell_type": "code",
      "metadata": {
        "id": "iTQNqmewn5_N",
        "colab_type": "code",
        "colab": {
          "base_uri": "https://localhost:8080/",
          "height": 35
        },
        "outputId": "312bed52-77a4-432e-b6e6-a39e856fad0c"
      },
      "source": [
        "%%script bash\n",
        "g++ test.cpp -o test \n",
        "./test"
      ],
      "execution_count": 12,
      "outputs": [
        {
          "output_type": "stream",
          "text": [
            "The area is : 20\n"
          ],
          "name": "stdout"
        }
      ]
    },
    {
      "cell_type": "markdown",
      "metadata": {
        "id": "QysoJu0iqfd2",
        "colab_type": "text"
      },
      "source": [
        "*   `structs` with `function` for mutliple elements"
      ]
    },
    {
      "cell_type": "code",
      "metadata": {
        "id": "4OfhC5Hnn606",
        "colab_type": "code",
        "colab": {
          "base_uri": "https://localhost:8080/",
          "height": 35
        },
        "outputId": "effc140f-2143-4cf5-bf11-8771846b382b"
      },
      "source": [
        "%%writefile test.cpp\n",
        "\n",
        "//Single Element\n",
        "#include <iostream>\n",
        "using namespace std;\n",
        "\n",
        "struct rectangle{\n",
        "  float length;\n",
        "  float width;\n",
        "};\n",
        "\n",
        "void setLengthWidth(rectangle *r, int n){\n",
        "  /*Be careful of the way memory is kept\n",
        "  inside the array. Compare the \".\" notation\n",
        "  for a single element to the \"->\" notation\n",
        "  for mutliple elements */\n",
        "\n",
        "  for(int i =0; i<n; ++i){\n",
        "\t  r[i].length = 5; r[i].width = 6;\n",
        "  }\n",
        "}\n",
        "\n",
        "void getArea(rectangle *r, int n) {\n",
        "for(int i =0; i<n; ++i)\n",
        "\tcout<<r[i].length*r[i].width<<endl;\n",
        "}\n",
        "\n",
        "int main(){\n",
        "  \n",
        "  /*An array of rectangle taking memory \n",
        "  from the heap. It is similar to this \n",
        "  type of notation, int * x = new int[3]*/\n",
        "  rectangle *r = new rectangle[3];\n",
        "\n",
        "  setLengthWidth(r,3);\n",
        "  \n",
        "  cout<<\"Areas of the rectangle: \"<<endl;\n",
        "  getArea(r,3);\n",
        "\n",
        "  /*Free the memory*/\n",
        "  delete[] r;\n",
        "\n",
        "  return 0;\n",
        "}"
      ],
      "execution_count": 13,
      "outputs": [
        {
          "output_type": "stream",
          "text": [
            "Overwriting test.cpp\n"
          ],
          "name": "stdout"
        }
      ]
    },
    {
      "cell_type": "code",
      "metadata": {
        "id": "4_OS4qf1sQ0h",
        "colab_type": "code",
        "colab": {
          "base_uri": "https://localhost:8080/",
          "height": 87
        },
        "outputId": "6d192499-2b6a-4b41-cc9b-32078caa3a3d"
      },
      "source": [
        "%%script bash\n",
        "g++ test.cpp -o test \n",
        "./test"
      ],
      "execution_count": 14,
      "outputs": [
        {
          "output_type": "stream",
          "text": [
            "Areas of the rectangle: \n",
            "30\n",
            "30\n",
            "30\n"
          ],
          "name": "stdout"
        }
      ]
    }
  ]
}