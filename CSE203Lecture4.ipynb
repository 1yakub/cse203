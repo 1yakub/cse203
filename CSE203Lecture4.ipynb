{
  "nbformat": 4,
  "nbformat_minor": 0,
  "metadata": {
    "colab": {
      "name": "CSE203Lecture4.ipynb",
      "provenance": [],
      "authorship_tag": "ABX9TyParqzFlhqPuynxKDGRpDah",
      "include_colab_link": true
    },
    "kernelspec": {
      "name": "python3",
      "display_name": "Python 3"
    }
  },
  "cells": [
    {
      "cell_type": "markdown",
      "metadata": {
        "id": "view-in-github",
        "colab_type": "text"
      },
      "source": [
        "<a href=\"https://colab.research.google.com/github/mohammadmotiurrahman/cse203/blob/master/CSE203Lecture4.ipynb\" target=\"_parent\"><img src=\"https://colab.research.google.com/assets/colab-badge.svg\" alt=\"Open In Colab\"/></a>"
      ]
    },
    {
      "cell_type": "markdown",
      "metadata": {
        "id": "1Jrc3ZueYuF0",
        "colab_type": "text"
      },
      "source": [
        "## About `structs`\n",
        "Structs are used to assemble multiple data type such as `int`, `string`, `float` together. This is useful in situations where just describing something with a simple data type is not good enough. For example in order to represent a patient in a hospital more than one data type is required. The hospital authorities needs to know his/her name, his/her age, gender, blood type, COVID positive or negative(unfortunately) these days. There are entities that requires such input, for example, in order to describe a student, students name, id, gender, age, highest degree achieved is required. For other trivial cases such as describing a flower, name of the flower/color of the flower/no of petals of the flower is required. In this notebook we would be focusing on the data representation for a rectangle. In order to represent a rectangle, two things are required, one is it length and another is its width. So here we go."
      ]
    },
    {
      "cell_type": "code",
      "metadata": {
        "id": "7n3MfwFElAGR",
        "colab_type": "code",
        "colab": {
          "base_uri": "https://localhost:8080/",
          "height": 35
        },
        "outputId": "a8e860e8-cf8f-4bba-94e7-d7d7b0cf64c6"
      },
      "source": [
        "%%writefile test.cpp\n",
        "#include <iostream>\n",
        "using namespace std;\n",
        "/*Let us start with describing a \n",
        "student. In order to describe an \n",
        "entity like student, keyword \"struct\"\n",
        "is used like the following. And \n",
        "all the elements relevant to that\n",
        "entity which is student is enclosed\n",
        "in it.*/\n",
        "\n",
        "struct student{\n",
        "  string name;\n",
        "  int id;  \n",
        "};\n",
        "\n",
        "int main(){\n",
        "  /*Afterwards in order to instantiate\n",
        "  a student, one has to declare a \n",
        "  variable of the student, similar \n",
        "  to a variable of int type*/\n",
        "\n",
        "  student s;//to declare a variable like \"s\"\n",
        "  int x;//to declare a variable like \"x\"\n",
        "  \n",
        "  /*To write to an elements of the variable \"s\"\n",
        "  that describes a student, do something like this*/\n",
        "  \n",
        "  s.name = \"motiur\";\n",
        "  s.id = 123;\n",
        "\n",
        "  /*In order to display the elements that was\n",
        "  written do something like this.*/\n",
        "  \n",
        "  cout<<\"Name is : \"<<s.name<<\" Id is :\"<<s.id<<endl;\n",
        "  \n",
        "  return 0;\n",
        "}\n",
        "\n"
      ],
      "execution_count": 4,
      "outputs": [
        {
          "output_type": "stream",
          "text": [
            "Overwriting test.cpp\n"
          ],
          "name": "stdout"
        }
      ]
    },
    {
      "cell_type": "code",
      "metadata": {
        "id": "APpipyGncGJV",
        "colab_type": "code",
        "colab": {
          "base_uri": "https://localhost:8080/",
          "height": 35
        },
        "outputId": "0364ba7e-2c6e-470d-f766-a8507aac0f40"
      },
      "source": [
        "%%script bash\n",
        "g++ test.cpp -o test \n",
        "./test"
      ],
      "execution_count": 5,
      "outputs": [
        {
          "output_type": "stream",
          "text": [
            "Name is : motiur Id is :123\n"
          ],
          "name": "stdout"
        }
      ]
    },
    {
      "cell_type": "markdown",
      "metadata": {
        "id": "9LRA0sVQ6PXx",
        "colab_type": "text"
      },
      "source": [
        "The code block above is a basic example of the usage of `struct` construct. Things gets a little bit more involved to make a robust system of data structures. Below will be a given highlights of arrays of structs and how structs are used in conjunction with dynamic and static memory."
      ]
    },
    {
      "cell_type": "code",
      "metadata": {
        "id": "3DwV_wdq6H-o",
        "colab_type": "code",
        "colab": {
          "base_uri": "https://localhost:8080/",
          "height": 35
        },
        "outputId": "bda23349-d7bf-419c-f2d7-73cfb2c16955"
      },
      "source": [
        "%%writefile test.cpp\n",
        "#include <iostream>\n",
        "using namespace std;\n",
        "/*So let us rewrite the above code\n",
        "using dynamic memory constructs.*/\n",
        "\n",
        "struct student{\n",
        "  string name;\n",
        "  int id;  \n",
        "};\n",
        "\n",
        "int main(){\n",
        "  /*Remember that an integer can be \n",
        "  declared like this, even though\n",
        "  it is strictly not necessary*/\n",
        "\n",
        "  int *x = new int(3);\n",
        "  /*Similarly student data variable\n",
        "  can be declared as follows using\n",
        "  dynamic memory notations.*/\n",
        "  \n",
        "  student *s = new student;\n",
        "  s->name = \"motiur\";\n",
        "  s->id = 124;\n",
        "\n",
        "  /*After that the dat variable\n",
        "  can be read as:*/\n",
        "  cout<<\"Name: \"<<s->name<<\" Id: \"<<s->id<<endl;\n",
        "\n",
        "  delete[] s;\n",
        "  \n",
        "  return 0;\n",
        "}\n",
        "\n"
      ],
      "execution_count": 9,
      "outputs": [
        {
          "output_type": "stream",
          "text": [
            "Overwriting test.cpp\n"
          ],
          "name": "stdout"
        }
      ]
    },
    {
      "cell_type": "code",
      "metadata": {
        "id": "s5mvlXvNTWOV",
        "colab_type": "code",
        "colab": {
          "base_uri": "https://localhost:8080/",
          "height": 35
        },
        "outputId": "6cd41bb4-7563-4c04-80b3-82dd7596675f"
      },
      "source": [
        "%%script bash\n",
        "g++ test.cpp -o test \n",
        "./test"
      ],
      "execution_count": 10,
      "outputs": [
        {
          "output_type": "stream",
          "text": [
            "Name: motiur Id: 124\n"
          ],
          "name": "stdout"
        }
      ]
    },
    {
      "cell_type": "markdown",
      "metadata": {
        "id": "TMqopiMNULD8",
        "colab_type": "text"
      },
      "source": [
        "Structs can be initialized to work with functions in couple of ways. Some of them are displayed below:\n",
        "1. Using static memory \n",
        "*   structs passed to functions for a single element.   "
      ]
    },
    {
      "cell_type": "code",
      "metadata": {
        "id": "SkPmXgFITagU",
        "colab_type": "code",
        "colab": {
          "base_uri": "https://localhost:8080/",
          "height": 35
        },
        "outputId": "52be5268-edfb-43c5-d4cd-8e7e771e8671"
      },
      "source": [
        "%%writefile test.cpp\n",
        "#include <iostream>\n",
        "using namespace std;\n",
        "\n",
        "struct rectangle{\n",
        "  float height;\n",
        "  float width;\n",
        "};\n",
        "void setLengthWidth(rectangle r){\n",
        "    r.height = 3;\n",
        "    r.width  = 4;\n",
        "}\n",
        "void getArea(rectangle r){\n",
        "    cout<<\"Area is: \"<<r.height*r.width<<endl;\n",
        "}\n",
        "\n",
        "int main(){\n",
        "  rectangle r;\n",
        "  setLengthWidth(r);\n",
        "  getArea(r); \n",
        "\n",
        "  return 0;\n",
        "}\n"
      ],
      "execution_count": 13,
      "outputs": [
        {
          "output_type": "stream",
          "text": [
            "Overwriting test.cpp\n"
          ],
          "name": "stdout"
        }
      ]
    },
    {
      "cell_type": "code",
      "metadata": {
        "id": "SieDSfOxXNtp",
        "colab_type": "code",
        "colab": {
          "base_uri": "https://localhost:8080/",
          "height": 35
        },
        "outputId": "19527c20-cbf0-4652-9797-6a94acd8225d"
      },
      "source": [
        "%%script bash\n",
        "g++ test.cpp -o test \n",
        "./test"
      ],
      "execution_count": 14,
      "outputs": [
        {
          "output_type": "stream",
          "text": [
            "Area is: -0\n"
          ],
          "name": "stdout"
        }
      ]
    },
    {
      "cell_type": "markdown",
      "metadata": {
        "id": "IyAolxn4XZjK",
        "colab_type": "text"
      },
      "source": [
        "So after running the above code block the output from `getArea()` function turns out to be `-0`, even though the length and width were set to be `3` and `4` respectively. There is a reason for these type of return value, the reason is the values are not transferred to the functions in the way it is supposed to. The proper way to send this is pass by reference. Pass by reference helps variables to be \"remembered\" across functions. Let us rewrite the code again, but this time using pass by reference notations. "
      ]
    },
    {
      "cell_type": "code",
      "metadata": {
        "id": "Zm_1z_bdZKPv",
        "colab_type": "code",
        "colab": {
          "base_uri": "https://localhost:8080/",
          "height": 35
        },
        "outputId": "ea5402fa-051b-4f8f-b432-d542cc1c3d0c"
      },
      "source": [
        "%%writefile test.cpp\n",
        "#include <iostream>\n",
        "using namespace std;\n",
        "\n",
        "struct rectangle{\n",
        "  float height;\n",
        "  float width;\n",
        "};\n",
        "void setLengthWidth(rectangle &r){\n",
        "    r.height = 3;\n",
        "    r.width  = 4;\n",
        "}\n",
        "void getArea(rectangle &r){\n",
        "    cout<<\"Area is: \"<<r.height*r.width<<endl;\n",
        "}\n",
        "\n",
        "int main(){\n",
        "  rectangle r;\n",
        "  setLengthWidth(r);\n",
        "  getArea(r); \n",
        "\n",
        "  return 0;\n",
        "}\n"
      ],
      "execution_count": 15,
      "outputs": [
        {
          "output_type": "stream",
          "text": [
            "Overwriting test.cpp\n"
          ],
          "name": "stdout"
        }
      ]
    },
    {
      "cell_type": "code",
      "metadata": {
        "id": "IC4b5MQEZOG2",
        "colab_type": "code",
        "colab": {
          "base_uri": "https://localhost:8080/",
          "height": 35
        },
        "outputId": "2e18f9a4-4a93-4681-c922-ea2b26eb6986"
      },
      "source": [
        "%%script bash\n",
        "g++ test.cpp -o test \n",
        "./test"
      ],
      "execution_count": 16,
      "outputs": [
        {
          "output_type": "stream",
          "text": [
            "Area is: 12\n"
          ],
          "name": "stdout"
        }
      ]
    },
    {
      "cell_type": "markdown",
      "metadata": {
        "id": "uPqYlWpXZ-Cv",
        "colab_type": "text"
      },
      "source": [
        "*    structs passed to functions for multiple elements"
      ]
    },
    {
      "cell_type": "code",
      "metadata": {
        "id": "O8tDmP7DZSnE",
        "colab_type": "code",
        "colab": {
          "base_uri": "https://localhost:8080/",
          "height": 35
        },
        "outputId": "8c13c06b-35f3-403f-9355-aa7c226b5fdd"
      },
      "source": [
        "%%writefile test.cpp\n",
        "#include <iostream>\n",
        "using namespace std;\n",
        "\n",
        "struct rectangle{\n",
        "  float height;\n",
        "  float width;\n",
        "};\n",
        "\n",
        "//This is just like a 1d array of integers\n",
        "void setLengthWidth(rectangle r[],int n){\n",
        "  for(int i = 0; i<n; ++i){\n",
        "    r[i].height = 5.0;r[i].width=4.0;\n",
        "  }\n",
        "}\n",
        "\n",
        "/*Note that without even displaying the \n",
        "values like the following, the values\n",
        "could have been stored in the rectangle \"r\"*/\n",
        "\n",
        "void getArea(rectangle r[], int n) {\n",
        "  for(int i=0; i<n; ++i){\n",
        "    cout<<r[i].height*r[i].width<<endl;\n",
        "    }\n",
        "}\n",
        "\n",
        "int main(){\n",
        "  /*So, here an array of rectangles\n",
        "  is initialized .*/\n",
        "  rectangle r[3];\n",
        "\n",
        "  /*This function helps to set the\n",
        "  values in this array of rectangles*/\n",
        "\n",
        "  setLengthWidth(r,3);\n",
        "  \n",
        "  /*Get the area printed out*/\n",
        "  cout<<\"The areas of the rectangle: \"<<endl;\n",
        "  \n",
        "  getArea(r,3);\n",
        "\n",
        "  return 0;\n",
        "}\n"
      ],
      "execution_count": 19,
      "outputs": [
        {
          "output_type": "stream",
          "text": [
            "Overwriting test.cpp\n"
          ],
          "name": "stdout"
        }
      ]
    },
    {
      "cell_type": "code",
      "metadata": {
        "id": "a7G-yUFFaG8_",
        "colab_type": "code",
        "colab": {
          "base_uri": "https://localhost:8080/",
          "height": 87
        },
        "outputId": "9a4a5a4e-55fc-409a-fd6f-dad616a4d94e"
      },
      "source": [
        "%%script bash\n",
        "g++ test.cpp -o test \n",
        "./test"
      ],
      "execution_count": 20,
      "outputs": [
        {
          "output_type": "stream",
          "text": [
            "The areas of the rectangle: \n",
            "20\n",
            "20\n",
            "20\n"
          ],
          "name": "stdout"
        }
      ]
    },
    {
      "cell_type": "markdown",
      "metadata": {
        "id": "eLBBUpc6jgEQ",
        "colab_type": "text"
      },
      "source": [
        "2.   Dynamic Memory\n",
        "*    `structs` with `function` for single element\n",
        "\n",
        "It is similar to static memory with couple of notational change. "
      ]
    },
    {
      "cell_type": "code",
      "metadata": {
        "id": "jgs4lGZalhCS",
        "colab_type": "code",
        "colab": {
          "base_uri": "https://localhost:8080/",
          "height": 35
        },
        "outputId": "5564ed96-700b-41ef-e3e2-1c8f14fc1240"
      },
      "source": [
        "%%writefile test.cpp\n",
        "\n",
        "//Single Element\n",
        "#include <iostream>\n",
        "using namespace std;\n",
        "\n",
        "struct rectangle{\n",
        "  float length;\n",
        "  float width;\n",
        "};\n",
        "\n",
        "\n",
        "void setLengthWidth(rectangle *r){\n",
        "  /*Look at the notation to access the \n",
        "  the variable length and the variable width*/\n",
        "  r->length = 5.0;r->width = 4.0;\n",
        "\n",
        "  //It can also be written like this\n",
        "  //(*r).length = 5.0; (*r).width = 4.0;\n",
        "}\n",
        "\n",
        "void getArea(rectangle *r) {\n",
        "  //Printing the area of the rectangle\n",
        "  cout<<r->length*r->width<<endl;\n",
        "  \n",
        "  //It can also be written like this\n",
        "\t//cout<<(*r).length*(*r).width<<endl;\n",
        "}\n",
        "\n",
        "\n",
        "int main(){\n",
        "  \n",
        "  /*Pointer to data type of rectangle,\n",
        "  the memory is allocated from the heap.\n",
        "  This is similar to int * x = new int;*/\n",
        "\n",
        "  rectangle *r = new rectangle;\n",
        "\n",
        "  //The variable \"r\" is send as an address\n",
        "  setLengthWidth(r);\n",
        "  \n",
        "  //The variable \"r\" is send as an address\n",
        "  cout<<\"The area is : \";\n",
        "  getArea(r);\n",
        "\n",
        "  //Reclaim the memory\n",
        "  delete[] r;\n",
        "\n",
        "  return 0;\n",
        "}"
      ],
      "execution_count": 23,
      "outputs": [
        {
          "output_type": "stream",
          "text": [
            "Overwriting test.cpp\n"
          ],
          "name": "stdout"
        }
      ]
    },
    {
      "cell_type": "code",
      "metadata": {
        "id": "iTQNqmewn5_N",
        "colab_type": "code",
        "colab": {
          "base_uri": "https://localhost:8080/",
          "height": 35
        },
        "outputId": "d710be34-a9c6-4ea6-f934-01c76333512a"
      },
      "source": [
        "%%script bash\n",
        "g++ test.cpp -o test \n",
        "./test"
      ],
      "execution_count": 24,
      "outputs": [
        {
          "output_type": "stream",
          "text": [
            "The area is : 20\n"
          ],
          "name": "stdout"
        }
      ]
    },
    {
      "cell_type": "markdown",
      "metadata": {
        "id": "QysoJu0iqfd2",
        "colab_type": "text"
      },
      "source": [
        "*   `structs` with `function` for mutliple elements"
      ]
    },
    {
      "cell_type": "code",
      "metadata": {
        "id": "4OfhC5Hnn606",
        "colab_type": "code",
        "colab": {
          "base_uri": "https://localhost:8080/",
          "height": 35
        },
        "outputId": "0714b46d-f960-421e-d5f4-0f80780e1afe"
      },
      "source": [
        "%%writefile test.cpp\n",
        "\n",
        "//Single Element\n",
        "#include <iostream>\n",
        "using namespace std;\n",
        "\n",
        "struct rectangle{\n",
        "  float length;\n",
        "  float width;\n",
        "};\n",
        "\n",
        "void setLengthWidth(rectangle *r, int n){\n",
        "  /*Be careful of the way memory is kept\n",
        "  inside the array. Compare the \".\" notation\n",
        "  for a single element to the \"->\" notation\n",
        "  for mutliple elements */\n",
        "\n",
        "  for(int i =0; i<n; ++i){\n",
        "\t  r[i].length = 5; r[i].width = 6;\n",
        "  }\n",
        "}\n",
        "\n",
        "void getArea(rectangle *r, int n) {\n",
        "for(int i =0; i<n; ++i)\n",
        "\tcout<<r[i].length*r[i].width<<endl;\n",
        "}\n",
        "\n",
        "int main(){\n",
        "  \n",
        "  /*An array of rectangle taking memory \n",
        "  from the heap. It is similar to this \n",
        "  type of notation, int * x = new int[3]*/\n",
        "  rectangle *r = new rectangle[3];\n",
        "\n",
        "  setLengthWidth(r,3);\n",
        "  \n",
        "  cout<<\"Areas of the rectangle: \"<<endl;\n",
        "  getArea(r,3);\n",
        "\n",
        "  /*Free the memory*/\n",
        "  delete[] r;\n",
        "\n",
        "  return 0;\n",
        "}"
      ],
      "execution_count": 33,
      "outputs": [
        {
          "output_type": "stream",
          "text": [
            "Overwriting test.cpp\n"
          ],
          "name": "stdout"
        }
      ]
    },
    {
      "cell_type": "code",
      "metadata": {
        "id": "4_OS4qf1sQ0h",
        "colab_type": "code",
        "colab": {
          "base_uri": "https://localhost:8080/",
          "height": 87
        },
        "outputId": "40baa770-6faa-45cf-c674-619e9885b30e"
      },
      "source": [
        "%%script bash\n",
        "g++ test.cpp -o test \n",
        "./test"
      ],
      "execution_count": 34,
      "outputs": [
        {
          "output_type": "stream",
          "text": [
            "Areas of the rectangle: \n",
            "30\n",
            "30\n",
            "30\n"
          ],
          "name": "stdout"
        }
      ]
    }
  ]
}