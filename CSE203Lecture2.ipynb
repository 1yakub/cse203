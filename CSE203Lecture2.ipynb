{
  "nbformat": 4,
  "nbformat_minor": 0,
  "metadata": {
    "colab": {
      "name": "CSE203Lecture2.ipynb",
      "provenance": [],
      "include_colab_link": true
    },
    "kernelspec": {
      "name": "python3",
      "display_name": "Python 3"
    }
  },
  "cells": [
    {
      "cell_type": "markdown",
      "metadata": {
        "id": "view-in-github",
        "colab_type": "text"
      },
      "source": [
        "<a href=\"https://colab.research.google.com/github/mohammadmotiurrahman/cse203/blob/master/CSE203Lecture2.ipynb\" target=\"_parent\"><img src=\"https://colab.research.google.com/assets/colab-badge.svg\" alt=\"Open In Colab\"/></a>"
      ]
    },
    {
      "cell_type": "markdown",
      "metadata": {
        "id": "Fos5XqIPZEk6",
        "colab_type": "text"
      },
      "source": [
        "# Dynamic Memory\n",
        "The type of memory shown in the previous lecture is known as Static Memory. The amount of memory that can be allocated using static memory is limited.\n",
        "An example is given below:"
      ]
    },
    {
      "cell_type": "code",
      "metadata": {
        "id": "RYgTxBQSm-O3",
        "colab_type": "code",
        "outputId": "58193da5-5afb-4de7-8297-1ca404f931eb",
        "colab": {
          "base_uri": "https://localhost:8080/",
          "height": 35
        }
      },
      "source": [
        "%%writefile test.cpp\n",
        "#include <iostream>\n",
        "using namespace std;\n",
        "int main(){\n",
        "\n",
        "  int N = 1000000;\n",
        "  int arr[N];\n",
        "  for(int i=0; i<N; ++i)\n",
        "    \tarr[i] = i;\n",
        "\n",
        "  cout<<(N*4)/1000<<\" KB \"<<endl;\n",
        "\n",
        "  return 0;\n",
        "}"
      ],
      "execution_count": 1,
      "outputs": [
        {
          "output_type": "stream",
          "text": [
            "Overwriting test.cpp\n"
          ],
          "name": "stdout"
        }
      ]
    },
    {
      "cell_type": "code",
      "metadata": {
        "id": "n_22rP90nTdp",
        "colab_type": "code",
        "outputId": "335b10ef-9442-4df4-b168-8570324e1172",
        "colab": {
          "base_uri": "https://localhost:8080/",
          "height": 35
        }
      },
      "source": [
        "%%script bash\n",
        "g++ test.cpp -o test \n",
        "./test"
      ],
      "execution_count": 2,
      "outputs": [
        {
          "output_type": "stream",
          "text": [
            "4000 KB \n"
          ],
          "name": "stdout"
        }
      ]
    },
    {
      "cell_type": "markdown",
      "metadata": {
        "id": "cteEDEXGpDKZ",
        "colab_type": "text"
      },
      "source": [
        ""
      ]
    },
    {
      "cell_type": "markdown",
      "metadata": {
        "id": "qODp2yi1pp8E",
        "colab_type": "text"
      },
      "source": [
        "So allocating memory like that above maxes at `N = 1000,000`, which is 1million entry. Now what if in an area there are more than 1 million people and somehow all of their ages needs to recorded. In comes dynamic memory, where more memory can be allocated on demand."
      ]
    },
    {
      "cell_type": "code",
      "metadata": {
        "id": "ozn_txySqtt9",
        "colab_type": "code",
        "outputId": "33bcfade-d159-44ec-ad6a-fc745cf17543",
        "colab": {
          "base_uri": "https://localhost:8080/",
          "height": 35
        }
      },
      "source": [
        "%%writefile test.cpp\n",
        "#include <iostream>\n",
        "using namespace std;\n",
        "\n",
        "int main(){\n",
        "  long N = 100000000;\n",
        "  long *arr =new long[N];\n",
        "  for(long i=0; i<N; ++i)\n",
        "    arr[i] = i;\n",
        "  delete[] arr;\n",
        "  cout<<(N*4)/1000000<<\" MB \"<<endl;\n",
        "\n",
        "  return 0;\n",
        "}"
      ],
      "execution_count": 3,
      "outputs": [
        {
          "output_type": "stream",
          "text": [
            "Overwriting test.cpp\n"
          ],
          "name": "stdout"
        }
      ]
    },
    {
      "cell_type": "code",
      "metadata": {
        "id": "1rIH2f7Yq5xt",
        "colab_type": "code",
        "outputId": "b379cdd2-6925-45f7-a5a1-85bae2bae47c",
        "colab": {
          "base_uri": "https://localhost:8080/",
          "height": 35
        }
      },
      "source": [
        "%%script bash\n",
        "g++ test.cpp -o test \n",
        "./test"
      ],
      "execution_count": 4,
      "outputs": [
        {
          "output_type": "stream",
          "text": [
            "400 MB \n"
          ],
          "name": "stdout"
        }
      ]
    },
    {
      "cell_type": "markdown",
      "metadata": {
        "id": "KHXX1yPUtQ6D",
        "colab_type": "text"
      },
      "source": [
        "So, as shown above around 400MB of data can be allocated using dynamic memory, which is 100 times more than that of static memory.At the same time 100,000,000 data points could be stored, which is 100 times more than the previous one.\n"
      ]
    },
    {
      "cell_type": "markdown",
      "metadata": {
        "id": "DvE6OPNBBM8i",
        "colab_type": "text"
      },
      "source": [
        "# Pointer Arithmetic\n",
        "\n",
        "Before moving any further there are some things that needs to be said about pointers , arrays and pointer arithmetic."
      ]
    },
    {
      "cell_type": "code",
      "metadata": {
        "id": "KGv5EflVBkJ1",
        "colab_type": "code",
        "outputId": "ef67fc12-5747-4309-9dd8-1873d3b5cf98",
        "colab": {
          "base_uri": "https://localhost:8080/",
          "height": 35
        }
      },
      "source": [
        "%%writefile test.cpp\n",
        "/*\n",
        "  So this program illustrates the memory\n",
        "  addressing in an array of integers\n",
        "*/\n",
        "#include <iostream>\n",
        "using namespace std;\n",
        "int main(){\n",
        "  /*\n",
        "  So, first initialize and declare \n",
        "  an array containing odd numbers\n",
        "  */ \n",
        "  const int N = 5;\n",
        "  int arr[N];\n",
        "  cout<<\"Contents of the array arr: \";\n",
        "  for(int i = 0; i<N; ++i){\n",
        "      arr[i] = i;\n",
        "  }\n",
        "  cout<<endl;\n",
        "  /*\n",
        "    In order to display the numbers,\n",
        "    this is done\n",
        "  */\n",
        "  for(int i = 0; i<N; ++i){\n",
        "      cout<<arr[i]<<\" \";\n",
        "  }\n",
        "  cout<<endl;\n",
        "  /*\n",
        "    Now, in order to find the address of \n",
        "    particular number in an array, this \n",
        "    is done.\n",
        "  */\n",
        "  cout<<\"Address of: \"<<arr[0]<<\" is \"<<&arr[0]<<endl;\n",
        "  cout<<\"Address of: \"<<arr[1]<<\" is \"<<&arr[1]<<endl;\n",
        "  //So on ... so forth\n",
        "  /*\n",
        "    To iterate all the addresses in an array,\n",
        "    a for-loop can be used as such\n",
        "  */\n",
        "  cout<<\"Iterating the addresses using a for-loop:\"<<endl;\n",
        "  for(int i = 0; i < N; ++i){\n",
        "      cout<<&arr[i]<<\" \";\n",
        "  }\n",
        "  cout<<endl;\n",
        "  //Note that just printing the following\n",
        "  cout<<\"Printing the address of the variable arr: \"<<endl; \n",
        "  cout<<arr<<endl;\n",
        "  //will give the same address as arr[0]\n",
        "\n",
        "  return 0;\n",
        "}"
      ],
      "execution_count": 5,
      "outputs": [
        {
          "output_type": "stream",
          "text": [
            "Overwriting test.cpp\n"
          ],
          "name": "stdout"
        }
      ]
    },
    {
      "cell_type": "code",
      "metadata": {
        "id": "pn_JTlaCGp3U",
        "colab_type": "code",
        "outputId": "db3c7e36-3010-49a2-ba89-f2ab6e1915a4",
        "colab": {
          "base_uri": "https://localhost:8080/",
          "height": 156
        }
      },
      "source": [
        "%%script bash\n",
        "g++ test.cpp -o test \n",
        "./test"
      ],
      "execution_count": 6,
      "outputs": [
        {
          "output_type": "stream",
          "text": [
            "Contents of the array arr: \n",
            "0 1 2 3 4 \n",
            "Address of: 0 is 0x7ffc656a8ce0\n",
            "Address of: 1 is 0x7ffc656a8ce4\n",
            "Iterating the addresses using a for-loop:\n",
            "0x7ffc656a8ce0 0x7ffc656a8ce4 0x7ffc656a8ce8 0x7ffc656a8cec 0x7ffc656a8cf0 \n",
            "Printing the address of the variable arr: \n",
            "0x7ffc656a8ce0\n"
          ],
          "name": "stdout"
        }
      ]
    },
    {
      "cell_type": "markdown",
      "metadata": {
        "id": "tJMbVeZtMDL2",
        "colab_type": "text"
      },
      "source": [
        "Having said all of these, let us move to pointer arithmetic"
      ]
    },
    {
      "cell_type": "code",
      "metadata": {
        "id": "oj77kSDQMMmM",
        "colab_type": "code",
        "outputId": "d77b1a46-0d4a-4a8f-ce85-9112350cc825",
        "colab": {
          "base_uri": "https://localhost:8080/",
          "height": 35
        }
      },
      "source": [
        "%%writefile test.cpp\n",
        "/*\n",
        "  So this program illustrates the memory\n",
        "  addressing in an array of integers\n",
        "*/\n",
        "#include <iostream>\n",
        "using namespace std;\n",
        "int main(){\n",
        "  /*\n",
        "  So, first initialize and declare \n",
        "  an array containing odd numbers\n",
        "  */ \n",
        "  const int N = 5;\n",
        "  int arr[N];\n",
        "  for(int i = 0; i<N; ++i){\n",
        "      arr[i] = i;\n",
        "  }\n",
        "  /*\n",
        "    Let us store the address of the\n",
        "    first variable into a pointer, \n",
        "    and then iterate the pointer.\n",
        "    For example:\n",
        "  */\n",
        "  int *p = &arr[0];\n",
        "  cout<<*p<<endl;\n",
        "  /*\n",
        "    Incrementing the pointer will\n",
        "    point the pointer to the address\n",
        "    of the next array position\n",
        "  */\n",
        "  p++;//It will give value of array at index 1\n",
        "  cout<<*p<<endl;\n",
        "\n",
        "  p++;//It will give value of array at index 2\n",
        "  cout<<*p<<endl;\n",
        "\n",
        "  //Decrementing the pointer will have the opposite effect\n",
        "  p--;//It will give value of array at that position 1\n",
        "  cout<<*p<<endl;\n",
        "\n",
        "  p--;//It will give value of array at that position 0\n",
        "  cout<<*p<<endl;\n",
        "\n",
        "  return 0;\n",
        "}"
      ],
      "execution_count": 7,
      "outputs": [
        {
          "output_type": "stream",
          "text": [
            "Overwriting test.cpp\n"
          ],
          "name": "stdout"
        }
      ]
    },
    {
      "cell_type": "code",
      "metadata": {
        "id": "C6tX1WrqO6Ue",
        "colab_type": "code",
        "outputId": "498c6bea-73ed-4a83-e279-b7de1e4e9238",
        "colab": {
          "base_uri": "https://localhost:8080/",
          "height": 104
        }
      },
      "source": [
        "%%script bash\n",
        "g++ test.cpp -o test \n",
        "./test"
      ],
      "execution_count": 8,
      "outputs": [
        {
          "output_type": "stream",
          "text": [
            "0\n",
            "1\n",
            "2\n",
            "1\n",
            "0\n"
          ],
          "name": "stdout"
        }
      ]
    },
    {
      "cell_type": "markdown",
      "metadata": {
        "id": "i3x8JHOvPSBi",
        "colab_type": "text"
      },
      "source": [
        "The above code is an example of pointer arithmetic.Notice line 31 and 35 increments the pointers, line 39 and 42 decrements the pointers. "
      ]
    },
    {
      "cell_type": "markdown",
      "metadata": {
        "id": "OwDuTcspSldJ",
        "colab_type": "text"
      },
      "source": [
        "# 1d array using dynamic memory\n",
        "So there are couple of steps that needs to be followed inorder to use an 1d array that uses dynamic memory."
      ]
    },
    {
      "cell_type": "code",
      "metadata": {
        "id": "qG3unG_eVK06",
        "colab_type": "code",
        "outputId": "c41f35a1-2dc5-4f76-b70e-72239032d509",
        "colab": {
          "base_uri": "https://localhost:8080/",
          "height": 35
        }
      },
      "source": [
        "%%writefile test.cpp\n",
        "#include <iostream>\n",
        "using namespace std;\n",
        "int main(){\n",
        "    const int N = 5;\n",
        "    int *arr = new int [N];\n",
        "    for(int i =0; i < N; ++i){\n",
        "        //You can either write this way\n",
        "        *(arr+i) = i;\n",
        "        //Or, you can write \n",
        "        //arr[i] = i;\n",
        "    }\n",
        "    //For display or doing some computation\n",
        "    for(int i = 0; i < N; ++i){\n",
        "        cout<<arr[i]<<endl;\n",
        "        //OR\n",
        "        //cout<<*(arr+i)<<endl;\n",
        "    }\n",
        "\n",
        "    /*Finally free memory stored by the array */\n",
        "    delete[] arr;\n",
        "    return 0;\n",
        "}"
      ],
      "execution_count": 9,
      "outputs": [
        {
          "output_type": "stream",
          "text": [
            "Overwriting test.cpp\n"
          ],
          "name": "stdout"
        }
      ]
    },
    {
      "cell_type": "code",
      "metadata": {
        "id": "IqS2fPb8XWg2",
        "colab_type": "code",
        "outputId": "8500ad08-dd22-472e-9308-37fb774a6dc2",
        "colab": {
          "base_uri": "https://localhost:8080/",
          "height": 104
        }
      },
      "source": [
        "%%script bash\n",
        "g++ test.cpp -o test \n",
        "./test"
      ],
      "execution_count": 10,
      "outputs": [
        {
          "output_type": "stream",
          "text": [
            "0\n",
            "1\n",
            "2\n",
            "3\n",
            "4\n"
          ],
          "name": "stdout"
        }
      ]
    },
    {
      "cell_type": "markdown",
      "metadata": {
        "id": "yYsMwvMnZZJp",
        "colab_type": "text"
      },
      "source": [
        "# 2d array using Dynamic Memory\n",
        "In normal scenarios where static memory is used, these type of code can be written:\n",
        "`int arrS[3] = {2,3,4};`.This signifies that the integers `2`,`3`, and `4` are allocated in the stack portion of the memory. Similarly the code `int *arrD[3] = {1,2,3};` signifies that the integers `1`,`2`, and `3` are allocated in the heap portion of the memory. It is also evident that the variables `arrS` and the `arrD` are memory addresses that is important in signifying where the 1st integer can be found in the RAM. If we can find the address of the 1st element in the RAM, the next elements can be traced fairly, given the length of the arrar. Now, 2dimensional array with dynamic memory is similar to that 2dimensional array with static memory, but here we have more flexibility."
      ]
    },
    {
      "cell_type": "code",
      "metadata": {
        "id": "WTgxuhQ8ok3w",
        "colab_type": "code",
        "colab": {
          "base_uri": "https://localhost:8080/",
          "height": 35
        },
        "outputId": "d486f31d-ba3b-42a3-e973-720580289583"
      },
      "source": [
        "%%writefile test.cpp\n",
        "#include <iostream>\n",
        "using namespace std;\n",
        "int main(){\n",
        "    /*So let us begin from the beginning.\n",
        "    This is what was taught in CSC 101.\n",
        "    It shown 4 integers were kept in \n",
        "    an array using static memory.*/\n",
        "    int arrS[4] = {1,2,3,4};\n",
        "\n",
        "    /*This is how integers are kept \n",
        "    in an array using dynamic memory.\n",
        "    The memory for the integers are\n",
        "    allocated from the heap.\n",
        "    */\n",
        "    int *arrD = new int[4]{1,2,3,4};\n",
        "    delete[] arrD;\n",
        "\n",
        "    /*Both of the two above code snippets\n",
        "    are examples of 1dimensional array.\n",
        "    Below is given examples of creating\n",
        "    a 2dimensional array using dynamic \n",
        "    array step by step.*/\n",
        "\n",
        "    //First 1d array using dynamic memory\n",
        "    int *a = new int[3]{1,2,3};\n",
        "    \n",
        "    //Second 1d array using dynamic memory\n",
        "    int *b = new int[2]{8,81};\n",
        "\n",
        "    //3rd 1d array using dynamic memory\n",
        "    int *c = new int[4]{2,4,6,8};\n",
        "\n",
        "    /*As you know that 2d array are a collection\n",
        "    of 1d array. In other words, it is a collection\n",
        "    of addresse of 1d arrays.So, it can be written\n",
        "    like the following.*/\n",
        "\n",
        "    int *arr[3];\n",
        "    /*The code above represents an array which \n",
        "    is interested in taking 3 addresses of type\n",
        "    integer.Thererefore the code below is entirely\n",
        "    feasible to write.\n",
        "    */\n",
        "    arr[0] = a; \n",
        "    /*Rememeber cout<<a<<endl gives first element\n",
        "    address of array a. And if one has the address\n",
        "    of the first element he/she can iterate to find\n",
        "    the other elements as well. So, we also can\n",
        "    write the following.*/\n",
        "    \n",
        "    arr[1] = b;\n",
        "    arr[2] = c;\n",
        "\n",
        "    /*Finally the variable arr represents 2 dimensional\n",
        "    dynamic memory. It can be iterated in the following way.*/ \n",
        "    \n",
        "    int size[3] = {3,2,4};//lengths of each 1d array\n",
        "    for(int i = 0; i < 3; ++i){\n",
        "        cout<<\"Array[\"<<i<<\"] is : \";\n",
        "        for(int j = 0; j < size[i]; ++j){\n",
        "            cout << arr[i][j] << \" \";\n",
        "        }\n",
        "        cout<<endl;\n",
        "    }\n",
        "    /*Free memory*/\n",
        "    for(int i = 0; i < 3; ++i){delete[] arr[i];}\n",
        "\n",
        "    return 0;\n",
        "}"
      ],
      "execution_count": 11,
      "outputs": [
        {
          "output_type": "stream",
          "text": [
            "Overwriting test.cpp\n"
          ],
          "name": "stdout"
        }
      ]
    },
    {
      "cell_type": "code",
      "metadata": {
        "id": "Eu0pXzw2XXOV",
        "colab_type": "code",
        "colab": {
          "base_uri": "https://localhost:8080/",
          "height": 69
        },
        "outputId": "547afc3c-8977-4d8e-de22-a3c6a101a5de"
      },
      "source": [
        "%%script bash\n",
        "g++ test.cpp -o test \n",
        "./test"
      ],
      "execution_count": 12,
      "outputs": [
        {
          "output_type": "stream",
          "text": [
            "Array[0] is : 1 2 3 \n",
            "Array[1] is : 8 81 \n",
            "Array[2] is : 2 4 6 8 \n"
          ],
          "name": "stdout"
        }
      ]
    },
    {
      "cell_type": "markdown",
      "metadata": {
        "id": "sp-U_7BU6A5l",
        "colab_type": "text"
      },
      "source": [
        "### Couple of important and interesting ways to represent 2dimensional array with dynamic memory. "
      ]
    },
    {
      "cell_type": "code",
      "metadata": {
        "id": "FScPlDrJ3tKb",
        "colab_type": "code",
        "colab": {
          "base_uri": "https://localhost:8080/",
          "height": 35
        },
        "outputId": "4572dcc0-25a1-4706-dc26-a1b76234240e"
      },
      "source": [
        "%%writefile test.cpp\n",
        "\n",
        "#include <iostream>\n",
        "using namespace std;\n",
        "int main() {\n",
        "  /*2dimensional dynamic memory can be\n",
        "  stored in couple of ways, here are some.\n",
        "  So if you remember how you represented\n",
        "  1dimensional dynamic memory.*/\n",
        "  \n",
        "  int* arr1d = new int[4]{ 1,2,3,4 };\n",
        "  delete[] arr1d;\n",
        "  \n",
        "  /*2dimensional array with dynamic memory can\n",
        "  be represented utilizing the same inspiration.\n",
        "  But first you have to understand the notation\n",
        "  of the code below.*/\n",
        "  \n",
        "  int** arr2D = new int* [3];\n",
        "  \n",
        "  /*Here the first \"*\" after \"int\" represents\n",
        "  the data type that will be stored in \"arr2d\".\n",
        "  The data type is of integer address. The second\n",
        "  \"*\" after \"int *\" represents the address\n",
        "  of the array \"arr2d\". On the right hand side\n",
        "  \"*\" after \"new int\" represents that the data type\n",
        "  that will be kept in the array \"arr2d\" will be\n",
        "  kept in the heap.\n",
        "  Having said that, let us initialize some 1d array\n",
        "  using dynamic memory.*/\n",
        "  \n",
        "  int* odd = new int[2]{3, 5};\n",
        "  int* even = new int[3]{4, 6};\n",
        "  int* natural = new int[4]{1, 2, 3, 4};\n",
        "\n",
        "  //And you can do this.\n",
        "  int** number2d = new int* [3];\n",
        "  number2d[0] = odd;\n",
        "  number2d[1] = even;\n",
        "  number2d[2] = natural;\n",
        "\n",
        "  //Free memory\n",
        "  delete[] number2d[0];\n",
        "  delete[] number2d[1];\n",
        "  delete[] number2d[2];\n",
        "  \n",
        "  \n",
        "  //You could have done this as well\n",
        "  int* prime = new int[2]{ 3, 5 };\n",
        "  int* fib = new int[3]{ 0, 1, 1 };\n",
        "  int* random = new int[4]{ 11, 12, 223, 24 };\n",
        "\n",
        "  int** number2d_1 = new int* [3]{ prime, fib, random };\n",
        "  \n",
        "  //Free memory\n",
        "  delete[] number2d_1[0];\n",
        "  delete[] number2d_1[1];\n",
        "  delete[] number2d_1[2];\n",
        "    \n",
        "  \n",
        "  //Or just, this could have also been possible\n",
        "  int** number2d_2 = new int* [3]{ new int[2]{3,5}, new int[3]{4,6}, new int[4]{1,2,3,4} };\n",
        " \n",
        "  //Free up memory\n",
        "  delete[] number2d_2[0];\n",
        "  delete[] number2d_2[1];\n",
        "  delete[] number2d_2[2];\n",
        "\n",
        "  /*Finally if you want to have the content\n",
        "   of the 2d array displayed, you can follow \n",
        "   the code written in the code block above*/\n",
        "   \n",
        "  return 0;\n",
        "}"
      ],
      "execution_count": 15,
      "outputs": [
        {
          "output_type": "stream",
          "text": [
            "Overwriting test.cpp\n"
          ],
          "name": "stdout"
        }
      ]
    },
    {
      "cell_type": "code",
      "metadata": {
        "id": "sm5x4eGyCH2l",
        "colab_type": "code",
        "colab": {}
      },
      "source": [
        "%%script bash\n",
        "g++ test.cpp -o test \n",
        "./test"
      ],
      "execution_count": 0,
      "outputs": []
    },
    {
      "cell_type": "markdown",
      "metadata": {
        "id": "ImSPCMuJIEjF",
        "colab_type": "text"
      },
      "source": [
        "Finally, below is a cool little example which shows the power dynamic memory and the extent to which we can utilize it."
      ]
    },
    {
      "cell_type": "code",
      "metadata": {
        "id": "iEY2QbceIZSo",
        "colab_type": "code",
        "colab": {
          "base_uri": "https://localhost:8080/",
          "height": 35
        },
        "outputId": "ee4c7778-378f-4f89-909f-0525fe46b684"
      },
      "source": [
        "%%writefile test.cpp\n",
        "\n",
        "#include <iostream>\n",
        "using namespace std;\n",
        "void swappingValues(int &p, int &q){\n",
        "  int temp = p;\n",
        "\tp = q;\n",
        "\tq = temp;\n",
        "}\n",
        "\n",
        "/*Notice the difference between the \n",
        "two function, in the function swappingValues\n",
        "data type \"int\" was swapped. And in the \n",
        "function swappingAddresses \"int*\" was\n",
        "swapped. \"p\" and \"q\" was ready beforehand\n",
        "to care of \"int*\" type of address.\n",
        "\"int*\" in \"int* temp\" contains address\n",
        "from p. And then the address from q is\n",
        "swapped to p, after address in 'temp'\n",
        "was transferred to \"q\". */\n",
        "\n",
        "void swappingAddresses(int* &p, int* &q){\n",
        "\tint* temp = p;\n",
        "\tp = q;\n",
        "\tq = temp;\n",
        "}\n",
        "\n",
        "int main(){\n",
        "  /*Remember that back in CSC 101, swapping of\n",
        "  values was taught, and something like the \n",
        "  function swappingValues was used to swap\n",
        "  values of two variables*/\n",
        "  \n",
        "  int a = 3; int b = 5;\n",
        "  cout<<\"Before swapping : a is \"<<a<<\" b is \"<<b<<endl;\n",
        "  swappingValues(a,b);\n",
        "  cout<<\"After swapping: a is \"<<a<<\" b is \"<<b<<endl;\n",
        "\n",
        "  /*Hopefully you will see that the values of \n",
        "  a and b interchange after swapping. So that was \n",
        "  swapping of values like \"int\", \"float\" or \"double\".\n",
        "  What if we want to swap something like \"int *\" or \n",
        "  \"float *\". Below is an example, which shows that \n",
        "  in action.*/\n",
        "  \n",
        "  //x and y are generic variables\n",
        "  int x = 3; int y = 5;\n",
        "  \n",
        "  /* m contains address of a,\n",
        "  n contains address of b */\n",
        "  int* m = &x; int* n = &y;\n",
        "\n",
        "  cout<<\"Before swapping value dreferenced by m: \"<<*m<<\" and n: \"<<*n<<endl;\n",
        "  cout<<\"Address value before swapping m: \"<<m<<\" n: \"<<n<<endl;\n",
        "  swappingAddresses(m,n);\n",
        "  cout<<\"Address value after swapping m: \"<<m<<\" n: \"<<n<<endl;\n",
        "  cout<<\"After swapping value dereferenced by m: \"<<*m<<\" and n: \"<<*n<<endl;\n",
        "\n",
        "  /*Couple of things to notice about the address \n",
        "  of the variables 'x' and 'y'. It does not change.\n",
        "  Its value also does not does not change. The address\n",
        "  kept in 'm' and 'n' do change, so does the value the\n",
        "  variables 'm' and 'n' references change. This leads \n",
        "  to an interesting effect as shown below.*/\n",
        "  \n",
        "  /*Lets say we have an 1d array whose values\n",
        "  have been allocated dynamically as given,\n",
        "  let us swap the address of the variables, and\n",
        "  then see the effect.*/\n",
        "  int *odd = new int[3]{1,3,5};\n",
        "  int *even = new int[5]{2,4,6,8,10};\n",
        "\n",
        "  cout<<\"\\nBefore swapping the addresses ... \"<<endl;\n",
        "  cout<<\"Odd values: \";\n",
        "  for(int i = 0; i < 3; ++i) cout << odd[i] <<\" \";\n",
        "  cout<<endl;\n",
        "  cout<<\"Even values: \";\n",
        "  for(int i = 0; i < 5; ++i) cout<< even[i] <<\" \";\n",
        "\n",
        "  //Now swap the address of the variable odd and even\n",
        "  swappingAddresses(odd,even);\n",
        "\n",
        "  cout<<\"\\nAfter swapping the addresses ... \"<<endl;\n",
        "  cout<<\"Odd values: \";\n",
        "  for(int i = 0; i < 5; ++i) cout << odd[i] <<\" \";\n",
        "  cout<<endl;\n",
        "  cout<<\"Even values: \";\n",
        "  for(int i = 0; i < 3; ++i) cout<< even[i] <<\" \";\n",
        "\n",
        "  /*Finally take a moment and appreciate what just \n",
        "  happened to the value of odd number array and then\n",
        "  what happened to the value of even number array.\n",
        "  Your appreciation will help you a lot in the \n",
        "  coming days.*/\n",
        "  \n",
        "  return 0;\n",
        "}\n"
      ],
      "execution_count": 32,
      "outputs": [
        {
          "output_type": "stream",
          "text": [
            "Overwriting test.cpp\n"
          ],
          "name": "stdout"
        }
      ]
    },
    {
      "cell_type": "code",
      "metadata": {
        "id": "mcuYbN2ClJc6",
        "colab_type": "code",
        "colab": {
          "base_uri": "https://localhost:8080/",
          "height": 243
        },
        "outputId": "c8fb098d-89ea-488d-d274-997aed9cc76e"
      },
      "source": [
        "%%script bash\n",
        "g++ test.cpp -o test \n",
        "./test"
      ],
      "execution_count": 33,
      "outputs": [
        {
          "output_type": "stream",
          "text": [
            "Before swapping : a is 3 b is 5\n",
            "After swapping: a is 5 b is 3\n",
            "Before swapping value dreferenced by m: 3 and n: 5\n",
            "Address value before swapping m: 0x7fff53ed21b0 n: 0x7fff53ed21b4\n",
            "Address value after swapping m: 0x7fff53ed21b4 n: 0x7fff53ed21b0\n",
            "After swapping value dereferenced by m: 5 and n: 3\n",
            "\n",
            "Before swapping the addresses ... \n",
            "Odd values: 1 3 5 \n",
            "Even values: 2 4 6 8 10 \n",
            "After swapping the addresses ... \n",
            "Odd values: 2 4 6 8 10 \n",
            "Even values: 1 3 5 "
          ],
          "name": "stdout"
        }
      ]
    }
  ]
}