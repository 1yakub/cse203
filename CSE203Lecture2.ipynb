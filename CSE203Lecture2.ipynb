{
  "nbformat": 4,
  "nbformat_minor": 0,
  "metadata": {
    "colab": {
      "name": "CSE203Lecture2.ipynb",
      "provenance": [],
      "toc_visible": true,
      "authorship_tag": "ABX9TyOa5PrkZw1U8HBYgo5AIZbz",
      "include_colab_link": true
    },
    "kernelspec": {
      "name": "python3",
      "display_name": "Python 3"
    }
  },
  "cells": [
    {
      "cell_type": "markdown",
      "metadata": {
        "id": "view-in-github",
        "colab_type": "text"
      },
      "source": [
        "<a href=\"https://colab.research.google.com/github/mohammadmotiurrahman/cse203/blob/master/CSE203Lecture2.ipynb\" target=\"_parent\"><img src=\"https://colab.research.google.com/assets/colab-badge.svg\" alt=\"Open In Colab\"/></a>"
      ]
    },
    {
      "cell_type": "markdown",
      "metadata": {
        "id": "Fos5XqIPZEk6",
        "colab_type": "text"
      },
      "source": [
        "# Dynamic Memory\n",
        "The type of memory shown in the previous lecture is known as Static Memory. The amount of memory that can be allocated using static memory is limited.\n",
        "An example is given below:"
      ]
    },
    {
      "cell_type": "code",
      "metadata": {
        "id": "RYgTxBQSm-O3",
        "colab_type": "code",
        "outputId": "db87e614-9f21-4fba-d91c-435cbfc776ec",
        "colab": {
          "base_uri": "https://localhost:8080/",
          "height": 35
        }
      },
      "source": [
        "%%writefile test.cpp\n",
        "#include <iostream>\n",
        "using namespace std;\n",
        "int main(){\n",
        "\n",
        "  int N = 1000000;\n",
        "  int arr[N];\n",
        "  for(int i=0; i<N; ++i)\n",
        "    \tarr[i] = i;\n",
        "\n",
        "  cout<<(N*4)/1000<<\" KB \"<<endl;\n",
        "\n",
        "  return 0;\n",
        "}"
      ],
      "execution_count": 0,
      "outputs": [
        {
          "output_type": "stream",
          "text": [
            "Overwriting test.cpp\n"
          ],
          "name": "stdout"
        }
      ]
    },
    {
      "cell_type": "code",
      "metadata": {
        "id": "n_22rP90nTdp",
        "colab_type": "code",
        "outputId": "dfeda23a-dbec-415d-8b24-3e10ee2a8d7a",
        "colab": {
          "base_uri": "https://localhost:8080/",
          "height": 35
        }
      },
      "source": [
        "%%script bash\n",
        "g++ test.cpp -o test \n",
        "./test"
      ],
      "execution_count": 0,
      "outputs": [
        {
          "output_type": "stream",
          "text": [
            "4000 KB \n"
          ],
          "name": "stdout"
        }
      ]
    },
    {
      "cell_type": "markdown",
      "metadata": {
        "id": "cteEDEXGpDKZ",
        "colab_type": "text"
      },
      "source": [
        ""
      ]
    },
    {
      "cell_type": "markdown",
      "metadata": {
        "id": "qODp2yi1pp8E",
        "colab_type": "text"
      },
      "source": [
        "So allocating memory like that above maxes at `N = 1000,000`, which is 1million entry. Now what if in an area there are more than 1 million people and somehow all of their ages needs to recorded. In comes dynamic memory, where more memory can be allocated on demand."
      ]
    },
    {
      "cell_type": "code",
      "metadata": {
        "id": "ozn_txySqtt9",
        "colab_type": "code",
        "outputId": "75b0490f-93dd-4548-f326-35b6ce9bc838",
        "colab": {
          "base_uri": "https://localhost:8080/",
          "height": 35
        }
      },
      "source": [
        "%%writefile test.cpp\n",
        "#include <iostream>\n",
        "using namespace std;\n",
        "\n",
        "int main(){\n",
        "  long N = 100000000;\n",
        "  long *arr =new long[N];\n",
        "  for(long i=0; i<N; ++i)\n",
        "    arr[i] = i;\n",
        "  delete[] arr;\n",
        "  cout<<(N*4)/1000000<<\" MB \"<<endl;\n",
        "\n",
        "  return 0;\n",
        "}"
      ],
      "execution_count": 0,
      "outputs": [
        {
          "output_type": "stream",
          "text": [
            "Overwriting test.cpp\n"
          ],
          "name": "stdout"
        }
      ]
    },
    {
      "cell_type": "code",
      "metadata": {
        "id": "1rIH2f7Yq5xt",
        "colab_type": "code",
        "outputId": "74ded6bd-1701-441c-c488-8c464aeb9113",
        "colab": {
          "base_uri": "https://localhost:8080/",
          "height": 35
        }
      },
      "source": [
        "%%script bash\n",
        "g++ test.cpp -o test \n",
        "./test"
      ],
      "execution_count": 0,
      "outputs": [
        {
          "output_type": "stream",
          "text": [
            "400 MB \n"
          ],
          "name": "stdout"
        }
      ]
    },
    {
      "cell_type": "markdown",
      "metadata": {
        "id": "KHXX1yPUtQ6D",
        "colab_type": "text"
      },
      "source": [
        "So, as shown above around 400MB of data can be allocated using dynamic memory, which is 100 times more than that of static memory.At the same time 100,000,000 data points could be stored, which is 100 times more than the previous one.\n"
      ]
    },
    {
      "cell_type": "markdown",
      "metadata": {
        "id": "DvE6OPNBBM8i",
        "colab_type": "text"
      },
      "source": [
        "# Pointer Arithmetic\n",
        "\n",
        "Before moving any further there are some things that needs to be said about pointers , arrays and pointer arithmetic."
      ]
    },
    {
      "cell_type": "code",
      "metadata": {
        "id": "KGv5EflVBkJ1",
        "colab_type": "code",
        "colab": {
          "base_uri": "https://localhost:8080/",
          "height": 35
        },
        "outputId": "349ab78c-67cd-4bf6-f601-90964b38a72e"
      },
      "source": [
        "%%writefile test.cpp\n",
        "/*\n",
        "  So this program illustrates the memory\n",
        "  addressing in an array of integers\n",
        "*/\n",
        "#include <iostream>\n",
        "using namespace std;\n",
        "int main(){\n",
        "  /*\n",
        "  So, first initialize and declare \n",
        "  an array containing odd numbers\n",
        "  */ \n",
        "  const int N = 5;\n",
        "  int arr[N];\n",
        "  cout<<\"Contents of the array arr: \";\n",
        "  for(int i = 0; i<N; ++i){\n",
        "      arr[i] = i;\n",
        "  }\n",
        "  cout<<endl;\n",
        "  /*\n",
        "    In order to display the numbers,\n",
        "    this is done\n",
        "  */\n",
        "  for(int i = 0; i<N; ++i){\n",
        "      cout<<arr[i]<<\" \";\n",
        "  }\n",
        "  cout<<endl;\n",
        "  /*\n",
        "    Now, in order to find the address of \n",
        "    particular number in an array, this \n",
        "    is done.\n",
        "  */\n",
        "  cout<<\"Address of: \"<<arr[0]<<\" is \"<<&arr[0]<<endl;\n",
        "  cout<<\"Address of: \"<<arr[1]<<\" is \"<<&arr[1]<<endl;\n",
        "  //So on ... so forth\n",
        "  /*\n",
        "    To iterate all the addresses in an array,\n",
        "    a for-loop can be used as such\n",
        "  */\n",
        "  cout<<\"Iterating the addresses using a for-loop:\"<<endl;\n",
        "  for(int i = 0; i < N; ++i){\n",
        "      cout<<&arr[i]<<\" \";\n",
        "  }\n",
        "  cout<<endl;\n",
        "  //Note that just printing the following\n",
        "  cout<<\"Printing the address of the variable arr: \"<<endl; \n",
        "  cout<<arr<<endl;\n",
        "  //will give the same address as arr[0]\n",
        "\n",
        "  return 0;\n",
        "}"
      ],
      "execution_count": 54,
      "outputs": [
        {
          "output_type": "stream",
          "text": [
            "Overwriting test.cpp\n"
          ],
          "name": "stdout"
        }
      ]
    },
    {
      "cell_type": "code",
      "metadata": {
        "id": "pn_JTlaCGp3U",
        "colab_type": "code",
        "colab": {
          "base_uri": "https://localhost:8080/",
          "height": 156
        },
        "outputId": "943d0cc7-7b74-4400-8380-e3280c4772ce"
      },
      "source": [
        "%%script bash\n",
        "g++ test.cpp -o test \n",
        "./test"
      ],
      "execution_count": 55,
      "outputs": [
        {
          "output_type": "stream",
          "text": [
            "Contents of the array arr: \n",
            "0 1 2 3 4 \n",
            "Address of: 0 is 0x7ffd1cbe8780\n",
            "Address of: 1 is 0x7ffd1cbe8784\n",
            "Iterating the addresses using a for-loop:\n",
            "0x7ffd1cbe8780 0x7ffd1cbe8784 0x7ffd1cbe8788 0x7ffd1cbe878c 0x7ffd1cbe8790 \n",
            "Printing the address of the variable arr: \n",
            "0x7ffd1cbe8780\n"
          ],
          "name": "stdout"
        }
      ]
    },
    {
      "cell_type": "markdown",
      "metadata": {
        "id": "tJMbVeZtMDL2",
        "colab_type": "text"
      },
      "source": [
        "Having said all of these, let us move to pointer arithmetic"
      ]
    },
    {
      "cell_type": "code",
      "metadata": {
        "id": "oj77kSDQMMmM",
        "colab_type": "code",
        "colab": {
          "base_uri": "https://localhost:8080/",
          "height": 35
        },
        "outputId": "e4252e15-17f4-41f2-ba8a-c7662e44446b"
      },
      "source": [
        "%%writefile test.cpp\n",
        "/*\n",
        "  So this program illustrates the memory\n",
        "  addressing in an array of integers\n",
        "*/\n",
        "#include <iostream>\n",
        "using namespace std;\n",
        "int main(){\n",
        "  /*\n",
        "  So, first initialize and declare \n",
        "  an array containing odd numbers\n",
        "  */ \n",
        "  const int N = 5;\n",
        "  int arr[N];\n",
        "  for(int i = 0; i<N; ++i){\n",
        "      arr[i] = i;\n",
        "  }\n",
        "  /*\n",
        "    Let us store the address of the\n",
        "    first variable into a pointer, \n",
        "    and then iterate the pointer.\n",
        "    For example:\n",
        "  */\n",
        "  int *p = &arr[0];\n",
        "  cout<<*p<<endl;\n",
        "  /*\n",
        "    Incrementing the pointer will\n",
        "    point the pointer to the address\n",
        "    of the next array position\n",
        "  */\n",
        "  p++;//It will give value of array at index 1\n",
        "  cout<<*p<<endl;\n",
        "\n",
        "  p++;//It will give value of array at index 2\n",
        "  cout<<*p<<endl;\n",
        "\n",
        "  //Decrementing the pointer will have the opposite effect\n",
        "  p--;//It will give value of array at that position 1\n",
        "  cout<<*p<<endl;\n",
        "\n",
        "  p--;//It will give value of array at that position 0\n",
        "  cout<<*p<<endl;\n",
        "\n",
        "  return 0;\n",
        "}"
      ],
      "execution_count": 58,
      "outputs": [
        {
          "output_type": "stream",
          "text": [
            "Overwriting test.cpp\n"
          ],
          "name": "stdout"
        }
      ]
    },
    {
      "cell_type": "code",
      "metadata": {
        "id": "C6tX1WrqO6Ue",
        "colab_type": "code",
        "colab": {
          "base_uri": "https://localhost:8080/",
          "height": 104
        },
        "outputId": "1b33d7fd-15e3-44db-8fd4-b78363adfc85"
      },
      "source": [
        "%%script bash\n",
        "g++ test.cpp -o test \n",
        "./test"
      ],
      "execution_count": 59,
      "outputs": [
        {
          "output_type": "stream",
          "text": [
            "0\n",
            "1\n",
            "2\n",
            "1\n",
            "0\n"
          ],
          "name": "stdout"
        }
      ]
    },
    {
      "cell_type": "markdown",
      "metadata": {
        "id": "i3x8JHOvPSBi",
        "colab_type": "text"
      },
      "source": [
        "The above code is an example of pointer arithmetic.Notice line 31 and 35 increments the pointers, line 39 and 42 decrements the pointers. "
      ]
    },
    {
      "cell_type": "markdown",
      "metadata": {
        "id": "OwDuTcspSldJ",
        "colab_type": "text"
      },
      "source": [
        "# 1d array using dynamic memory\n",
        "So there are couple of steps that needs to be followed inorder to use an 1d array that uses dynamic memory."
      ]
    },
    {
      "cell_type": "code",
      "metadata": {
        "id": "qG3unG_eVK06",
        "colab_type": "code",
        "colab": {
          "base_uri": "https://localhost:8080/",
          "height": 35
        },
        "outputId": "b9e8936d-bf21-4ec0-ad4c-2280dccc04a6"
      },
      "source": [
        "%%writefile test.cpp\n",
        "#include <iostream>\n",
        "using namespace std;\n",
        "int main(){\n",
        "    const int N = 5;\n",
        "    int *arr = new int [N];\n",
        "    for(int i =0; i < N; ++i){\n",
        "        //You can either write this way\n",
        "        *(arr+i) = i;\n",
        "        //Or, you can write \n",
        "        //arr[i] = i;\n",
        "    }\n",
        "    //For display or doing some computation\n",
        "    for(int i = 0; i < N; ++i){\n",
        "        cout<<arr[i]<<endl;\n",
        "        //OR\n",
        "        //cout<<*(arr+i)<<endl;\n",
        "    }\n",
        "\n",
        "    /*Finally free memory stored by the array */\n",
        "    delete[] arr;\n",
        "    return 0;\n",
        "}"
      ],
      "execution_count": 66,
      "outputs": [
        {
          "output_type": "stream",
          "text": [
            "Overwriting test.cpp\n"
          ],
          "name": "stdout"
        }
      ]
    },
    {
      "cell_type": "code",
      "metadata": {
        "id": "IqS2fPb8XWg2",
        "colab_type": "code",
        "colab": {
          "base_uri": "https://localhost:8080/",
          "height": 104
        },
        "outputId": "843cbcf7-8013-4e57-9a46-9f17709df59a"
      },
      "source": [
        "%%script bash\n",
        "g++ test.cpp -o test \n",
        "./test"
      ],
      "execution_count": 67,
      "outputs": [
        {
          "output_type": "stream",
          "text": [
            "0\n",
            "1\n",
            "2\n",
            "3\n",
            "4\n"
          ],
          "name": "stdout"
        }
      ]
    },
    {
      "cell_type": "markdown",
      "metadata": {
        "id": "yYsMwvMnZZJp",
        "colab_type": "text"
      },
      "source": [
        "# 2d array using Dynamic Memory"
      ]
    },
    {
      "cell_type": "code",
      "metadata": {
        "id": "Eu0pXzw2XXOV",
        "colab_type": "code",
        "colab": {}
      },
      "source": [
        ""
      ],
      "execution_count": 0,
      "outputs": []
    }
  ]
}