{
  "nbformat": 4,
  "nbformat_minor": 0,
  "metadata": {
    "colab": {
      "name": "CSE203Lecture1.ipynb",
      "provenance": [],
      "authorship_tag": "ABX9TyPy3G3lI3XT+7hkYvOF0i/u",
      "include_colab_link": true
    },
    "kernelspec": {
      "name": "python3",
      "display_name": "Python 3"
    }
  },
  "cells": [
    {
      "cell_type": "markdown",
      "metadata": {
        "id": "view-in-github",
        "colab_type": "text"
      },
      "source": [
        "<a href=\"https://colab.research.google.com/github/mohammadmotiurrahman/cse203/blob/master/CSE203Lecture1.ipynb\" target=\"_parent\"><img src=\"https://colab.research.google.com/assets/colab-badge.svg\" alt=\"Open In Colab\"/></a>"
      ]
    },
    {
      "cell_type": "markdown",
      "metadata": {
        "id": "YGoUSIB4ESm_",
        "colab_type": "text"
      },
      "source": [
        "#This is a review of CSC 101 course taught at IUB . I will try to finish in 1 Lecture. In order to run the code , try the following key combination, Shift + Enter .\n",
        "\n",
        "---\n"
      ]
    },
    {
      "cell_type": "markdown",
      "metadata": {
        "id": "a8Ek3ghdYGxf",
        "colab_type": "text"
      },
      "source": [
        "## Basic Idea"
      ]
    },
    {
      "cell_type": "markdown",
      "metadata": {
        "id": "EJQl_gJNK6ig",
        "colab_type": "text"
      },
      "source": [
        "\n",
        "So let us begin with the Hello World of CSC 101."
      ]
    },
    {
      "cell_type": "code",
      "metadata": {
        "id": "k8tTFQsXDkiC",
        "colab_type": "code",
        "colab": {
          "base_uri": "https://localhost:8080/",
          "height": 35
        },
        "outputId": "d19db7ee-025d-471c-88c0-d95ee1197e97"
      },
      "source": [
        "%%writefile test.cpp\n",
        "\n",
        "//This is where you will write your C++ code\n",
        "#include <iostream>\n",
        "using namespace std;\n",
        "\n",
        "int main(){\n",
        "    int x = 6;\n",
        "    cout<<\"Hello World\"<<endl;\n",
        "    return 0;\n",
        "}"
      ],
      "execution_count": 1,
      "outputs": [
        {
          "output_type": "stream",
          "text": [
            "Overwriting test.cpp\n"
          ],
          "name": "stdout"
        }
      ]
    },
    {
      "cell_type": "code",
      "metadata": {
        "id": "6w2AoSydD_-e",
        "colab_type": "code",
        "colab": {
          "base_uri": "https://localhost:8080/",
          "height": 35
        },
        "outputId": "39d6154b-9f4b-43f3-ff74-0aad99ba7d0d"
      },
      "source": [
        "%%script bash\n",
        "g++ test.cpp -o test \n",
        "./test"
      ],
      "execution_count": 2,
      "outputs": [
        {
          "output_type": "stream",
          "text": [
            "Hello World\n"
          ],
          "name": "stdout"
        }
      ]
    },
    {
      "cell_type": "markdown",
      "metadata": {
        "id": "3lesbP2vFnEQ",
        "colab_type": "text"
      },
      "source": [
        "Let us move to something more interesting. Add two numbers."
      ]
    },
    {
      "cell_type": "code",
      "metadata": {
        "id": "UKYPa2dEFeJu",
        "colab_type": "code",
        "colab": {
          "base_uri": "https://localhost:8080/",
          "height": 35
        },
        "outputId": "a160685e-cfe9-4b76-ad86-482fb8a15d8a"
      },
      "source": [
        "%%writefile test.cpp\n",
        "\n",
        "//This is where you will write your C++ code\n",
        "#include <iostream>\n",
        "using namespace std;\n",
        "\n",
        "int main(){\n",
        "    int x = 6; int y = 5;\n",
        "    int z = x + y;\n",
        "    cout<<\"The summation is \"<<z<<endl;\n",
        "    return 0;\n",
        "}"
      ],
      "execution_count": 3,
      "outputs": [
        {
          "output_type": "stream",
          "text": [
            "Overwriting test.cpp\n"
          ],
          "name": "stdout"
        }
      ]
    },
    {
      "cell_type": "code",
      "metadata": {
        "id": "yqhr6q7SHAiP",
        "colab_type": "code",
        "colab": {
          "base_uri": "https://localhost:8080/",
          "height": 35
        },
        "outputId": "3ee2d832-79bb-4701-adb1-322ce91e4d87"
      },
      "source": [
        "%%script bash\n",
        "g++ test.cpp -o test \n",
        "./test"
      ],
      "execution_count": 4,
      "outputs": [
        {
          "output_type": "stream",
          "text": [
            "The summation is 11\n"
          ],
          "name": "stdout"
        }
      ]
    },
    {
      "cell_type": "markdown",
      "metadata": {
        "id": "ru736VuEHItD",
        "colab_type": "text"
      },
      "source": [
        "Try to write a for-loop"
      ]
    },
    {
      "cell_type": "code",
      "metadata": {
        "id": "sT3_IO6PHSA_",
        "colab_type": "code",
        "colab": {
          "base_uri": "https://localhost:8080/",
          "height": 35
        },
        "outputId": "495dcabd-7e76-452d-fb7b-29d746e92dc0"
      },
      "source": [
        "%%writefile test.cpp\n",
        "\n",
        "//This is where you will write your C++ code\n",
        "#include <iostream>\n",
        "using namespace std;\n",
        "\n",
        "int main(){\n",
        "    for(int i = 0; i < 10; ++i){\n",
        "        cout << 2 * i << \" \";\n",
        "    }\n",
        "    return 0;\n",
        "}"
      ],
      "execution_count": 71,
      "outputs": [
        {
          "output_type": "stream",
          "text": [
            "Overwriting test.cpp\n"
          ],
          "name": "stdout"
        }
      ]
    },
    {
      "cell_type": "code",
      "metadata": {
        "id": "QPmWKpKQHiNw",
        "colab_type": "code",
        "colab": {
          "base_uri": "https://localhost:8080/",
          "height": 35
        },
        "outputId": "51c937e8-b868-4de3-e95d-c193714ea20c"
      },
      "source": [
        "%%script bash\n",
        "g++ test.cpp -o test \n",
        "./test"
      ],
      "execution_count": 72,
      "outputs": [
        {
          "output_type": "stream",
          "text": [
            "0 2 4 6 8 10 12 14 16 18 "
          ],
          "name": "stdout"
        }
      ]
    },
    {
      "cell_type": "markdown",
      "metadata": {
        "id": "eBoUasp2INDJ",
        "colab_type": "text"
      },
      "source": [
        "Write a while loop"
      ]
    },
    {
      "cell_type": "code",
      "metadata": {
        "id": "0gjdCUfGIP5J",
        "colab_type": "code",
        "colab": {
          "base_uri": "https://localhost:8080/",
          "height": 35
        },
        "outputId": "76b3591d-cc0c-49e0-b1a4-86bc0de7a18b"
      },
      "source": [
        "%%writefile test.cpp\n",
        "\n",
        "//This is where you will write your C++ code\n",
        "#include <iostream>\n",
        "using namespace std;\n",
        "\n",
        "int main(){\n",
        "    int i = 0;\n",
        "    while(i < 10){\n",
        "        cout << 2 * i << \" \";\n",
        "        i = i + 1;\n",
        "    }\n",
        "    return 0;\n",
        "}"
      ],
      "execution_count": 73,
      "outputs": [
        {
          "output_type": "stream",
          "text": [
            "Overwriting test.cpp\n"
          ],
          "name": "stdout"
        }
      ]
    },
    {
      "cell_type": "code",
      "metadata": {
        "id": "B45fXIkMIdgu",
        "colab_type": "code",
        "colab": {
          "base_uri": "https://localhost:8080/",
          "height": 35
        },
        "outputId": "2c8d3c1f-6b7a-45ee-a601-e831f59423f4"
      },
      "source": [
        "%%script bash\n",
        "g++ test.cpp -o test \n",
        "./test"
      ],
      "execution_count": 74,
      "outputs": [
        {
          "output_type": "stream",
          "text": [
            "0 2 4 6 8 10 12 14 16 18 "
          ],
          "name": "stdout"
        }
      ]
    },
    {
      "cell_type": "markdown",
      "metadata": {
        "id": "vniJJkELI4Z8",
        "colab_type": "text"
      },
      "source": [
        "Find whether a number is prime or not"
      ]
    },
    {
      "cell_type": "code",
      "metadata": {
        "id": "JGiZr3b7I-YG",
        "colab_type": "code",
        "colab": {
          "base_uri": "https://localhost:8080/",
          "height": 35
        },
        "outputId": "3c28cda8-93fb-419d-bfe1-6d927a3e5c22"
      },
      "source": [
        "%%writefile test.cpp\n",
        "\n",
        "//This is where you will write your C++ code\n",
        "#include <iostream>\n",
        "using namespace std;\n",
        "\n",
        "int main(){\n",
        "    bool isPrime = true;\n",
        "    int num = 7;\n",
        "    for(int i = 2; i < num ; ++i){\n",
        "        if(num % i == 0){\n",
        "            isPrime = false;\n",
        "        }\n",
        "    }\n",
        "    if(isPrime == false){\n",
        "        cout<<num<<\" is not Prime\"<<endl;\n",
        "    }\n",
        "    else{\n",
        "        cout<<num<<\" is Prime\"<<endl;\n",
        "    }\n",
        "    \n",
        "    return 0;\n",
        "}"
      ],
      "execution_count": 75,
      "outputs": [
        {
          "output_type": "stream",
          "text": [
            "Overwriting test.cpp\n"
          ],
          "name": "stdout"
        }
      ]
    },
    {
      "cell_type": "code",
      "metadata": {
        "id": "m8UuismrJclT",
        "colab_type": "code",
        "colab": {
          "base_uri": "https://localhost:8080/",
          "height": 35
        },
        "outputId": "7076c182-5781-401e-c609-bdfa84aa383d"
      },
      "source": [
        "%%script bash\n",
        "g++ test.cpp -o test \n",
        "./test"
      ],
      "execution_count": 76,
      "outputs": [
        {
          "output_type": "stream",
          "text": [
            "7 is Prime\n"
          ],
          "name": "stdout"
        }
      ]
    },
    {
      "cell_type": "markdown",
      "metadata": {
        "id": "RC74eIxXYCGU",
        "colab_type": "text"
      },
      "source": [
        "## Functions"
      ]
    },
    {
      "cell_type": "markdown",
      "metadata": {
        "id": "SRI0Pd-hYg2w",
        "colab_type": "text"
      },
      "source": [
        "Functions are components of a program that helps to modularize a program.\n",
        "Here is a function to print a list of odd numbers."
      ]
    },
    {
      "cell_type": "code",
      "metadata": {
        "id": "5OQigsLKZJHV",
        "colab_type": "code",
        "colab": {
          "base_uri": "https://localhost:8080/",
          "height": 35
        },
        "outputId": "c8ee92c2-4f16-4502-cf31-052d3f974397"
      },
      "source": [
        "%%writefile test.cpp\n",
        "\n",
        "//This is where you will write your C++ code\n",
        "#include <iostream>\n",
        "using namespace std;\n",
        "\n",
        "void printOddNumbers(int x){\n",
        "    for(int i = 0; i < x; ++i){\n",
        "        if( i % 2 ){\n",
        "            cout<< i << \" \";\n",
        "        }\n",
        "    }\n",
        "}\n",
        "int main(){\n",
        "    printOddNumbers(10);\n",
        "    return 0;\n",
        "}"
      ],
      "execution_count": 77,
      "outputs": [
        {
          "output_type": "stream",
          "text": [
            "Overwriting test.cpp\n"
          ],
          "name": "stdout"
        }
      ]
    },
    {
      "cell_type": "code",
      "metadata": {
        "id": "tP1_RRLkaRIE",
        "colab_type": "code",
        "colab": {
          "base_uri": "https://localhost:8080/",
          "height": 35
        },
        "outputId": "6458cbeb-01dd-4ae1-9ca6-0d6e69d201d6"
      },
      "source": [
        "%%script bash\n",
        "g++ test.cpp -o test \n",
        "./test"
      ],
      "execution_count": 78,
      "outputs": [
        {
          "output_type": "stream",
          "text": [
            "1 3 5 7 9 "
          ],
          "name": "stdout"
        }
      ]
    },
    {
      "cell_type": "markdown",
      "metadata": {
        "id": "2U5FHaBwatV3",
        "colab_type": "text"
      },
      "source": [
        "Here is an function to print a list of prime numbers from 0 to 100."
      ]
    },
    {
      "cell_type": "code",
      "metadata": {
        "id": "5_Ry4zH6ay08",
        "colab_type": "code",
        "colab": {
          "base_uri": "https://localhost:8080/",
          "height": 35
        },
        "outputId": "a7d0dc7a-7d6f-40ae-f493-62e27d494a31"
      },
      "source": [
        "%%writefile test.cpp\n",
        "\n",
        "//This is where you will write your C++ code\n",
        "#include <iostream>\n",
        "using namespace std;\n",
        "\n",
        "bool isPrimeNumber(int x){\n",
        "    bool isPrime = true;\n",
        "    for(int i = 2; i < x ; ++i){\n",
        "        if( x % i == 0){\n",
        "          isPrime = false;\n",
        "        }\n",
        "    }\n",
        "    return isPrime;\n",
        "}\n",
        "void printPrimeNumber(int x){\n",
        "    for( int i = 2 ; i < x ; ++i){\n",
        "        // If a number i is a prime number\n",
        "        if(isPrimeNumber(i) == true){\n",
        "            cout << i << \" \";\n",
        "        }\n",
        "    }\n",
        "}\n",
        "int main(){\n",
        "    printPrimeNumber(100);\n",
        "    return 0;\n",
        "}"
      ],
      "execution_count": 79,
      "outputs": [
        {
          "output_type": "stream",
          "text": [
            "Overwriting test.cpp\n"
          ],
          "name": "stdout"
        }
      ]
    },
    {
      "cell_type": "code",
      "metadata": {
        "id": "5ytsO2oHaTn-",
        "colab_type": "code",
        "colab": {
          "base_uri": "https://localhost:8080/",
          "height": 35
        },
        "outputId": "595f8796-df86-448b-9700-b5ef1333aed1"
      },
      "source": [
        "%%script bash\n",
        "g++ test.cpp -o test \n",
        "./test"
      ],
      "execution_count": 80,
      "outputs": [
        {
          "output_type": "stream",
          "text": [
            "2 3 5 7 11 13 17 19 23 29 31 37 41 43 47 53 59 61 67 71 73 79 83 89 97 "
          ],
          "name": "stdout"
        }
      ]
    },
    {
      "cell_type": "markdown",
      "metadata": {
        "id": "umZs5HrBflur",
        "colab_type": "text"
      },
      "source": [
        "Here is an another function to find LCM and HCF of given numbers"
      ]
    },
    {
      "cell_type": "code",
      "metadata": {
        "id": "Rq1F1XJgf87Z",
        "colab_type": "code",
        "colab": {
          "base_uri": "https://localhost:8080/",
          "height": 35
        },
        "outputId": "0191494e-e0b7-449d-cd7c-e70488734e45"
      },
      "source": [
        "%%writefile test.cpp\n",
        "\n",
        "//This is where you will write your C++ code\n",
        "#include <iostream>\n",
        "using namespace std;\n",
        "\n",
        "int lcm(int a, int b){\n",
        "    int x = 2;\n",
        "    while(!((x % a  == 0) && (x % b == 0))){\n",
        "        x = x + 1;\n",
        "    }\n",
        "    return x;\n",
        "}\n",
        "int hcf(int a, int b){\n",
        "    return (a*b)/ lcm(a,b);\n",
        "}\n",
        "int main(){\n",
        "    int a = 12; int b = 30;\n",
        "    cout << \"LCM of \" << a << \" \" << b << \" is \"  << lcm(a,b) << endl;\n",
        "    cout << \"HCF of \" << a << \" \" << b << \" is \" << hcf(a,b) << endl;\n",
        "    \n",
        "    return 0;\n",
        "}"
      ],
      "execution_count": 81,
      "outputs": [
        {
          "output_type": "stream",
          "text": [
            "Overwriting test.cpp\n"
          ],
          "name": "stdout"
        }
      ]
    },
    {
      "cell_type": "code",
      "metadata": {
        "id": "uETSzaZTg5cU",
        "colab_type": "code",
        "colab": {
          "base_uri": "https://localhost:8080/",
          "height": 52
        },
        "outputId": "0ef1dd47-eaf2-47ff-e01e-32caf3b2e6ee"
      },
      "source": [
        "%%script bash\n",
        "g++ test.cpp -o test \n",
        "./test"
      ],
      "execution_count": 82,
      "outputs": [
        {
          "output_type": "stream",
          "text": [
            "LCM of 12 30 is 60\n",
            "HCF of 12 30 is 6\n"
          ],
          "name": "stdout"
        }
      ]
    },
    {
      "cell_type": "markdown",
      "metadata": {
        "id": "AUF2bOKFor-a",
        "colab_type": "text"
      },
      "source": [
        "## Array"
      ]
    },
    {
      "cell_type": "markdown",
      "metadata": {
        "id": "T9PVHUAypaWu",
        "colab_type": "text"
      },
      "source": [
        "Array is a collection of similar types of data"
      ]
    },
    {
      "cell_type": "code",
      "metadata": {
        "id": "s9MDkrcxpesz",
        "colab_type": "code",
        "colab": {
          "base_uri": "https://localhost:8080/",
          "height": 35
        },
        "outputId": "56dcf61c-54a9-4d46-8cc8-a59ea0f72e76"
      },
      "source": [
        "%%writefile test.cpp\n",
        "\n",
        "//This is where you will write your C++ code\n",
        "#include <iostream>\n",
        "using namespace std;\n",
        "int main(){\n",
        "    int arr[10];\n",
        "    for(int i =0; i<10; ++i){\n",
        "        arr[i] = i;\n",
        "    }\n",
        "    for(int i=0; i<10; ++i){\n",
        "        cout<<arr[i]<<\" \";\n",
        "    }\n",
        "    return 0;\n",
        "}"
      ],
      "execution_count": 89,
      "outputs": [
        {
          "output_type": "stream",
          "text": [
            "Overwriting test.cpp\n"
          ],
          "name": "stdout"
        }
      ]
    },
    {
      "cell_type": "code",
      "metadata": {
        "id": "LKm0lDRJq6Zd",
        "colab_type": "code",
        "colab": {
          "base_uri": "https://localhost:8080/",
          "height": 35
        },
        "outputId": "7ad06dd0-d24c-4d96-8748-173e98e74147"
      },
      "source": [
        "%%script bash\n",
        "g++ test.cpp -o test \n",
        "./test"
      ],
      "execution_count": 90,
      "outputs": [
        {
          "output_type": "stream",
          "text": [
            "0 1 2 3 4 5 6 7 8 9 "
          ],
          "name": "stdout"
        }
      ]
    },
    {
      "cell_type": "markdown",
      "metadata": {
        "id": "oxIY_TCuvSKp",
        "colab_type": "text"
      },
      "source": [
        "Something about ```const```\n",
        "\n"
      ]
    },
    {
      "cell_type": "code",
      "metadata": {
        "id": "6kZSfpfRvcH8",
        "colab_type": "code",
        "colab": {
          "base_uri": "https://localhost:8080/",
          "height": 35
        },
        "outputId": "ca93924c-9767-4185-e601-713c37f361ca"
      },
      "source": [
        "%%writefile test.cpp\n",
        "#include <iostream>\n",
        "using namespace std;\n",
        "int main(){\n",
        "    //It is possible to change value of the variable a\n",
        "    int a = 30;\n",
        "    a = 10;\n",
        "\n",
        "    //It is not possible to change value of the variable a\n",
        "    //if  the variable is change to const\n",
        "    const int a = 10;\n",
        "    a = 13;\n",
        "    \n",
        "    return 0;\n",
        "}"
      ],
      "execution_count": 91,
      "outputs": [
        {
          "output_type": "stream",
          "text": [
            "Overwriting test.cpp\n"
          ],
          "name": "stdout"
        }
      ]
    },
    {
      "cell_type": "code",
      "metadata": {
        "id": "PsJjMV0ivk_N",
        "colab_type": "code",
        "colab": {
          "base_uri": "https://localhost:8080/",
          "height": 139
        },
        "outputId": "6b225112-d236-4bd6-f7ee-160ad0819ba1"
      },
      "source": [
        "%%script bash\n",
        "g++ test.cpp -o test \n",
        "./test"
      ],
      "execution_count": 92,
      "outputs": [
        {
          "output_type": "stream",
          "text": [
            "0 1 2 3 4 5 6 7 8 9 "
          ],
          "name": "stdout"
        },
        {
          "output_type": "stream",
          "text": [
            "test.cpp: In function ‘int main()’:\n",
            "test.cpp:10:15: error: conflicting declaration ‘const int a’\n",
            "     const int a = 10;\n",
            "               ^\n",
            "test.cpp:5:9: note: previous declaration as ‘int a’\n",
            "     int a = 30;\n",
            "         ^\n"
          ],
          "name": "stderr"
        }
      ]
    },
    {
      "cell_type": "markdown",
      "metadata": {
        "id": "-ukY5230xskY",
        "colab_type": "text"
      },
      "source": [
        "While declaring an array in Visual Studio, the following norm is followed."
      ]
    },
    {
      "cell_type": "code",
      "metadata": {
        "id": "FavsoxACy2Fu",
        "colab_type": "code",
        "colab": {
          "base_uri": "https://localhost:8080/",
          "height": 35
        },
        "outputId": "9cbd5cf7-3909-4457-d3af-8649b2dba83d"
      },
      "source": [
        "%%writefile test.cpp\n",
        "#include <iostream>\n",
        "using namespace std;\n",
        "int main(){\n",
        "    \n",
        "    const int a = 5;\n",
        "    int arr[a];\n",
        "    \n",
        "    for(int i = 0; i < a; ++i){\n",
        "        arr[i] = i;\n",
        "    }\n",
        "\n",
        "    for(int i = 0; i < a; ++i ){\n",
        "        cout << arr[i] << \" \";\n",
        "    }\n",
        "\n",
        "    return 0;\n",
        "}"
      ],
      "execution_count": 95,
      "outputs": [
        {
          "output_type": "stream",
          "text": [
            "Overwriting test.cpp\n"
          ],
          "name": "stdout"
        }
      ]
    },
    {
      "cell_type": "code",
      "metadata": {
        "id": "HaZ32sMQzR5k",
        "colab_type": "code",
        "colab": {
          "base_uri": "https://localhost:8080/",
          "height": 35
        },
        "outputId": "7b922242-a5d5-4478-c94b-8c7fa2aa6adb"
      },
      "source": [
        "%%script bash\n",
        "g++ test.cpp -o test \n",
        "./test"
      ],
      "execution_count": 96,
      "outputs": [
        {
          "output_type": "stream",
          "text": [
            "0 1 2 3 4 "
          ],
          "name": "stdout"
        }
      ]
    },
    {
      "cell_type": "markdown",
      "metadata": {
        "id": "QEUKFtl3ziXq",
        "colab_type": "text"
      },
      "source": [
        "However, in compiler such as gcc, in which all of these codes are run such norms are not followed"
      ]
    },
    {
      "cell_type": "code",
      "metadata": {
        "id": "DPOspxY8zyCN",
        "colab_type": "code",
        "colab": {
          "base_uri": "https://localhost:8080/",
          "height": 35
        },
        "outputId": "f5510b8b-ef9e-449f-85f9-f06151acf358"
      },
      "source": [
        "%%writefile test.cpp\n",
        "#include <iostream>\n",
        "using namespace std;\n",
        "int main(){\n",
        "    \n",
        "    //Initially the size of the array has been set to 5\n",
        "    int a = 5;\n",
        "    int arr[a];\n",
        "    //However, it is possible to change value of the variable a\n",
        "    //in the middle of the code, which should lead to some \n",
        "    //unsavory problems. The first one is why should there be\n",
        "    //unnecessary spaces , if the value of a is less than the \n",
        "    //original. But more worrisome is when the value of a is \n",
        "    //more than the orignally allocated space. For example what\n",
        "    //if the value of a is 10 instead of 3.\n",
        "    a = 3;\n",
        "    for(int i = 0; i < a; ++i){\n",
        "        arr[i] = i;\n",
        "    }\n",
        "\n",
        "    for(int i = 0; i < a; ++i ){\n",
        "        cout << arr[i] << \" \";\n",
        "    }\n",
        "    cout<<endl;\n",
        "    a = 10;\n",
        "    for(int i = 0; i < a; ++i){\n",
        "        arr[i] = i;\n",
        "    }\n",
        "\n",
        "    for(int i = 0; i < a; ++i ){\n",
        "        cout << arr[i] << \" \";\n",
        "    }\n",
        "\n",
        "    return 0;\n",
        "}"
      ],
      "execution_count": 101,
      "outputs": [
        {
          "output_type": "stream",
          "text": [
            "Overwriting test.cpp\n"
          ],
          "name": "stdout"
        }
      ]
    },
    {
      "cell_type": "code",
      "metadata": {
        "id": "KYZgBjdczzfd",
        "colab_type": "code",
        "colab": {
          "base_uri": "https://localhost:8080/",
          "height": 52
        },
        "outputId": "bd650bbf-462e-4e85-fd46-e7b9e0115c5a"
      },
      "source": [
        "%%script bash\n",
        "g++ test.cpp -o test \n",
        "./test"
      ],
      "execution_count": 102,
      "outputs": [
        {
          "output_type": "stream",
          "text": [
            "0 1 2 \n",
            "0 1 2 3 4 5 6 7 8 9 "
          ],
          "name": "stdout"
        }
      ]
    },
    {
      "cell_type": "markdown",
      "metadata": {
        "id": "UJeOyM8o1nVB",
        "colab_type": "text"
      },
      "source": [
        "Observe the 2nd line of the output, it should not happen. The initial array was designed to hold only 5 integer values. So when the value of the variable a was changed to 10, how can the array accomodate the extra 5 integer. At those moments the compiler steps into memory of other data structures which it shouldn't have the permission to access. Therefore it can easily be said that the compiler for Visual Studio is the best way to go. It ensures that the array data structure only access values that it was originally assigned to . "
      ]
    },
    {
      "cell_type": "markdown",
      "metadata": {
        "id": "UDT32EV__LG6",
        "colab_type": "text"
      },
      "source": [
        "Somethings that want to use array for:\n",
        "\n",
        "\n",
        "1.   Average of numbers in an array\n",
        "2.   Frequency of numbers in an array\n",
        "3.   Adding two arrays together\n",
        "\n"
      ]
    },
    {
      "cell_type": "code",
      "metadata": {
        "id": "fMSmITql_3BD",
        "colab_type": "code",
        "colab": {}
      },
      "source": [
        ""
      ],
      "execution_count": 0,
      "outputs": []
    }
  ]
}