{
  "nbformat": 4,
  "nbformat_minor": 0,
  "metadata": {
    "colab": {
      "name": "CSE203Lecture1.ipynb",
      "provenance": [],
      "toc_visible": true,
      "include_colab_link": true
    },
    "kernelspec": {
      "name": "python3",
      "display_name": "Python 3"
    }
  },
  "cells": [
    {
      "cell_type": "markdown",
      "metadata": {
        "id": "view-in-github",
        "colab_type": "text"
      },
      "source": [
        "<a href=\"https://colab.research.google.com/github/mohammadmotiurrahman/cse203/blob/master/CSE203Lecture1.ipynb\" target=\"_parent\"><img src=\"https://colab.research.google.com/assets/colab-badge.svg\" alt=\"Open In Colab\"/></a>"
      ]
    },
    {
      "cell_type": "markdown",
      "metadata": {
        "id": "YGoUSIB4ESm_",
        "colab_type": "text"
      },
      "source": [
        "##                   Review of CSC 101 course taught at IUB .\n",
        "##In order to run the code , try the following key combination, Shift + Enter .\n",
        "---\n"
      ]
    },
    {
      "cell_type": "markdown",
      "metadata": {
        "id": "a8Ek3ghdYGxf",
        "colab_type": "text"
      },
      "source": [
        "## Basic Idea"
      ]
    },
    {
      "cell_type": "markdown",
      "metadata": {
        "id": "EJQl_gJNK6ig",
        "colab_type": "text"
      },
      "source": [
        "So let us begin with the Hello World of CSC 101."
      ]
    },
    {
      "cell_type": "code",
      "metadata": {
        "id": "k8tTFQsXDkiC",
        "colab_type": "code",
        "outputId": "9a5c866a-5e3f-496c-93aa-424dfaee54b0",
        "colab": {
          "base_uri": "https://localhost:8080/",
          "height": 35
        }
      },
      "source": [
        "%%writefile test.cpp\n",
        "\n",
        "//This is where you will write your C++ code\n",
        "#include <iostream>\n",
        "using namespace std;\n",
        "\n",
        "int main(){\n",
        "    int x = 6;\n",
        "    cout<<\"Hello World\"<<endl;\n",
        "    return 0;\n",
        "}"
      ],
      "execution_count": 1,
      "outputs": [
        {
          "output_type": "stream",
          "text": [
            "Writing test.cpp\n"
          ],
          "name": "stdout"
        }
      ]
    },
    {
      "cell_type": "code",
      "metadata": {
        "id": "6w2AoSydD_-e",
        "colab_type": "code",
        "outputId": "429c5ae9-cbb0-4123-f8cc-8b43d8fd6b3b",
        "colab": {
          "base_uri": "https://localhost:8080/",
          "height": 35
        }
      },
      "source": [
        "%%script bash\n",
        "g++ test.cpp -o test \n",
        "./test"
      ],
      "execution_count": 2,
      "outputs": [
        {
          "output_type": "stream",
          "text": [
            "Hello World\n"
          ],
          "name": "stdout"
        }
      ]
    },
    {
      "cell_type": "markdown",
      "metadata": {
        "id": "3lesbP2vFnEQ",
        "colab_type": "text"
      },
      "source": [
        "Let us move to something more interesting. Add two numbers."
      ]
    },
    {
      "cell_type": "code",
      "metadata": {
        "id": "UKYPa2dEFeJu",
        "colab_type": "code",
        "outputId": "cc19792e-d193-426c-9fb8-b257ae530343",
        "colab": {
          "base_uri": "https://localhost:8080/",
          "height": 35
        }
      },
      "source": [
        "%%writefile test.cpp\n",
        "\n",
        "//This is where you will write your C++ code\n",
        "#include <iostream>\n",
        "using namespace std;\n",
        "\n",
        "int main(){\n",
        "    int x = 6; int y = 5;\n",
        "    int z = x + y;\n",
        "    cout<<\"The summation is \"<<z<<endl;\n",
        "    return 0;\n",
        "}"
      ],
      "execution_count": 3,
      "outputs": [
        {
          "output_type": "stream",
          "text": [
            "Overwriting test.cpp\n"
          ],
          "name": "stdout"
        }
      ]
    },
    {
      "cell_type": "code",
      "metadata": {
        "id": "yqhr6q7SHAiP",
        "colab_type": "code",
        "outputId": "90c88c3d-ff44-4185-a6ee-1b9bb8a4dd13",
        "colab": {
          "base_uri": "https://localhost:8080/",
          "height": 35
        }
      },
      "source": [
        "%%script bash\n",
        "g++ test.cpp -o test \n",
        "./test"
      ],
      "execution_count": 4,
      "outputs": [
        {
          "output_type": "stream",
          "text": [
            "The summation is 11\n"
          ],
          "name": "stdout"
        }
      ]
    },
    {
      "cell_type": "markdown",
      "metadata": {
        "id": "ru736VuEHItD",
        "colab_type": "text"
      },
      "source": [
        "Try to write a for-loop"
      ]
    },
    {
      "cell_type": "code",
      "metadata": {
        "id": "sT3_IO6PHSA_",
        "colab_type": "code",
        "outputId": "7cadd3f3-d2d0-4f09-dbae-a826c97f4af7",
        "colab": {
          "base_uri": "https://localhost:8080/",
          "height": 35
        }
      },
      "source": [
        "%%writefile test.cpp\n",
        "\n",
        "//This is where you will write your C++ code\n",
        "#include <iostream>\n",
        "using namespace std;\n",
        "\n",
        "int main(){\n",
        "    for(int i = 0; i < 10; ++i){\n",
        "        cout << 2 * i << \" \";\n",
        "    }\n",
        "    return 0;\n",
        "}"
      ],
      "execution_count": 5,
      "outputs": [
        {
          "output_type": "stream",
          "text": [
            "Overwriting test.cpp\n"
          ],
          "name": "stdout"
        }
      ]
    },
    {
      "cell_type": "code",
      "metadata": {
        "id": "QPmWKpKQHiNw",
        "colab_type": "code",
        "outputId": "8720db67-3a31-45b4-bbc3-2912b6151902",
        "colab": {
          "base_uri": "https://localhost:8080/",
          "height": 35
        }
      },
      "source": [
        "%%script bash\n",
        "g++ test.cpp -o test \n",
        "./test"
      ],
      "execution_count": 6,
      "outputs": [
        {
          "output_type": "stream",
          "text": [
            "0 2 4 6 8 10 12 14 16 18 "
          ],
          "name": "stdout"
        }
      ]
    },
    {
      "cell_type": "markdown",
      "metadata": {
        "id": "eBoUasp2INDJ",
        "colab_type": "text"
      },
      "source": [
        "Write a while loop"
      ]
    },
    {
      "cell_type": "code",
      "metadata": {
        "id": "0gjdCUfGIP5J",
        "colab_type": "code",
        "outputId": "c65479f8-6e11-4696-c4a7-af3b108f6dd5",
        "colab": {
          "base_uri": "https://localhost:8080/",
          "height": 35
        }
      },
      "source": [
        "%%writefile test.cpp\n",
        "\n",
        "//This is where you will write your C++ code\n",
        "#include <iostream>\n",
        "using namespace std;\n",
        "\n",
        "int main(){\n",
        "    int i = 0;\n",
        "    while(i < 10){\n",
        "        cout << 2 * i << \" \";\n",
        "        i = i + 1;\n",
        "    }\n",
        "    return 0;\n",
        "}"
      ],
      "execution_count": 7,
      "outputs": [
        {
          "output_type": "stream",
          "text": [
            "Overwriting test.cpp\n"
          ],
          "name": "stdout"
        }
      ]
    },
    {
      "cell_type": "code",
      "metadata": {
        "id": "B45fXIkMIdgu",
        "colab_type": "code",
        "outputId": "156f7c87-9a60-4cb7-9c07-91a5739a2a26",
        "colab": {
          "base_uri": "https://localhost:8080/",
          "height": 35
        }
      },
      "source": [
        "%%script bash\n",
        "g++ test.cpp -o test \n",
        "./test"
      ],
      "execution_count": 8,
      "outputs": [
        {
          "output_type": "stream",
          "text": [
            "0 2 4 6 8 10 12 14 16 18 "
          ],
          "name": "stdout"
        }
      ]
    },
    {
      "cell_type": "markdown",
      "metadata": {
        "id": "vniJJkELI4Z8",
        "colab_type": "text"
      },
      "source": [
        "Find whether a number is prime or not"
      ]
    },
    {
      "cell_type": "code",
      "metadata": {
        "id": "JGiZr3b7I-YG",
        "colab_type": "code",
        "outputId": "94a41e7c-f968-4f7a-86d6-d9ba4bcf28d1",
        "colab": {
          "base_uri": "https://localhost:8080/",
          "height": 35
        }
      },
      "source": [
        "%%writefile test.cpp\n",
        "\n",
        "//This is where you will write your C++ code\n",
        "#include <iostream>\n",
        "using namespace std;\n",
        "\n",
        "int main(){\n",
        "    bool isPrime = true;\n",
        "    int num = 7;\n",
        "    for(int i = 2; i < num ; ++i){\n",
        "        if(num % i == 0){\n",
        "            isPrime = false;\n",
        "        }\n",
        "    }\n",
        "    if(isPrime == false){\n",
        "        cout<<num<<\" is not Prime\"<<endl;\n",
        "    }\n",
        "    else{\n",
        "        cout<<num<<\" is Prime\"<<endl;\n",
        "    }\n",
        "    \n",
        "    return 0;\n",
        "}"
      ],
      "execution_count": 9,
      "outputs": [
        {
          "output_type": "stream",
          "text": [
            "Overwriting test.cpp\n"
          ],
          "name": "stdout"
        }
      ]
    },
    {
      "cell_type": "code",
      "metadata": {
        "id": "m8UuismrJclT",
        "colab_type": "code",
        "outputId": "3066ec90-c8bd-469d-c83c-4db343e1382b",
        "colab": {
          "base_uri": "https://localhost:8080/",
          "height": 35
        }
      },
      "source": [
        "%%script bash\n",
        "g++ test.cpp -o test \n",
        "./test"
      ],
      "execution_count": 10,
      "outputs": [
        {
          "output_type": "stream",
          "text": [
            "7 is Prime\n"
          ],
          "name": "stdout"
        }
      ]
    },
    {
      "cell_type": "markdown",
      "metadata": {
        "id": "RC74eIxXYCGU",
        "colab_type": "text"
      },
      "source": [
        "## Functions"
      ]
    },
    {
      "cell_type": "markdown",
      "metadata": {
        "id": "SRI0Pd-hYg2w",
        "colab_type": "text"
      },
      "source": [
        "Functions are components of a program that helps to modularize a program.\n",
        "Here is a function to print a list of odd numbers."
      ]
    },
    {
      "cell_type": "code",
      "metadata": {
        "id": "5OQigsLKZJHV",
        "colab_type": "code",
        "outputId": "10a286b1-eb07-4b9d-aa63-2d229497aca3",
        "colab": {
          "base_uri": "https://localhost:8080/",
          "height": 0
        }
      },
      "source": [
        "%%writefile test.cpp\n",
        "\n",
        "//This is where you will write your C++ code\n",
        "#include <iostream>\n",
        "using namespace std;\n",
        "\n",
        "void printOddNumbers(int x){\n",
        "    for(int i = 0; i < x; ++i){\n",
        "        if( i % 2 ){\n",
        "            cout<< i << \" \";\n",
        "        }\n",
        "    }\n",
        "}\n",
        "int main(){\n",
        "    printOddNumbers(10);\n",
        "    return 0;\n",
        "}"
      ],
      "execution_count": 11,
      "outputs": [
        {
          "output_type": "stream",
          "text": [
            "Overwriting test.cpp\n"
          ],
          "name": "stdout"
        }
      ]
    },
    {
      "cell_type": "code",
      "metadata": {
        "id": "tP1_RRLkaRIE",
        "colab_type": "code",
        "outputId": "9bd25e99-1adf-4895-d783-cc9eb40cf552",
        "colab": {
          "base_uri": "https://localhost:8080/",
          "height": 0
        }
      },
      "source": [
        "%%script bash\n",
        "g++ test.cpp -o test \n",
        "./test"
      ],
      "execution_count": 12,
      "outputs": [
        {
          "output_type": "stream",
          "text": [
            "1 3 5 7 9 "
          ],
          "name": "stdout"
        }
      ]
    },
    {
      "cell_type": "markdown",
      "metadata": {
        "id": "2U5FHaBwatV3",
        "colab_type": "text"
      },
      "source": [
        "Here is an function to print a list of prime numbers from 0 to 100."
      ]
    },
    {
      "cell_type": "code",
      "metadata": {
        "id": "5_Ry4zH6ay08",
        "colab_type": "code",
        "outputId": "2601acb0-1042-43b7-9496-5117cf6fd3dd",
        "colab": {
          "base_uri": "https://localhost:8080/",
          "height": 0
        }
      },
      "source": [
        "%%writefile test.cpp\n",
        "\n",
        "//This is where you will write your C++ code\n",
        "#include <iostream>\n",
        "using namespace std;\n",
        "\n",
        "bool isPrimeNumber(int x){\n",
        "    bool isPrime = true;\n",
        "    for(int i = 2; i < x ; ++i){\n",
        "        if( x % i == 0){\n",
        "          isPrime = false;\n",
        "        }\n",
        "    }\n",
        "    return isPrime;\n",
        "}\n",
        "void printPrimeNumber(int x){\n",
        "    for( int i = 2 ; i < x ; ++i){\n",
        "        // If a number i is a prime number\n",
        "        if(isPrimeNumber(i) == true){\n",
        "            cout << i << \" \";\n",
        "        }\n",
        "    }\n",
        "}\n",
        "int main(){\n",
        "    printPrimeNumber(100);\n",
        "    return 0;\n",
        "}"
      ],
      "execution_count": 13,
      "outputs": [
        {
          "output_type": "stream",
          "text": [
            "Overwriting test.cpp\n"
          ],
          "name": "stdout"
        }
      ]
    },
    {
      "cell_type": "code",
      "metadata": {
        "id": "5ytsO2oHaTn-",
        "colab_type": "code",
        "outputId": "92951b65-fc81-4e67-97c6-081b75aa3490",
        "colab": {
          "base_uri": "https://localhost:8080/",
          "height": 0
        }
      },
      "source": [
        "%%script bash\n",
        "g++ test.cpp -o test \n",
        "./test"
      ],
      "execution_count": 14,
      "outputs": [
        {
          "output_type": "stream",
          "text": [
            "2 3 5 7 11 13 17 19 23 29 31 37 41 43 47 53 59 61 67 71 73 79 83 89 97 "
          ],
          "name": "stdout"
        }
      ]
    },
    {
      "cell_type": "markdown",
      "metadata": {
        "id": "umZs5HrBflur",
        "colab_type": "text"
      },
      "source": [
        "Here is an another function to find LCM and HCF of given numbers"
      ]
    },
    {
      "cell_type": "code",
      "metadata": {
        "id": "Rq1F1XJgf87Z",
        "colab_type": "code",
        "outputId": "dd180e68-3136-4ad7-daf0-695f776ef497",
        "colab": {
          "base_uri": "https://localhost:8080/",
          "height": 0
        }
      },
      "source": [
        "%%writefile test.cpp\n",
        "\n",
        "//This is where you will write your C++ code\n",
        "#include <iostream>\n",
        "using namespace std;\n",
        "\n",
        "int lcm(int a, int b){\n",
        "    int x = 2;\n",
        "    while(!((x % a  == 0) && (x % b == 0))){\n",
        "        x = x + 1;\n",
        "    }\n",
        "    return x;\n",
        "}\n",
        "int hcf(int a, int b){\n",
        "    return (a*b)/ lcm(a,b);\n",
        "}\n",
        "int main(){\n",
        "    int a = 12; int b = 30;\n",
        "    cout << \"LCM of \" << a << \" \" << b << \" is \"  << lcm(a,b) << endl;\n",
        "    cout << \"HCF of \" << a << \" \" << b << \" is \" << hcf(a,b) << endl;\n",
        "    \n",
        "    return 0;\n",
        "}"
      ],
      "execution_count": 15,
      "outputs": [
        {
          "output_type": "stream",
          "text": [
            "Overwriting test.cpp\n"
          ],
          "name": "stdout"
        }
      ]
    },
    {
      "cell_type": "code",
      "metadata": {
        "id": "uETSzaZTg5cU",
        "colab_type": "code",
        "outputId": "d61b53ee-da5c-47e8-d5c2-536b3f651dc6",
        "colab": {
          "base_uri": "https://localhost:8080/",
          "height": 0
        }
      },
      "source": [
        "%%script bash\n",
        "g++ test.cpp -o test \n",
        "./test"
      ],
      "execution_count": 16,
      "outputs": [
        {
          "output_type": "stream",
          "text": [
            "LCM of 12 30 is 60\n",
            "HCF of 12 30 is 6\n"
          ],
          "name": "stdout"
        }
      ]
    },
    {
      "cell_type": "markdown",
      "metadata": {
        "id": "AUF2bOKFor-a",
        "colab_type": "text"
      },
      "source": [
        "## Array"
      ]
    },
    {
      "cell_type": "markdown",
      "metadata": {
        "id": "T9PVHUAypaWu",
        "colab_type": "text"
      },
      "source": [
        "Array is a collection of similar types of data"
      ]
    },
    {
      "cell_type": "code",
      "metadata": {
        "id": "s9MDkrcxpesz",
        "colab_type": "code",
        "outputId": "28b99660-ae11-415a-f7ac-06e317cec7a8",
        "colab": {
          "base_uri": "https://localhost:8080/",
          "height": 0
        }
      },
      "source": [
        "%%writefile test.cpp\n",
        "\n",
        "//This is where you will write your C++ code\n",
        "#include <iostream>\n",
        "using namespace std;\n",
        "int main(){\n",
        "    int arr[10];\n",
        "    for(int i =0; i<10; ++i){\n",
        "        arr[i] = i;\n",
        "    }\n",
        "    for(int i=0; i<10; ++i){\n",
        "        cout<<arr[i]<<\" \";\n",
        "    }\n",
        "    return 0;\n",
        "}"
      ],
      "execution_count": 17,
      "outputs": [
        {
          "output_type": "stream",
          "text": [
            "Overwriting test.cpp\n"
          ],
          "name": "stdout"
        }
      ]
    },
    {
      "cell_type": "code",
      "metadata": {
        "id": "LKm0lDRJq6Zd",
        "colab_type": "code",
        "outputId": "634d65a5-654e-4e63-a514-b0fce8851560",
        "colab": {
          "base_uri": "https://localhost:8080/",
          "height": 0
        }
      },
      "source": [
        "%%script bash\n",
        "g++ test.cpp -o test \n",
        "./test"
      ],
      "execution_count": 18,
      "outputs": [
        {
          "output_type": "stream",
          "text": [
            "0 1 2 3 4 5 6 7 8 9 "
          ],
          "name": "stdout"
        }
      ]
    },
    {
      "cell_type": "markdown",
      "metadata": {
        "id": "oxIY_TCuvSKp",
        "colab_type": "text"
      },
      "source": [
        "Something about ```const```\n",
        "\n"
      ]
    },
    {
      "cell_type": "code",
      "metadata": {
        "id": "6kZSfpfRvcH8",
        "colab_type": "code",
        "outputId": "501e814a-d777-411b-af24-4f0facf186f7",
        "colab": {
          "base_uri": "https://localhost:8080/",
          "height": 0
        }
      },
      "source": [
        "%%writefile test.cpp\n",
        "#include <iostream>\n",
        "using namespace std;\n",
        "int main(){\n",
        "    //It is possible to change value of the variable a\n",
        "    int a = 30;\n",
        "    a = 10;\n",
        "\n",
        "    //It is not possible to change value of the variable a\n",
        "    //if  the variable is change to const\n",
        "    const int a = 10;\n",
        "    a = 13;\n",
        "    \n",
        "    return 0;\n",
        "}"
      ],
      "execution_count": 19,
      "outputs": [
        {
          "output_type": "stream",
          "text": [
            "Overwriting test.cpp\n"
          ],
          "name": "stdout"
        }
      ]
    },
    {
      "cell_type": "code",
      "metadata": {
        "id": "PsJjMV0ivk_N",
        "colab_type": "code",
        "outputId": "e8d28a66-1624-4467-f074-9f962c9d897f",
        "colab": {
          "base_uri": "https://localhost:8080/",
          "height": 0
        }
      },
      "source": [
        "%%script bash\n",
        "g++ test.cpp -o test \n",
        "./test"
      ],
      "execution_count": 20,
      "outputs": [
        {
          "output_type": "stream",
          "text": [
            "0 1 2 3 4 5 6 7 8 9 "
          ],
          "name": "stdout"
        },
        {
          "output_type": "stream",
          "text": [
            "test.cpp: In function ‘int main()’:\n",
            "test.cpp:10:15: error: conflicting declaration ‘const int a’\n",
            "     const int a = 10;\n",
            "               ^\n",
            "test.cpp:5:9: note: previous declaration as ‘int a’\n",
            "     int a = 30;\n",
            "         ^\n"
          ],
          "name": "stderr"
        }
      ]
    },
    {
      "cell_type": "markdown",
      "metadata": {
        "id": "-ukY5230xskY",
        "colab_type": "text"
      },
      "source": [
        "While declaring an array in Visual Studio, the following norm is followed."
      ]
    },
    {
      "cell_type": "code",
      "metadata": {
        "id": "FavsoxACy2Fu",
        "colab_type": "code",
        "outputId": "a3f082c4-9423-4abc-aca1-6dbec934a992",
        "colab": {
          "base_uri": "https://localhost:8080/",
          "height": 0
        }
      },
      "source": [
        "%%writefile test.cpp\n",
        "#include <iostream>\n",
        "using namespace std;\n",
        "int main(){\n",
        "    \n",
        "    const int a = 5;\n",
        "    int arr[a];\n",
        "    \n",
        "    for(int i = 0; i < a; ++i){\n",
        "        arr[i] = i;\n",
        "    }\n",
        "\n",
        "    for(int i = 0; i < a; ++i ){\n",
        "        cout << arr[i] << \" \";\n",
        "    }\n",
        "\n",
        "    return 0;\n",
        "}"
      ],
      "execution_count": 21,
      "outputs": [
        {
          "output_type": "stream",
          "text": [
            "Overwriting test.cpp\n"
          ],
          "name": "stdout"
        }
      ]
    },
    {
      "cell_type": "code",
      "metadata": {
        "id": "HaZ32sMQzR5k",
        "colab_type": "code",
        "outputId": "044d4d14-77e7-4b11-ecf7-95baf23a9166",
        "colab": {
          "base_uri": "https://localhost:8080/",
          "height": 0
        }
      },
      "source": [
        "%%script bash\n",
        "g++ test.cpp -o test \n",
        "./test"
      ],
      "execution_count": 22,
      "outputs": [
        {
          "output_type": "stream",
          "text": [
            "0 1 2 3 4 "
          ],
          "name": "stdout"
        }
      ]
    },
    {
      "cell_type": "markdown",
      "metadata": {
        "id": "QEUKFtl3ziXq",
        "colab_type": "text"
      },
      "source": [
        "However, in compiler such as gcc, in which all of these codes are run such norms are not followed"
      ]
    },
    {
      "cell_type": "code",
      "metadata": {
        "id": "DPOspxY8zyCN",
        "colab_type": "code",
        "outputId": "8b30ca47-039c-4519-aed6-23e45d8c6831",
        "colab": {
          "base_uri": "https://localhost:8080/",
          "height": 0
        }
      },
      "source": [
        "%%writefile test.cpp\n",
        "#include <iostream>\n",
        "using namespace std;\n",
        "int main(){\n",
        "    \n",
        "    //Initially the size of the array has been set to 5\n",
        "    int a = 5;\n",
        "    int arr[a];\n",
        "    //However, it is possible to change value of the variable a\n",
        "    //in the middle of the code, which should lead to some \n",
        "    //unsavory problems. The first one is why should there be\n",
        "    //unnecessary spaces , if the value of a is less than the \n",
        "    //original. But more worrisome is when the value of a is \n",
        "    //more than the orignally allocated space. For example what\n",
        "    //if the value of a is 10 instead of 3.\n",
        "    a = 3;\n",
        "    for(int i = 0; i < a; ++i){\n",
        "        arr[i] = i;\n",
        "    }\n",
        "\n",
        "    for(int i = 0; i < a; ++i ){\n",
        "        cout << arr[i] << \" \";\n",
        "    }\n",
        "    cout<<endl;\n",
        "    a = 10;\n",
        "    for(int i = 0; i < a; ++i){\n",
        "        arr[i] = i;\n",
        "    }\n",
        "\n",
        "    for(int i = 0; i < a; ++i ){\n",
        "        cout << arr[i] << \" \";\n",
        "    }\n",
        "\n",
        "    return 0;\n",
        "}"
      ],
      "execution_count": 23,
      "outputs": [
        {
          "output_type": "stream",
          "text": [
            "Overwriting test.cpp\n"
          ],
          "name": "stdout"
        }
      ]
    },
    {
      "cell_type": "code",
      "metadata": {
        "id": "KYZgBjdczzfd",
        "colab_type": "code",
        "outputId": "733db6c6-493f-43b2-db96-c2143db2f7fe",
        "colab": {
          "base_uri": "https://localhost:8080/",
          "height": 0
        }
      },
      "source": [
        "%%script bash\n",
        "g++ test.cpp -o test \n",
        "./test"
      ],
      "execution_count": 24,
      "outputs": [
        {
          "output_type": "stream",
          "text": [
            "0 1 2 \n",
            "0 1 2 3 4 5 6 7 8 9 "
          ],
          "name": "stdout"
        }
      ]
    },
    {
      "cell_type": "markdown",
      "metadata": {
        "id": "UJeOyM8o1nVB",
        "colab_type": "text"
      },
      "source": [
        "Observe the 2nd line of the output, it should not happen. The initial array was designed to hold only 5 integer values. So when the value of the variable a was changed to 10, how can the array accomodate the extra 5 integer. At those moments the compiler steps into memory of other data structures which it shouldn't have the permission to access. Therefore it can easily be said that the compiler for Visual Studio is the best way to go. It ensures that the array data structure only access values that it was originally assigned to . "
      ]
    },
    {
      "cell_type": "markdown",
      "metadata": {
        "id": "UDT32EV__LG6",
        "colab_type": "text"
      },
      "source": [
        "Somethings that want to use array for:\n",
        "1.   Average of numbers in an array"
      ]
    },
    {
      "cell_type": "code",
      "metadata": {
        "id": "fMSmITql_3BD",
        "colab_type": "code",
        "outputId": "034b737b-1221-402c-816b-691914ac7d1b",
        "colab": {
          "base_uri": "https://localhost:8080/",
          "height": 0
        }
      },
      "source": [
        "%%writefile test.cpp\n",
        "//Finding average of numbers in an array\n",
        "#include <iostream>\n",
        "using namespace std;\n",
        "int main(){\n",
        "    \n",
        "    //The size of the array has been set to 5\n",
        "    const int a = 5;\n",
        "    int arr[a] = {1,2,4,5,3};\n",
        "    float avg = 0;\n",
        "    for(int i = 0; i < a; ++i ){\n",
        "        avg += arr[i];\n",
        "    }\n",
        "    cout<<\"The average of the values: \"<<avg/a<<endl;\n",
        "    return 0;\n",
        "}"
      ],
      "execution_count": 25,
      "outputs": [
        {
          "output_type": "stream",
          "text": [
            "Overwriting test.cpp\n"
          ],
          "name": "stdout"
        }
      ]
    },
    {
      "cell_type": "code",
      "metadata": {
        "id": "Xi5aOGhyPs6E",
        "colab_type": "code",
        "outputId": "ebc6a345-7d01-4be5-c141-0bbe6abc6c11",
        "colab": {
          "base_uri": "https://localhost:8080/",
          "height": 0
        }
      },
      "source": [
        "%%script bash\n",
        "g++ test.cpp -o test \n",
        "./test"
      ],
      "execution_count": 26,
      "outputs": [
        {
          "output_type": "stream",
          "text": [
            "The average of the values: 3\n"
          ],
          "name": "stdout"
        }
      ]
    },
    {
      "cell_type": "markdown",
      "metadata": {
        "id": "5uvZWmurQhPn",
        "colab_type": "text"
      },
      "source": [
        "2.    Adding the value of two array's into a third array."
      ]
    },
    {
      "cell_type": "code",
      "metadata": {
        "id": "UWL9ir5DSTbS",
        "colab_type": "code",
        "outputId": "657e4299-81f7-4c36-e78f-641bc54a536c",
        "colab": {
          "base_uri": "https://localhost:8080/",
          "height": 0
        }
      },
      "source": [
        "%%writefile test.cpp\n",
        "//Adding the values of two array's and \n",
        "//storing it in a third array\n",
        "#include <iostream>\n",
        "using namespace std;\n",
        "int main(){\n",
        "    \n",
        "    //The size of the array has been set to 5\n",
        "    const int a = 5;\n",
        "    int firstArray[a] = {1,2,4,5,3};\n",
        "    \n",
        "    const int b = 5;\n",
        "    int secondArray[b] = {4,5,5,6,7};\n",
        "\n",
        "    const int c = 5;\n",
        "    int thirdArray[c] = {0,0,0,0,0};\n",
        "\n",
        "    for(int i = 0; i < a; ++i){\n",
        "        thirdArray[i] = firstArray[i] + secondArray[i];\n",
        "    }\n",
        "\n",
        "    for(int i = 0; i < a; ++i){\n",
        "        cout<<thirdArray[i]<<\" \";\n",
        "    }\n",
        "    return 0;\n",
        "}"
      ],
      "execution_count": 27,
      "outputs": [
        {
          "output_type": "stream",
          "text": [
            "Overwriting test.cpp\n"
          ],
          "name": "stdout"
        }
      ]
    },
    {
      "cell_type": "code",
      "metadata": {
        "id": "yVhLK8exWrkn",
        "colab_type": "code",
        "outputId": "b2a3c310-0eb4-41db-ab17-e1d6ede46d25",
        "colab": {
          "base_uri": "https://localhost:8080/",
          "height": 0
        }
      },
      "source": [
        "%%script bash\n",
        "g++ test.cpp -o test \n",
        "./test"
      ],
      "execution_count": 28,
      "outputs": [
        {
          "output_type": "stream",
          "text": [
            "5 7 9 11 10 "
          ],
          "name": "stdout"
        }
      ]
    },
    {
      "cell_type": "markdown",
      "metadata": {
        "id": "_7h5MjpYW5_m",
        "colab_type": "text"
      },
      "source": [
        "3.  Finding the freqeuncy of an element in an array"
      ]
    },
    {
      "cell_type": "code",
      "metadata": {
        "id": "8fPA13yXZvWZ",
        "colab_type": "code",
        "outputId": "15d5b41c-2468-461a-c337-d831423d3772",
        "colab": {
          "base_uri": "https://localhost:8080/",
          "height": 0
        }
      },
      "source": [
        "%%writefile test.cpp\n",
        "//Finding the freqeuncy of a number\n",
        "//in an array\n",
        "#include <iostream>\n",
        "using namespace std;\n",
        "int main(){\n",
        "    \n",
        "    //The size of the array has been set to 5\n",
        "    const int a = 5;int counter = 0;\n",
        "    int firstArray[a] = {1,3,3,5,3};\n",
        "    for(int i = 0; i < a; ++i){\n",
        "        //Count the number of 3 in an array\n",
        "        if(firstArray[i] == 3){\n",
        "            counter = counter + 1;\n",
        "        }\n",
        "    }\n",
        "    cout<<\"The number of 3 in the array is: \"<<counter<<endl;\n",
        "    return 0;\n",
        "}"
      ],
      "execution_count": 29,
      "outputs": [
        {
          "output_type": "stream",
          "text": [
            "Overwriting test.cpp\n"
          ],
          "name": "stdout"
        }
      ]
    },
    {
      "cell_type": "code",
      "metadata": {
        "id": "8PaxlEgVba5m",
        "colab_type": "code",
        "outputId": "15d11b83-0adb-405e-bb05-577311d70493",
        "colab": {
          "base_uri": "https://localhost:8080/",
          "height": 0
        }
      },
      "source": [
        "%%script bash\n",
        "g++ test.cpp -o test \n",
        "./test"
      ],
      "execution_count": 30,
      "outputs": [
        {
          "output_type": "stream",
          "text": [
            "The number of 3 in the array is: 3\n"
          ],
          "name": "stdout"
        }
      ]
    },
    {
      "cell_type": "markdown",
      "metadata": {
        "id": "Cpj8bRvOboMM",
        "colab_type": "text"
      },
      "source": [
        "## Two dimensional array\n",
        "So two dimensional array is another way to represent a lot of one dimensional arrays together. For example, if a student 4 subjects in the first semester, the final marks it can be represented in an array which contains 4 integers. If he takes another 4 subjects in the second semester his final marks can be represented in another array. What if we want to represent all the marks in the first semester and the second semester in an array. We should use two dimensional array.\n",
        "Two dimensional array is represented as : `int arr[row][col]`. The `row` is the number of semesters that the student has attended which is `2`. The `col` is the number of subjects that the student took in the semester which is `4`. \n",
        "While writing the code in Visual Studio, it is written like this:\n",
        "```\n",
        "const int row = 2;\n",
        "const int col = 4;\n",
        "int arr[row][col];\n",
        "```"
      ]
    },
    {
      "cell_type": "code",
      "metadata": {
        "id": "hGQBfsN1buys",
        "colab_type": "code",
        "outputId": "37889279-6422-4794-eb91-5386798dc9ad",
        "colab": {
          "base_uri": "https://localhost:8080/",
          "height": 0
        }
      },
      "source": [
        "%%writefile test.cpp\n",
        "//Two dimensional array\n",
        "#include <iostream>\n",
        "using namespace std;\n",
        "int main(){\n",
        "    const int row = 2; const int col = 4;\n",
        "    int marks[row][col] = {\n",
        "                        //Marks for 1st semester\n",
        "                        {95,80,91,100},\n",
        "                        //Marks for 2nd semester\n",
        "                        {100,93,90,80}\n",
        "                      };\n",
        "    for(int i = 0; i < row; ++i){\n",
        "        cout<<\"Semester number: \"<<i+1<<endl;\n",
        "        cout<<\"Final marks: \";\n",
        "        for(int j = 0; j < col; ++j){\n",
        "            cout<<marks[i][j]<<\" \";\n",
        "        }\n",
        "        cout<<endl;\n",
        "    }\n",
        "\n",
        "    return 0;\n",
        "}"
      ],
      "execution_count": 31,
      "outputs": [
        {
          "output_type": "stream",
          "text": [
            "Overwriting test.cpp\n"
          ],
          "name": "stdout"
        }
      ]
    },
    {
      "cell_type": "code",
      "metadata": {
        "id": "AmJFGWbjxk_D",
        "colab_type": "code",
        "outputId": "79732e1e-8885-4165-a354-5231f295d653",
        "colab": {
          "base_uri": "https://localhost:8080/",
          "height": 0
        }
      },
      "source": [
        "%%script bash\n",
        "g++ test.cpp -o test \n",
        "./test"
      ],
      "execution_count": 32,
      "outputs": [
        {
          "output_type": "stream",
          "text": [
            "Semester number: 1\n",
            "Final marks: 95 80 91 100 \n",
            "Semester number: 2\n",
            "Final marks: 100 93 90 80 \n"
          ],
          "name": "stdout"
        }
      ]
    },
    {
      "cell_type": "markdown",
      "metadata": {
        "id": "jkKZoVSFhJsj",
        "colab_type": "text"
      },
      "source": [
        "### Matrix addition using two dimensional array \n",
        "So, a matrix can be a vector of dimension n x 1 or it can be a structure of dimension m x n. If it a vector of dimension n x 1 , it can be considered as an one dimensional array. Addition and subtraction of a vector will follow the same rules as addition and subtraction of a one dimensional array.\n",
        "Here I will show how addition and subtraction is done using two dimensional array. "
      ]
    },
    {
      "cell_type": "code",
      "metadata": {
        "id": "GESwK5c9xopm",
        "colab_type": "code",
        "outputId": "85db4a6a-016e-482d-8ffa-87df0f1ac5a5",
        "colab": {
          "base_uri": "https://localhost:8080/",
          "height": 0
        }
      },
      "source": [
        "%%writefile test.cpp\n",
        "//Two dimensional array\n",
        "#include <iostream>\n",
        "using namespace std;\n",
        "int main(){\n",
        "    const int row = 2; const int col = 4;\n",
        "    int marks[row][col] = {\n",
        "                            {95,80,91,100},\n",
        "                            {100,93,90,80}\n",
        "                          };\n",
        "    int extraAssignmentMarks[row][col] = {\n",
        "                                {10, 5, 12, 8},\n",
        "                                {0, 0, 0, 0}\n",
        "                               };\n",
        "    int finalMarks[row][col];\n",
        "\n",
        "    //Add the marks\n",
        "    for(int i = 0; i < row; ++i){\n",
        "        for(int j = 0; j < col; ++j){\n",
        "          finalMarks[i][j] = marks[i][j] + extraAssignmentMarks[i][j];   \n",
        "        }\n",
        "    }\n",
        "\n",
        "    //Display the marks\n",
        "    for(int i = 0; i < row; ++i){\n",
        "        cout<<\"Semester number: \"<<i+1<<endl;\n",
        "        cout<<\"Final grades: \";\n",
        "        for(int j = 0; j < col; ++j){\n",
        "          cout<<finalMarks[i][j]<<\" \";\n",
        "        }cout<<endl;\n",
        "    }\n",
        "    return 0;\n",
        "}"
      ],
      "execution_count": 33,
      "outputs": [
        {
          "output_type": "stream",
          "text": [
            "Overwriting test.cpp\n"
          ],
          "name": "stdout"
        }
      ]
    },
    {
      "cell_type": "code",
      "metadata": {
        "id": "CVytnTqWt823",
        "colab_type": "code",
        "outputId": "f52d3c18-c916-4e36-ffde-fdf4d2fd69f2",
        "colab": {
          "base_uri": "https://localhost:8080/",
          "height": 0
        }
      },
      "source": [
        "%%script bash\n",
        "g++ test.cpp -o test \n",
        "./test"
      ],
      "execution_count": 34,
      "outputs": [
        {
          "output_type": "stream",
          "text": [
            "Semester number: 1\n",
            "Final grades: 105 85 103 108 \n",
            "Semester number: 2\n",
            "Final grades: 100 93 90 80 \n"
          ],
          "name": "stdout"
        }
      ]
    },
    {
      "cell_type": "markdown",
      "metadata": {
        "id": "AFnerxI50D9b",
        "colab_type": "text"
      },
      "source": [
        "### Matrix multiplication using two dimensional array\n",
        "1.   Matrix multiplication of matrices with the following dimensions m x m  and m x m "
      ]
    },
    {
      "cell_type": "code",
      "metadata": {
        "id": "U6vZxaFRlxYX",
        "colab_type": "code",
        "outputId": "57c91ca4-df70-4e3a-d451-d0d2a8e278cd",
        "colab": {
          "base_uri": "https://localhost:8080/",
          "height": 0
        }
      },
      "source": [
        "%%writefile test.cpp\n",
        "//Two dimensional array\n",
        "#include <iostream>\n",
        "using namespace std;\n",
        "int main(){\n",
        "    const int row = 3; const int col = 3;\n",
        "    int arrA[row][col] = {\n",
        "                          {10,10,10},\n",
        "                          {20,20,20},\n",
        "                          {30,30,30}\n",
        "                          };\n",
        "    int arrB[row][col] = {\n",
        "                          {10, 20, 30}, \n",
        "                          {10, 20, 30},\n",
        "                          {10, 20, 30}                          \n",
        "                         };\n",
        "    //This is where the multiplied value\n",
        "    //of the array will be kept\n",
        "    int arrC[row][col] = {\n",
        "                          {0, 0, 0},\n",
        "                          {0, 0, 0},\n",
        "                          {0, 0, 0}\n",
        "                         };\n",
        "\n",
        "    //Multiply the matrix\n",
        "    for(int i = 0; i < row; ++i){\n",
        "        for(int j = 0; j < row; ++j){\n",
        "            \n",
        "            //Value of each row being multiplied\n",
        "            //by each column is being added\n",
        "            int val = 0;\n",
        "            for(int k = 0; k < row; ++k){\n",
        "              val += arrA[i][k] * arrB[k][j];\n",
        "            }\n",
        "\n",
        "            //It is then stored in the proper\n",
        "            //index in arrC\n",
        "            arrC[i][j] = val;\n",
        "        }\n",
        "    }\n",
        "\n",
        "    //Display the marks\n",
        "    for(int i = 0; i < row; ++i){\n",
        "        cout<<\"Row \"<<i<<\" : \";\n",
        "        for(int j = 0; j < col; ++j){\n",
        "          cout<<arrC[i][j]<<\" \";\n",
        "        }cout<<endl;\n",
        "    }\n",
        "    return 0;\n",
        "}"
      ],
      "execution_count": 35,
      "outputs": [
        {
          "output_type": "stream",
          "text": [
            "Overwriting test.cpp\n"
          ],
          "name": "stdout"
        }
      ]
    },
    {
      "cell_type": "code",
      "metadata": {
        "id": "FUl26LWYl05K",
        "colab_type": "code",
        "outputId": "64d45b82-5611-4595-bc9e-a1e1ab2fb666",
        "colab": {
          "base_uri": "https://localhost:8080/",
          "height": 0
        }
      },
      "source": [
        "%%script bash\n",
        "g++ test.cpp -o test \n",
        "./test"
      ],
      "execution_count": 36,
      "outputs": [
        {
          "output_type": "stream",
          "text": [
            "Row 0 : 300 600 900 \n",
            "Row 1 : 600 1200 1800 \n",
            "Row 2 : 900 1800 2700 \n"
          ],
          "name": "stdout"
        }
      ]
    },
    {
      "cell_type": "markdown",
      "metadata": {
        "id": "b5Fksilzl32X",
        "colab_type": "text"
      },
      "source": [
        "2.  A more generic matrix multiplication is possible using when matrix has dimensions of the following size , m x a and a x n ."
      ]
    },
    {
      "cell_type": "code",
      "metadata": {
        "id": "utkEjYtN2oI1",
        "colab_type": "code",
        "outputId": "2e6b02b6-d8b6-4fe9-ff31-47561097f0e4",
        "colab": {
          "base_uri": "https://localhost:8080/",
          "height": 0
        }
      },
      "source": [
        "%%writefile test.cpp\n",
        "//Two dimensional array\n",
        "#include <iostream>\n",
        "using namespace std;\n",
        "int main(){\n",
        "    const int row1 = 2; const int col1 = 4;\n",
        "    int arrA[row1][col1] = {\n",
        "                          {10,10,10,10},\n",
        "                          {20,20,20,20}\n",
        "                          };\n",
        "    const int row2 = 4; const int col2 = 2; \n",
        "    int arrB[row2][col2] = {\n",
        "                          {10, 20}, \n",
        "                          {10, 20},\n",
        "                          {10, 20},\n",
        "                          {10, 20}\n",
        "                         };\n",
        "    //This is where the multiplied value\n",
        "    //of the array will be kept\n",
        "    int arrC[row1][col2] = {\n",
        "                          {0,0},\n",
        "                          {0,0}\n",
        "                         };\n",
        "\n",
        "    //Multiply the matrix\n",
        "    for(int i = 0; i < row1; ++i){\n",
        "        for(int j = 0; j < col2; ++j){\n",
        "            \n",
        "            //Value of each row being multiplied\n",
        "            //by each column is being added\n",
        "            int val = 0;\n",
        "            for(int k = 0; k < col1; ++k){\n",
        "              val += arrA[i][k] * arrB[k][j];\n",
        "            }\n",
        "\n",
        "            //It is then stored in the proper\n",
        "            //index in arrC\n",
        "            arrC[i][j] = val;\n",
        "        }\n",
        "    }\n",
        "\n",
        "    //Display the marks\n",
        "    for(int i = 0; i < row1; ++i){\n",
        "        cout<<\"Row \"<<i<<\" : \";\n",
        "        for(int j = 0; j < col2; ++j){\n",
        "          cout<<arrC[i][j]<<\" \";\n",
        "        }cout<<endl;\n",
        "    }\n",
        "    return 0;\n",
        "}"
      ],
      "execution_count": 37,
      "outputs": [
        {
          "output_type": "stream",
          "text": [
            "Overwriting test.cpp\n"
          ],
          "name": "stdout"
        }
      ]
    },
    {
      "cell_type": "code",
      "metadata": {
        "id": "z4UGCNPF2prA",
        "colab_type": "code",
        "outputId": "99efdcc0-f02c-4c23-90e0-14fa65f58119",
        "colab": {
          "base_uri": "https://localhost:8080/",
          "height": 0
        }
      },
      "source": [
        "%%script bash\n",
        "g++ test.cpp -o test \n",
        "./test"
      ],
      "execution_count": 38,
      "outputs": [
        {
          "output_type": "stream",
          "text": [
            "Row 0 : 400 800 \n",
            "Row 1 : 800 1600 \n"
          ],
          "name": "stdout"
        }
      ]
    },
    {
      "cell_type": "markdown",
      "metadata": {
        "id": "jHvA5x_pqkW9",
        "colab_type": "text"
      },
      "source": [
        "# Function with 1 dimensional array\n",
        "Functions as shown above is useful in the functions section were only used to modularize program with basic data types. Here functions will be used alongside with arrays to show data transfer with a program. Example is given below:\n",
        "\n",
        "*     Printing an array"
      ]
    },
    {
      "cell_type": "code",
      "metadata": {
        "id": "cQZBsZiWD4I6",
        "colab_type": "code",
        "outputId": "3447c75f-2f5d-4d6d-c9b7-18c3f16a102f",
        "colab": {
          "base_uri": "https://localhost:8080/",
          "height": 35
        }
      },
      "source": [
        "%%writefile test.cpp\n",
        "//One dimensional array\n",
        "#include <iostream>\n",
        "using namespace std;\n",
        "void printArray(int arr[], int size){\n",
        "    cout<<\"The array is: \";\n",
        "    for(int i = 0; i < size; ++i){\n",
        "        cout << arr[i] << \" \";\n",
        "    }\n",
        "}\n",
        "int main(){\n",
        "    const int N = 5;\n",
        "    int arr[N] = {1,2,3,4,5};\n",
        "    printArray(arr, N);\n",
        "    return 0;\n",
        "}"
      ],
      "execution_count": 39,
      "outputs": [
        {
          "output_type": "stream",
          "text": [
            "Overwriting test.cpp\n"
          ],
          "name": "stdout"
        }
      ]
    },
    {
      "cell_type": "code",
      "metadata": {
        "id": "Ckqk4PkMEGZS",
        "colab_type": "code",
        "outputId": "0b3352f2-b6e5-4b73-9fd4-f19157441655",
        "colab": {
          "base_uri": "https://localhost:8080/",
          "height": 35
        }
      },
      "source": [
        "%%script bash\n",
        "g++ test.cpp -o test \n",
        "./test"
      ],
      "execution_count": 40,
      "outputs": [
        {
          "output_type": "stream",
          "text": [
            "The array is: 1 2 3 4 5 "
          ],
          "name": "stdout"
        }
      ]
    },
    {
      "cell_type": "markdown",
      "metadata": {
        "id": "zNgPlju-J7MJ",
        "colab_type": "text"
      },
      "source": [
        "*   Print an array that contains odd numbers."
      ]
    },
    {
      "cell_type": "code",
      "metadata": {
        "id": "Zpl3d07-J0a3",
        "colab_type": "code",
        "outputId": "e96d5208-e740-4440-fffc-119166d4e639",
        "colab": {
          "base_uri": "https://localhost:8080/",
          "height": 35
        }
      },
      "source": [
        "%%writefile test.cpp\n",
        "//One dimensional array\n",
        "#include <iostream>\n",
        "using namespace std;\n",
        "void printOddNumArr(int arr[], int size){\n",
        "    cout<<\"The odd numbers are: \";\n",
        "    for(int i = 0; i < size; ++i){\n",
        "        if(arr[i] % 2 == 1){\n",
        "          cout << arr[i] << \" \";\n",
        "        }\n",
        "    }\n",
        "}\n",
        "int main(){\n",
        "    const int N = 5;\n",
        "    int arr[N] = {1,2,3,4,5};\n",
        "    printOddNumArr(arr, N);\n",
        "    return 0;\n",
        "}"
      ],
      "execution_count": 41,
      "outputs": [
        {
          "output_type": "stream",
          "text": [
            "Overwriting test.cpp\n"
          ],
          "name": "stdout"
        }
      ]
    },
    {
      "cell_type": "code",
      "metadata": {
        "id": "w44766cDKGbg",
        "colab_type": "code",
        "outputId": "466c9ad1-9e5d-4e35-bb16-f627f3be9e95",
        "colab": {
          "base_uri": "https://localhost:8080/",
          "height": 35
        }
      },
      "source": [
        "%%script bash\n",
        "g++ test.cpp -o test \n",
        "./test"
      ],
      "execution_count": 42,
      "outputs": [
        {
          "output_type": "stream",
          "text": [
            "The odd numbers are: 1 3 5 "
          ],
          "name": "stdout"
        }
      ]
    },
    {
      "cell_type": "markdown",
      "metadata": {
        "id": "uGyJ7by-YKov",
        "colab_type": "text"
      },
      "source": [
        "*     Find the number of elements in an array that are less than zero. "
      ]
    },
    {
      "cell_type": "code",
      "metadata": {
        "id": "cmLRqcErXJJ_",
        "colab_type": "code",
        "outputId": "b9987947-cd28-4007-f1ad-dd8c905a4ca3",
        "colab": {
          "base_uri": "https://localhost:8080/",
          "height": 35
        }
      },
      "source": [
        "%%writefile test.cpp\n",
        "//One dimensional array\n",
        "#include <iostream>\n",
        "using namespace std;\n",
        "int numValLessThanZero(int arr[], int size){\n",
        "    int count = 0;\n",
        "    for(int i = 0; i < size; ++i){\n",
        "        if(arr[i] < 0){\n",
        "          count = count + 1;\n",
        "        }\n",
        "    }\n",
        "    return count;\n",
        "}\n",
        "int main(){\n",
        "    const int N = 5;\n",
        "    int arr[N] = {2,3,-12,4,-1};\n",
        "    cout<<\"Number of value less than zeros is: \"<<numValLessThanZero(arr, N);\n",
        "    return 0;\n",
        "}"
      ],
      "execution_count": 43,
      "outputs": [
        {
          "output_type": "stream",
          "text": [
            "Overwriting test.cpp\n"
          ],
          "name": "stdout"
        }
      ]
    },
    {
      "cell_type": "code",
      "metadata": {
        "id": "b3tOSLaTZ_Ys",
        "colab_type": "code",
        "outputId": "ff95110f-cc35-41e8-f59e-045d8321d632",
        "colab": {
          "base_uri": "https://localhost:8080/",
          "height": 35
        }
      },
      "source": [
        "%%script bash\n",
        "g++ test.cpp -o test \n",
        "./test"
      ],
      "execution_count": 44,
      "outputs": [
        {
          "output_type": "stream",
          "text": [
            "Number of value less than zeros is: 2"
          ],
          "name": "stdout"
        }
      ]
    },
    {
      "cell_type": "markdown",
      "metadata": {
        "id": "BKkbLc7yLcfD",
        "colab_type": "text"
      },
      "source": [
        "*    Find the maximum number in an array."
      ]
    },
    {
      "cell_type": "code",
      "metadata": {
        "id": "VFhNRHf1KjYG",
        "colab_type": "code",
        "outputId": "3c6e2287-6915-40c3-d543-babed9cb1588",
        "colab": {
          "base_uri": "https://localhost:8080/",
          "height": 35
        }
      },
      "source": [
        "%%writefile test.cpp\n",
        "//One dimensional array\n",
        "#include <iostream>\n",
        "using namespace std;\n",
        "int getMaxValue(int arr[], int size){\n",
        "    for(int i = 0; i < size - 1; ++i){\n",
        "        if(arr[i] > arr[i+1]){\n",
        "            int a = arr[i+1];\n",
        "            arr[i+1] = arr[i];\n",
        "            arr[i] = a;\n",
        "        }\n",
        "    }\n",
        "    return arr[size-1];\n",
        "}\n",
        "int main(){\n",
        "    const int N = 5;\n",
        "    int arr[N] = {2,3,1,4,-1};\n",
        "    cout<<\"Max value is: \"<<getMaxValue(arr, N);\n",
        "    return 0;\n",
        "}"
      ],
      "execution_count": 45,
      "outputs": [
        {
          "output_type": "stream",
          "text": [
            "Overwriting test.cpp\n"
          ],
          "name": "stdout"
        }
      ]
    },
    {
      "cell_type": "code",
      "metadata": {
        "id": "zZyly2q_Lntm",
        "colab_type": "code",
        "outputId": "c9403029-1651-4577-c448-8420a285b700",
        "colab": {
          "base_uri": "https://localhost:8080/",
          "height": 35
        }
      },
      "source": [
        "%%script bash\n",
        "g++ test.cpp -o test \n",
        "./test"
      ],
      "execution_count": 46,
      "outputs": [
        {
          "output_type": "stream",
          "text": [
            "Max value is: 4"
          ],
          "name": "stdout"
        }
      ]
    },
    {
      "cell_type": "markdown",
      "metadata": {
        "id": "zhlVt6LCOOmO",
        "colab_type": "text"
      },
      "source": [
        "So the code above needs a little bit of explanation.\n",
        "\n",
        "The array [2,3,1,4,-1] is passed from the main function to the function which has the name getMaxValue. The size of the array which is 5 is send along it.\n",
        "After that the following line of code runs on it.\n",
        "```\n",
        "1.for(int i = 0; i < size - 1; ++i){\n",
        "2.        if(arr[i] > arr[i+1]){\n",
        "3.            int a = arr[i+1];\n",
        "4.            arr[i+1] = arr[i];\n",
        "5.            arr[i] = a;\n",
        "6.        }\n",
        "7.    }\n",
        "```\n",
        "The value of the variable `size` is `5`. However, it is not possible to access the value `arr[size]`, since indexing of an array starts from `0`. The maximum index that can be accessed is `4`. The `i < size` code snippet would ensure that effect. Howv, why is it `i < size - 1`. It is because the comparison of arr[i] and arr[i+1] would require us to access values which are not accessible. If value of `i` for example is `4` still less than `5`, will it be possible to access `i+1` which is `4+1 = 5` , no. So, `i` runs upto `size - 1`.\n",
        "\n",
        "In line 2 the comparison happens between `arr[i]` and `arr[i+1]` . If `arr[i]` is greater than `arr[i+1]` we need to do something. The thing we do is swapping. We swap value contained in `arr[i+1]` with the value of `arr[i]` , such that the value of `arr[i+1]` goes to `arr[i]` and the value of `arr[i]` goes to `arr[i+1]` . Line 3, Line 4 and Line 5 is responsible for the swapping. In Line 3 the value from `arr[i+1]` is stored into variable a. Remember value of `arr[i+1]` is less than `arr[i]`.  In line 4 value of `arr[i]` which is greater than `arr[i+1]` is transferred to `arr[i+1]`. In Line 5 value of variable a which is smaller and was previously in `arr[i+1]` is transferred to `arr[i]`.\n",
        "This process continues till the 2nd last index of the array, swapping values of array, if one is smaller than the previous one. This allows for the maximum value to be transferred to the last index of the array.\n",
        "\n",
        "Lastly this piece of code return `arr[size-1]`; is necessary since we are only interested in returning the value of the last index of the array which is size-1( 5 - 1 = 4 in this case).\n",
        "\n",
        "\n"
      ]
    },
    {
      "cell_type": "markdown",
      "metadata": {
        "id": "vKtY_jY4iBUa",
        "colab_type": "text"
      },
      "source": [
        "# Functions with 2 dimensional array\n",
        "2 dimensional arrays can be utilized with functions in a similar way as 1 dimensional array with function. For example:\n",
        "*    Printing the contents of the final marks for 2 semesters"
      ]
    },
    {
      "cell_type": "code",
      "metadata": {
        "id": "oVzwQQnX3HTG",
        "colab_type": "code",
        "colab": {
          "base_uri": "https://localhost:8080/",
          "height": 35
        },
        "outputId": "0846c478-04d5-45e1-b81e-8a8353b0d3cf"
      },
      "source": [
        "%%writefile test.cpp\n",
        "//Two dimensional array\n",
        "#include <iostream>\n",
        "using namespace std;\n",
        "void printArray(int arr[][3], int row, int col){\n",
        "    \n",
        "    for(int i = 0; i < row; ++i){\n",
        "        cout<<\"Semester: \"<<i+1<<endl;\n",
        "        cout<<\"Final Marks: \";\n",
        "        for(int j = 0; j < col; ++j){\n",
        "            cout<<arr[i][j]<<\" \";\n",
        "        }\n",
        "        cout<<endl;\n",
        "    }\n",
        "}\n",
        "int main(){\n",
        "    const int row = 2; const int col = 3;\n",
        "    int marks[row][col] = {\n",
        "                            {90, 100, 90},\n",
        "                            {100, 89, 90}\n",
        "                          };\n",
        "    printArray(marks, row, col);\n",
        "    return 0;\n",
        "}"
      ],
      "execution_count": 47,
      "outputs": [
        {
          "output_type": "stream",
          "text": [
            "Overwriting test.cpp\n"
          ],
          "name": "stdout"
        }
      ]
    },
    {
      "cell_type": "code",
      "metadata": {
        "id": "cgCqCppq4wW7",
        "colab_type": "code",
        "colab": {
          "base_uri": "https://localhost:8080/",
          "height": 87
        },
        "outputId": "1d15efb7-9535-49c4-93d0-2cdc32e63edd"
      },
      "source": [
        "%%script bash\n",
        "g++ test.cpp -o test \n",
        "./test"
      ],
      "execution_count": 48,
      "outputs": [
        {
          "output_type": "stream",
          "text": [
            "Semester: 1\n",
            "Final Marks: 90 100 90 \n",
            "Semester: 2\n",
            "Final Marks: 100 89 90 \n"
          ],
          "name": "stdout"
        }
      ]
    },
    {
      "cell_type": "markdown",
      "metadata": {
        "id": "bXDSkKun9BS2",
        "colab_type": "text"
      },
      "source": [
        "Couple of things before jumping to the next example. Observe the parameters send to the function signature here: `void printArray(int arr[][3], int row, int col)`. There is a empty `[]` bracket after `arr`. If you any number out there it will not be a problem. Normally it is kept empty. Observe the second bracket of `arr`. It contains the value `3`. This signifies the number of columns that is present in the two dimensional array. That value should strictly be the value of the number of columns that is contained in the two dimensional array."
      ]
    },
    {
      "cell_type": "markdown",
      "metadata": {
        "id": "tWrkmEHI52Iz",
        "colab_type": "text"
      },
      "source": [
        "*     Adding two matrices together using a function"
      ]
    },
    {
      "cell_type": "code",
      "metadata": {
        "id": "3kAXpUfR6HX-",
        "colab_type": "code",
        "colab": {
          "base_uri": "https://localhost:8080/",
          "height": 35
        },
        "outputId": "45c0f836-e92f-4da2-bd2a-6daeee4519a1"
      },
      "source": [
        "%%writefile test.cpp\n",
        "//Two dimensional array\n",
        "#include <iostream>\n",
        "using namespace std;\n",
        "void printArray(int arrA[][3], int r1, int c1, int arrB[][3], int r2, int c2 ){\n",
        "    \n",
        "    for(int i = 0; i < r1; ++i){\n",
        "        cout<<\"Semester: \"<<i+1<<endl;\n",
        "        cout<<\"After adding bonus: \";\n",
        "        for(int j = 0; j < c1; ++j){\n",
        "            cout<<arrA[i][j] + arrB[i][j]<<\" \";\n",
        "        }cout<<endl;\n",
        "    }\n",
        "}\n",
        "int main(){\n",
        "    const int row = 2; const int col = 3;\n",
        "    int marks[row][col] = {\n",
        "                            {90, 100, 90},\n",
        "                            {100, 89, 90}\n",
        "                          };\n",
        "    int bonus[row][col] = {\n",
        "                            {10, 4, 5},\n",
        "                            {3, 5, 1}\n",
        "                          };\n",
        "    printArray(marks, row, col, bonus, row, col);\n",
        "    return 0;\n",
        "}"
      ],
      "execution_count": 49,
      "outputs": [
        {
          "output_type": "stream",
          "text": [
            "Overwriting test.cpp\n"
          ],
          "name": "stdout"
        }
      ]
    },
    {
      "cell_type": "code",
      "metadata": {
        "id": "M3a4k7R38L2y",
        "colab_type": "code",
        "colab": {
          "base_uri": "https://localhost:8080/",
          "height": 87
        },
        "outputId": "488fd6f0-312a-49d0-9523-56925928538e"
      },
      "source": [
        "%%script bash\n",
        "g++ test.cpp -o test \n",
        "./test"
      ],
      "execution_count": 50,
      "outputs": [
        {
          "output_type": "stream",
          "text": [
            "Semester: 1\n",
            "After adding bonus: 100 104 95 \n",
            "Semester: 2\n",
            "After adding bonus: 103 94 91 \n"
          ],
          "name": "stdout"
        }
      ]
    },
    {
      "cell_type": "markdown",
      "metadata": {
        "id": "D5os9A1X_KOy",
        "colab_type": "text"
      },
      "source": [
        "# Return array from functions\n",
        "There are couple of ways in which array's can be returned from a function. Some of the ways that I have used in CSC 101 will be shown here.\n",
        "*     There is no need to explicitly return arrays in C++. After calling the function with the array from the main function , if the array is printed again, the array changes its value. The value that the array takes, is due to the changes in the function which was called from the main function."
      ]
    },
    {
      "cell_type": "code",
      "metadata": {
        "id": "htgVI8W68MqI",
        "colab_type": "code",
        "colab": {
          "base_uri": "https://localhost:8080/",
          "height": 35
        },
        "outputId": "db75bfeb-9d04-47dd-818a-40ef68c1e9bc"
      },
      "source": [
        "%%writefile test.cpp\n",
        "//One dimensional array\n",
        "#include <iostream>\n",
        "using namespace std;\n",
        "void addValueToArray(int arr[], int row){\n",
        "    for(int i = 0; i < row; ++i){\n",
        "        arr[i] = arr[i] + 10;\n",
        "    }\n",
        "}\n",
        "int main(){\n",
        "    const int row = 5 ; \n",
        "    int marks[row] = {89,91,91,88,90};\n",
        "    addValueToArray(marks, row);\n",
        "    cout<<\"Values in the array after calling the function: \"<<endl;\n",
        "    for(int i = 0 ; i < row; ++i){\n",
        "        cout << marks[i] << \" \";\n",
        "    }\n",
        "    return 0;\n",
        "}"
      ],
      "execution_count": 51,
      "outputs": [
        {
          "output_type": "stream",
          "text": [
            "Overwriting test.cpp\n"
          ],
          "name": "stdout"
        }
      ]
    },
    {
      "cell_type": "code",
      "metadata": {
        "id": "rXr3BBEWCtgr",
        "colab_type": "code",
        "colab": {
          "base_uri": "https://localhost:8080/",
          "height": 52
        },
        "outputId": "07413913-837b-46c9-be98-3fa27a703694"
      },
      "source": [
        "%%script bash\n",
        "g++ test.cpp -o test \n",
        "./test"
      ],
      "execution_count": 52,
      "outputs": [
        {
          "output_type": "stream",
          "text": [
            "Values in the array after calling the function: \n",
            "99 101 101 98 100 "
          ],
          "name": "stdout"
        }
      ]
    },
    {
      "cell_type": "markdown",
      "metadata": {
        "id": "toXC2jdQSdUE",
        "colab_type": "text"
      },
      "source": [
        "One can modularize the code above further, but the idea will remain the same."
      ]
    },
    {
      "cell_type": "code",
      "metadata": {
        "id": "r1shrSNYSo1l",
        "colab_type": "code",
        "colab": {
          "base_uri": "https://localhost:8080/",
          "height": 35
        },
        "outputId": "1de40dd3-912c-4a0c-f2b1-24c6f1390ed3"
      },
      "source": [
        "%%writefile test.cpp\n",
        "//One dimensional array\n",
        "#include <iostream>\n",
        "using namespace std;\n",
        "void addValueToArray(int arr[], int row){\n",
        "    for(int i = 0; i < row; ++i){\n",
        "        arr[i] = arr[i] + 10;\n",
        "    }\n",
        "}\n",
        "void printArray(int arr[], int row){\n",
        "    for(int i = 0; i < row; ++i){\n",
        "        cout << arr[i] << \" \";\n",
        "    }\n",
        "    cout<<endl;\n",
        "}\n",
        "void setValueToArray(int arr[], int row){\n",
        "    for(int i = 0; i < row; ++i){\n",
        "        arr[i] = 90 + i;\n",
        "    }\n",
        "}\n",
        "\n",
        "int main(){\n",
        "    const int row = 5 ; \n",
        "    int marks[row];\n",
        "    setValueToArray(marks, row);\n",
        "\n",
        "    cout<<\"Array content before: \";\n",
        "    printArray(marks,row);\n",
        "    \n",
        "    //The value of the array changes \n",
        "    //due to the function below\n",
        "    addValueToArray(marks, row);\n",
        "\n",
        "    //The changes in the array is \n",
        "    //shown below\n",
        "    cout<<\"Array content after: \";\n",
        "    printArray(marks, row);\n",
        "    \n",
        "    return 0;\n",
        "}"
      ],
      "execution_count": 53,
      "outputs": [
        {
          "output_type": "stream",
          "text": [
            "Overwriting test.cpp\n"
          ],
          "name": "stdout"
        }
      ]
    },
    {
      "cell_type": "code",
      "metadata": {
        "id": "o58gQCvfSrBm",
        "colab_type": "code",
        "colab": {
          "base_uri": "https://localhost:8080/",
          "height": 52
        },
        "outputId": "02e4f0aa-77d5-4f7d-e036-bfaa0cef3387"
      },
      "source": [
        "%%script bash\n",
        "g++ test.cpp -o test \n",
        "./test"
      ],
      "execution_count": 54,
      "outputs": [
        {
          "output_type": "stream",
          "text": [
            "Array content before: 90 91 92 93 94 \n",
            "Array content after: 100 101 102 103 104 \n"
          ],
          "name": "stdout"
        }
      ]
    },
    {
      "cell_type": "markdown",
      "metadata": {
        "id": "1WF_E1dpVaQ3",
        "colab_type": "text"
      },
      "source": [
        "Ideas presented in the above code block can be replicated for 2 dimensional arrays as well."
      ]
    },
    {
      "cell_type": "code",
      "metadata": {
        "id": "8Fnsbvg9TeNg",
        "colab_type": "code",
        "colab": {
          "base_uri": "https://localhost:8080/",
          "height": 35
        },
        "outputId": "2a8855a1-e490-41d4-b84f-c52cafffb084"
      },
      "source": [
        "%%writefile test.cpp\n",
        "//One dimensional array\n",
        "#include <iostream>\n",
        "using namespace std;\n",
        "\n",
        "//Print the two dimensional array\n",
        "void printArray(int arr[][3], int row, int col){\n",
        "    for(int i = 0; i < row; ++i){\n",
        "        for(int j = 0; j < col; ++j){\n",
        "          cout << arr[i][j] << \" \";\n",
        "        }cout<<endl;\n",
        "    }\n",
        "}\n",
        "//Add bonus marks to the array\n",
        "void addBonusToMarks(int marks[][3], int row1, int col1, int bonus[][3], int row2, int col2){\n",
        "    for(int i = 0; i < row1; ++i){\n",
        "        for(int j = 0 ; j < col1; ++j){\n",
        "          marks[i][j] = marks[i][j] + bonus[i][j];\n",
        "      }\n",
        "    }\n",
        "}\n",
        "//Initialize the arrays \n",
        "void initializeTheArrays(int marks[][3], int row1, int col1, int bonus[][3], int row2, int col2){\n",
        "    for(int i = 0; i < row1; ++i){\n",
        "        for(int j = 0; j < col1; ++j){\n",
        "          marks[i][j] = 90 + i;\n",
        "          bonus[i][j] = 10 + i;\n",
        "        }\n",
        "    }\n",
        "}\n",
        "\n",
        "int main(){\n",
        "    const int row = 2 ; const int col = 3; \n",
        "    //Marks of the student in 2 semesters, each having 3 courses\n",
        "    int marks[row][col];\n",
        "\n",
        "    //Bonus marks of the students in each of the 2 semesters\n",
        "    //and each of the 3 courses\n",
        "    int bonus[row][col];\n",
        "\n",
        "    //Initialize the arrays with values\n",
        "    initializeTheArrays(marks, row, col, bonus, row, col);\n",
        "\n",
        "    cout<<\"Array content before adding bonus marks: \"<<endl;\n",
        "    printArray(marks,row,col);\n",
        "    \n",
        "    //The value of the array changes due to the function below\n",
        "    addBonusToMarks(marks, row,col, bonus, row, col);\n",
        "\n",
        "    //The changes in the array is shown below\n",
        "    cout<<\"Array content after bonus marks are added: \"<<endl;\n",
        "    printArray(marks, row, col);\n",
        "    \n",
        "    return 0;\n",
        "}"
      ],
      "execution_count": 72,
      "outputs": [
        {
          "output_type": "stream",
          "text": [
            "Overwriting test.cpp\n"
          ],
          "name": "stdout"
        }
      ]
    },
    {
      "cell_type": "code",
      "metadata": {
        "id": "2k9AHOia8C74",
        "colab_type": "code",
        "colab": {
          "base_uri": "https://localhost:8080/",
          "height": 121
        },
        "outputId": "c8f0694d-7a5b-4227-97a6-8c4431812621"
      },
      "source": [
        "%%script bash\n",
        "g++ test.cpp -o test \n",
        "./test"
      ],
      "execution_count": 73,
      "outputs": [
        {
          "output_type": "stream",
          "text": [
            "Array content before adding bonus marks: \n",
            "90 90 90 \n",
            "91 91 91 \n",
            "Array content after bonus marks are added: \n",
            "100 100 100 \n",
            "102 102 102 \n"
          ],
          "name": "stdout"
        }
      ]
    },
    {
      "cell_type": "markdown",
      "metadata": {
        "id": "vkJnjfHyLj3a",
        "colab_type": "text"
      },
      "source": [
        "# Memory \n",
        "So memory is an important topic in Computer Science. The examples that will be shown below hopefully illustrate that.\n",
        "\n",
        "So, let us begin with swapping numbers. For example in the code example below, after swapping values of variable `a` and `b` the values of the variable will change after swapping of the value. "
      ]
    },
    {
      "cell_type": "code",
      "metadata": {
        "id": "bYVD2rAWN6JP",
        "colab_type": "code",
        "colab": {
          "base_uri": "https://localhost:8080/",
          "height": 35
        },
        "outputId": "f80e5989-d588-4b6c-a6a9-8105197a1a78"
      },
      "source": [
        "%%writefile test.cpp\n",
        "#include <iostream>\n",
        "using namespace std;\n",
        "//Swapping of two numbers\n",
        "\n",
        "int main(){\n",
        "    int a = 3; int b = 5; \n",
        "    cout<<\"Before swapping - a: \"<<a<<\" b: \"<<b<<endl;\n",
        "    \n",
        "    int temp = a;//Value of temp is 3 and value of a is 3\n",
        "    a = b; //Value of a is 5 and value of b is 5\n",
        "    b = temp; //Value of b is 3 because value of temp is 3\n",
        "\n",
        "    //So, printing the value of a and b after swapping is\n",
        "    cout<<\"After swapping - a: \"<<a<<\" b: \"<<b<<endl;\n",
        "    return 0;\n",
        "}"
      ],
      "execution_count": 82,
      "outputs": [
        {
          "output_type": "stream",
          "text": [
            "Overwriting test.cpp\n"
          ],
          "name": "stdout"
        }
      ]
    },
    {
      "cell_type": "code",
      "metadata": {
        "id": "0a0oJNnGRoQi",
        "colab_type": "code",
        "colab": {
          "base_uri": "https://localhost:8080/",
          "height": 52
        },
        "outputId": "94c4b82a-b4d8-4100-c5f5-48e021579ccf"
      },
      "source": [
        "%%script bash\n",
        "g++ test.cpp -o test \n",
        "./test"
      ],
      "execution_count": 83,
      "outputs": [
        {
          "output_type": "stream",
          "text": [
            "Before swapping - a: 3 b: 5\n",
            "After swapping - a: 5 b: 3\n"
          ],
          "name": "stdout"
        }
      ]
    },
    {
      "cell_type": "markdown",
      "metadata": {
        "id": "zQQWaDPae_jo",
        "colab_type": "text"
      },
      "source": [
        "Let us do swapping of the variable `a` and `b` using a function."
      ]
    },
    {
      "cell_type": "code",
      "metadata": {
        "id": "_GYii8WnclmG",
        "colab_type": "code",
        "colab": {
          "base_uri": "https://localhost:8080/",
          "height": 35
        },
        "outputId": "00272e54-3469-4fa4-aaf9-7f1df9c433e7"
      },
      "source": [
        "%%writefile test.cpp\n",
        "#include <iostream>\n",
        "using namespace std;\n",
        "//Swapping of two numbers\n",
        "\n",
        "void swapValues(int a , int b){\n",
        "    int temp = a;//Value of temp is 3 and value of a is 3\n",
        "    a = b; //Value of a is 5 and value of b is 5\n",
        "    b = temp; //Value of b is 3 because value of temp is 3\n",
        "}\n",
        "int main(){\n",
        "    int a = 3; int b = 5; \n",
        "    cout<<\"Before swapping - a: \"<<a<<\" b: \"<<b<<endl;\n",
        "    swapValues(a,b);\n",
        "    cout<<\"After swapping - a: \"<<a<<\" b: \"<<b<<endl;\n",
        "    return 0;\n",
        "}"
      ],
      "execution_count": 84,
      "outputs": [
        {
          "output_type": "stream",
          "text": [
            "Overwriting test.cpp\n"
          ],
          "name": "stdout"
        }
      ]
    },
    {
      "cell_type": "code",
      "metadata": {
        "id": "12mWJYpjfPSE",
        "colab_type": "code",
        "colab": {
          "base_uri": "https://localhost:8080/",
          "height": 52
        },
        "outputId": "e6c04f3c-7127-4c98-81b8-ec7201ae4df6"
      },
      "source": [
        "%%script bash\n",
        "g++ test.cpp -o test \n",
        "./test"
      ],
      "execution_count": 85,
      "outputs": [
        {
          "output_type": "stream",
          "text": [
            "Before swapping - a: 3 b: 5\n",
            "After swapping - a: 3 b: 5\n"
          ],
          "name": "stdout"
        }
      ]
    },
    {
      "cell_type": "markdown",
      "metadata": {
        "id": "0ipnUrn4fsKc",
        "colab_type": "text"
      },
      "source": [
        "Look at the values of variables `a` and `b` after swapping using the function swapValues. The values of the variables `a` and `b` does not change. It is `3` and `5` even after the function is called. This is the result of scoping where the value of the function disappers after a function. If you rewrite the function like so ...\n",
        "```\n",
        "void swapValues(int a , int b){\n",
        "    cout<<\"a: \" << a << \"b: \" << b << endl;\n",
        "    int temp = a;//Value of temp is 3 and value of a is 3\n",
        "    a = b; //Value of a is 5 and value of b is 5\n",
        "    b = temp; //Value of b is 3 because value of temp is 3\n",
        "    cout<<\"a: \" << a << \"b: \" << b << endl;\n",
        "}\n",
        "```\n",
        "... you will see that the value actually changes inside the function.\n",
        "\n",
        "There are couple of ways to fix this issue with swapping.\n",
        "1.   Pass By Reference"
      ]
    },
    {
      "cell_type": "code",
      "metadata": {
        "id": "WTazcPvpfqQ_",
        "colab_type": "code",
        "colab": {
          "base_uri": "https://localhost:8080/",
          "height": 35
        },
        "outputId": "464d0c58-6333-4751-9e74-c6ef51f59fad"
      },
      "source": [
        "%%writefile test.cpp\n",
        "#include <iostream>\n",
        "using namespace std;\n",
        "//Swapping of two numbers\n",
        "\n",
        "void swapValues(int &a , int &b){\n",
        "    int temp = a;\n",
        "    a = b; \n",
        "    b = temp; \n",
        "}\n",
        "int main(){\n",
        "    int x = 3; int y = 5; \n",
        "    cout<<\"Before swapping - x: \"<<x<<\" y: \"<<y<<endl;\n",
        "    swapValues(x,y);\n",
        "    cout<<\"After swapping - x: \"<<x<<\" y: \"<<y<<endl;\n",
        "    return 0;\n",
        "}"
      ],
      "execution_count": 86,
      "outputs": [
        {
          "output_type": "stream",
          "text": [
            "Overwriting test.cpp\n"
          ],
          "name": "stdout"
        }
      ]
    },
    {
      "cell_type": "code",
      "metadata": {
        "id": "xZDsgTcz6t8p",
        "colab_type": "code",
        "colab": {
          "base_uri": "https://localhost:8080/",
          "height": 52
        },
        "outputId": "fb8f8c68-db2a-4b2d-d705-aa32f0f7b886"
      },
      "source": [
        "%%script bash\n",
        "g++ test.cpp -o test \n",
        "./test"
      ],
      "execution_count": 87,
      "outputs": [
        {
          "output_type": "stream",
          "text": [
            "Before swapping - a: 3 b: 5\n",
            "After swapping - a: 5 b: 3\n"
          ],
          "name": "stdout"
        }
      ]
    },
    {
      "cell_type": "markdown",
      "metadata": {
        "id": "kg6oopWI7GjP",
        "colab_type": "text"
      },
      "source": [
        "2.   Pass by address"
      ]
    },
    {
      "cell_type": "code",
      "metadata": {
        "id": "lHfgs3K17EAi",
        "colab_type": "code",
        "colab": {
          "base_uri": "https://localhost:8080/",
          "height": 35
        },
        "outputId": "a005eefd-cc8f-4d95-b186-1240106697ef"
      },
      "source": [
        "%%writefile test.cpp\n",
        "#include <iostream>\n",
        "using namespace std;\n",
        "//Swapping of two numbers\n",
        "\n",
        "void swapValues(int *a , int *b){\n",
        "    int temp = *a;\n",
        "    *a = *b;\n",
        "    *b = temp; \n",
        "}\n",
        "int main(){\n",
        "    int x = 3; int y = 5; \n",
        "    cout<<\"Before swapping - x: \"<<x<<\" y: \"<<y<<endl;\n",
        "    swapValues(&x,&y);\n",
        "    cout<<\"After swapping - x: \"<<x<<\" y: \"<<y<<endl;\n",
        "    return 0;\n",
        "}"
      ],
      "execution_count": 89,
      "outputs": [
        {
          "output_type": "stream",
          "text": [
            "Overwriting test.cpp\n"
          ],
          "name": "stdout"
        }
      ]
    },
    {
      "cell_type": "code",
      "metadata": {
        "id": "OGKMtR0S8c00",
        "colab_type": "code",
        "colab": {
          "base_uri": "https://localhost:8080/",
          "height": 52
        },
        "outputId": "d2148b6f-db8b-4504-b73e-8fedbdd5b38a"
      },
      "source": [
        "%%script bash\n",
        "g++ test.cpp -o test \n",
        "./test"
      ],
      "execution_count": 90,
      "outputs": [
        {
          "output_type": "stream",
          "text": [
            "Before swapping - a: 3 b: 5\n",
            "After swapping - a: 5 b: 3\n"
          ],
          "name": "stdout"
        }
      ]
    },
    {
      "cell_type": "markdown",
      "metadata": {
        "id": "TcXLN0HDEgyh",
        "colab_type": "text"
      },
      "source": [
        "In order to understand how pass by reference works one has to understand how memory works. So every variable in a program contains two things, an adress and a value. The address is where the variable lives in the RAM, and the value is what that variable contains in it.\n",
        "\n",
        "For example, in order to find the address of a variable, type something inside the main function like this:\n",
        "\n",
        "\n",
        "```\n",
        "int a = 56;\n",
        "cout << a << endl; //Value of a\n",
        "cout << &a << endl; //Adress of a\n",
        "```\n",
        "The number `56` which is transferred into `a` is the value of a amd `&a` is the address of `a`.\n",
        "The following program will illustrate it further.\n"
      ]
    },
    {
      "cell_type": "code",
      "metadata": {
        "id": "eMd3q-AH8fEk",
        "colab_type": "code",
        "colab": {
          "base_uri": "https://localhost:8080/",
          "height": 35
        },
        "outputId": "71005b51-bce1-45b1-ea17-0f8f1460289c"
      },
      "source": [
        "%%writefile test.cpp\n",
        "#include <iostream>\n",
        "using namespace std;\n",
        "int main(){\n",
        "    int a = 3;\n",
        "    cout<<\"The value of a is: \"<<a<<endl;\n",
        "    cout<<\"The address of a is: \"<<&a<<endl;\n",
        "    return 0;\n",
        "}"
      ],
      "execution_count": 91,
      "outputs": [
        {
          "output_type": "stream",
          "text": [
            "Overwriting test.cpp\n"
          ],
          "name": "stdout"
        }
      ]
    },
    {
      "cell_type": "code",
      "metadata": {
        "id": "6-TKXPDjId3K",
        "colab_type": "code",
        "colab": {
          "base_uri": "https://localhost:8080/",
          "height": 52
        },
        "outputId": "2076e356-7653-4be2-a3ea-7e6f1122caaf"
      },
      "source": [
        "%%script bash\n",
        "g++ test.cpp -o test \n",
        "./test"
      ],
      "execution_count": 92,
      "outputs": [
        {
          "output_type": "stream",
          "text": [
            "The value of a is: 3\n",
            "The address of a is: 0x7ffc35e366e4\n"
          ],
          "name": "stdout"
        }
      ]
    },
    {
      "cell_type": "markdown",
      "metadata": {
        "id": "ASNBlwvlL8eo",
        "colab_type": "text"
      },
      "source": [
        "Now the value of `&a` needs to be stored somewhere, something similar to how to values are stored in some variables. In the case of address of variables though, the addresses of variables are not stored little bit differently.\n",
        "The following way of storing is wrong:\n",
        "`int y = &a`. The correct way to store the address is `int *y = &a`. The `*` symbol denotes that `&a` is not a normal data type, instead it is of address data type, and it has to be stored in a different way.\n",
        "So, in order to find out the value of `a` and the address of `a` as it is stored in the variable `y`, one has to do the following: "
      ]
    },
    {
      "cell_type": "code",
      "metadata": {
        "id": "0Nq4nxB1IekJ",
        "colab_type": "code",
        "colab": {
          "base_uri": "https://localhost:8080/",
          "height": 35
        },
        "outputId": "7af92ce2-0b8c-4862-96e4-cc715e501392"
      },
      "source": [
        "%%writefile test.cpp\n",
        "#include <iostream>\n",
        "using namespace std;\n",
        "int main(){\n",
        "    int a = 3;\n",
        "    int *y = &a;\n",
        "    cout<<\"y will give the address of the variable a\"<<endl;\n",
        "    cout<<\"y is : \"<< y <<\" and &a is : \"<<&a<<endl;\n",
        "    cout<<\"*y will give the value of the variable a\"<<endl;\n",
        "    cout<<\"*y is : \"<<*y<<\" and a is : \"<<a<<endl;\n",
        "    return 0;\n",
        "}"
      ],
      "execution_count": 105,
      "outputs": [
        {
          "output_type": "stream",
          "text": [
            "Overwriting test.cpp\n"
          ],
          "name": "stdout"
        }
      ]
    },
    {
      "cell_type": "code",
      "metadata": {
        "id": "B9tlk56ySZ-Y",
        "colab_type": "code",
        "colab": {
          "base_uri": "https://localhost:8080/",
          "height": 87
        },
        "outputId": "f12b2e7c-6e4e-4c8c-f957-fed2e422ea9e"
      },
      "source": [
        "%%script bash\n",
        "g++ test.cpp -o test \n",
        "./test"
      ],
      "execution_count": 106,
      "outputs": [
        {
          "output_type": "stream",
          "text": [
            "y will give the address of the variable a\n",
            "y is : 0x7ffc5634fb8c and &a is : 0x7ffc5634fb8c\n",
            "*y will give the value of the variable a\n",
            "*y is : 3 and a is : 3\n"
          ],
          "name": "stdout"
        }
      ]
    },
    {
      "cell_type": "markdown",
      "metadata": {
        "id": "qtD7SVQZYwB_",
        "colab_type": "text"
      },
      "source": [
        "One has to remember an important nomenclature while dealing with addresses of variables. In the following example:\n",
        "```\n",
        "int x = 10;\n",
        "int *y = &x;\n",
        "cout << *y << endl; //Gets value of x \n",
        "cout << y << endl; //Gets address of x\n",
        "\n",
        "```\n",
        "`*y` is known as dereferencing. There are couple of things to notice in the above code:\n",
        "```\n",
        "int a = &x; //It is not allowed\n",
        "int y = 95 // It is also not allowed\n",
        "```\n"
      ]
    },
    {
      "cell_type": "markdown",
      "metadata": {
        "id": "W4EC3SSBcJ5y",
        "colab_type": "text"
      },
      "source": [
        "Pass by address as mentioned happens due to something known as aliasing.\n",
        "Here is an example how it works:"
      ]
    },
    {
      "cell_type": "code",
      "metadata": {
        "id": "yKAii-laSbwY",
        "colab_type": "code",
        "colab": {
          "base_uri": "https://localhost:8080/",
          "height": 35
        },
        "outputId": "91a1e3c9-36a1-4cbf-c407-baa9f76ecfe2"
      },
      "source": [
        "%%writefile test.cpp\n",
        "#include <iostream>\n",
        "using namespace std;\n",
        "int main(){\n",
        "   int a = 5;\n",
        "   /*\n",
        "    The line below replicates the passing of\n",
        "    the variable a to the parameter of the \n",
        "    function passByReference in the code block\n",
        "    for passByReference\n",
        "   */\n",
        "   int &x = a;\n",
        "   /*\n",
        "    Here, when the above code is compiled, a very\n",
        "    important thing happens, the variable x and\n",
        "    a , shares the same value. So, if the following \n",
        "    is done to the value of x ...\n",
        "   */\n",
        "    x = 56;\n",
        "    //The value of a also changes to 56\n",
        "    cout<<\"a is: \"<<a<<endl;\n",
        "    cout<<\"x is: \"<<x<<endl;\n",
        "    return 0;\n",
        "}"
      ],
      "execution_count": 5,
      "outputs": [
        {
          "output_type": "stream",
          "text": [
            "Overwriting test.cpp\n"
          ],
          "name": "stdout"
        }
      ]
    },
    {
      "cell_type": "code",
      "metadata": {
        "id": "HjPLiovcfhZl",
        "colab_type": "code",
        "colab": {
          "base_uri": "https://localhost:8080/",
          "height": 52
        },
        "outputId": "e623ace9-ba4c-443c-d647-69400ce39f66"
      },
      "source": [
        "%%script bash\n",
        "g++ test.cpp -o test \n",
        "./test"
      ],
      "execution_count": 6,
      "outputs": [
        {
          "output_type": "stream",
          "text": [
            "a is: 56\n",
            "x is: 56\n"
          ],
          "name": "stdout"
        }
      ]
    },
    {
      "cell_type": "markdown",
      "metadata": {
        "id": "tA-b4DgUk9dJ",
        "colab_type": "text"
      },
      "source": [
        "Compare the above program with the program below:"
      ]
    },
    {
      "cell_type": "code",
      "metadata": {
        "id": "eKSu14n-jhRq",
        "colab_type": "code",
        "colab": {
          "base_uri": "https://localhost:8080/",
          "height": 35
        },
        "outputId": "2c57d5d1-7ec4-4a5d-ede2-1eaf8994e329"
      },
      "source": [
        "%%writefile test.cpp\n",
        "#include <iostream>\n",
        "using namespace std;\n",
        "int main(){\n",
        "   int a = 5;\n",
        "   int x = a;\n",
        "   x = 56;\n",
        "\n",
        "   cout<<\"a is: \"<<a<<endl;\n",
        "   cout<<\"x is: \"<<x<<endl;\n",
        "   \n",
        "   return 0;\n",
        "}"
      ],
      "execution_count": 7,
      "outputs": [
        {
          "output_type": "stream",
          "text": [
            "Overwriting test.cpp\n"
          ],
          "name": "stdout"
        }
      ]
    },
    {
      "cell_type": "code",
      "metadata": {
        "id": "o_veu47BlJ5S",
        "colab_type": "code",
        "colab": {
          "base_uri": "https://localhost:8080/",
          "height": 52
        },
        "outputId": "73fa9b7c-a4b0-4ca9-8776-ab869a15544f"
      },
      "source": [
        "%%script bash\n",
        "g++ test.cpp -o test \n",
        "./test"
      ],
      "execution_count": 8,
      "outputs": [
        {
          "output_type": "stream",
          "text": [
            "a is: 5\n",
            "x is: 56\n"
          ],
          "name": "stdout"
        }
      ]
    },
    {
      "cell_type": "markdown",
      "metadata": {
        "id": "QEZC8BGnlUZO",
        "colab_type": "text"
      },
      "source": [
        "The value of the variable `a` does not change, only the value of the variable `x` change. Note this is a very important concept, we will revisit it in the later chapters."
      ]
    },
    {
      "cell_type": "markdown",
      "metadata": {
        "id": "rO60wsjXmMe2",
        "colab_type": "text"
      },
      "source": [
        "One of the important implications of pass by reference and pass by memory is that, it can used to return the value of more than one variable from a function."
      ]
    },
    {
      "cell_type": "code",
      "metadata": {
        "id": "Iz8BKSNNmkpI",
        "colab_type": "code",
        "colab": {
          "base_uri": "https://localhost:8080/",
          "height": 35
        },
        "outputId": "cec51a39-8bfe-44a1-a244-64ef82dd856b"
      },
      "source": [
        "%%writefile test.cpp\n",
        "#include <iostream>\n",
        "using namespace std;\n",
        "//Using pass by reference\n",
        "/*\n",
        " Remember very carefully of \"&\" infront of \"addition\" and \"multiplication\"\n",
        " This helps to relay the computation in the function addAndMult\n",
        " to the main function.\n",
        "*/\n",
        "\n",
        "void addAndmult(int &addition, int &multiplication, int a , int b){\n",
        "    addition = a+b; multiplication = a*b;\n",
        "}\n",
        "int main(){\n",
        "    int a = 5; int b = 6; int add = 0; int mult = 0;\n",
        "    addAndmult(add,mult, a, b);\n",
        "    cout<<\"After adding a and b: \" << add<< endl;\n",
        "    cout<<\"After multiplying a and b: \" << mult << endl;\n",
        "    return 0;\n",
        "}"
      ],
      "execution_count": 15,
      "outputs": [
        {
          "output_type": "stream",
          "text": [
            "Overwriting test.cpp\n"
          ],
          "name": "stdout"
        }
      ]
    },
    {
      "cell_type": "code",
      "metadata": {
        "id": "fzFl5aokG-t_",
        "colab_type": "code",
        "colab": {
          "base_uri": "https://localhost:8080/",
          "height": 52
        },
        "outputId": "8484285b-cb01-4308-9c9c-eadf6c31b825"
      },
      "source": [
        "%%script bash\n",
        "g++ test.cpp -o test \n",
        "./test"
      ],
      "execution_count": 16,
      "outputs": [
        {
          "output_type": "stream",
          "text": [
            "After adding a and b: 11\n",
            "After multiplying a and b: 30\n"
          ],
          "name": "stdout"
        }
      ]
    },
    {
      "cell_type": "markdown",
      "metadata": {
        "id": "4rdkgVZZHK1C",
        "colab_type": "text"
      },
      "source": [
        "Another way of getting the same effect using pass by address concepts"
      ]
    },
    {
      "cell_type": "code",
      "metadata": {
        "id": "9LNGr97wlKy7",
        "colab_type": "code",
        "colab": {
          "base_uri": "https://localhost:8080/",
          "height": 35
        },
        "outputId": "9176f304-964f-4bb3-c47a-8527bf73c9aa"
      },
      "source": [
        "%%writefile test.cpp\n",
        "#include <iostream>\n",
        "using namespace std;\n",
        "//Using pass by reference\n",
        "/*\n",
        " Remember very carefully of \"&\" infront of \"addition\" and \"multiplication\"\n",
        " This helps to relay the computation in the function addAndMult\n",
        " to the main function.\n",
        "*/\n",
        "\n",
        "void addAndmult(int *addition, int *multiplication, int a , int b){\n",
        "    *addition = a+b; *multiplication = a*b;\n",
        "}\n",
        "int main(){\n",
        "    int a = 5; int b = 6; int add = 0; int mult = 0;\n",
        "    //Since this int *y = &x , therefore \n",
        "    addAndmult(&add,&mult, a, b);\n",
        "    cout<<\"After adding a and b: \" << add << endl;\n",
        "    cout<<\"After multiplying a and b: \" << mult << endl;\n",
        "    return 0;\n",
        "}"
      ],
      "execution_count": 17,
      "outputs": [
        {
          "output_type": "stream",
          "text": [
            "Overwriting test.cpp\n"
          ],
          "name": "stdout"
        }
      ]
    },
    {
      "cell_type": "code",
      "metadata": {
        "id": "5kQ4P53zHTf8",
        "colab_type": "code",
        "colab": {
          "base_uri": "https://localhost:8080/",
          "height": 52
        },
        "outputId": "9b5c23bb-168e-422b-dda9-b68e0d48d05f"
      },
      "source": [
        "%%script bash\n",
        "g++ test.cpp -o test \n",
        "./test"
      ],
      "execution_count": 18,
      "outputs": [
        {
          "output_type": "stream",
          "text": [
            "After adding a and b: 11\n",
            "After multiplying a and b: 30\n"
          ],
          "name": "stdout"
        }
      ]
    },
    {
      "cell_type": "markdown",
      "metadata": {
        "id": "5e2U7VL6KRam",
        "colab_type": "text"
      },
      "source": [
        "These above two examples of \"returning\" more than one value from a C++ function."
      ]
    },
    {
      "cell_type": "markdown",
      "metadata": {
        "id": "8thS0arXKqY2",
        "colab_type": "text"
      },
      "source": [
        "# String\n",
        "In order to handle alphanumeric characters string is used in C++. Here only string class will be shown, array based implementation will be shown in more detail in the later chapters."
      ]
    },
    {
      "cell_type": "code",
      "metadata": {
        "id": "NAj-Yt_0Ieox",
        "colab_type": "code",
        "colab": {
          "base_uri": "https://localhost:8080/",
          "height": 35
        },
        "outputId": "76fdb663-10af-4382-8794-3095bbb9d2df"
      },
      "source": [
        "%%writefile test.cpp\n",
        "#include <iostream>\n",
        "using namespace std;\n",
        "\n",
        "int main(){\n",
        "    //So a string can be written something like this\n",
        "    string str = \"hello today is 15th June\";\n",
        "    //In order to find the length of a string, do something like\n",
        "    cout<<\"Length of the string is: \"<< str.length() << endl;\n",
        "\n",
        "    //You can iterate the string like so:\n",
        "    int len = str.length();\n",
        "    for(int i = 0; i < len; ++i){\n",
        "        cout<<str[i]<<\" \";\n",
        "    }\n",
        "    cout<<endl;\n",
        "    //You can also find substring of a given string like this\n",
        "    int start = 5; int numOfChar = 6;\n",
        "    cout<<\"The substring is:\"<<str.substr(start, numOfChar);\n",
        "\n",
        "    return 0;\n",
        "}"
      ],
      "execution_count": 40,
      "outputs": [
        {
          "output_type": "stream",
          "text": [
            "Overwriting test.cpp\n"
          ],
          "name": "stdout"
        }
      ]
    },
    {
      "cell_type": "code",
      "metadata": {
        "id": "hKQh-zfIiCG9",
        "colab_type": "code",
        "colab": {
          "base_uri": "https://localhost:8080/",
          "height": 69
        },
        "outputId": "d80ec57a-6406-4b9d-e2e5-e69ec3169c31"
      },
      "source": [
        "%%script bash\n",
        "g++ test.cpp -o test \n",
        "./test"
      ],
      "execution_count": 41,
      "outputs": [
        {
          "output_type": "stream",
          "text": [
            "Length of the string is: 24\n",
            "h e l l o   t o d a y   i s   1 5 t h   J u n e \n",
            "The substring is: today"
          ],
          "name": "stdout"
        }
      ]
    },
    {
      "cell_type": "markdown",
      "metadata": {
        "id": "_HzLhfTAkNbQ",
        "colab_type": "text"
      },
      "source": [
        "One of the application of pass by reference when it comes to string is given below:"
      ]
    },
    {
      "cell_type": "code",
      "metadata": {
        "id": "-DgqJIrUiClv",
        "colab_type": "code",
        "colab": {
          "base_uri": "https://localhost:8080/",
          "height": 35
        },
        "outputId": "85994cc1-4f4d-4e73-a786-4dad6b481f9d"
      },
      "source": [
        "%%writefile test.cpp\n",
        "#include <iostream>\n",
        "using namespace std;\n",
        "//Using pass by reference\n",
        "/*\n",
        " Count the number of vowels,consonants and space in a string\n",
        "*/\n",
        "\n",
        "void numOfVowConsSpace(string str, int &vowel, int &cons, int &space){\n",
        "    int len = str.length();\n",
        "    for(int i = 0; i < len; ++i){\n",
        "        if(str[i]==' '){\n",
        "          space = space + 1;\n",
        "        }\n",
        "        else if(str[i] == 'a'||str[i] == 'e'||str[i] == 'i'||str[i] == 'o'||str[i]=='u'){\n",
        "          vowel = vowel + 1;  \n",
        "        }\n",
        "        else{\n",
        "            cons = cons + 1;\n",
        "        }\n",
        "    }\n",
        "}\n",
        "int main(){\n",
        "    string str = \"today is monday\";\n",
        "    int vowel = 0; int cons = 0; int space = 0;\n",
        "    numOfVowConsSpace(str, vowel, cons, space);\n",
        "    cout<<\"Number of vowels : \"<< vowel << endl;\n",
        "    cout<<\"Number of consonant : \"<< cons << endl;\n",
        "    cout<<\"Number of space : \"<< space << endl;\n",
        "    \n",
        "    return 0;\n",
        "}"
      ],
      "execution_count": 49,
      "outputs": [
        {
          "output_type": "stream",
          "text": [
            "Overwriting test.cpp\n"
          ],
          "name": "stdout"
        }
      ]
    },
    {
      "cell_type": "code",
      "metadata": {
        "id": "CAFnTrZJlzBi",
        "colab_type": "code",
        "colab": {
          "base_uri": "https://localhost:8080/",
          "height": 69
        },
        "outputId": "7c0f318f-307e-4aa4-dbe3-2856f783007a"
      },
      "source": [
        "%%script bash\n",
        "g++ test.cpp -o test \n",
        "./test\n"
      ],
      "execution_count": 50,
      "outputs": [
        {
          "output_type": "stream",
          "text": [
            "Number of vowels : 5\n",
            "Number of consonant : 8\n",
            "Number of space : 2\n"
          ],
          "name": "stdout"
        }
      ]
    },
    {
      "cell_type": "markdown",
      "metadata": {
        "id": "4lBwaqOJnMzj",
        "colab_type": "text"
      },
      "source": [
        "One another interesting application of pass by reference is that the content of a string variable can change just like a variable of int, float  or double while using aliasing.\n",
        "\n",
        "An example is shown below:"
      ]
    },
    {
      "cell_type": "code",
      "metadata": {
        "id": "CXZGdRRsmb1x",
        "colab_type": "code",
        "colab": {
          "base_uri": "https://localhost:8080/",
          "height": 35
        },
        "outputId": "adab69ad-0ec2-46a3-a4fe-6e7f964988e3"
      },
      "source": [
        "%%writefile test.cpp\n",
        "#include <iostream>\n",
        "using namespace std;\n",
        "//Using pass by reference\n",
        "/*\n",
        " Count the number of vowels and consonants in a string\n",
        "*/\n",
        "\n",
        "void changeColor(string &color){\n",
        "    color = \"blue\";\n",
        "}\n",
        "int main(){\n",
        "    string str = \"red\";\n",
        "    changeColor(str);\n",
        "    cout<<\"Color is now: \"<<str<<endl;\n",
        "    return 0;\n",
        "}"
      ],
      "execution_count": 52,
      "outputs": [
        {
          "output_type": "stream",
          "text": [
            "Overwriting test.cpp\n"
          ],
          "name": "stdout"
        }
      ]
    },
    {
      "cell_type": "code",
      "metadata": {
        "id": "wBDmUcrMoPBa",
        "colab_type": "code",
        "colab": {
          "base_uri": "https://localhost:8080/",
          "height": 35
        },
        "outputId": "943d86f5-7aa3-4b31-94c5-10a7eb1d4b75"
      },
      "source": [
        "%%script bash\n",
        "g++ test.cpp -o test \n",
        "./test\n"
      ],
      "execution_count": 53,
      "outputs": [
        {
          "output_type": "stream",
          "text": [
            "Color is now: blue\n"
          ],
          "name": "stdout"
        }
      ]
    },
    {
      "cell_type": "markdown",
      "metadata": {
        "id": "5nJUjDbioSbw",
        "colab_type": "text"
      },
      "source": [
        "There will be a comprehensive discussion about string and pass by reference in the coming lesson, for now appreciate that the strings can be changed using pass by reference, without any explicit return from a function."
      ]
    },
    {
      "cell_type": "code",
      "metadata": {
        "id": "Dgunxv3GolfD",
        "colab_type": "code",
        "colab": {}
      },
      "source": [
        ""
      ],
      "execution_count": 0,
      "outputs": []
    },
    {
      "cell_type": "markdown",
      "metadata": {
        "id": "f7ii4wvPonYg",
        "colab_type": "text"
      },
      "source": [
        "# File"
      ]
    },
    {
      "cell_type": "code",
      "metadata": {
        "id": "W4vWxdWWopgh",
        "colab_type": "code",
        "colab": {}
      },
      "source": [
        ""
      ],
      "execution_count": 0,
      "outputs": []
    }
  ]
}