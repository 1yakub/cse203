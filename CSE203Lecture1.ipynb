{
  "nbformat": 4,
  "nbformat_minor": 0,
  "metadata": {
    "colab": {
      "name": "CSE203Lecture1.ipynb",
      "provenance": [],
      "include_colab_link": true
    },
    "kernelspec": {
      "name": "python3",
      "display_name": "Python 3"
    }
  },
  "cells": [
    {
      "cell_type": "markdown",
      "metadata": {
        "id": "view-in-github",
        "colab_type": "text"
      },
      "source": [
        "<a href=\"https://colab.research.google.com/github/mohammadmotiurrahman/cse203/blob/master/CSE203Lecture1.ipynb\" target=\"_parent\"><img src=\"https://colab.research.google.com/assets/colab-badge.svg\" alt=\"Open In Colab\"/></a>"
      ]
    },
    {
      "cell_type": "markdown",
      "metadata": {
        "id": "YGoUSIB4ESm_",
        "colab_type": "text"
      },
      "source": [
        "##Review of CSC 101 course taught at IUB . In order to run the code , try the following key combination, Shift + Enter .\n",
        "---\n"
      ]
    },
    {
      "cell_type": "markdown",
      "metadata": {
        "id": "a8Ek3ghdYGxf",
        "colab_type": "text"
      },
      "source": [
        "## Basic Idea"
      ]
    },
    {
      "cell_type": "markdown",
      "metadata": {
        "id": "EJQl_gJNK6ig",
        "colab_type": "text"
      },
      "source": [
        "So let us begin with the Hello World of CSC 101."
      ]
    },
    {
      "cell_type": "code",
      "metadata": {
        "id": "k8tTFQsXDkiC",
        "colab_type": "code",
        "outputId": "89f9a36a-7c6e-4662-f991-ddbe012a63be",
        "colab": {
          "base_uri": "https://localhost:8080/",
          "height": 35
        }
      },
      "source": [
        "%%writefile test.cpp\n",
        "\n",
        "//This is where you will write your C++ code\n",
        "#include <iostream>\n",
        "using namespace std;\n",
        "\n",
        "int main(){\n",
        "    int x = 6;\n",
        "    cout<<\"Hello World\"<<endl;\n",
        "    return 0;\n",
        "}"
      ],
      "execution_count": 0,
      "outputs": [
        {
          "output_type": "stream",
          "text": [
            "Writing test.cpp\n"
          ],
          "name": "stdout"
        }
      ]
    },
    {
      "cell_type": "code",
      "metadata": {
        "id": "6w2AoSydD_-e",
        "colab_type": "code",
        "outputId": "f462d40c-146b-4b36-f7e3-47dedf849802",
        "colab": {
          "base_uri": "https://localhost:8080/",
          "height": 35
        }
      },
      "source": [
        "%%script bash\n",
        "g++ test.cpp -o test \n",
        "./test"
      ],
      "execution_count": 0,
      "outputs": [
        {
          "output_type": "stream",
          "text": [
            "Hello World\n"
          ],
          "name": "stdout"
        }
      ]
    },
    {
      "cell_type": "markdown",
      "metadata": {
        "id": "3lesbP2vFnEQ",
        "colab_type": "text"
      },
      "source": [
        "Let us move to something more interesting. Add two numbers."
      ]
    },
    {
      "cell_type": "code",
      "metadata": {
        "id": "UKYPa2dEFeJu",
        "colab_type": "code",
        "outputId": "b3de5d61-bca9-4f15-e514-4c88662c081d",
        "colab": {
          "base_uri": "https://localhost:8080/",
          "height": 35
        }
      },
      "source": [
        "%%writefile test.cpp\n",
        "\n",
        "//This is where you will write your C++ code\n",
        "#include <iostream>\n",
        "using namespace std;\n",
        "\n",
        "int main(){\n",
        "    int x = 6; int y = 5;\n",
        "    int z = x + y;\n",
        "    cout<<\"The summation is \"<<z<<endl;\n",
        "    return 0;\n",
        "}"
      ],
      "execution_count": 0,
      "outputs": [
        {
          "output_type": "stream",
          "text": [
            "Overwriting test.cpp\n"
          ],
          "name": "stdout"
        }
      ]
    },
    {
      "cell_type": "code",
      "metadata": {
        "id": "yqhr6q7SHAiP",
        "colab_type": "code",
        "outputId": "223385a6-9060-4105-b2a1-116488a2f4b2",
        "colab": {
          "base_uri": "https://localhost:8080/",
          "height": 35
        }
      },
      "source": [
        "%%script bash\n",
        "g++ test.cpp -o test \n",
        "./test"
      ],
      "execution_count": 0,
      "outputs": [
        {
          "output_type": "stream",
          "text": [
            "The summation is 11\n"
          ],
          "name": "stdout"
        }
      ]
    },
    {
      "cell_type": "markdown",
      "metadata": {
        "id": "ru736VuEHItD",
        "colab_type": "text"
      },
      "source": [
        "Try to write a for-loop"
      ]
    },
    {
      "cell_type": "code",
      "metadata": {
        "id": "sT3_IO6PHSA_",
        "colab_type": "code",
        "outputId": "d297629e-209e-4b6f-9ddc-98f2011050ab",
        "colab": {
          "base_uri": "https://localhost:8080/",
          "height": 35
        }
      },
      "source": [
        "%%writefile test.cpp\n",
        "\n",
        "//This is where you will write your C++ code\n",
        "#include <iostream>\n",
        "using namespace std;\n",
        "\n",
        "int main(){\n",
        "    for(int i = 0; i < 10; ++i){\n",
        "        cout << 2 * i << \" \";\n",
        "    }\n",
        "    return 0;\n",
        "}"
      ],
      "execution_count": 0,
      "outputs": [
        {
          "output_type": "stream",
          "text": [
            "Overwriting test.cpp\n"
          ],
          "name": "stdout"
        }
      ]
    },
    {
      "cell_type": "code",
      "metadata": {
        "id": "QPmWKpKQHiNw",
        "colab_type": "code",
        "outputId": "cc6ef675-4fb6-4447-8b1e-315af4202ed2",
        "colab": {
          "base_uri": "https://localhost:8080/",
          "height": 35
        }
      },
      "source": [
        "%%script bash\n",
        "g++ test.cpp -o test \n",
        "./test"
      ],
      "execution_count": 0,
      "outputs": [
        {
          "output_type": "stream",
          "text": [
            "0 2 4 6 8 10 12 14 16 18 "
          ],
          "name": "stdout"
        }
      ]
    },
    {
      "cell_type": "markdown",
      "metadata": {
        "id": "eBoUasp2INDJ",
        "colab_type": "text"
      },
      "source": [
        "Write a while loop"
      ]
    },
    {
      "cell_type": "code",
      "metadata": {
        "id": "0gjdCUfGIP5J",
        "colab_type": "code",
        "outputId": "cacb743c-2cdb-44e5-9fdc-1efb265f7d3f",
        "colab": {
          "base_uri": "https://localhost:8080/",
          "height": 35
        }
      },
      "source": [
        "%%writefile test.cpp\n",
        "\n",
        "//This is where you will write your C++ code\n",
        "#include <iostream>\n",
        "using namespace std;\n",
        "\n",
        "int main(){\n",
        "    int i = 0;\n",
        "    while(i < 10){\n",
        "        cout << 2 * i << \" \";\n",
        "        i = i + 1;\n",
        "    }\n",
        "    return 0;\n",
        "}"
      ],
      "execution_count": 0,
      "outputs": [
        {
          "output_type": "stream",
          "text": [
            "Overwriting test.cpp\n"
          ],
          "name": "stdout"
        }
      ]
    },
    {
      "cell_type": "code",
      "metadata": {
        "id": "B45fXIkMIdgu",
        "colab_type": "code",
        "outputId": "e7c150df-c002-40e8-a154-8d5d357cd430",
        "colab": {
          "base_uri": "https://localhost:8080/",
          "height": 35
        }
      },
      "source": [
        "%%script bash\n",
        "g++ test.cpp -o test \n",
        "./test"
      ],
      "execution_count": 0,
      "outputs": [
        {
          "output_type": "stream",
          "text": [
            "0 2 4 6 8 10 12 14 16 18 "
          ],
          "name": "stdout"
        }
      ]
    },
    {
      "cell_type": "markdown",
      "metadata": {
        "id": "vniJJkELI4Z8",
        "colab_type": "text"
      },
      "source": [
        "Find whether a number is prime or not"
      ]
    },
    {
      "cell_type": "code",
      "metadata": {
        "id": "JGiZr3b7I-YG",
        "colab_type": "code",
        "outputId": "5bb6147e-8f63-4033-c3ca-ad387f8559df",
        "colab": {
          "base_uri": "https://localhost:8080/",
          "height": 35
        }
      },
      "source": [
        "%%writefile test.cpp\n",
        "\n",
        "//This is where you will write your C++ code\n",
        "#include <iostream>\n",
        "using namespace std;\n",
        "\n",
        "int main(){\n",
        "    bool isPrime = true;\n",
        "    int num = 7;\n",
        "    for(int i = 2; i < num ; ++i){\n",
        "        if(num % i == 0){\n",
        "            isPrime = false;\n",
        "        }\n",
        "    }\n",
        "    if(isPrime == false){\n",
        "        cout<<num<<\" is not Prime\"<<endl;\n",
        "    }\n",
        "    else{\n",
        "        cout<<num<<\" is Prime\"<<endl;\n",
        "    }\n",
        "    \n",
        "    return 0;\n",
        "}"
      ],
      "execution_count": 0,
      "outputs": [
        {
          "output_type": "stream",
          "text": [
            "Overwriting test.cpp\n"
          ],
          "name": "stdout"
        }
      ]
    },
    {
      "cell_type": "code",
      "metadata": {
        "id": "m8UuismrJclT",
        "colab_type": "code",
        "outputId": "64d1bdd9-6a7f-4350-b6e7-ee9d5407b241",
        "colab": {
          "base_uri": "https://localhost:8080/",
          "height": 35
        }
      },
      "source": [
        "%%script bash\n",
        "g++ test.cpp -o test \n",
        "./test"
      ],
      "execution_count": 0,
      "outputs": [
        {
          "output_type": "stream",
          "text": [
            "7 is Prime\n"
          ],
          "name": "stdout"
        }
      ]
    },
    {
      "cell_type": "markdown",
      "metadata": {
        "id": "RC74eIxXYCGU",
        "colab_type": "text"
      },
      "source": [
        "## Functions"
      ]
    },
    {
      "cell_type": "markdown",
      "metadata": {
        "id": "SRI0Pd-hYg2w",
        "colab_type": "text"
      },
      "source": [
        "Functions are components of a program that helps to modularize a program.\n",
        "Here is a function to print a list of odd numbers."
      ]
    },
    {
      "cell_type": "code",
      "metadata": {
        "id": "5OQigsLKZJHV",
        "colab_type": "code",
        "outputId": "b6a5aefa-2272-4fac-83a5-192d0e504cbc",
        "colab": {
          "base_uri": "https://localhost:8080/"
        }
      },
      "source": [
        "%%writefile test.cpp\n",
        "\n",
        "//This is where you will write your C++ code\n",
        "#include <iostream>\n",
        "using namespace std;\n",
        "\n",
        "void printOddNumbers(int x){\n",
        "    for(int i = 0; i < x; ++i){\n",
        "        if( i % 2 ){\n",
        "            cout<< i << \" \";\n",
        "        }\n",
        "    }\n",
        "}\n",
        "int main(){\n",
        "    printOddNumbers(10);\n",
        "    return 0;\n",
        "}"
      ],
      "execution_count": 0,
      "outputs": [
        {
          "output_type": "stream",
          "text": [
            "Overwriting test.cpp\n"
          ],
          "name": "stdout"
        }
      ]
    },
    {
      "cell_type": "code",
      "metadata": {
        "id": "tP1_RRLkaRIE",
        "colab_type": "code",
        "outputId": "28c20d00-d957-4de3-e35c-a18fc2e75a6c",
        "colab": {
          "base_uri": "https://localhost:8080/"
        }
      },
      "source": [
        "%%script bash\n",
        "g++ test.cpp -o test \n",
        "./test"
      ],
      "execution_count": 0,
      "outputs": [
        {
          "output_type": "stream",
          "text": [
            "1 3 5 7 9 "
          ],
          "name": "stdout"
        }
      ]
    },
    {
      "cell_type": "markdown",
      "metadata": {
        "id": "2U5FHaBwatV3",
        "colab_type": "text"
      },
      "source": [
        "Here is an function to print a list of prime numbers from 0 to 100."
      ]
    },
    {
      "cell_type": "code",
      "metadata": {
        "id": "5_Ry4zH6ay08",
        "colab_type": "code",
        "outputId": "c4fd7097-8498-4e0f-e1ef-4d69a5c6e968",
        "colab": {
          "base_uri": "https://localhost:8080/"
        }
      },
      "source": [
        "%%writefile test.cpp\n",
        "\n",
        "//This is where you will write your C++ code\n",
        "#include <iostream>\n",
        "using namespace std;\n",
        "\n",
        "bool isPrimeNumber(int x){\n",
        "    bool isPrime = true;\n",
        "    for(int i = 2; i < x ; ++i){\n",
        "        if( x % i == 0){\n",
        "          isPrime = false;\n",
        "        }\n",
        "    }\n",
        "    return isPrime;\n",
        "}\n",
        "void printPrimeNumber(int x){\n",
        "    for( int i = 2 ; i < x ; ++i){\n",
        "        // If a number i is a prime number\n",
        "        if(isPrimeNumber(i) == true){\n",
        "            cout << i << \" \";\n",
        "        }\n",
        "    }\n",
        "}\n",
        "int main(){\n",
        "    printPrimeNumber(100);\n",
        "    return 0;\n",
        "}"
      ],
      "execution_count": 0,
      "outputs": [
        {
          "output_type": "stream",
          "text": [
            "Overwriting test.cpp\n"
          ],
          "name": "stdout"
        }
      ]
    },
    {
      "cell_type": "code",
      "metadata": {
        "id": "5ytsO2oHaTn-",
        "colab_type": "code",
        "outputId": "3efa34ea-326c-49db-b458-8f0f9d4e623d",
        "colab": {
          "base_uri": "https://localhost:8080/"
        }
      },
      "source": [
        "%%script bash\n",
        "g++ test.cpp -o test \n",
        "./test"
      ],
      "execution_count": 0,
      "outputs": [
        {
          "output_type": "stream",
          "text": [
            "2 3 5 7 11 13 17 19 23 29 31 37 41 43 47 53 59 61 67 71 73 79 83 89 97 "
          ],
          "name": "stdout"
        }
      ]
    },
    {
      "cell_type": "markdown",
      "metadata": {
        "id": "umZs5HrBflur",
        "colab_type": "text"
      },
      "source": [
        "Here is an another function to find LCM and HCF of given numbers"
      ]
    },
    {
      "cell_type": "code",
      "metadata": {
        "id": "Rq1F1XJgf87Z",
        "colab_type": "code",
        "outputId": "a4cd69ab-dd97-45c0-8f1a-8fc280b508ad",
        "colab": {
          "base_uri": "https://localhost:8080/"
        }
      },
      "source": [
        "%%writefile test.cpp\n",
        "\n",
        "//This is where you will write your C++ code\n",
        "#include <iostream>\n",
        "using namespace std;\n",
        "\n",
        "int lcm(int a, int b){\n",
        "    int x = 2;\n",
        "    while(!((x % a  == 0) && (x % b == 0))){\n",
        "        x = x + 1;\n",
        "    }\n",
        "    return x;\n",
        "}\n",
        "int hcf(int a, int b){\n",
        "    return (a*b)/ lcm(a,b);\n",
        "}\n",
        "int main(){\n",
        "    int a = 12; int b = 30;\n",
        "    cout << \"LCM of \" << a << \" \" << b << \" is \"  << lcm(a,b) << endl;\n",
        "    cout << \"HCF of \" << a << \" \" << b << \" is \" << hcf(a,b) << endl;\n",
        "    \n",
        "    return 0;\n",
        "}"
      ],
      "execution_count": 0,
      "outputs": [
        {
          "output_type": "stream",
          "text": [
            "Overwriting test.cpp\n"
          ],
          "name": "stdout"
        }
      ]
    },
    {
      "cell_type": "code",
      "metadata": {
        "id": "uETSzaZTg5cU",
        "colab_type": "code",
        "outputId": "402089eb-60f3-4984-f36a-1a63d7bedc48",
        "colab": {
          "base_uri": "https://localhost:8080/"
        }
      },
      "source": [
        "%%script bash\n",
        "g++ test.cpp -o test \n",
        "./test"
      ],
      "execution_count": 0,
      "outputs": [
        {
          "output_type": "stream",
          "text": [
            "LCM of 12 30 is 60\n",
            "HCF of 12 30 is 6\n"
          ],
          "name": "stdout"
        }
      ]
    },
    {
      "cell_type": "markdown",
      "metadata": {
        "id": "AUF2bOKFor-a",
        "colab_type": "text"
      },
      "source": [
        "## Array"
      ]
    },
    {
      "cell_type": "markdown",
      "metadata": {
        "id": "T9PVHUAypaWu",
        "colab_type": "text"
      },
      "source": [
        "Array is a collection of similar types of data"
      ]
    },
    {
      "cell_type": "code",
      "metadata": {
        "id": "s9MDkrcxpesz",
        "colab_type": "code",
        "outputId": "fd517f29-904e-4f66-c90b-f70b8c99f403",
        "colab": {
          "base_uri": "https://localhost:8080/"
        }
      },
      "source": [
        "%%writefile test.cpp\n",
        "\n",
        "//This is where you will write your C++ code\n",
        "#include <iostream>\n",
        "using namespace std;\n",
        "int main(){\n",
        "    int arr[10];\n",
        "    for(int i =0; i<10; ++i){\n",
        "        arr[i] = i;\n",
        "    }\n",
        "    for(int i=0; i<10; ++i){\n",
        "        cout<<arr[i]<<\" \";\n",
        "    }\n",
        "    return 0;\n",
        "}"
      ],
      "execution_count": 0,
      "outputs": [
        {
          "output_type": "stream",
          "text": [
            "Overwriting test.cpp\n"
          ],
          "name": "stdout"
        }
      ]
    },
    {
      "cell_type": "code",
      "metadata": {
        "id": "LKm0lDRJq6Zd",
        "colab_type": "code",
        "outputId": "ad2cc495-28f2-4851-ca6f-c7919f6f12a0",
        "colab": {
          "base_uri": "https://localhost:8080/"
        }
      },
      "source": [
        "%%script bash\n",
        "g++ test.cpp -o test \n",
        "./test"
      ],
      "execution_count": 0,
      "outputs": [
        {
          "output_type": "stream",
          "text": [
            "0 1 2 3 4 5 6 7 8 9 "
          ],
          "name": "stdout"
        }
      ]
    },
    {
      "cell_type": "markdown",
      "metadata": {
        "id": "oxIY_TCuvSKp",
        "colab_type": "text"
      },
      "source": [
        "Something about ```const```\n",
        "\n"
      ]
    },
    {
      "cell_type": "code",
      "metadata": {
        "id": "6kZSfpfRvcH8",
        "colab_type": "code",
        "outputId": "41e46c39-f83b-4b5f-b5a6-d0c7d2763b10",
        "colab": {
          "base_uri": "https://localhost:8080/"
        }
      },
      "source": [
        "%%writefile test.cpp\n",
        "#include <iostream>\n",
        "using namespace std;\n",
        "int main(){\n",
        "    //It is possible to change value of the variable a\n",
        "    int a = 30;\n",
        "    a = 10;\n",
        "\n",
        "    //It is not possible to change value of the variable a\n",
        "    //if  the variable is change to const\n",
        "    const int a = 10;\n",
        "    a = 13;\n",
        "    \n",
        "    return 0;\n",
        "}"
      ],
      "execution_count": 0,
      "outputs": [
        {
          "output_type": "stream",
          "text": [
            "Overwriting test.cpp\n"
          ],
          "name": "stdout"
        }
      ]
    },
    {
      "cell_type": "code",
      "metadata": {
        "id": "PsJjMV0ivk_N",
        "colab_type": "code",
        "outputId": "3f08769b-9901-4889-ebe3-4a8a41770f6c",
        "colab": {
          "base_uri": "https://localhost:8080/"
        }
      },
      "source": [
        "%%script bash\n",
        "g++ test.cpp -o test \n",
        "./test"
      ],
      "execution_count": 0,
      "outputs": [
        {
          "output_type": "stream",
          "text": [
            "0 1 2 3 4 5 6 7 8 9 "
          ],
          "name": "stdout"
        },
        {
          "output_type": "stream",
          "text": [
            "test.cpp: In function ‘int main()’:\n",
            "test.cpp:10:15: error: conflicting declaration ‘const int a’\n",
            "     const int a = 10;\n",
            "               ^\n",
            "test.cpp:5:9: note: previous declaration as ‘int a’\n",
            "     int a = 30;\n",
            "         ^\n"
          ],
          "name": "stderr"
        }
      ]
    },
    {
      "cell_type": "markdown",
      "metadata": {
        "id": "-ukY5230xskY",
        "colab_type": "text"
      },
      "source": [
        "While declaring an array in Visual Studio, the following norm is followed."
      ]
    },
    {
      "cell_type": "code",
      "metadata": {
        "id": "FavsoxACy2Fu",
        "colab_type": "code",
        "outputId": "bbcd0fea-116f-49ac-ee82-7e4a04f0b371",
        "colab": {
          "base_uri": "https://localhost:8080/"
        }
      },
      "source": [
        "%%writefile test.cpp\n",
        "#include <iostream>\n",
        "using namespace std;\n",
        "int main(){\n",
        "    \n",
        "    const int a = 5;\n",
        "    int arr[a];\n",
        "    \n",
        "    for(int i = 0; i < a; ++i){\n",
        "        arr[i] = i;\n",
        "    }\n",
        "\n",
        "    for(int i = 0; i < a; ++i ){\n",
        "        cout << arr[i] << \" \";\n",
        "    }\n",
        "\n",
        "    return 0;\n",
        "}"
      ],
      "execution_count": 0,
      "outputs": [
        {
          "output_type": "stream",
          "text": [
            "Overwriting test.cpp\n"
          ],
          "name": "stdout"
        }
      ]
    },
    {
      "cell_type": "code",
      "metadata": {
        "id": "HaZ32sMQzR5k",
        "colab_type": "code",
        "outputId": "5dc7e4e5-5230-4df0-9a6e-049cc51d2bf8",
        "colab": {
          "base_uri": "https://localhost:8080/"
        }
      },
      "source": [
        "%%script bash\n",
        "g++ test.cpp -o test \n",
        "./test"
      ],
      "execution_count": 0,
      "outputs": [
        {
          "output_type": "stream",
          "text": [
            "0 1 2 3 4 "
          ],
          "name": "stdout"
        }
      ]
    },
    {
      "cell_type": "markdown",
      "metadata": {
        "id": "QEUKFtl3ziXq",
        "colab_type": "text"
      },
      "source": [
        "However, in compiler such as gcc, in which all of these codes are run such norms are not followed"
      ]
    },
    {
      "cell_type": "code",
      "metadata": {
        "id": "DPOspxY8zyCN",
        "colab_type": "code",
        "outputId": "c208ace9-44db-4158-a99e-6aab011103a6",
        "colab": {
          "base_uri": "https://localhost:8080/"
        }
      },
      "source": [
        "%%writefile test.cpp\n",
        "#include <iostream>\n",
        "using namespace std;\n",
        "int main(){\n",
        "    \n",
        "    //Initially the size of the array has been set to 5\n",
        "    int a = 5;\n",
        "    int arr[a];\n",
        "    //However, it is possible to change value of the variable a\n",
        "    //in the middle of the code, which should lead to some \n",
        "    //unsavory problems. The first one is why should there be\n",
        "    //unnecessary spaces , if the value of a is less than the \n",
        "    //original. But more worrisome is when the value of a is \n",
        "    //more than the orignally allocated space. For example what\n",
        "    //if the value of a is 10 instead of 3.\n",
        "    a = 3;\n",
        "    for(int i = 0; i < a; ++i){\n",
        "        arr[i] = i;\n",
        "    }\n",
        "\n",
        "    for(int i = 0; i < a; ++i ){\n",
        "        cout << arr[i] << \" \";\n",
        "    }\n",
        "    cout<<endl;\n",
        "    a = 10;\n",
        "    for(int i = 0; i < a; ++i){\n",
        "        arr[i] = i;\n",
        "    }\n",
        "\n",
        "    for(int i = 0; i < a; ++i ){\n",
        "        cout << arr[i] << \" \";\n",
        "    }\n",
        "\n",
        "    return 0;\n",
        "}"
      ],
      "execution_count": 0,
      "outputs": [
        {
          "output_type": "stream",
          "text": [
            "Overwriting test.cpp\n"
          ],
          "name": "stdout"
        }
      ]
    },
    {
      "cell_type": "code",
      "metadata": {
        "id": "KYZgBjdczzfd",
        "colab_type": "code",
        "outputId": "ee87b584-64d4-432f-b076-413c8e6d4277",
        "colab": {
          "base_uri": "https://localhost:8080/"
        }
      },
      "source": [
        "%%script bash\n",
        "g++ test.cpp -o test \n",
        "./test"
      ],
      "execution_count": 0,
      "outputs": [
        {
          "output_type": "stream",
          "text": [
            "0 1 2 \n",
            "0 1 2 3 4 5 6 7 8 9 "
          ],
          "name": "stdout"
        }
      ]
    },
    {
      "cell_type": "markdown",
      "metadata": {
        "id": "UJeOyM8o1nVB",
        "colab_type": "text"
      },
      "source": [
        "Observe the 2nd line of the output, it should not happen. The initial array was designed to hold only 5 integer values. So when the value of the variable a was changed to 10, how can the array accomodate the extra 5 integer. At those moments the compiler steps into memory of other data structures which it shouldn't have the permission to access. Therefore it can easily be said that the compiler for Visual Studio is the best way to go. It ensures that the array data structure only access values that it was originally assigned to . "
      ]
    },
    {
      "cell_type": "markdown",
      "metadata": {
        "id": "UDT32EV__LG6",
        "colab_type": "text"
      },
      "source": [
        "Somethings that want to use array for:\n",
        "1.   Average of numbers in an array"
      ]
    },
    {
      "cell_type": "code",
      "metadata": {
        "id": "fMSmITql_3BD",
        "colab_type": "code",
        "outputId": "af8ebc78-3d2a-4947-97f2-3a3475f5466a",
        "colab": {
          "base_uri": "https://localhost:8080/"
        }
      },
      "source": [
        "%%writefile test.cpp\n",
        "//Finding average of numbers in an array\n",
        "#include <iostream>\n",
        "using namespace std;\n",
        "int main(){\n",
        "    \n",
        "    //The size of the array has been set to 5\n",
        "    const int a = 5;\n",
        "    int arr[a] = {1,2,4,5,3};\n",
        "    float avg = 0;\n",
        "    for(int i = 0; i < a; ++i ){\n",
        "        avg += arr[i];\n",
        "    }\n",
        "    cout<<\"The average of the values: \"<<avg/a<<endl;\n",
        "    return 0;\n",
        "}"
      ],
      "execution_count": 0,
      "outputs": [
        {
          "output_type": "stream",
          "text": [
            "Overwriting test.cpp\n"
          ],
          "name": "stdout"
        }
      ]
    },
    {
      "cell_type": "code",
      "metadata": {
        "id": "Xi5aOGhyPs6E",
        "colab_type": "code",
        "outputId": "1537d2da-1d90-4d76-9988-7cc910f3ce7f",
        "colab": {
          "base_uri": "https://localhost:8080/"
        }
      },
      "source": [
        "%%script bash\n",
        "g++ test.cpp -o test \n",
        "./test"
      ],
      "execution_count": 0,
      "outputs": [
        {
          "output_type": "stream",
          "text": [
            "The average of the values: 3\n"
          ],
          "name": "stdout"
        }
      ]
    },
    {
      "cell_type": "markdown",
      "metadata": {
        "id": "5uvZWmurQhPn",
        "colab_type": "text"
      },
      "source": [
        "2.    Adding the value of two array's into a third array."
      ]
    },
    {
      "cell_type": "code",
      "metadata": {
        "id": "UWL9ir5DSTbS",
        "colab_type": "code",
        "outputId": "1e3a2ec0-344e-4e8d-f24b-5dd7ce47fa30",
        "colab": {
          "base_uri": "https://localhost:8080/"
        }
      },
      "source": [
        "%%writefile test.cpp\n",
        "//Adding the values of two array's and \n",
        "//storing it in a third array\n",
        "#include <iostream>\n",
        "using namespace std;\n",
        "int main(){\n",
        "    \n",
        "    //The size of the array has been set to 5\n",
        "    const int a = 5;\n",
        "    int firstArray[a] = {1,2,4,5,3};\n",
        "    \n",
        "    const int b = 5;\n",
        "    int secondArray[b] = {4,5,5,6,7};\n",
        "\n",
        "    const int c = 5;\n",
        "    int thirdArray[c] = {0,0,0,0,0};\n",
        "\n",
        "    for(int i = 0; i < a; ++i){\n",
        "        thirdArray[i] = firstArray[i] + secondArray[i];\n",
        "    }\n",
        "\n",
        "    for(int i = 0; i < a; ++i){\n",
        "        cout<<thirdArray[i]<<\" \";\n",
        "    }\n",
        "    return 0;\n",
        "}"
      ],
      "execution_count": 0,
      "outputs": [
        {
          "output_type": "stream",
          "text": [
            "Overwriting test.cpp\n"
          ],
          "name": "stdout"
        }
      ]
    },
    {
      "cell_type": "code",
      "metadata": {
        "id": "yVhLK8exWrkn",
        "colab_type": "code",
        "outputId": "a3ea8bc6-5d3f-477d-fc63-10714a549ca7",
        "colab": {
          "base_uri": "https://localhost:8080/"
        }
      },
      "source": [
        "%%script bash\n",
        "g++ test.cpp -o test \n",
        "./test"
      ],
      "execution_count": 0,
      "outputs": [
        {
          "output_type": "stream",
          "text": [
            "5 7 9 11 10 "
          ],
          "name": "stdout"
        }
      ]
    },
    {
      "cell_type": "markdown",
      "metadata": {
        "id": "_7h5MjpYW5_m",
        "colab_type": "text"
      },
      "source": [
        "3.  Finding the freqeuncy of an element in an array"
      ]
    },
    {
      "cell_type": "code",
      "metadata": {
        "id": "8fPA13yXZvWZ",
        "colab_type": "code",
        "outputId": "a2d78771-476f-431d-fe46-832026e2a71c",
        "colab": {
          "base_uri": "https://localhost:8080/"
        }
      },
      "source": [
        "%%writefile test.cpp\n",
        "//Finding the freqeuncy of a number\n",
        "//in an array\n",
        "#include <iostream>\n",
        "using namespace std;\n",
        "int main(){\n",
        "    \n",
        "    //The size of the array has been set to 5\n",
        "    const int a = 5;int counter = 0;\n",
        "    int firstArray[a] = {1,3,3,5,3};\n",
        "    for(int i = 0; i < a; ++i){\n",
        "        //Count the number of 3 in an array\n",
        "        if(firstArray[i] == 3){\n",
        "            counter = counter + 1;\n",
        "        }\n",
        "    }\n",
        "    cout<<\"The number of 3 in the array is: \"<<counter<<endl;\n",
        "    return 0;\n",
        "}"
      ],
      "execution_count": 0,
      "outputs": [
        {
          "output_type": "stream",
          "text": [
            "Overwriting test.cpp\n"
          ],
          "name": "stdout"
        }
      ]
    },
    {
      "cell_type": "code",
      "metadata": {
        "id": "8PaxlEgVba5m",
        "colab_type": "code",
        "outputId": "e3adb330-af2b-4af1-c1c8-aa94ab77105e",
        "colab": {
          "base_uri": "https://localhost:8080/"
        }
      },
      "source": [
        "%%script bash\n",
        "g++ test.cpp -o test \n",
        "./test"
      ],
      "execution_count": 0,
      "outputs": [
        {
          "output_type": "stream",
          "text": [
            "The number of 3 in the array is: 3\n"
          ],
          "name": "stdout"
        }
      ]
    },
    {
      "cell_type": "markdown",
      "metadata": {
        "id": "Cpj8bRvOboMM",
        "colab_type": "text"
      },
      "source": [
        "## Two dimensional array\n",
        "So two dimensional array is another way to represent a lot of one dimensional arrays together. For example, if a student 4 subjects in the first semester, the final marks it can be represented in an array which contains 4 integers. If he takes another 4 subjects in the second semester his final marks can be represented in another array. What if we want to represent all the marks in the first semester and the second semester in an array. We should use two dimensional array.\n",
        "Two dimensional array is represented as : `int arr[row][col]`. The `row` is the number of semesters that the student has attended which is `2`. The `col` is the number of subjects that the student took in the semester which is `4`. \n",
        "While writing the code in Visual Studio, it is written like this:\n",
        "```\n",
        "const int row = 2;\n",
        "const int col = 4;\n",
        "int arr[row][col];\n",
        "```"
      ]
    },
    {
      "cell_type": "code",
      "metadata": {
        "id": "hGQBfsN1buys",
        "colab_type": "code",
        "outputId": "1c0cc657-b747-4ee5-83fd-ef2b428e461d",
        "colab": {
          "base_uri": "https://localhost:8080/",
          "height": 35
        }
      },
      "source": [
        "%%writefile test.cpp\n",
        "//Two dimensional array\n",
        "#include <iostream>\n",
        "using namespace std;\n",
        "int main(){\n",
        "    const int row = 2; const int col = 4;\n",
        "    int marks[row][col] = {\n",
        "                        //Marks for 1st semester\n",
        "                        {95,80,91,100},\n",
        "                        //Marks for 2nd semester\n",
        "                        {100,93,90,80}\n",
        "                      };\n",
        "    for(int i = 0; i < row; ++i){\n",
        "        cout<<\"Semester number: \"<<i+1<<endl;\n",
        "        cout<<\"Final marks: \";\n",
        "        for(int j = 0; j < col; ++j){\n",
        "            cout<<marks[i][j]<<\" \";\n",
        "        }\n",
        "        cout<<endl;\n",
        "    }\n",
        "\n",
        "    return 0;\n",
        "}"
      ],
      "execution_count": 0,
      "outputs": [
        {
          "output_type": "stream",
          "text": [
            "Overwriting test.cpp\n"
          ],
          "name": "stdout"
        }
      ]
    },
    {
      "cell_type": "code",
      "metadata": {
        "id": "AmJFGWbjxk_D",
        "colab_type": "code",
        "outputId": "5894232d-f7f4-41d1-a11c-456df3c42db0",
        "colab": {
          "base_uri": "https://localhost:8080/",
          "height": 87
        }
      },
      "source": [
        "%%script bash\n",
        "g++ test.cpp -o test \n",
        "./test"
      ],
      "execution_count": 0,
      "outputs": [
        {
          "output_type": "stream",
          "text": [
            "Semester number: 1\n",
            "Final marks: 95 80 91 100 \n",
            "Semester number: 2\n",
            "Final marks: 100 93 90 80 \n"
          ],
          "name": "stdout"
        }
      ]
    },
    {
      "cell_type": "markdown",
      "metadata": {
        "id": "jkKZoVSFhJsj",
        "colab_type": "text"
      },
      "source": [
        "### Matrix addition using two dimensional array \n",
        "So, a matrix can be a vector of dimension n x 1 or it can be a structure of dimension m x n. If it a vector of dimension n x 1 , it can be considered as an one dimensional array. Addition and subtraction of a vector will follow the same rules as addition and subtraction of a one dimensional array.\n",
        "Here I will show how addition and subtraction is done using two dimensional array. "
      ]
    },
    {
      "cell_type": "code",
      "metadata": {
        "id": "GESwK5c9xopm",
        "colab_type": "code",
        "outputId": "df5e96e4-9191-4690-9a45-d09b4693b430",
        "colab": {
          "base_uri": "https://localhost:8080/",
          "height": 35
        }
      },
      "source": [
        "%%writefile test.cpp\n",
        "//Two dimensional array\n",
        "#include <iostream>\n",
        "using namespace std;\n",
        "int main(){\n",
        "    const int row = 2; const int col = 4;\n",
        "    int marks[row][col] = {\n",
        "                            {95,80,91,100},\n",
        "                            {100,93,90,80}\n",
        "                          };\n",
        "    int extraAssignmentMarks[row][col] = {\n",
        "                                {10, 5, 12, 8},\n",
        "                                {0, 0, 0, 0}\n",
        "                               };\n",
        "    int finalMarks[row][col];\n",
        "\n",
        "    //Add the marks\n",
        "    for(int i = 0; i < row; ++i){\n",
        "        for(int j = 0; j < col; ++j){\n",
        "          finalMarks[i][j] = marks[i][j] + extraAssignmentMarks[i][j];   \n",
        "        }\n",
        "    }\n",
        "\n",
        "    //Display the marks\n",
        "    for(int i = 0; i < row; ++i){\n",
        "        cout<<\"Semester number: \"<<i+1<<endl;\n",
        "        cout<<\"Final grades: \";\n",
        "        for(int j = 0; j < col; ++j){\n",
        "          cout<<finalMarks[i][j]<<\" \";\n",
        "        }cout<<endl;\n",
        "    }\n",
        "    return 0;\n",
        "}"
      ],
      "execution_count": 0,
      "outputs": [
        {
          "output_type": "stream",
          "text": [
            "Overwriting test.cpp\n"
          ],
          "name": "stdout"
        }
      ]
    },
    {
      "cell_type": "code",
      "metadata": {
        "id": "CVytnTqWt823",
        "colab_type": "code",
        "outputId": "9613afc6-a175-45fd-e2a1-1a5770854433",
        "colab": {
          "base_uri": "https://localhost:8080/",
          "height": 87
        }
      },
      "source": [
        "%%script bash\n",
        "g++ test.cpp -o test \n",
        "./test"
      ],
      "execution_count": 0,
      "outputs": [
        {
          "output_type": "stream",
          "text": [
            "Semester number: 1\n",
            "Final grades: 105 85 103 108 \n",
            "Semester number: 2\n",
            "Final grades: 100 93 90 80 \n"
          ],
          "name": "stdout"
        }
      ]
    },
    {
      "cell_type": "markdown",
      "metadata": {
        "id": "AFnerxI50D9b",
        "colab_type": "text"
      },
      "source": [
        "### Matrix multiplication using two dimensional array\n",
        "1.   Matrix multiplication of matrices with the following dimensions m x m  and m x m "
      ]
    },
    {
      "cell_type": "code",
      "metadata": {
        "id": "U6vZxaFRlxYX",
        "colab_type": "code",
        "outputId": "f42e094a-f355-4923-f602-20c57466d40c",
        "colab": {
          "base_uri": "https://localhost:8080/"
        }
      },
      "source": [
        "%%writefile test.cpp\n",
        "//Two dimensional array\n",
        "#include <iostream>\n",
        "using namespace std;\n",
        "int main(){\n",
        "    const int row = 3; const int col = 3;\n",
        "    int arrA[row][col] = {\n",
        "                          {10,10,10},\n",
        "                          {20,20,20},\n",
        "                          {30,30,30}\n",
        "                          };\n",
        "    int arrB[row][col] = {\n",
        "                          {10, 20, 30}, \n",
        "                          {10, 20, 30},\n",
        "                          {10, 20, 30}                          \n",
        "                         };\n",
        "    //This is where the multiplied value\n",
        "    //of the array will be kept\n",
        "    int arrC[row][col] = {\n",
        "                          {0, 0, 0},\n",
        "                          {0, 0, 0},\n",
        "                          {0, 0, 0}\n",
        "                         };\n",
        "\n",
        "    //Multiply the matrix\n",
        "    for(int i = 0; i < row; ++i){\n",
        "        for(int j = 0; j < row; ++j){\n",
        "            \n",
        "            //Value of each row being multiplied\n",
        "            //by each column is being added\n",
        "            int val = 0;\n",
        "            for(int k = 0; k < row; ++k){\n",
        "              val += arrA[i][k] * arrB[k][j];\n",
        "            }\n",
        "\n",
        "            //It is then stored in the proper\n",
        "            //index in arrC\n",
        "            arrC[i][j] = val;\n",
        "        }\n",
        "    }\n",
        "\n",
        "    //Display the marks\n",
        "    for(int i = 0; i < row; ++i){\n",
        "        cout<<\"Row \"<<i<<\" : \";\n",
        "        for(int j = 0; j < col; ++j){\n",
        "          cout<<arrC[i][j]<<\" \";\n",
        "        }cout<<endl;\n",
        "    }\n",
        "    return 0;\n",
        "}"
      ],
      "execution_count": 0,
      "outputs": [
        {
          "output_type": "stream",
          "text": [
            "Overwriting test.cpp\n"
          ],
          "name": "stdout"
        }
      ]
    },
    {
      "cell_type": "code",
      "metadata": {
        "id": "FUl26LWYl05K",
        "colab_type": "code",
        "outputId": "f207612b-065c-4278-b62c-e413d0610f4f",
        "colab": {
          "base_uri": "https://localhost:8080/"
        }
      },
      "source": [
        "%%script bash\n",
        "g++ test.cpp -o test \n",
        "./test"
      ],
      "execution_count": 0,
      "outputs": [
        {
          "output_type": "stream",
          "text": [
            "Row 0 : 300 600 900 \n",
            "Row 1 : 600 1200 1800 \n",
            "Row 2 : 900 1800 2700 \n"
          ],
          "name": "stdout"
        }
      ]
    },
    {
      "cell_type": "markdown",
      "metadata": {
        "id": "b5Fksilzl32X",
        "colab_type": "text"
      },
      "source": [
        "2.  A more generic matrix multiplication is possible using when matrix has dimensions of the following size , m x a and a x n ."
      ]
    },
    {
      "cell_type": "code",
      "metadata": {
        "id": "utkEjYtN2oI1",
        "colab_type": "code",
        "outputId": "d28514ad-85c2-4937-9a83-441eb1d323fa",
        "colab": {
          "base_uri": "https://localhost:8080/"
        }
      },
      "source": [
        "%%writefile test.cpp\n",
        "//Two dimensional array\n",
        "#include <iostream>\n",
        "using namespace std;\n",
        "int main(){\n",
        "    const int row1 = 2; const int col1 = 4;\n",
        "    int arrA[row1][col1] = {\n",
        "                          {10,10,10,10},\n",
        "                          {20,20,20,20}\n",
        "                          };\n",
        "    const int row2 = 4; const int col2 = 2; \n",
        "    int arrB[row2][col2] = {\n",
        "                          {10, 20}, \n",
        "                          {10, 20},\n",
        "                          {10, 20},\n",
        "                          {10, 20}\n",
        "                         };\n",
        "    //This is where the multiplied value\n",
        "    //of the array will be kept\n",
        "    int arrC[row1][col2] = {\n",
        "                          {0,0},\n",
        "                          {0,0}\n",
        "                         };\n",
        "\n",
        "    //Multiply the matrix\n",
        "    for(int i = 0; i < row1; ++i){\n",
        "        for(int j = 0; j < col2; ++j){\n",
        "            \n",
        "            //Value of each row being multiplied\n",
        "            //by each column is being added\n",
        "            int val = 0;\n",
        "            for(int k = 0; k < col1; ++k){\n",
        "              val += arrA[i][k] * arrB[k][j];\n",
        "            }\n",
        "\n",
        "            //It is then stored in the proper\n",
        "            //index in arrC\n",
        "            arrC[i][j] = val;\n",
        "        }\n",
        "    }\n",
        "\n",
        "    //Display the marks\n",
        "    for(int i = 0; i < row1; ++i){\n",
        "        cout<<\"Row \"<<i<<\" : \";\n",
        "        for(int j = 0; j < col2; ++j){\n",
        "          cout<<arrC[i][j]<<\" \";\n",
        "        }cout<<endl;\n",
        "    }\n",
        "    return 0;\n",
        "}"
      ],
      "execution_count": 0,
      "outputs": [
        {
          "output_type": "stream",
          "text": [
            "Overwriting test.cpp\n"
          ],
          "name": "stdout"
        }
      ]
    },
    {
      "cell_type": "code",
      "metadata": {
        "id": "z4UGCNPF2prA",
        "colab_type": "code",
        "outputId": "822dbb2a-715f-42a2-8f87-0ec6d0b9e330",
        "colab": {
          "base_uri": "https://localhost:8080/"
        }
      },
      "source": [
        "%%script bash\n",
        "g++ test.cpp -o test \n",
        "./test"
      ],
      "execution_count": 0,
      "outputs": [
        {
          "output_type": "stream",
          "text": [
            "Row 0 : 400 800 \n",
            "Row 1 : 800 1600 \n"
          ],
          "name": "stdout"
        }
      ]
    },
    {
      "cell_type": "markdown",
      "metadata": {
        "id": "jHvA5x_pqkW9",
        "colab_type": "text"
      },
      "source": [
        "# Function with 1 dimensional array\n",
        "Functions as shown above is useful in the functions section were only used to modularize program with basic data types. Here functions will be used alongside with arrays to show data transfer with a program. Example is given below:\n",
        "\n",
        "*     Printing an array"
      ]
    },
    {
      "cell_type": "code",
      "metadata": {
        "id": "cQZBsZiWD4I6",
        "colab_type": "code",
        "outputId": "01c8647e-bc28-47d3-f7f3-7ce0e4840319",
        "colab": {
          "base_uri": "https://localhost:8080/",
          "height": 35
        }
      },
      "source": [
        "%%writefile test.cpp\n",
        "//Two dimensional array\n",
        "#include <iostream>\n",
        "using namespace std;\n",
        "void printArray(int arr[], int size){\n",
        "    cout<<\"The array is: \";\n",
        "    for(int i = 0; i < size; ++i){\n",
        "        cout << arr[i] << \" \";\n",
        "    }\n",
        "}\n",
        "int main(){\n",
        "    const int N = 5;\n",
        "    int arr[N] = {1,2,3,4,5};\n",
        "    printArray(arr, N);\n",
        "    return 0;\n",
        "}"
      ],
      "execution_count": 0,
      "outputs": [
        {
          "output_type": "stream",
          "text": [
            "Overwriting test.cpp\n"
          ],
          "name": "stdout"
        }
      ]
    },
    {
      "cell_type": "code",
      "metadata": {
        "id": "Ckqk4PkMEGZS",
        "colab_type": "code",
        "outputId": "124f924e-fac2-499c-e739-8a65cc6df6bd",
        "colab": {
          "base_uri": "https://localhost:8080/",
          "height": 35
        }
      },
      "source": [
        "%%script bash\n",
        "g++ test.cpp -o test \n",
        "./test"
      ],
      "execution_count": 0,
      "outputs": [
        {
          "output_type": "stream",
          "text": [
            "The array is: 1 2 3 4 5 "
          ],
          "name": "stdout"
        }
      ]
    },
    {
      "cell_type": "markdown",
      "metadata": {
        "id": "zNgPlju-J7MJ",
        "colab_type": "text"
      },
      "source": [
        "*   Print an array that contains odd numbers."
      ]
    },
    {
      "cell_type": "code",
      "metadata": {
        "id": "Zpl3d07-J0a3",
        "colab_type": "code",
        "outputId": "ab99a4f8-dad3-4b9c-e965-1f7426ecbd5b",
        "colab": {
          "base_uri": "https://localhost:8080/",
          "height": 35
        }
      },
      "source": [
        "%%writefile test.cpp\n",
        "//Two dimensional array\n",
        "#include <iostream>\n",
        "using namespace std;\n",
        "void printOddNumArr(int arr[], int size){\n",
        "    cout<<\"The odd numbers are: \";\n",
        "    for(int i = 0; i < size; ++i){\n",
        "        if(arr[i] % 2 == 1){\n",
        "          cout << arr[i] << \" \";\n",
        "        }\n",
        "    }\n",
        "}\n",
        "int main(){\n",
        "    const int N = 5;\n",
        "    int arr[N] = {1,2,3,4,5};\n",
        "    printOddNumArr(arr, N);\n",
        "    return 0;\n",
        "}"
      ],
      "execution_count": 0,
      "outputs": [
        {
          "output_type": "stream",
          "text": [
            "Overwriting test.cpp\n"
          ],
          "name": "stdout"
        }
      ]
    },
    {
      "cell_type": "code",
      "metadata": {
        "id": "w44766cDKGbg",
        "colab_type": "code",
        "outputId": "d3f59fe7-e472-424e-e4fc-bbffb95e3ae8",
        "colab": {
          "base_uri": "https://localhost:8080/",
          "height": 35
        }
      },
      "source": [
        "%%script bash\n",
        "g++ test.cpp -o test \n",
        "./test"
      ],
      "execution_count": 0,
      "outputs": [
        {
          "output_type": "stream",
          "text": [
            "The odd numbers are: 1 3 5 "
          ],
          "name": "stdout"
        }
      ]
    },
    {
      "cell_type": "markdown",
      "metadata": {
        "id": "uGyJ7by-YKov",
        "colab_type": "text"
      },
      "source": [
        "*     Find the number of elements in an array that are less than zero. "
      ]
    },
    {
      "cell_type": "code",
      "metadata": {
        "id": "cmLRqcErXJJ_",
        "colab_type": "code",
        "outputId": "a9d9f8c8-ce98-4e36-ded5-32e6eb8f3058",
        "colab": {
          "base_uri": "https://localhost:8080/",
          "height": 35
        }
      },
      "source": [
        "%%writefile test.cpp\n",
        "//Two dimensional array\n",
        "#include <iostream>\n",
        "using namespace std;\n",
        "int numValLessThanZero(int arr[], int size){\n",
        "    int count = 0;\n",
        "    for(int i = 0; i < size; ++i){\n",
        "        if(arr[i] < 0){\n",
        "          count = count + 1;\n",
        "        }\n",
        "    }\n",
        "    return count;\n",
        "}\n",
        "int main(){\n",
        "    const int N = 5;\n",
        "    int arr[N] = {2,3,-12,4,-1};\n",
        "    cout<<\"Number of value less than zeros is: \"<<numValLessThanZero(arr, N);\n",
        "    return 0;\n",
        "}"
      ],
      "execution_count": 0,
      "outputs": [
        {
          "output_type": "stream",
          "text": [
            "Overwriting test.cpp\n"
          ],
          "name": "stdout"
        }
      ]
    },
    {
      "cell_type": "code",
      "metadata": {
        "id": "b3tOSLaTZ_Ys",
        "colab_type": "code",
        "outputId": "5c65d8de-1252-47c9-ed81-fc633c510846",
        "colab": {
          "base_uri": "https://localhost:8080/",
          "height": 35
        }
      },
      "source": [
        "%%script bash\n",
        "g++ test.cpp -o test \n",
        "./test"
      ],
      "execution_count": 0,
      "outputs": [
        {
          "output_type": "stream",
          "text": [
            "Number of value less than zeros is: 2"
          ],
          "name": "stdout"
        }
      ]
    },
    {
      "cell_type": "markdown",
      "metadata": {
        "id": "BKkbLc7yLcfD",
        "colab_type": "text"
      },
      "source": [
        "*    Find the maximum number in an array."
      ]
    },
    {
      "cell_type": "code",
      "metadata": {
        "id": "VFhNRHf1KjYG",
        "colab_type": "code",
        "outputId": "693c8fe2-422b-4f97-beb8-9db162506a11",
        "colab": {
          "base_uri": "https://localhost:8080/",
          "height": 35
        }
      },
      "source": [
        "%%writefile test.cpp\n",
        "//Two dimensional array\n",
        "#include <iostream>\n",
        "using namespace std;\n",
        "int getMaxValue(int arr[], int size){\n",
        "    for(int i = 0; i < size - 1; ++i){\n",
        "        if(arr[i] > arr[i+1]){\n",
        "            int a = arr[i+1];\n",
        "            arr[i+1] = arr[i];\n",
        "            arr[i] = a;\n",
        "        }\n",
        "    }\n",
        "    return arr[size-1];\n",
        "}\n",
        "int main(){\n",
        "    const int N = 5;\n",
        "    int arr[N] = {2,3,1,4,-1};\n",
        "    cout<<\"Max value is: \"<<getMaxValue(arr, N);\n",
        "    return 0;\n",
        "}"
      ],
      "execution_count": 0,
      "outputs": [
        {
          "output_type": "stream",
          "text": [
            "Overwriting test.cpp\n"
          ],
          "name": "stdout"
        }
      ]
    },
    {
      "cell_type": "code",
      "metadata": {
        "id": "zZyly2q_Lntm",
        "colab_type": "code",
        "outputId": "5314a597-49a4-4cf9-fe8b-84d279192538",
        "colab": {
          "base_uri": "https://localhost:8080/",
          "height": 35
        }
      },
      "source": [
        "%%script bash\n",
        "g++ test.cpp -o test \n",
        "./test"
      ],
      "execution_count": 0,
      "outputs": [
        {
          "output_type": "stream",
          "text": [
            "Max value is: 4"
          ],
          "name": "stdout"
        }
      ]
    },
    {
      "cell_type": "markdown",
      "metadata": {
        "id": "zhlVt6LCOOmO",
        "colab_type": "text"
      },
      "source": [
        "So the code above needs a little bit of explanation.\n",
        "\n",
        "The array [2,3,1,4,-1] is passed from the main function to the function which has the name getMaxValue. The size of the array which is 5 is send along it.\n",
        "After that the following line of code runs on it.\n",
        "```\n",
        "1.for(int i = 0; i < size - 1; ++i){\n",
        "2.        if(arr[i] > arr[i+1]){\n",
        "3.            int a = arr[i+1];\n",
        "4.            arr[i+1] = arr[i];\n",
        "5.            arr[i] = a;\n",
        "6.        }\n",
        "7.    }\n",
        "```\n",
        "The value of the variable `size` is `5`. However, it is not possible to access the value `arr[size]`, since indexing of an array starts from `0`. The maximum index that can be accessed is `4`. The `i < size` code snippet would ensure that effect. Howv, why is it `i < size - 1`. It is because the comparison of arr[i] and arr[i+1] would require us to access values which are not accessible. If value of `i` for example is `4` still less than `5`, will it be possible to access `i+1` which is `4+1 = 5` , no. So, `i` runs upto `size - 1`.\n",
        "\n",
        "In line 2 the comparison happens between `arr[i]` and `arr[i+1]` . If `arr[i]` is greater than `arr[i+1]` we need to do something. The thing we do is swapping. We swap value contained in `arr[i+1]` with the value of `arr[i]` , such that the value of `arr[i+1]` goes to `arr[i]` and the value of `arr[i]` goes to `arr[i+1]` . Line 3, Line 4 and Line 5 is responsible for the swapping. In Line 3 the value from `arr[i+1]` is stored into variable a. Remember value of `arr[i+1]` is less than `arr[i]`.  In line 4 value of `arr[i]` which is greater than `arr[i+1]` is transferred to `arr[i+1]`. In Line 5 value of variable a which is smaller and was previously in `arr[i+1]` is transferred to `arr[i]`.\n",
        "This process continues till the 2nd last index of the array, swapping values of array, if one is smaller than the previous one. This allows for the maximum value to be transferred to the last index of the array.\n",
        "\n",
        "Lastly this piece of code return `arr[size-1]`; is necessary since we are only interested in returning the value of the last index of the array which is size-1( 5 - 1 = 4 in this case).\n",
        "\n",
        "\n"
      ]
    },
    {
      "cell_type": "markdown",
      "metadata": {
        "id": "vKtY_jY4iBUa",
        "colab_type": "text"
      },
      "source": [
        "# Functions with 2 dimensional array\n",
        "2 dimensional arrays can be utilized with functions in a similar way as 1 dimensional array with function. "
      ]
    }
  ]
}