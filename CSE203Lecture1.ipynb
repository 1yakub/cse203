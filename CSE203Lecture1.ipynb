{
  "nbformat": 4,
  "nbformat_minor": 0,
  "metadata": {
    "colab": {
      "name": "CSE203Lecture1.ipynb",
      "provenance": [],
      "toc_visible": true,
      "include_colab_link": true
    },
    "kernelspec": {
      "name": "python3",
      "display_name": "Python 3"
    }
  },
  "cells": [
    {
      "cell_type": "markdown",
      "metadata": {
        "id": "view-in-github",
        "colab_type": "text"
      },
      "source": [
        "<a href=\"https://colab.research.google.com/github/mohammadmotiurrahman/cse203/blob/master/CSE203Lecture1.ipynb\" target=\"_parent\"><img src=\"https://colab.research.google.com/assets/colab-badge.svg\" alt=\"Open In Colab\"/></a>"
      ]
    },
    {
      "cell_type": "markdown",
      "metadata": {
        "id": "YGoUSIB4ESm_",
        "colab_type": "text"
      },
      "source": [
        "##Review of CSC 101 course taught at IUB . In order to run the code , try the following key combination, Shift + Enter .\n",
        "\n",
        "---\n"
      ]
    },
    {
      "cell_type": "markdown",
      "metadata": {
        "id": "a8Ek3ghdYGxf",
        "colab_type": "text"
      },
      "source": [
        "## Basic Idea"
      ]
    },
    {
      "cell_type": "markdown",
      "metadata": {
        "id": "EJQl_gJNK6ig",
        "colab_type": "text"
      },
      "source": [
        "\n",
        "So let us begin with the Hello World of CSC 101."
      ]
    },
    {
      "cell_type": "code",
      "metadata": {
        "id": "k8tTFQsXDkiC",
        "colab_type": "code",
        "outputId": "985fafea-d127-4374-a3c7-f9154218c485",
        "colab": {
          "base_uri": "https://localhost:8080/",
          "height": 35
        }
      },
      "source": [
        "%%writefile test.cpp\n",
        "\n",
        "//This is where you will write your C++ code\n",
        "#include <iostream>\n",
        "using namespace std;\n",
        "\n",
        "int main(){\n",
        "    int x = 6;\n",
        "    cout<<\"Hello World\"<<endl;\n",
        "    return 0;\n",
        "}"
      ],
      "execution_count": 1,
      "outputs": [
        {
          "output_type": "stream",
          "text": [
            "Overwriting test.cpp\n"
          ],
          "name": "stdout"
        }
      ]
    },
    {
      "cell_type": "code",
      "metadata": {
        "id": "6w2AoSydD_-e",
        "colab_type": "code",
        "outputId": "b6e35bcd-84ba-4fd6-a1bf-2ce7d502f1b3",
        "colab": {
          "base_uri": "https://localhost:8080/",
          "height": 35
        }
      },
      "source": [
        "%%script bash\n",
        "g++ test.cpp -o test \n",
        "./test"
      ],
      "execution_count": 2,
      "outputs": [
        {
          "output_type": "stream",
          "text": [
            "Hello World\n"
          ],
          "name": "stdout"
        }
      ]
    },
    {
      "cell_type": "markdown",
      "metadata": {
        "id": "3lesbP2vFnEQ",
        "colab_type": "text"
      },
      "source": [
        "Let us move to something more interesting. Add two numbers."
      ]
    },
    {
      "cell_type": "code",
      "metadata": {
        "id": "UKYPa2dEFeJu",
        "colab_type": "code",
        "outputId": "13f9ca3a-2d77-4281-e611-de7973d5f563",
        "colab": {
          "base_uri": "https://localhost:8080/",
          "height": 35
        }
      },
      "source": [
        "%%writefile test.cpp\n",
        "\n",
        "//This is where you will write your C++ code\n",
        "#include <iostream>\n",
        "using namespace std;\n",
        "\n",
        "int main(){\n",
        "    int x = 6; int y = 5;\n",
        "    int z = x + y;\n",
        "    cout<<\"The summation is \"<<z<<endl;\n",
        "    return 0;\n",
        "}"
      ],
      "execution_count": 3,
      "outputs": [
        {
          "output_type": "stream",
          "text": [
            "Overwriting test.cpp\n"
          ],
          "name": "stdout"
        }
      ]
    },
    {
      "cell_type": "code",
      "metadata": {
        "id": "yqhr6q7SHAiP",
        "colab_type": "code",
        "outputId": "ddf02ebd-c2fb-4177-e6a2-ca297df2cc4e",
        "colab": {
          "base_uri": "https://localhost:8080/",
          "height": 35
        }
      },
      "source": [
        "%%script bash\n",
        "g++ test.cpp -o test \n",
        "./test"
      ],
      "execution_count": 4,
      "outputs": [
        {
          "output_type": "stream",
          "text": [
            "The summation is 11\n"
          ],
          "name": "stdout"
        }
      ]
    },
    {
      "cell_type": "markdown",
      "metadata": {
        "id": "ru736VuEHItD",
        "colab_type": "text"
      },
      "source": [
        "Try to write a for-loop"
      ]
    },
    {
      "cell_type": "code",
      "metadata": {
        "id": "sT3_IO6PHSA_",
        "colab_type": "code",
        "outputId": "9e631ad8-9c94-4bac-ad76-23687a93a14e",
        "colab": {
          "base_uri": "https://localhost:8080/",
          "height": 35
        }
      },
      "source": [
        "%%writefile test.cpp\n",
        "\n",
        "//This is where you will write your C++ code\n",
        "#include <iostream>\n",
        "using namespace std;\n",
        "\n",
        "int main(){\n",
        "    for(int i = 0; i < 10; ++i){\n",
        "        cout << 2 * i << \" \";\n",
        "    }\n",
        "    return 0;\n",
        "}"
      ],
      "execution_count": 5,
      "outputs": [
        {
          "output_type": "stream",
          "text": [
            "Overwriting test.cpp\n"
          ],
          "name": "stdout"
        }
      ]
    },
    {
      "cell_type": "code",
      "metadata": {
        "id": "QPmWKpKQHiNw",
        "colab_type": "code",
        "outputId": "754d607d-d578-4a1e-e399-8793f55c2875",
        "colab": {
          "base_uri": "https://localhost:8080/",
          "height": 35
        }
      },
      "source": [
        "%%script bash\n",
        "g++ test.cpp -o test \n",
        "./test"
      ],
      "execution_count": 6,
      "outputs": [
        {
          "output_type": "stream",
          "text": [
            "0 2 4 6 8 10 12 14 16 18 "
          ],
          "name": "stdout"
        }
      ]
    },
    {
      "cell_type": "markdown",
      "metadata": {
        "id": "eBoUasp2INDJ",
        "colab_type": "text"
      },
      "source": [
        "Write a while loop"
      ]
    },
    {
      "cell_type": "code",
      "metadata": {
        "id": "0gjdCUfGIP5J",
        "colab_type": "code",
        "outputId": "b3d1d053-1e91-4038-e6ee-75e498d46e1c",
        "colab": {
          "base_uri": "https://localhost:8080/",
          "height": 35
        }
      },
      "source": [
        "%%writefile test.cpp\n",
        "\n",
        "//This is where you will write your C++ code\n",
        "#include <iostream>\n",
        "using namespace std;\n",
        "\n",
        "int main(){\n",
        "    int i = 0;\n",
        "    while(i < 10){\n",
        "        cout << 2 * i << \" \";\n",
        "        i = i + 1;\n",
        "    }\n",
        "    return 0;\n",
        "}"
      ],
      "execution_count": 7,
      "outputs": [
        {
          "output_type": "stream",
          "text": [
            "Overwriting test.cpp\n"
          ],
          "name": "stdout"
        }
      ]
    },
    {
      "cell_type": "code",
      "metadata": {
        "id": "B45fXIkMIdgu",
        "colab_type": "code",
        "outputId": "72bcc5b7-1f90-4a12-80e0-67e93fca3104",
        "colab": {
          "base_uri": "https://localhost:8080/",
          "height": 35
        }
      },
      "source": [
        "%%script bash\n",
        "g++ test.cpp -o test \n",
        "./test"
      ],
      "execution_count": 8,
      "outputs": [
        {
          "output_type": "stream",
          "text": [
            "0 2 4 6 8 10 12 14 16 18 "
          ],
          "name": "stdout"
        }
      ]
    },
    {
      "cell_type": "markdown",
      "metadata": {
        "id": "vniJJkELI4Z8",
        "colab_type": "text"
      },
      "source": [
        "Find whether a number is prime or not"
      ]
    },
    {
      "cell_type": "code",
      "metadata": {
        "id": "JGiZr3b7I-YG",
        "colab_type": "code",
        "outputId": "e153a3ba-78fc-49c1-b42c-f4c362ed8e53",
        "colab": {
          "base_uri": "https://localhost:8080/",
          "height": 35
        }
      },
      "source": [
        "%%writefile test.cpp\n",
        "\n",
        "//This is where you will write your C++ code\n",
        "#include <iostream>\n",
        "using namespace std;\n",
        "\n",
        "int main(){\n",
        "    bool isPrime = true;\n",
        "    int num = 7;\n",
        "    for(int i = 2; i < num ; ++i){\n",
        "        if(num % i == 0){\n",
        "            isPrime = false;\n",
        "        }\n",
        "    }\n",
        "    if(isPrime == false){\n",
        "        cout<<num<<\" is not Prime\"<<endl;\n",
        "    }\n",
        "    else{\n",
        "        cout<<num<<\" is Prime\"<<endl;\n",
        "    }\n",
        "    \n",
        "    return 0;\n",
        "}"
      ],
      "execution_count": 9,
      "outputs": [
        {
          "output_type": "stream",
          "text": [
            "Overwriting test.cpp\n"
          ],
          "name": "stdout"
        }
      ]
    },
    {
      "cell_type": "code",
      "metadata": {
        "id": "m8UuismrJclT",
        "colab_type": "code",
        "outputId": "b98ce3df-52fd-4d45-d35f-1ef5a894e945",
        "colab": {
          "base_uri": "https://localhost:8080/",
          "height": 35
        }
      },
      "source": [
        "%%script bash\n",
        "g++ test.cpp -o test \n",
        "./test"
      ],
      "execution_count": 10,
      "outputs": [
        {
          "output_type": "stream",
          "text": [
            "7 is Prime\n"
          ],
          "name": "stdout"
        }
      ]
    },
    {
      "cell_type": "markdown",
      "metadata": {
        "id": "RC74eIxXYCGU",
        "colab_type": "text"
      },
      "source": [
        "## Functions"
      ]
    },
    {
      "cell_type": "markdown",
      "metadata": {
        "id": "SRI0Pd-hYg2w",
        "colab_type": "text"
      },
      "source": [
        "Functions are components of a program that helps to modularize a program.\n",
        "Here is a function to print a list of odd numbers."
      ]
    },
    {
      "cell_type": "code",
      "metadata": {
        "id": "5OQigsLKZJHV",
        "colab_type": "code",
        "outputId": "fb50ebf2-ec46-433b-8214-bc76aec724a8",
        "colab": {
          "base_uri": "https://localhost:8080/",
          "height": 35
        }
      },
      "source": [
        "%%writefile test.cpp\n",
        "\n",
        "//This is where you will write your C++ code\n",
        "#include <iostream>\n",
        "using namespace std;\n",
        "\n",
        "void printOddNumbers(int x){\n",
        "    for(int i = 0; i < x; ++i){\n",
        "        if( i % 2 ){\n",
        "            cout<< i << \" \";\n",
        "        }\n",
        "    }\n",
        "}\n",
        "int main(){\n",
        "    printOddNumbers(10);\n",
        "    return 0;\n",
        "}"
      ],
      "execution_count": 11,
      "outputs": [
        {
          "output_type": "stream",
          "text": [
            "Overwriting test.cpp\n"
          ],
          "name": "stdout"
        }
      ]
    },
    {
      "cell_type": "code",
      "metadata": {
        "id": "tP1_RRLkaRIE",
        "colab_type": "code",
        "outputId": "9b3a48c8-7fcd-4bc2-8beb-a5c3f2942540",
        "colab": {
          "base_uri": "https://localhost:8080/",
          "height": 35
        }
      },
      "source": [
        "%%script bash\n",
        "g++ test.cpp -o test \n",
        "./test"
      ],
      "execution_count": 12,
      "outputs": [
        {
          "output_type": "stream",
          "text": [
            "1 3 5 7 9 "
          ],
          "name": "stdout"
        }
      ]
    },
    {
      "cell_type": "markdown",
      "metadata": {
        "id": "2U5FHaBwatV3",
        "colab_type": "text"
      },
      "source": [
        "Here is an function to print a list of prime numbers from 0 to 100."
      ]
    },
    {
      "cell_type": "code",
      "metadata": {
        "id": "5_Ry4zH6ay08",
        "colab_type": "code",
        "outputId": "8915fdcb-b811-4493-ef83-3e2ba3f40cbb",
        "colab": {
          "base_uri": "https://localhost:8080/",
          "height": 35
        }
      },
      "source": [
        "%%writefile test.cpp\n",
        "\n",
        "//This is where you will write your C++ code\n",
        "#include <iostream>\n",
        "using namespace std;\n",
        "\n",
        "bool isPrimeNumber(int x){\n",
        "    bool isPrime = true;\n",
        "    for(int i = 2; i < x ; ++i){\n",
        "        if( x % i == 0){\n",
        "          isPrime = false;\n",
        "        }\n",
        "    }\n",
        "    return isPrime;\n",
        "}\n",
        "void printPrimeNumber(int x){\n",
        "    for( int i = 2 ; i < x ; ++i){\n",
        "        // If a number i is a prime number\n",
        "        if(isPrimeNumber(i) == true){\n",
        "            cout << i << \" \";\n",
        "        }\n",
        "    }\n",
        "}\n",
        "int main(){\n",
        "    printPrimeNumber(100);\n",
        "    return 0;\n",
        "}"
      ],
      "execution_count": 13,
      "outputs": [
        {
          "output_type": "stream",
          "text": [
            "Overwriting test.cpp\n"
          ],
          "name": "stdout"
        }
      ]
    },
    {
      "cell_type": "code",
      "metadata": {
        "id": "5ytsO2oHaTn-",
        "colab_type": "code",
        "outputId": "08e155f9-c8ee-449e-df27-5adc6c12dcea",
        "colab": {
          "base_uri": "https://localhost:8080/",
          "height": 35
        }
      },
      "source": [
        "%%script bash\n",
        "g++ test.cpp -o test \n",
        "./test"
      ],
      "execution_count": 14,
      "outputs": [
        {
          "output_type": "stream",
          "text": [
            "2 3 5 7 11 13 17 19 23 29 31 37 41 43 47 53 59 61 67 71 73 79 83 89 97 "
          ],
          "name": "stdout"
        }
      ]
    },
    {
      "cell_type": "markdown",
      "metadata": {
        "id": "umZs5HrBflur",
        "colab_type": "text"
      },
      "source": [
        "Here is an another function to find LCM and HCF of given numbers"
      ]
    },
    {
      "cell_type": "code",
      "metadata": {
        "id": "Rq1F1XJgf87Z",
        "colab_type": "code",
        "outputId": "0e67f48e-65c1-4503-c2df-fa9a473b0503",
        "colab": {
          "base_uri": "https://localhost:8080/",
          "height": 35
        }
      },
      "source": [
        "%%writefile test.cpp\n",
        "\n",
        "//This is where you will write your C++ code\n",
        "#include <iostream>\n",
        "using namespace std;\n",
        "\n",
        "int lcm(int a, int b){\n",
        "    int x = 2;\n",
        "    while(!((x % a  == 0) && (x % b == 0))){\n",
        "        x = x + 1;\n",
        "    }\n",
        "    return x;\n",
        "}\n",
        "int hcf(int a, int b){\n",
        "    return (a*b)/ lcm(a,b);\n",
        "}\n",
        "int main(){\n",
        "    int a = 12; int b = 30;\n",
        "    cout << \"LCM of \" << a << \" \" << b << \" is \"  << lcm(a,b) << endl;\n",
        "    cout << \"HCF of \" << a << \" \" << b << \" is \" << hcf(a,b) << endl;\n",
        "    \n",
        "    return 0;\n",
        "}"
      ],
      "execution_count": 15,
      "outputs": [
        {
          "output_type": "stream",
          "text": [
            "Overwriting test.cpp\n"
          ],
          "name": "stdout"
        }
      ]
    },
    {
      "cell_type": "code",
      "metadata": {
        "id": "uETSzaZTg5cU",
        "colab_type": "code",
        "outputId": "9da91474-b0ae-4606-b176-50ed4994c90c",
        "colab": {
          "base_uri": "https://localhost:8080/",
          "height": 52
        }
      },
      "source": [
        "%%script bash\n",
        "g++ test.cpp -o test \n",
        "./test"
      ],
      "execution_count": 16,
      "outputs": [
        {
          "output_type": "stream",
          "text": [
            "LCM of 12 30 is 60\n",
            "HCF of 12 30 is 6\n"
          ],
          "name": "stdout"
        }
      ]
    },
    {
      "cell_type": "markdown",
      "metadata": {
        "id": "AUF2bOKFor-a",
        "colab_type": "text"
      },
      "source": [
        "## Array"
      ]
    },
    {
      "cell_type": "markdown",
      "metadata": {
        "id": "T9PVHUAypaWu",
        "colab_type": "text"
      },
      "source": [
        "Array is a collection of similar types of data"
      ]
    },
    {
      "cell_type": "code",
      "metadata": {
        "id": "s9MDkrcxpesz",
        "colab_type": "code",
        "outputId": "e91ba24a-2b89-4626-f6c9-9bcb7472bd11",
        "colab": {
          "base_uri": "https://localhost:8080/",
          "height": 35
        }
      },
      "source": [
        "%%writefile test.cpp\n",
        "\n",
        "//This is where you will write your C++ code\n",
        "#include <iostream>\n",
        "using namespace std;\n",
        "int main(){\n",
        "    int arr[10];\n",
        "    for(int i =0; i<10; ++i){\n",
        "        arr[i] = i;\n",
        "    }\n",
        "    for(int i=0; i<10; ++i){\n",
        "        cout<<arr[i]<<\" \";\n",
        "    }\n",
        "    return 0;\n",
        "}"
      ],
      "execution_count": 17,
      "outputs": [
        {
          "output_type": "stream",
          "text": [
            "Overwriting test.cpp\n"
          ],
          "name": "stdout"
        }
      ]
    },
    {
      "cell_type": "code",
      "metadata": {
        "id": "LKm0lDRJq6Zd",
        "colab_type": "code",
        "outputId": "4bb61525-5075-4d85-e092-fc8a9ade2221",
        "colab": {
          "base_uri": "https://localhost:8080/",
          "height": 35
        }
      },
      "source": [
        "%%script bash\n",
        "g++ test.cpp -o test \n",
        "./test"
      ],
      "execution_count": 18,
      "outputs": [
        {
          "output_type": "stream",
          "text": [
            "0 1 2 3 4 5 6 7 8 9 "
          ],
          "name": "stdout"
        }
      ]
    },
    {
      "cell_type": "markdown",
      "metadata": {
        "id": "oxIY_TCuvSKp",
        "colab_type": "text"
      },
      "source": [
        "Something about ```const```\n",
        "\n"
      ]
    },
    {
      "cell_type": "code",
      "metadata": {
        "id": "6kZSfpfRvcH8",
        "colab_type": "code",
        "outputId": "c1404174-6396-4d80-8cba-4e2c3e7f64ef",
        "colab": {
          "base_uri": "https://localhost:8080/",
          "height": 35
        }
      },
      "source": [
        "%%writefile test.cpp\n",
        "#include <iostream>\n",
        "using namespace std;\n",
        "int main(){\n",
        "    //It is possible to change value of the variable a\n",
        "    int a = 30;\n",
        "    a = 10;\n",
        "\n",
        "    //It is not possible to change value of the variable a\n",
        "    //if  the variable is change to const\n",
        "    const int a = 10;\n",
        "    a = 13;\n",
        "    \n",
        "    return 0;\n",
        "}"
      ],
      "execution_count": 19,
      "outputs": [
        {
          "output_type": "stream",
          "text": [
            "Overwriting test.cpp\n"
          ],
          "name": "stdout"
        }
      ]
    },
    {
      "cell_type": "code",
      "metadata": {
        "id": "PsJjMV0ivk_N",
        "colab_type": "code",
        "outputId": "72217240-38a2-40ef-aeeb-4e4c038799b1",
        "colab": {
          "base_uri": "https://localhost:8080/",
          "height": 139
        }
      },
      "source": [
        "%%script bash\n",
        "g++ test.cpp -o test \n",
        "./test"
      ],
      "execution_count": 20,
      "outputs": [
        {
          "output_type": "stream",
          "text": [
            "0 1 2 3 4 5 6 7 8 9 "
          ],
          "name": "stdout"
        },
        {
          "output_type": "stream",
          "text": [
            "test.cpp: In function ‘int main()’:\n",
            "test.cpp:10:15: error: conflicting declaration ‘const int a’\n",
            "     const int a = 10;\n",
            "               ^\n",
            "test.cpp:5:9: note: previous declaration as ‘int a’\n",
            "     int a = 30;\n",
            "         ^\n"
          ],
          "name": "stderr"
        }
      ]
    },
    {
      "cell_type": "markdown",
      "metadata": {
        "id": "-ukY5230xskY",
        "colab_type": "text"
      },
      "source": [
        "While declaring an array in Visual Studio, the following norm is followed."
      ]
    },
    {
      "cell_type": "code",
      "metadata": {
        "id": "FavsoxACy2Fu",
        "colab_type": "code",
        "outputId": "d227eeb7-4ff1-40fa-9c08-8ff5620f9df2",
        "colab": {
          "base_uri": "https://localhost:8080/",
          "height": 35
        }
      },
      "source": [
        "%%writefile test.cpp\n",
        "#include <iostream>\n",
        "using namespace std;\n",
        "int main(){\n",
        "    \n",
        "    const int a = 5;\n",
        "    int arr[a];\n",
        "    \n",
        "    for(int i = 0; i < a; ++i){\n",
        "        arr[i] = i;\n",
        "    }\n",
        "\n",
        "    for(int i = 0; i < a; ++i ){\n",
        "        cout << arr[i] << \" \";\n",
        "    }\n",
        "\n",
        "    return 0;\n",
        "}"
      ],
      "execution_count": 21,
      "outputs": [
        {
          "output_type": "stream",
          "text": [
            "Overwriting test.cpp\n"
          ],
          "name": "stdout"
        }
      ]
    },
    {
      "cell_type": "code",
      "metadata": {
        "id": "HaZ32sMQzR5k",
        "colab_type": "code",
        "outputId": "b7336479-4ece-4a71-d8b8-a8336172e5f3",
        "colab": {
          "base_uri": "https://localhost:8080/",
          "height": 35
        }
      },
      "source": [
        "%%script bash\n",
        "g++ test.cpp -o test \n",
        "./test"
      ],
      "execution_count": 22,
      "outputs": [
        {
          "output_type": "stream",
          "text": [
            "0 1 2 3 4 "
          ],
          "name": "stdout"
        }
      ]
    },
    {
      "cell_type": "markdown",
      "metadata": {
        "id": "QEUKFtl3ziXq",
        "colab_type": "text"
      },
      "source": [
        "However, in compiler such as gcc, in which all of these codes are run such norms are not followed"
      ]
    },
    {
      "cell_type": "code",
      "metadata": {
        "id": "DPOspxY8zyCN",
        "colab_type": "code",
        "outputId": "bf85be4a-c6a4-4c6a-a27e-d245d91c352b",
        "colab": {
          "base_uri": "https://localhost:8080/",
          "height": 35
        }
      },
      "source": [
        "%%writefile test.cpp\n",
        "#include <iostream>\n",
        "using namespace std;\n",
        "int main(){\n",
        "    \n",
        "    //Initially the size of the array has been set to 5\n",
        "    int a = 5;\n",
        "    int arr[a];\n",
        "    //However, it is possible to change value of the variable a\n",
        "    //in the middle of the code, which should lead to some \n",
        "    //unsavory problems. The first one is why should there be\n",
        "    //unnecessary spaces , if the value of a is less than the \n",
        "    //original. But more worrisome is when the value of a is \n",
        "    //more than the orignally allocated space. For example what\n",
        "    //if the value of a is 10 instead of 3.\n",
        "    a = 3;\n",
        "    for(int i = 0; i < a; ++i){\n",
        "        arr[i] = i;\n",
        "    }\n",
        "\n",
        "    for(int i = 0; i < a; ++i ){\n",
        "        cout << arr[i] << \" \";\n",
        "    }\n",
        "    cout<<endl;\n",
        "    a = 10;\n",
        "    for(int i = 0; i < a; ++i){\n",
        "        arr[i] = i;\n",
        "    }\n",
        "\n",
        "    for(int i = 0; i < a; ++i ){\n",
        "        cout << arr[i] << \" \";\n",
        "    }\n",
        "\n",
        "    return 0;\n",
        "}"
      ],
      "execution_count": 23,
      "outputs": [
        {
          "output_type": "stream",
          "text": [
            "Overwriting test.cpp\n"
          ],
          "name": "stdout"
        }
      ]
    },
    {
      "cell_type": "code",
      "metadata": {
        "id": "KYZgBjdczzfd",
        "colab_type": "code",
        "outputId": "0cd19831-a242-4f99-e3a0-14b11614aca6",
        "colab": {
          "base_uri": "https://localhost:8080/",
          "height": 52
        }
      },
      "source": [
        "%%script bash\n",
        "g++ test.cpp -o test \n",
        "./test"
      ],
      "execution_count": 24,
      "outputs": [
        {
          "output_type": "stream",
          "text": [
            "0 1 2 \n",
            "0 1 2 3 4 5 6 7 8 9 "
          ],
          "name": "stdout"
        }
      ]
    },
    {
      "cell_type": "markdown",
      "metadata": {
        "id": "UJeOyM8o1nVB",
        "colab_type": "text"
      },
      "source": [
        "Observe the 2nd line of the output, it should not happen. The initial array was designed to hold only 5 integer values. So when the value of the variable a was changed to 10, how can the array accomodate the extra 5 integer. At those moments the compiler steps into memory of other data structures which it shouldn't have the permission to access. Therefore it can easily be said that the compiler for Visual Studio is the best way to go. It ensures that the array data structure only access values that it was originally assigned to . "
      ]
    },
    {
      "cell_type": "markdown",
      "metadata": {
        "id": "UDT32EV__LG6",
        "colab_type": "text"
      },
      "source": [
        "Somethings that want to use array for:\n",
        "1.   Average of numbers in an array"
      ]
    },
    {
      "cell_type": "code",
      "metadata": {
        "id": "fMSmITql_3BD",
        "colab_type": "code",
        "colab": {
          "base_uri": "https://localhost:8080/",
          "height": 35
        },
        "outputId": "ad95acb6-d216-4f47-ef60-068d7aa0a68f"
      },
      "source": [
        "%%writefile test.cpp\n",
        "//Finding average of numbers in an array\n",
        "#include <iostream>\n",
        "using namespace std;\n",
        "int main(){\n",
        "    \n",
        "    //The size of the array has been set to 5\n",
        "    const int a = 5;\n",
        "    int arr[a] = {1,2,4,5,3};\n",
        "    float avg = 0;\n",
        "    for(int i = 0; i < a; ++i ){\n",
        "        avg += arr[i];\n",
        "    }\n",
        "    cout<<\"The average of the values: \"<<avg/a<<endl;\n",
        "    return 0;\n",
        "}"
      ],
      "execution_count": 25,
      "outputs": [
        {
          "output_type": "stream",
          "text": [
            "Overwriting test.cpp\n"
          ],
          "name": "stdout"
        }
      ]
    },
    {
      "cell_type": "code",
      "metadata": {
        "id": "Xi5aOGhyPs6E",
        "colab_type": "code",
        "colab": {
          "base_uri": "https://localhost:8080/",
          "height": 35
        },
        "outputId": "63538838-9000-4216-c78e-b7532afb51bf"
      },
      "source": [
        "%%script bash\n",
        "g++ test.cpp -o test \n",
        "./test"
      ],
      "execution_count": 26,
      "outputs": [
        {
          "output_type": "stream",
          "text": [
            "The average of the values: 3\n"
          ],
          "name": "stdout"
        }
      ]
    },
    {
      "cell_type": "markdown",
      "metadata": {
        "id": "5uvZWmurQhPn",
        "colab_type": "text"
      },
      "source": [
        "2.    Adding the value of two array's into a third array."
      ]
    },
    {
      "cell_type": "code",
      "metadata": {
        "id": "UWL9ir5DSTbS",
        "colab_type": "code",
        "colab": {
          "base_uri": "https://localhost:8080/",
          "height": 35
        },
        "outputId": "267f8e0f-993c-4aac-d748-562b43b1a69c"
      },
      "source": [
        "%%writefile test.cpp\n",
        "//Adding the values of two array's and \n",
        "//storing it in a third array\n",
        "#include <iostream>\n",
        "using namespace std;\n",
        "int main(){\n",
        "    \n",
        "    //The size of the array has been set to 5\n",
        "    const int a = 5;\n",
        "    int firstArray[a] = {1,2,4,5,3};\n",
        "    \n",
        "    const int b = 5;\n",
        "    int secondArray[b] = {4,5,5,6,7};\n",
        "\n",
        "    const int c = 5;\n",
        "    int thirdArray[c] = {0,0,0,0,0};\n",
        "\n",
        "    for(int i = 0; i < a; ++i){\n",
        "        thirdArray[i] = firstArray[i] + secondArray[i];\n",
        "    }\n",
        "\n",
        "    for(int i = 0; i < a; ++i){\n",
        "        cout<<thirdArray[i]<<\" \";\n",
        "    }\n",
        "    return 0;\n",
        "}"
      ],
      "execution_count": 27,
      "outputs": [
        {
          "output_type": "stream",
          "text": [
            "Overwriting test.cpp\n"
          ],
          "name": "stdout"
        }
      ]
    },
    {
      "cell_type": "code",
      "metadata": {
        "id": "yVhLK8exWrkn",
        "colab_type": "code",
        "colab": {
          "base_uri": "https://localhost:8080/",
          "height": 35
        },
        "outputId": "486981fa-ec35-4e0d-ae98-31d2c9f06202"
      },
      "source": [
        "%%script bash\n",
        "g++ test.cpp -o test \n",
        "./test"
      ],
      "execution_count": 28,
      "outputs": [
        {
          "output_type": "stream",
          "text": [
            "5 7 9 11 10 "
          ],
          "name": "stdout"
        }
      ]
    },
    {
      "cell_type": "markdown",
      "metadata": {
        "id": "_7h5MjpYW5_m",
        "colab_type": "text"
      },
      "source": [
        "3.  Finding the freqeuncy of an element in an array"
      ]
    },
    {
      "cell_type": "code",
      "metadata": {
        "id": "8fPA13yXZvWZ",
        "colab_type": "code",
        "colab": {
          "base_uri": "https://localhost:8080/",
          "height": 35
        },
        "outputId": "3bc16f90-cff3-4a01-9275-b833c8c21f98"
      },
      "source": [
        "%%writefile test.cpp\n",
        "//Finding the freqeuncy of a number\n",
        "//in an array\n",
        "#include <iostream>\n",
        "using namespace std;\n",
        "int main(){\n",
        "    \n",
        "    //The size of the array has been set to 5\n",
        "    const int a = 5;int counter = 0;\n",
        "    int firstArray[a] = {1,3,3,5,3};\n",
        "    for(int i = 0; i < a; ++i){\n",
        "        //Count the number of 3 in an array\n",
        "        if(firstArray[i] == 3){\n",
        "            counter = counter + 1;\n",
        "        }\n",
        "    }\n",
        "    cout<<\"The number of 3 in the array is: \"<<counter<<endl;\n",
        "    return 0;\n",
        "}"
      ],
      "execution_count": 29,
      "outputs": [
        {
          "output_type": "stream",
          "text": [
            "Overwriting test.cpp\n"
          ],
          "name": "stdout"
        }
      ]
    },
    {
      "cell_type": "code",
      "metadata": {
        "id": "8PaxlEgVba5m",
        "colab_type": "code",
        "colab": {
          "base_uri": "https://localhost:8080/",
          "height": 35
        },
        "outputId": "921704ca-178e-413e-de8e-c58d95d4f55a"
      },
      "source": [
        "%%script bash\n",
        "g++ test.cpp -o test \n",
        "./test"
      ],
      "execution_count": 30,
      "outputs": [
        {
          "output_type": "stream",
          "text": [
            "The number of 3 in the array is: 3\n"
          ],
          "name": "stdout"
        }
      ]
    },
    {
      "cell_type": "markdown",
      "metadata": {
        "id": "Cpj8bRvOboMM",
        "colab_type": "text"
      },
      "source": [
        "## Two dimensional array\n",
        "So two dimensional array is another way to represent a lot of one dimensional arrays together. For example, if a student 4 subjects in the first semester, the final marks it can be represented in an array which contains 4 integers. If he takes another 4 subjects in the second semester his final marks can be represented in another array. What if we want to represent all the marks in the first semester and the second semester in an array. We should use two dimensional array.\n",
        "Two dimensional array is represented as : `int arr[row][col]`. The `row` is the number of semesters that the student has attended which is `2`. The `col` is the number of subjects that the student took in the semester which is `4`. \n",
        "While writing the code in Visual Studio, it is written like this:\n",
        "```\n",
        "const int row = 2;\n",
        "const int col = 4;\n",
        "int arr[row][col];\n",
        "```\n",
        "\n"
      ]
    },
    {
      "cell_type": "code",
      "metadata": {
        "id": "hGQBfsN1buys",
        "colab_type": "code",
        "colab": {
          "base_uri": "https://localhost:8080/",
          "height": 35
        },
        "outputId": "a09fc516-6798-4b68-9e8d-88fc46747f37"
      },
      "source": [
        "%%writefile test.cpp\n",
        "//Two dimensional array\n",
        "#include <iostream>\n",
        "using namespace std;\n",
        "int main(){\n",
        "    const int row = 2; const int col = 4;\n",
        "    int marks[row][col] = {\n",
        "                        //Marks for 1st semester\n",
        "                        {95,80,91,100},\n",
        "                        //Marks for 2nd semester\n",
        "                        {100,93,90,80}\n",
        "                      };\n",
        "    for(int i = 0; i < row; ++i){\n",
        "        cout<<\"Semester number: \"<<i+1<<endl;\n",
        "        cout<<\"Final marks: \";\n",
        "        for(int j = 0; j < col; ++j){\n",
        "            cout<<marks[i][j]<<\" \";\n",
        "        }\n",
        "        cout<<endl;\n",
        "    }\n",
        "\n",
        "    return 0;\n",
        "}"
      ],
      "execution_count": 31,
      "outputs": [
        {
          "output_type": "stream",
          "text": [
            "Overwriting test.cpp\n"
          ],
          "name": "stdout"
        }
      ]
    },
    {
      "cell_type": "code",
      "metadata": {
        "id": "AmJFGWbjxk_D",
        "colab_type": "code",
        "colab": {
          "base_uri": "https://localhost:8080/",
          "height": 87
        },
        "outputId": "e15b533d-4606-4ae4-e6ea-484f355dca72"
      },
      "source": [
        "%%script bash\n",
        "g++ test.cpp -o test \n",
        "./test"
      ],
      "execution_count": 32,
      "outputs": [
        {
          "output_type": "stream",
          "text": [
            "Semester number: 1\n",
            "Final marks: 95 80 91 100 \n",
            "Semester number: 2\n",
            "Final marks: 100 93 90 80 \n"
          ],
          "name": "stdout"
        }
      ]
    },
    {
      "cell_type": "markdown",
      "metadata": {
        "id": "jkKZoVSFhJsj",
        "colab_type": "text"
      },
      "source": [
        "### Matrix addition using two dimensional array \n",
        "So, a matrix can be a vector of dimension n x 1 or it can be a structure of dimension m x n. If it a vector of dimension n x 1 , it can be considered as an one dimensional array. Addition and subtraction of a vector will follow the same rules as addition and subtraction of a one dimensional array.\n",
        "Here I will show how addition and subtraction is done using two dimensional array. "
      ]
    },
    {
      "cell_type": "code",
      "metadata": {
        "id": "GESwK5c9xopm",
        "colab_type": "code",
        "colab": {
          "base_uri": "https://localhost:8080/",
          "height": 35
        },
        "outputId": "92969472-fe29-43f5-b3f4-2d99665a4590"
      },
      "source": [
        "%%writefile test.cpp\n",
        "//Two dimensional array\n",
        "#include <iostream>\n",
        "using namespace std;\n",
        "int main(){\n",
        "    const int row = 2; const int col = 4;\n",
        "    int marks[row][col] = {\n",
        "                            {95,80,91,100},\n",
        "                            {100,93,90,80}\n",
        "                          };\n",
        "    int extraAssignmentMarks[row][col] = {\n",
        "                                {10, 5, 12, 8},\n",
        "                                {0, 0, 0, 0}\n",
        "                               };\n",
        "    int finalMarks[row][col];\n",
        "\n",
        "    //Add the marks\n",
        "    for(int i = 0; i < row; ++i){\n",
        "        for(int j = 0; j < col; ++j){\n",
        "          finalMarks[i][j] = marks[i][j] + extraAssignmentMarks[i][j];   \n",
        "        }\n",
        "    }\n",
        "\n",
        "    //Display the marks\n",
        "    for(int i = 0; i < row; ++i){\n",
        "        cout<<\"Semester number: \"<<i+1<<endl;\n",
        "        cout<<\"Final grades: \";\n",
        "        for(int j = 0; j < col; ++j){\n",
        "          cout<<finalMarks[i][j]<<\" \";\n",
        "        }cout<<endl;\n",
        "    }\n",
        "    return 0;\n",
        "}"
      ],
      "execution_count": 33,
      "outputs": [
        {
          "output_type": "stream",
          "text": [
            "Overwriting test.cpp\n"
          ],
          "name": "stdout"
        }
      ]
    },
    {
      "cell_type": "code",
      "metadata": {
        "id": "CVytnTqWt823",
        "colab_type": "code",
        "colab": {
          "base_uri": "https://localhost:8080/",
          "height": 87
        },
        "outputId": "b9cc9fc0-cca3-4407-c34a-4752b719c608"
      },
      "source": [
        "%%script bash\n",
        "g++ test.cpp -o test \n",
        "./test"
      ],
      "execution_count": 34,
      "outputs": [
        {
          "output_type": "stream",
          "text": [
            "Semester number: 1\n",
            "Final grades: 105 85 103 108 \n",
            "Semester number: 2\n",
            "Final grades: 100 93 90 80 \n"
          ],
          "name": "stdout"
        }
      ]
    },
    {
      "cell_type": "markdown",
      "metadata": {
        "id": "AFnerxI50D9b",
        "colab_type": "text"
      },
      "source": [
        "### Matrix multiplication using two dimensional array\n",
        "1.   Matrix multiplication of matrices with the following dimensions m x m  and m x m "
      ]
    },
    {
      "cell_type": "code",
      "metadata": {
        "id": "U6vZxaFRlxYX",
        "colab_type": "code",
        "colab": {
          "base_uri": "https://localhost:8080/",
          "height": 35
        },
        "outputId": "ef2035fa-43e0-4bc9-cb2e-e02ca715555e"
      },
      "source": [
        "%%writefile test.cpp\n",
        "//Two dimensional array\n",
        "#include <iostream>\n",
        "using namespace std;\n",
        "int main(){\n",
        "    const int row = 3; const int col = 3;\n",
        "    int arrA[row][col] = {\n",
        "                          {10,10,10},\n",
        "                          {20,20,20},\n",
        "                          {30,30,30}\n",
        "                          };\n",
        "    int arrB[row][col] = {\n",
        "                          {10, 20, 30}, \n",
        "                          {10, 20, 30},\n",
        "                          {10, 20, 30}                          \n",
        "                         };\n",
        "    //This is where the multiplied value\n",
        "    //of the array will be kept\n",
        "    int arrC[row][col] = {\n",
        "                          {0, 0, 0},\n",
        "                          {0, 0, 0},\n",
        "                          {0, 0, 0}\n",
        "                         };\n",
        "\n",
        "    //Multiply the matrix\n",
        "    for(int i = 0; i < row; ++i){\n",
        "        for(int j = 0; j < row; ++j){\n",
        "            \n",
        "            //Value of each row being multiplied\n",
        "            //by each column is being added\n",
        "            int val = 0;\n",
        "            for(int k = 0; k < row; ++k){\n",
        "              val += arrA[i][k] * arrB[k][j];\n",
        "            }\n",
        "\n",
        "            //It is then stored in the proper\n",
        "            //index in arrC\n",
        "            arrC[i][j] = val;\n",
        "        }\n",
        "    }\n",
        "\n",
        "    //Display the marks\n",
        "    for(int i = 0; i < row; ++i){\n",
        "        cout<<\"Row \"<<i<<\" : \";\n",
        "        for(int j = 0; j < col; ++j){\n",
        "          cout<<arrC[i][j]<<\" \";\n",
        "        }cout<<endl;\n",
        "    }\n",
        "    return 0;\n",
        "}"
      ],
      "execution_count": 35,
      "outputs": [
        {
          "output_type": "stream",
          "text": [
            "Overwriting test.cpp\n"
          ],
          "name": "stdout"
        }
      ]
    },
    {
      "cell_type": "code",
      "metadata": {
        "id": "FUl26LWYl05K",
        "colab_type": "code",
        "colab": {
          "base_uri": "https://localhost:8080/",
          "height": 69
        },
        "outputId": "616fb33a-2587-48ce-b64e-87b6b1d9c6c4"
      },
      "source": [
        "%%script bash\n",
        "g++ test.cpp -o test \n",
        "./test"
      ],
      "execution_count": 36,
      "outputs": [
        {
          "output_type": "stream",
          "text": [
            "Row 0 : 300 600 900 \n",
            "Row 1 : 600 1200 1800 \n",
            "Row 2 : 900 1800 2700 \n"
          ],
          "name": "stdout"
        }
      ]
    },
    {
      "cell_type": "markdown",
      "metadata": {
        "id": "b5Fksilzl32X",
        "colab_type": "text"
      },
      "source": [
        "2.  A more generic matrix multiplication is possible using when matrix has dimensions of the following size , m x a and a x n ."
      ]
    },
    {
      "cell_type": "code",
      "metadata": {
        "id": "utkEjYtN2oI1",
        "colab_type": "code",
        "colab": {
          "base_uri": "https://localhost:8080/",
          "height": 35
        },
        "outputId": "d738419c-b442-481c-a87f-aabb1520d7c1"
      },
      "source": [
        "%%writefile test.cpp\n",
        "//Two dimensional array\n",
        "#include <iostream>\n",
        "using namespace std;\n",
        "int main(){\n",
        "    const int row1 = 2; const int col1 = 4;\n",
        "    int arrA[row1][col1] = {\n",
        "                          {10,10,10,10},\n",
        "                          {20,20,20,20}\n",
        "                          };\n",
        "    const int row2 = 4; const int col2 = 2; \n",
        "    int arrB[row2][col2] = {\n",
        "                          {10, 20}, \n",
        "                          {10, 20},\n",
        "                          {10, 20},\n",
        "                          {10, 20}\n",
        "                         };\n",
        "    //This is where the multiplied value\n",
        "    //of the array will be kept\n",
        "    int arrC[row1][col2] = {\n",
        "                          {0,0},\n",
        "                          {0,0}\n",
        "                         };\n",
        "\n",
        "    //Multiply the matrix\n",
        "    for(int i = 0; i < row1; ++i){\n",
        "        for(int j = 0; j < col2; ++j){\n",
        "            \n",
        "            //Value of each row being multiplied\n",
        "            //by each column is being added\n",
        "            int val = 0;\n",
        "            for(int k = 0; k < col1; ++k){\n",
        "              val += arrA[i][k] * arrB[k][j];\n",
        "            }\n",
        "\n",
        "            //It is then stored in the proper\n",
        "            //index in arrC\n",
        "            arrC[i][j] = val;\n",
        "        }\n",
        "    }\n",
        "\n",
        "    //Display the marks\n",
        "    for(int i = 0; i < row1; ++i){\n",
        "        cout<<\"Row \"<<i<<\" : \";\n",
        "        for(int j = 0; j < col2; ++j){\n",
        "          cout<<arrC[i][j]<<\" \";\n",
        "        }cout<<endl;\n",
        "    }\n",
        "    return 0;\n",
        "}"
      ],
      "execution_count": 37,
      "outputs": [
        {
          "output_type": "stream",
          "text": [
            "Overwriting test.cpp\n"
          ],
          "name": "stdout"
        }
      ]
    },
    {
      "cell_type": "code",
      "metadata": {
        "id": "z4UGCNPF2prA",
        "colab_type": "code",
        "colab": {
          "base_uri": "https://localhost:8080/",
          "height": 52
        },
        "outputId": "4ca5a61d-e52d-4e3c-e80c-a5bb85015088"
      },
      "source": [
        "%%script bash\n",
        "g++ test.cpp -o test \n",
        "./test"
      ],
      "execution_count": 38,
      "outputs": [
        {
          "output_type": "stream",
          "text": [
            "Row 0 : 400 800 \n",
            "Row 1 : 800 1600 \n"
          ],
          "name": "stdout"
        }
      ]
    },
    {
      "cell_type": "markdown",
      "metadata": {
        "id": "jHvA5x_pqkW9",
        "colab_type": "text"
      },
      "source": [
        "# Function with array\n",
        "Functions as shown above is useful in modularizing "
      ]
    }
  ]
}