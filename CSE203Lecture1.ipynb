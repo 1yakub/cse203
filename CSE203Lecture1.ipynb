{
  "nbformat": 4,
  "nbformat_minor": 0,
  "metadata": {
    "colab": {
      "name": "CSE203Lecture1.ipynb",
      "provenance": [],
      "toc_visible": true,
      "include_colab_link": true
    },
    "kernelspec": {
      "name": "python3",
      "display_name": "Python 3"
    }
  },
  "cells": [
    {
      "cell_type": "markdown",
      "metadata": {
        "id": "view-in-github",
        "colab_type": "text"
      },
      "source": [
        "<a href=\"https://colab.research.google.com/github/mohammadmotiurrahman/cse203/blob/master/CSE203Lecture1.ipynb\" target=\"_parent\"><img src=\"https://colab.research.google.com/assets/colab-badge.svg\" alt=\"Open In Colab\"/></a>"
      ]
    },
    {
      "cell_type": "markdown",
      "metadata": {
        "id": "YGoUSIB4ESm_",
        "colab_type": "text"
      },
      "source": [
        "## Review of CSC 101 course taught at IUB .\n",
        "##In order to run the code , try the following key combination, Shift + Enter .\n",
        "---\n"
      ]
    },
    {
      "cell_type": "markdown",
      "metadata": {
        "id": "a8Ek3ghdYGxf",
        "colab_type": "text"
      },
      "source": [
        "## Basic Idea"
      ]
    },
    {
      "cell_type": "markdown",
      "metadata": {
        "id": "EJQl_gJNK6ig",
        "colab_type": "text"
      },
      "source": [
        "So let us begin with the Hello World of CSC 101."
      ]
    },
    {
      "cell_type": "code",
      "metadata": {
        "id": "k8tTFQsXDkiC",
        "colab_type": "code",
        "outputId": "f10689c9-0624-4082-ebf8-348262e6ca2f",
        "colab": {
          "base_uri": "https://localhost:8080/",
          "height": 35
        }
      },
      "source": [
        "%%writefile test.cpp\n",
        "\n",
        "//This is where you will write your C++ code\n",
        "#include <iostream>\n",
        "using namespace std;\n",
        "\n",
        "int main(){\n",
        "    int x = 6;\n",
        "    cout<<\"Hello World\"<<endl;\n",
        "    return 0;\n",
        "}"
      ],
      "execution_count": 1,
      "outputs": [
        {
          "output_type": "stream",
          "text": [
            "Overwriting test.cpp\n"
          ],
          "name": "stdout"
        }
      ]
    },
    {
      "cell_type": "code",
      "metadata": {
        "id": "6w2AoSydD_-e",
        "colab_type": "code",
        "outputId": "6142352c-4a4f-449f-8642-836479f832de",
        "colab": {
          "base_uri": "https://localhost:8080/",
          "height": 35
        }
      },
      "source": [
        "%%script bash\n",
        "g++ test.cpp -o test \n",
        "./test"
      ],
      "execution_count": 2,
      "outputs": [
        {
          "output_type": "stream",
          "text": [
            "Hello World\n"
          ],
          "name": "stdout"
        }
      ]
    },
    {
      "cell_type": "markdown",
      "metadata": {
        "id": "3lesbP2vFnEQ",
        "colab_type": "text"
      },
      "source": [
        "Let us move to something more interesting. Add two numbers."
      ]
    },
    {
      "cell_type": "code",
      "metadata": {
        "id": "UKYPa2dEFeJu",
        "colab_type": "code",
        "outputId": "51db51ae-93f9-4765-9477-d74c1c76ede6",
        "colab": {
          "base_uri": "https://localhost:8080/",
          "height": 35
        }
      },
      "source": [
        "%%writefile test.cpp\n",
        "\n",
        "//This is where you will write your C++ code\n",
        "#include <iostream>\n",
        "using namespace std;\n",
        "\n",
        "int main(){\n",
        "    int x = 6; int y = 5;\n",
        "    int z = x + y;\n",
        "    cout<<\"The summation is \"<<z<<endl;\n",
        "    return 0;\n",
        "}"
      ],
      "execution_count": 3,
      "outputs": [
        {
          "output_type": "stream",
          "text": [
            "Overwriting test.cpp\n"
          ],
          "name": "stdout"
        }
      ]
    },
    {
      "cell_type": "code",
      "metadata": {
        "id": "yqhr6q7SHAiP",
        "colab_type": "code",
        "outputId": "a96a2bbb-9d31-4023-d135-26357a28be48",
        "colab": {
          "base_uri": "https://localhost:8080/",
          "height": 35
        }
      },
      "source": [
        "%%script bash\n",
        "g++ test.cpp -o test \n",
        "./test"
      ],
      "execution_count": 4,
      "outputs": [
        {
          "output_type": "stream",
          "text": [
            "The summation is 11\n"
          ],
          "name": "stdout"
        }
      ]
    },
    {
      "cell_type": "markdown",
      "metadata": {
        "id": "ru736VuEHItD",
        "colab_type": "text"
      },
      "source": [
        "Try to write a for-loop"
      ]
    },
    {
      "cell_type": "code",
      "metadata": {
        "id": "sT3_IO6PHSA_",
        "colab_type": "code",
        "outputId": "104dff9d-6b26-43e1-c72f-36aeabd3a873",
        "colab": {
          "base_uri": "https://localhost:8080/",
          "height": 35
        }
      },
      "source": [
        "%%writefile test.cpp\n",
        "\n",
        "//This is where you will write your C++ code\n",
        "#include <iostream>\n",
        "using namespace std;\n",
        "\n",
        "int main(){\n",
        "    for(int i = 0; i < 10; ++i){\n",
        "        cout << 2 * i << \" \";\n",
        "    }\n",
        "    return 0;\n",
        "}"
      ],
      "execution_count": 5,
      "outputs": [
        {
          "output_type": "stream",
          "text": [
            "Overwriting test.cpp\n"
          ],
          "name": "stdout"
        }
      ]
    },
    {
      "cell_type": "code",
      "metadata": {
        "id": "QPmWKpKQHiNw",
        "colab_type": "code",
        "outputId": "ca83db8c-94f5-4cd8-c44f-1fff64113ff6",
        "colab": {
          "base_uri": "https://localhost:8080/",
          "height": 35
        }
      },
      "source": [
        "%%script bash\n",
        "g++ test.cpp -o test \n",
        "./test"
      ],
      "execution_count": 6,
      "outputs": [
        {
          "output_type": "stream",
          "text": [
            "0 2 4 6 8 10 12 14 16 18 "
          ],
          "name": "stdout"
        }
      ]
    },
    {
      "cell_type": "markdown",
      "metadata": {
        "id": "eBoUasp2INDJ",
        "colab_type": "text"
      },
      "source": [
        "Write a while loop"
      ]
    },
    {
      "cell_type": "code",
      "metadata": {
        "id": "0gjdCUfGIP5J",
        "colab_type": "code",
        "outputId": "c6bdd18d-d7c1-4e2f-977b-148991efe1b5",
        "colab": {
          "base_uri": "https://localhost:8080/",
          "height": 35
        }
      },
      "source": [
        "%%writefile test.cpp\n",
        "\n",
        "//This is where you will write your C++ code\n",
        "#include <iostream>\n",
        "using namespace std;\n",
        "\n",
        "int main(){\n",
        "    int i = 0;\n",
        "    while(i < 10){\n",
        "        cout << 2 * i << \" \";\n",
        "        i = i + 1;\n",
        "    }\n",
        "    return 0;\n",
        "}"
      ],
      "execution_count": 7,
      "outputs": [
        {
          "output_type": "stream",
          "text": [
            "Overwriting test.cpp\n"
          ],
          "name": "stdout"
        }
      ]
    },
    {
      "cell_type": "code",
      "metadata": {
        "id": "B45fXIkMIdgu",
        "colab_type": "code",
        "outputId": "bc914f02-04e5-407c-ed3d-ebd3120d8003",
        "colab": {
          "base_uri": "https://localhost:8080/",
          "height": 35
        }
      },
      "source": [
        "%%script bash\n",
        "g++ test.cpp -o test \n",
        "./test"
      ],
      "execution_count": 8,
      "outputs": [
        {
          "output_type": "stream",
          "text": [
            "0 2 4 6 8 10 12 14 16 18 "
          ],
          "name": "stdout"
        }
      ]
    },
    {
      "cell_type": "markdown",
      "metadata": {
        "id": "vniJJkELI4Z8",
        "colab_type": "text"
      },
      "source": [
        "Find whether a number is prime or not"
      ]
    },
    {
      "cell_type": "code",
      "metadata": {
        "id": "JGiZr3b7I-YG",
        "colab_type": "code",
        "outputId": "e04a0089-5344-480d-ebd7-57d7e52b7d66",
        "colab": {
          "base_uri": "https://localhost:8080/",
          "height": 35
        }
      },
      "source": [
        "%%writefile test.cpp\n",
        "\n",
        "//This is where you will write your C++ code\n",
        "#include <iostream>\n",
        "using namespace std;\n",
        "\n",
        "int main(){\n",
        "    bool isPrime = true;\n",
        "    int num = 7;\n",
        "    for(int i = 2; i < num ; ++i){\n",
        "        if(num % i == 0){\n",
        "            isPrime = false;\n",
        "        }\n",
        "    }\n",
        "    if(isPrime == false){\n",
        "        cout<<num<<\" is not Prime\"<<endl;\n",
        "    }\n",
        "    else{\n",
        "        cout<<num<<\" is Prime\"<<endl;\n",
        "    }\n",
        "    \n",
        "    return 0;\n",
        "}"
      ],
      "execution_count": 9,
      "outputs": [
        {
          "output_type": "stream",
          "text": [
            "Overwriting test.cpp\n"
          ],
          "name": "stdout"
        }
      ]
    },
    {
      "cell_type": "code",
      "metadata": {
        "id": "m8UuismrJclT",
        "colab_type": "code",
        "outputId": "d25fee1f-5593-4015-8706-fa3cbdc5080b",
        "colab": {
          "base_uri": "https://localhost:8080/",
          "height": 35
        }
      },
      "source": [
        "%%script bash\n",
        "g++ test.cpp -o test \n",
        "./test"
      ],
      "execution_count": 10,
      "outputs": [
        {
          "output_type": "stream",
          "text": [
            "7 is Prime\n"
          ],
          "name": "stdout"
        }
      ]
    },
    {
      "cell_type": "markdown",
      "metadata": {
        "id": "RC74eIxXYCGU",
        "colab_type": "text"
      },
      "source": [
        "## Functions"
      ]
    },
    {
      "cell_type": "markdown",
      "metadata": {
        "id": "SRI0Pd-hYg2w",
        "colab_type": "text"
      },
      "source": [
        "Functions are components of a program that helps to modularize a program.\n",
        "Here is a function to print a list of odd numbers."
      ]
    },
    {
      "cell_type": "code",
      "metadata": {
        "id": "5OQigsLKZJHV",
        "colab_type": "code",
        "outputId": "e8ea6837-3234-4c13-d6d5-24fd07e2fb85",
        "colab": {
          "base_uri": "https://localhost:8080/",
          "height": 0
        }
      },
      "source": [
        "%%writefile test.cpp\n",
        "\n",
        "//This is where you will write your C++ code\n",
        "#include <iostream>\n",
        "using namespace std;\n",
        "\n",
        "void printOddNumbers(int x){\n",
        "    for(int i = 0; i < x; ++i){\n",
        "        if( i % 2 ){\n",
        "            cout<< i << \" \";\n",
        "        }\n",
        "    }\n",
        "}\n",
        "int main(){\n",
        "    printOddNumbers(10);\n",
        "    return 0;\n",
        "}"
      ],
      "execution_count": 11,
      "outputs": [
        {
          "output_type": "stream",
          "text": [
            "Overwriting test.cpp\n"
          ],
          "name": "stdout"
        }
      ]
    },
    {
      "cell_type": "code",
      "metadata": {
        "id": "tP1_RRLkaRIE",
        "colab_type": "code",
        "outputId": "f3c6e672-0d65-4bb2-9f76-72fbb1cb058a",
        "colab": {
          "base_uri": "https://localhost:8080/",
          "height": 0
        }
      },
      "source": [
        "%%script bash\n",
        "g++ test.cpp -o test \n",
        "./test"
      ],
      "execution_count": 12,
      "outputs": [
        {
          "output_type": "stream",
          "text": [
            "1 3 5 7 9 "
          ],
          "name": "stdout"
        }
      ]
    },
    {
      "cell_type": "markdown",
      "metadata": {
        "id": "2U5FHaBwatV3",
        "colab_type": "text"
      },
      "source": [
        "Here is an function to print a list of prime numbers from 0 to 100."
      ]
    },
    {
      "cell_type": "code",
      "metadata": {
        "id": "5_Ry4zH6ay08",
        "colab_type": "code",
        "outputId": "f58b1732-95aa-405e-aa3f-3769e942d8f2",
        "colab": {
          "base_uri": "https://localhost:8080/",
          "height": 0
        }
      },
      "source": [
        "%%writefile test.cpp\n",
        "\n",
        "//This is where you will write your C++ code\n",
        "#include <iostream>\n",
        "using namespace std;\n",
        "\n",
        "bool isPrimeNumber(int x){\n",
        "    bool isPrime = true;\n",
        "    for(int i = 2; i < x ; ++i){\n",
        "        if( x % i == 0){\n",
        "          isPrime = false;\n",
        "        }\n",
        "    }\n",
        "    return isPrime;\n",
        "}\n",
        "void printPrimeNumber(int x){\n",
        "    for( int i = 2 ; i < x ; ++i){\n",
        "        // If a number i is a prime number\n",
        "        if(isPrimeNumber(i) == true){\n",
        "            cout << i << \" \";\n",
        "        }\n",
        "    }\n",
        "}\n",
        "int main(){\n",
        "    printPrimeNumber(100);\n",
        "    return 0;\n",
        "}"
      ],
      "execution_count": 13,
      "outputs": [
        {
          "output_type": "stream",
          "text": [
            "Overwriting test.cpp\n"
          ],
          "name": "stdout"
        }
      ]
    },
    {
      "cell_type": "code",
      "metadata": {
        "id": "5ytsO2oHaTn-",
        "colab_type": "code",
        "outputId": "9c49c042-f778-4312-a6d8-ad6a6c883d1a",
        "colab": {
          "base_uri": "https://localhost:8080/",
          "height": 0
        }
      },
      "source": [
        "%%script bash\n",
        "g++ test.cpp -o test \n",
        "./test"
      ],
      "execution_count": 14,
      "outputs": [
        {
          "output_type": "stream",
          "text": [
            "2 3 5 7 11 13 17 19 23 29 31 37 41 43 47 53 59 61 67 71 73 79 83 89 97 "
          ],
          "name": "stdout"
        }
      ]
    },
    {
      "cell_type": "markdown",
      "metadata": {
        "id": "umZs5HrBflur",
        "colab_type": "text"
      },
      "source": [
        "Here is an another function to find LCM and HCF of given numbers"
      ]
    },
    {
      "cell_type": "code",
      "metadata": {
        "id": "Rq1F1XJgf87Z",
        "colab_type": "code",
        "outputId": "a0572427-8c99-46fe-fb83-2c492896ca9f",
        "colab": {
          "base_uri": "https://localhost:8080/",
          "height": 0
        }
      },
      "source": [
        "%%writefile test.cpp\n",
        "\n",
        "//This is where you will write your C++ code\n",
        "#include <iostream>\n",
        "using namespace std;\n",
        "\n",
        "int lcm(int a, int b){\n",
        "    int x = 2;\n",
        "    while(!((x % a  == 0) && (x % b == 0))){\n",
        "        x = x + 1;\n",
        "    }\n",
        "    return x;\n",
        "}\n",
        "int hcf(int a, int b){\n",
        "    return (a*b)/ lcm(a,b);\n",
        "}\n",
        "int main(){\n",
        "    int a = 12; int b = 30;\n",
        "    cout << \"LCM of \" << a << \" \" << b << \" is \"  << lcm(a,b) << endl;\n",
        "    cout << \"HCF of \" << a << \" \" << b << \" is \" << hcf(a,b) << endl;\n",
        "    \n",
        "    return 0;\n",
        "}"
      ],
      "execution_count": 15,
      "outputs": [
        {
          "output_type": "stream",
          "text": [
            "Overwriting test.cpp\n"
          ],
          "name": "stdout"
        }
      ]
    },
    {
      "cell_type": "code",
      "metadata": {
        "id": "uETSzaZTg5cU",
        "colab_type": "code",
        "outputId": "b05039a7-d31f-4df0-d1f1-ec2fcc6db279",
        "colab": {
          "base_uri": "https://localhost:8080/",
          "height": 0
        }
      },
      "source": [
        "%%script bash\n",
        "g++ test.cpp -o test \n",
        "./test"
      ],
      "execution_count": 16,
      "outputs": [
        {
          "output_type": "stream",
          "text": [
            "LCM of 12 30 is 60\n",
            "HCF of 12 30 is 6\n"
          ],
          "name": "stdout"
        }
      ]
    },
    {
      "cell_type": "markdown",
      "metadata": {
        "id": "AUF2bOKFor-a",
        "colab_type": "text"
      },
      "source": [
        "## Array"
      ]
    },
    {
      "cell_type": "markdown",
      "metadata": {
        "id": "T9PVHUAypaWu",
        "colab_type": "text"
      },
      "source": [
        "Array is a collection of similar types of data"
      ]
    },
    {
      "cell_type": "code",
      "metadata": {
        "id": "s9MDkrcxpesz",
        "colab_type": "code",
        "outputId": "689bfbb6-675a-40b4-b33b-06ae4360224f",
        "colab": {
          "base_uri": "https://localhost:8080/",
          "height": 0
        }
      },
      "source": [
        "%%writefile test.cpp\n",
        "\n",
        "//This is where you will write your C++ code\n",
        "#include <iostream>\n",
        "using namespace std;\n",
        "int main(){\n",
        "    int arr[10];\n",
        "    for(int i =0; i<10; ++i){\n",
        "        arr[i] = i;\n",
        "    }\n",
        "    for(int i=0; i<10; ++i){\n",
        "        cout<<arr[i]<<\" \";\n",
        "    }\n",
        "    return 0;\n",
        "}"
      ],
      "execution_count": 17,
      "outputs": [
        {
          "output_type": "stream",
          "text": [
            "Overwriting test.cpp\n"
          ],
          "name": "stdout"
        }
      ]
    },
    {
      "cell_type": "code",
      "metadata": {
        "id": "LKm0lDRJq6Zd",
        "colab_type": "code",
        "outputId": "ba7e6261-9a6d-45a3-ce8a-ca9aaaded2b0",
        "colab": {
          "base_uri": "https://localhost:8080/",
          "height": 0
        }
      },
      "source": [
        "%%script bash\n",
        "g++ test.cpp -o test \n",
        "./test"
      ],
      "execution_count": 18,
      "outputs": [
        {
          "output_type": "stream",
          "text": [
            "0 1 2 3 4 5 6 7 8 9 "
          ],
          "name": "stdout"
        }
      ]
    },
    {
      "cell_type": "markdown",
      "metadata": {
        "id": "oxIY_TCuvSKp",
        "colab_type": "text"
      },
      "source": [
        "Something about ```const```\n",
        "\n"
      ]
    },
    {
      "cell_type": "code",
      "metadata": {
        "id": "6kZSfpfRvcH8",
        "colab_type": "code",
        "outputId": "e61a73ac-6393-4c84-d019-6dc41d31bd88",
        "colab": {
          "base_uri": "https://localhost:8080/",
          "height": 0
        }
      },
      "source": [
        "%%writefile test.cpp\n",
        "#include <iostream>\n",
        "using namespace std;\n",
        "int main(){\n",
        "    //It is possible to change value of the variable a\n",
        "    int a = 30;\n",
        "    a = 10;\n",
        "\n",
        "    //It is not possible to change value of the variable a\n",
        "    //if  the variable is change to const\n",
        "    const int a = 10;\n",
        "    a = 13;\n",
        "    \n",
        "    return 0;\n",
        "}"
      ],
      "execution_count": 19,
      "outputs": [
        {
          "output_type": "stream",
          "text": [
            "Overwriting test.cpp\n"
          ],
          "name": "stdout"
        }
      ]
    },
    {
      "cell_type": "code",
      "metadata": {
        "id": "PsJjMV0ivk_N",
        "colab_type": "code",
        "outputId": "b9af7424-7ea6-44c9-e254-a601035deb53",
        "colab": {
          "base_uri": "https://localhost:8080/",
          "height": 0
        }
      },
      "source": [
        "%%script bash\n",
        "g++ test.cpp -o test \n",
        "./test"
      ],
      "execution_count": 20,
      "outputs": [
        {
          "output_type": "stream",
          "text": [
            "0 1 2 3 4 5 6 7 8 9 "
          ],
          "name": "stdout"
        },
        {
          "output_type": "stream",
          "text": [
            "test.cpp: In function ‘int main()’:\n",
            "test.cpp:10:15: error: conflicting declaration ‘const int a’\n",
            "     const int a = 10;\n",
            "               ^\n",
            "test.cpp:5:9: note: previous declaration as ‘int a’\n",
            "     int a = 30;\n",
            "         ^\n"
          ],
          "name": "stderr"
        }
      ]
    },
    {
      "cell_type": "markdown",
      "metadata": {
        "id": "-ukY5230xskY",
        "colab_type": "text"
      },
      "source": [
        "While declaring an array in Visual Studio, the following norm is followed."
      ]
    },
    {
      "cell_type": "code",
      "metadata": {
        "id": "FavsoxACy2Fu",
        "colab_type": "code",
        "outputId": "00a13c82-d5cd-4733-ea6c-d2d0192e738f",
        "colab": {
          "base_uri": "https://localhost:8080/",
          "height": 0
        }
      },
      "source": [
        "%%writefile test.cpp\n",
        "#include <iostream>\n",
        "using namespace std;\n",
        "int main(){\n",
        "    \n",
        "    const int a = 5;\n",
        "    int arr[a];\n",
        "    \n",
        "    for(int i = 0; i < a; ++i){\n",
        "        arr[i] = i;\n",
        "    }\n",
        "\n",
        "    for(int i = 0; i < a; ++i ){\n",
        "        cout << arr[i] << \" \";\n",
        "    }\n",
        "\n",
        "    return 0;\n",
        "}"
      ],
      "execution_count": 21,
      "outputs": [
        {
          "output_type": "stream",
          "text": [
            "Overwriting test.cpp\n"
          ],
          "name": "stdout"
        }
      ]
    },
    {
      "cell_type": "code",
      "metadata": {
        "id": "HaZ32sMQzR5k",
        "colab_type": "code",
        "outputId": "ceaed268-f33a-44b2-d4c2-6f84d75fd63e",
        "colab": {
          "base_uri": "https://localhost:8080/",
          "height": 0
        }
      },
      "source": [
        "%%script bash\n",
        "g++ test.cpp -o test \n",
        "./test"
      ],
      "execution_count": 22,
      "outputs": [
        {
          "output_type": "stream",
          "text": [
            "0 1 2 3 4 "
          ],
          "name": "stdout"
        }
      ]
    },
    {
      "cell_type": "markdown",
      "metadata": {
        "id": "QEUKFtl3ziXq",
        "colab_type": "text"
      },
      "source": [
        "However, in compiler such as gcc, in which all of these codes are run such norms are not followed"
      ]
    },
    {
      "cell_type": "code",
      "metadata": {
        "id": "DPOspxY8zyCN",
        "colab_type": "code",
        "outputId": "52d2de76-cabb-4804-d436-83817314734b",
        "colab": {
          "base_uri": "https://localhost:8080/",
          "height": 0
        }
      },
      "source": [
        "%%writefile test.cpp\n",
        "#include <iostream>\n",
        "using namespace std;\n",
        "int main(){\n",
        "    \n",
        "    //Initially the size of the array has been set to 5\n",
        "    int a = 5;\n",
        "    int arr[a];\n",
        "    //However, it is possible to change value of the variable a\n",
        "    //in the middle of the code, which should lead to some \n",
        "    //unsavory problems. The first one is why should there be\n",
        "    //unnecessary spaces , if the value of a is less than the \n",
        "    //original. But more worrisome is when the value of a is \n",
        "    //more than the orignally allocated space. For example what\n",
        "    //if the value of a is 10 instead of 3.\n",
        "    a = 3;\n",
        "    for(int i = 0; i < a; ++i){\n",
        "        arr[i] = i;\n",
        "    }\n",
        "\n",
        "    for(int i = 0; i < a; ++i ){\n",
        "        cout << arr[i] << \" \";\n",
        "    }\n",
        "    cout<<endl;\n",
        "    a = 10;\n",
        "    for(int i = 0; i < a; ++i){\n",
        "        arr[i] = i;\n",
        "    }\n",
        "\n",
        "    for(int i = 0; i < a; ++i ){\n",
        "        cout << arr[i] << \" \";\n",
        "    }\n",
        "\n",
        "    return 0;\n",
        "}"
      ],
      "execution_count": 23,
      "outputs": [
        {
          "output_type": "stream",
          "text": [
            "Overwriting test.cpp\n"
          ],
          "name": "stdout"
        }
      ]
    },
    {
      "cell_type": "code",
      "metadata": {
        "id": "KYZgBjdczzfd",
        "colab_type": "code",
        "outputId": "6aee28c6-d8b6-4b08-c926-b9353019b7ac",
        "colab": {
          "base_uri": "https://localhost:8080/",
          "height": 0
        }
      },
      "source": [
        "%%script bash\n",
        "g++ test.cpp -o test \n",
        "./test"
      ],
      "execution_count": 24,
      "outputs": [
        {
          "output_type": "stream",
          "text": [
            "0 1 2 \n",
            "0 1 2 3 4 5 6 7 8 9 "
          ],
          "name": "stdout"
        }
      ]
    },
    {
      "cell_type": "markdown",
      "metadata": {
        "id": "UJeOyM8o1nVB",
        "colab_type": "text"
      },
      "source": [
        "Observe the 2nd line of the output, it should not happen. The initial array was designed to hold only 5 integer values. So when the value of the variable a was changed to 10, how can the array accomodate the extra 5 integer. At those moments the compiler steps into memory of other data structures which it shouldn't have the permission to access. Therefore it can easily be said that the compiler for Visual Studio is the best way to go. It ensures that the array data structure only access values that it was originally assigned to . "
      ]
    },
    {
      "cell_type": "markdown",
      "metadata": {
        "id": "UDT32EV__LG6",
        "colab_type": "text"
      },
      "source": [
        "Somethings that want to use array for:\n",
        "1.   Average of numbers in an array"
      ]
    },
    {
      "cell_type": "code",
      "metadata": {
        "id": "fMSmITql_3BD",
        "colab_type": "code",
        "outputId": "04b7e174-2e2e-414d-a5e2-658a23ef12a7",
        "colab": {
          "base_uri": "https://localhost:8080/",
          "height": 0
        }
      },
      "source": [
        "%%writefile test.cpp\n",
        "//Finding average of numbers in an array\n",
        "#include <iostream>\n",
        "using namespace std;\n",
        "int main(){\n",
        "    \n",
        "    //The size of the array has been set to 5\n",
        "    const int a = 5;\n",
        "    int arr[a] = {1,2,4,5,3};\n",
        "    float avg = 0;\n",
        "    for(int i = 0; i < a; ++i ){\n",
        "        avg += arr[i];\n",
        "    }\n",
        "    cout<<\"The average of the values: \"<<avg/a<<endl;\n",
        "    return 0;\n",
        "}"
      ],
      "execution_count": 25,
      "outputs": [
        {
          "output_type": "stream",
          "text": [
            "Overwriting test.cpp\n"
          ],
          "name": "stdout"
        }
      ]
    },
    {
      "cell_type": "code",
      "metadata": {
        "id": "Xi5aOGhyPs6E",
        "colab_type": "code",
        "outputId": "bb486131-2993-44c6-e4bb-cc529b6fd58a",
        "colab": {
          "base_uri": "https://localhost:8080/",
          "height": 0
        }
      },
      "source": [
        "%%script bash\n",
        "g++ test.cpp -o test \n",
        "./test"
      ],
      "execution_count": 26,
      "outputs": [
        {
          "output_type": "stream",
          "text": [
            "The average of the values: 3\n"
          ],
          "name": "stdout"
        }
      ]
    },
    {
      "cell_type": "markdown",
      "metadata": {
        "id": "5uvZWmurQhPn",
        "colab_type": "text"
      },
      "source": [
        "2.    Adding the value of two array's into a third array."
      ]
    },
    {
      "cell_type": "code",
      "metadata": {
        "id": "UWL9ir5DSTbS",
        "colab_type": "code",
        "outputId": "79f7dcab-714f-41f0-9fa3-b1b63f589f2e",
        "colab": {
          "base_uri": "https://localhost:8080/",
          "height": 0
        }
      },
      "source": [
        "%%writefile test.cpp\n",
        "//Adding the values of two array's and \n",
        "//storing it in a third array\n",
        "#include <iostream>\n",
        "using namespace std;\n",
        "int main(){\n",
        "    \n",
        "    //The size of the array has been set to 5\n",
        "    const int a = 5;\n",
        "    int firstArray[a] = {1,2,4,5,3};\n",
        "    \n",
        "    const int b = 5;\n",
        "    int secondArray[b] = {4,5,5,6,7};\n",
        "\n",
        "    const int c = 5;\n",
        "    int thirdArray[c] = {0,0,0,0,0};\n",
        "\n",
        "    for(int i = 0; i < a; ++i){\n",
        "        thirdArray[i] = firstArray[i] + secondArray[i];\n",
        "    }\n",
        "\n",
        "    for(int i = 0; i < a; ++i){\n",
        "        cout<<thirdArray[i]<<\" \";\n",
        "    }\n",
        "    return 0;\n",
        "}"
      ],
      "execution_count": 27,
      "outputs": [
        {
          "output_type": "stream",
          "text": [
            "Overwriting test.cpp\n"
          ],
          "name": "stdout"
        }
      ]
    },
    {
      "cell_type": "code",
      "metadata": {
        "id": "yVhLK8exWrkn",
        "colab_type": "code",
        "outputId": "abca8649-f094-4086-dd8d-23dffea4788d",
        "colab": {
          "base_uri": "https://localhost:8080/",
          "height": 0
        }
      },
      "source": [
        "%%script bash\n",
        "g++ test.cpp -o test \n",
        "./test"
      ],
      "execution_count": 28,
      "outputs": [
        {
          "output_type": "stream",
          "text": [
            "5 7 9 11 10 "
          ],
          "name": "stdout"
        }
      ]
    },
    {
      "cell_type": "markdown",
      "metadata": {
        "id": "_7h5MjpYW5_m",
        "colab_type": "text"
      },
      "source": [
        "3.  Finding the freqeuncy of an element in an array"
      ]
    },
    {
      "cell_type": "code",
      "metadata": {
        "id": "8fPA13yXZvWZ",
        "colab_type": "code",
        "outputId": "2df42533-46d3-4093-e5e0-3f676e7b0c26",
        "colab": {
          "base_uri": "https://localhost:8080/",
          "height": 0
        }
      },
      "source": [
        "%%writefile test.cpp\n",
        "//Finding the freqeuncy of a number\n",
        "//in an array\n",
        "#include <iostream>\n",
        "using namespace std;\n",
        "int main(){\n",
        "    \n",
        "    //The size of the array has been set to 5\n",
        "    const int a = 5;int counter = 0;\n",
        "    int firstArray[a] = {1,3,3,5,3};\n",
        "    for(int i = 0; i < a; ++i){\n",
        "        //Count the number of 3 in an array\n",
        "        if(firstArray[i] == 3){\n",
        "            counter = counter + 1;\n",
        "        }\n",
        "    }\n",
        "    cout<<\"The number of 3 in the array is: \"<<counter<<endl;\n",
        "    return 0;\n",
        "}"
      ],
      "execution_count": 29,
      "outputs": [
        {
          "output_type": "stream",
          "text": [
            "Overwriting test.cpp\n"
          ],
          "name": "stdout"
        }
      ]
    },
    {
      "cell_type": "code",
      "metadata": {
        "id": "8PaxlEgVba5m",
        "colab_type": "code",
        "outputId": "efa2f24d-a6a0-47d1-8e29-5feafa1afb68",
        "colab": {
          "base_uri": "https://localhost:8080/",
          "height": 0
        }
      },
      "source": [
        "%%script bash\n",
        "g++ test.cpp -o test \n",
        "./test"
      ],
      "execution_count": 30,
      "outputs": [
        {
          "output_type": "stream",
          "text": [
            "The number of 3 in the array is: 3\n"
          ],
          "name": "stdout"
        }
      ]
    },
    {
      "cell_type": "markdown",
      "metadata": {
        "id": "Cpj8bRvOboMM",
        "colab_type": "text"
      },
      "source": [
        "## Two dimensional array\n",
        "So two dimensional array is another way to represent a lot of one dimensional arrays together. For example, if a student 4 subjects in the first semester, the final marks it can be represented in an array which contains 4 integers. If he takes another 4 subjects in the second semester his final marks can be represented in another array. What if we want to represent all the marks in the first semester and the second semester in an array. We should use two dimensional array.\n",
        "Two dimensional array is represented as : `int arr[row][col]`. The `row` is the number of semesters that the student has attended which is `2`. The `col` is the number of subjects that the student took in the semester which is `4`. \n",
        "While writing the code in Visual Studio, it is written like this:\n",
        "```\n",
        "const int row = 2;\n",
        "const int col = 4;\n",
        "int arr[row][col];\n",
        "```"
      ]
    },
    {
      "cell_type": "code",
      "metadata": {
        "id": "hGQBfsN1buys",
        "colab_type": "code",
        "outputId": "52c077e5-64db-486d-a6c8-bf46aef41dfa",
        "colab": {
          "base_uri": "https://localhost:8080/",
          "height": 0
        }
      },
      "source": [
        "%%writefile test.cpp\n",
        "//Two dimensional array\n",
        "#include <iostream>\n",
        "using namespace std;\n",
        "int main(){\n",
        "    const int row = 2; const int col = 4;\n",
        "    int marks[row][col] = {\n",
        "                        //Marks for 1st semester\n",
        "                        {95,80,91,100},\n",
        "                        //Marks for 2nd semester\n",
        "                        {100,93,90,80}\n",
        "                      };\n",
        "    for(int i = 0; i < row; ++i){\n",
        "        cout<<\"Semester number: \"<<i+1<<endl;\n",
        "        cout<<\"Final marks: \";\n",
        "        for(int j = 0; j < col; ++j){\n",
        "            cout<<marks[i][j]<<\" \";\n",
        "        }\n",
        "        cout<<endl;\n",
        "    }\n",
        "\n",
        "    return 0;\n",
        "}"
      ],
      "execution_count": 31,
      "outputs": [
        {
          "output_type": "stream",
          "text": [
            "Overwriting test.cpp\n"
          ],
          "name": "stdout"
        }
      ]
    },
    {
      "cell_type": "code",
      "metadata": {
        "id": "AmJFGWbjxk_D",
        "colab_type": "code",
        "outputId": "25955dd5-908f-4c06-b6ac-fe9476aef8be",
        "colab": {
          "base_uri": "https://localhost:8080/",
          "height": 0
        }
      },
      "source": [
        "%%script bash\n",
        "g++ test.cpp -o test \n",
        "./test"
      ],
      "execution_count": 32,
      "outputs": [
        {
          "output_type": "stream",
          "text": [
            "Semester number: 1\n",
            "Final marks: 95 80 91 100 \n",
            "Semester number: 2\n",
            "Final marks: 100 93 90 80 \n"
          ],
          "name": "stdout"
        }
      ]
    },
    {
      "cell_type": "markdown",
      "metadata": {
        "id": "jkKZoVSFhJsj",
        "colab_type": "text"
      },
      "source": [
        "### Matrix addition using two dimensional array \n",
        "So, a matrix can be a vector of dimension n x 1 or it can be a structure of dimension m x n. If it a vector of dimension n x 1 , it can be considered as an one dimensional array. Addition and subtraction of a vector will follow the same rules as addition and subtraction of a one dimensional array.\n",
        "Here I will show how addition and subtraction is done using two dimensional array. "
      ]
    },
    {
      "cell_type": "code",
      "metadata": {
        "id": "GESwK5c9xopm",
        "colab_type": "code",
        "outputId": "f95ba992-9a7f-455c-ce5f-32a37b94c3c5",
        "colab": {
          "base_uri": "https://localhost:8080/",
          "height": 0
        }
      },
      "source": [
        "%%writefile test.cpp\n",
        "//Two dimensional array\n",
        "#include <iostream>\n",
        "using namespace std;\n",
        "int main(){\n",
        "    const int row = 2; const int col = 4;\n",
        "    int marks[row][col] = {\n",
        "                            {95,80,91,100},\n",
        "                            {100,93,90,80}\n",
        "                          };\n",
        "    int extraAssignmentMarks[row][col] = {\n",
        "                                {10, 5, 12, 8},\n",
        "                                {0, 0, 0, 0}\n",
        "                               };\n",
        "    int finalMarks[row][col];\n",
        "\n",
        "    //Add the marks\n",
        "    for(int i = 0; i < row; ++i){\n",
        "        for(int j = 0; j < col; ++j){\n",
        "          finalMarks[i][j] = marks[i][j] + extraAssignmentMarks[i][j];   \n",
        "        }\n",
        "    }\n",
        "\n",
        "    //Display the marks\n",
        "    for(int i = 0; i < row; ++i){\n",
        "        cout<<\"Semester number: \"<<i+1<<endl;\n",
        "        cout<<\"Final grades: \";\n",
        "        for(int j = 0; j < col; ++j){\n",
        "          cout<<finalMarks[i][j]<<\" \";\n",
        "        }cout<<endl;\n",
        "    }\n",
        "    return 0;\n",
        "}"
      ],
      "execution_count": 33,
      "outputs": [
        {
          "output_type": "stream",
          "text": [
            "Overwriting test.cpp\n"
          ],
          "name": "stdout"
        }
      ]
    },
    {
      "cell_type": "code",
      "metadata": {
        "id": "CVytnTqWt823",
        "colab_type": "code",
        "outputId": "09c0fb53-54b4-4514-cd98-18c201ebdcb2",
        "colab": {
          "base_uri": "https://localhost:8080/",
          "height": 0
        }
      },
      "source": [
        "%%script bash\n",
        "g++ test.cpp -o test \n",
        "./test"
      ],
      "execution_count": 34,
      "outputs": [
        {
          "output_type": "stream",
          "text": [
            "Semester number: 1\n",
            "Final grades: 105 85 103 108 \n",
            "Semester number: 2\n",
            "Final grades: 100 93 90 80 \n"
          ],
          "name": "stdout"
        }
      ]
    },
    {
      "cell_type": "markdown",
      "metadata": {
        "id": "AFnerxI50D9b",
        "colab_type": "text"
      },
      "source": [
        "### Matrix multiplication using two dimensional array\n",
        "1.   Matrix multiplication of matrices with the following dimensions m x m  and m x m "
      ]
    },
    {
      "cell_type": "code",
      "metadata": {
        "id": "U6vZxaFRlxYX",
        "colab_type": "code",
        "outputId": "fb6a3510-c6b7-4b34-d9d0-47657e94a635",
        "colab": {
          "base_uri": "https://localhost:8080/",
          "height": 0
        }
      },
      "source": [
        "%%writefile test.cpp\n",
        "//Two dimensional array\n",
        "#include <iostream>\n",
        "using namespace std;\n",
        "int main(){\n",
        "    const int row = 3; const int col = 3;\n",
        "    int arrA[row][col] = {\n",
        "                          {10,10,10},\n",
        "                          {20,20,20},\n",
        "                          {30,30,30}\n",
        "                          };\n",
        "    int arrB[row][col] = {\n",
        "                          {10, 20, 30}, \n",
        "                          {10, 20, 30},\n",
        "                          {10, 20, 30}                          \n",
        "                         };\n",
        "    //This is where the multiplied value\n",
        "    //of the array will be kept\n",
        "    int arrC[row][col] = {\n",
        "                          {0, 0, 0},\n",
        "                          {0, 0, 0},\n",
        "                          {0, 0, 0}\n",
        "                         };\n",
        "\n",
        "    //Multiply the matrix\n",
        "    for(int i = 0; i < row; ++i){\n",
        "        for(int j = 0; j < row; ++j){\n",
        "            \n",
        "            //Value of each row being multiplied\n",
        "            //by each column is being added\n",
        "            int val = 0;\n",
        "            for(int k = 0; k < row; ++k){\n",
        "              val += arrA[i][k] * arrB[k][j];\n",
        "            }\n",
        "\n",
        "            //It is then stored in the proper\n",
        "            //index in arrC\n",
        "            arrC[i][j] = val;\n",
        "        }\n",
        "    }\n",
        "\n",
        "    //Display the marks\n",
        "    for(int i = 0; i < row; ++i){\n",
        "        cout<<\"Row \"<<i<<\" : \";\n",
        "        for(int j = 0; j < col; ++j){\n",
        "          cout<<arrC[i][j]<<\" \";\n",
        "        }cout<<endl;\n",
        "    }\n",
        "    return 0;\n",
        "}"
      ],
      "execution_count": 35,
      "outputs": [
        {
          "output_type": "stream",
          "text": [
            "Overwriting test.cpp\n"
          ],
          "name": "stdout"
        }
      ]
    },
    {
      "cell_type": "code",
      "metadata": {
        "id": "FUl26LWYl05K",
        "colab_type": "code",
        "outputId": "351da409-9f8a-4bca-a053-1b16b2e94229",
        "colab": {
          "base_uri": "https://localhost:8080/",
          "height": 0
        }
      },
      "source": [
        "%%script bash\n",
        "g++ test.cpp -o test \n",
        "./test"
      ],
      "execution_count": 36,
      "outputs": [
        {
          "output_type": "stream",
          "text": [
            "Row 0 : 300 600 900 \n",
            "Row 1 : 600 1200 1800 \n",
            "Row 2 : 900 1800 2700 \n"
          ],
          "name": "stdout"
        }
      ]
    },
    {
      "cell_type": "markdown",
      "metadata": {
        "id": "b5Fksilzl32X",
        "colab_type": "text"
      },
      "source": [
        "2.  A more generic matrix multiplication is possible using when matrix has dimensions of the following size , m x a and a x n ."
      ]
    },
    {
      "cell_type": "code",
      "metadata": {
        "id": "utkEjYtN2oI1",
        "colab_type": "code",
        "outputId": "7622c8d7-71a3-4ba9-d299-fdc76ceb378f",
        "colab": {
          "base_uri": "https://localhost:8080/",
          "height": 0
        }
      },
      "source": [
        "%%writefile test.cpp\n",
        "//Two dimensional array\n",
        "#include <iostream>\n",
        "using namespace std;\n",
        "int main(){\n",
        "    const int row1 = 2; const int col1 = 4;\n",
        "    int arrA[row1][col1] = {\n",
        "                          {10,10,10,10},\n",
        "                          {20,20,20,20}\n",
        "                          };\n",
        "    const int row2 = 4; const int col2 = 2; \n",
        "    int arrB[row2][col2] = {\n",
        "                          {10, 20}, \n",
        "                          {10, 20},\n",
        "                          {10, 20},\n",
        "                          {10, 20}\n",
        "                         };\n",
        "    //This is where the multiplied value\n",
        "    //of the array will be kept\n",
        "    int arrC[row1][col2] = {\n",
        "                          {0,0},\n",
        "                          {0,0}\n",
        "                         };\n",
        "\n",
        "    //Multiply the matrix\n",
        "    for(int i = 0; i < row1; ++i){\n",
        "        for(int j = 0; j < col2; ++j){\n",
        "            \n",
        "            //Value of each row being multiplied\n",
        "            //by each column is being added\n",
        "            int val = 0;\n",
        "            for(int k = 0; k < col1; ++k){\n",
        "              val += arrA[i][k] * arrB[k][j];\n",
        "            }\n",
        "\n",
        "            //It is then stored in the proper\n",
        "            //index in arrC\n",
        "            arrC[i][j] = val;\n",
        "        }\n",
        "    }\n",
        "\n",
        "    //Display the marks\n",
        "    for(int i = 0; i < row1; ++i){\n",
        "        cout<<\"Row \"<<i<<\" : \";\n",
        "        for(int j = 0; j < col2; ++j){\n",
        "          cout<<arrC[i][j]<<\" \";\n",
        "        }cout<<endl;\n",
        "    }\n",
        "    return 0;\n",
        "}"
      ],
      "execution_count": 37,
      "outputs": [
        {
          "output_type": "stream",
          "text": [
            "Overwriting test.cpp\n"
          ],
          "name": "stdout"
        }
      ]
    },
    {
      "cell_type": "code",
      "metadata": {
        "id": "z4UGCNPF2prA",
        "colab_type": "code",
        "outputId": "65a019b9-fce6-4bed-c8fa-24a77dc1e7ba",
        "colab": {
          "base_uri": "https://localhost:8080/",
          "height": 0
        }
      },
      "source": [
        "%%script bash\n",
        "g++ test.cpp -o test \n",
        "./test"
      ],
      "execution_count": 38,
      "outputs": [
        {
          "output_type": "stream",
          "text": [
            "Row 0 : 400 800 \n",
            "Row 1 : 800 1600 \n"
          ],
          "name": "stdout"
        }
      ]
    },
    {
      "cell_type": "markdown",
      "metadata": {
        "id": "jHvA5x_pqkW9",
        "colab_type": "text"
      },
      "source": [
        "# Function with 1 dimensional array\n",
        "Functions as shown above is useful in the functions section were only used to modularize program with basic data types. Here functions will be used alongside with arrays to show data transfer with a program. Example is given below:\n",
        "\n",
        "*     Printing an array"
      ]
    },
    {
      "cell_type": "code",
      "metadata": {
        "id": "cQZBsZiWD4I6",
        "colab_type": "code",
        "outputId": "fa1aad37-850e-4fbf-daae-26d5946123c0",
        "colab": {
          "base_uri": "https://localhost:8080/",
          "height": 0
        }
      },
      "source": [
        "%%writefile test.cpp\n",
        "//One dimensional array\n",
        "#include <iostream>\n",
        "using namespace std;\n",
        "void printArray(int arr[], int size){\n",
        "    cout<<\"The array is: \";\n",
        "    for(int i = 0; i < size; ++i){\n",
        "        cout << arr[i] << \" \";\n",
        "    }\n",
        "}\n",
        "int main(){\n",
        "    const int N = 5;\n",
        "    int arr[N] = {1,2,3,4,5};\n",
        "    printArray(arr, N);\n",
        "    return 0;\n",
        "}"
      ],
      "execution_count": 39,
      "outputs": [
        {
          "output_type": "stream",
          "text": [
            "Overwriting test.cpp\n"
          ],
          "name": "stdout"
        }
      ]
    },
    {
      "cell_type": "code",
      "metadata": {
        "id": "Ckqk4PkMEGZS",
        "colab_type": "code",
        "outputId": "73ff1574-a295-48e4-9fb4-eb0facd1d34e",
        "colab": {
          "base_uri": "https://localhost:8080/",
          "height": 0
        }
      },
      "source": [
        "%%script bash\n",
        "g++ test.cpp -o test \n",
        "./test"
      ],
      "execution_count": 40,
      "outputs": [
        {
          "output_type": "stream",
          "text": [
            "The array is: 1 2 3 4 5 "
          ],
          "name": "stdout"
        }
      ]
    },
    {
      "cell_type": "markdown",
      "metadata": {
        "id": "zNgPlju-J7MJ",
        "colab_type": "text"
      },
      "source": [
        "*   Print an array that contains odd numbers."
      ]
    },
    {
      "cell_type": "code",
      "metadata": {
        "id": "Zpl3d07-J0a3",
        "colab_type": "code",
        "outputId": "ba1155f2-bbf3-4c7d-9f04-495bf05d1419",
        "colab": {
          "base_uri": "https://localhost:8080/",
          "height": 0
        }
      },
      "source": [
        "%%writefile test.cpp\n",
        "//One dimensional array\n",
        "#include <iostream>\n",
        "using namespace std;\n",
        "void printOddNumArr(int arr[], int size){\n",
        "    cout<<\"The odd numbers are: \";\n",
        "    for(int i = 0; i < size; ++i){\n",
        "        if(arr[i] % 2 == 1){\n",
        "          cout << arr[i] << \" \";\n",
        "        }\n",
        "    }\n",
        "}\n",
        "int main(){\n",
        "    const int N = 5;\n",
        "    int arr[N] = {1,2,3,4,5};\n",
        "    printOddNumArr(arr, N);\n",
        "    return 0;\n",
        "}"
      ],
      "execution_count": 41,
      "outputs": [
        {
          "output_type": "stream",
          "text": [
            "Overwriting test.cpp\n"
          ],
          "name": "stdout"
        }
      ]
    },
    {
      "cell_type": "code",
      "metadata": {
        "id": "w44766cDKGbg",
        "colab_type": "code",
        "outputId": "824685e5-e6a8-49e5-a9e1-018c121a1c71",
        "colab": {
          "base_uri": "https://localhost:8080/",
          "height": 0
        }
      },
      "source": [
        "%%script bash\n",
        "g++ test.cpp -o test \n",
        "./test"
      ],
      "execution_count": 42,
      "outputs": [
        {
          "output_type": "stream",
          "text": [
            "The odd numbers are: 1 3 5 "
          ],
          "name": "stdout"
        }
      ]
    },
    {
      "cell_type": "markdown",
      "metadata": {
        "id": "uGyJ7by-YKov",
        "colab_type": "text"
      },
      "source": [
        "*     Find the number of elements in an array that are less than zero. "
      ]
    },
    {
      "cell_type": "code",
      "metadata": {
        "id": "cmLRqcErXJJ_",
        "colab_type": "code",
        "outputId": "f5ef3766-1ec8-4ecc-b786-62bd506d3246",
        "colab": {
          "base_uri": "https://localhost:8080/",
          "height": 0
        }
      },
      "source": [
        "%%writefile test.cpp\n",
        "//One dimensional array\n",
        "#include <iostream>\n",
        "using namespace std;\n",
        "int numValLessThanZero(int arr[], int size){\n",
        "    int count = 0;\n",
        "    for(int i = 0; i < size; ++i){\n",
        "        if(arr[i] < 0){\n",
        "          count = count + 1;\n",
        "        }\n",
        "    }\n",
        "    return count;\n",
        "}\n",
        "int main(){\n",
        "    const int N = 5;\n",
        "    int arr[N] = {2,3,-12,4,-1};\n",
        "    cout<<\"Number of value less than zeros is: \"<<numValLessThanZero(arr, N);\n",
        "    return 0;\n",
        "}"
      ],
      "execution_count": 43,
      "outputs": [
        {
          "output_type": "stream",
          "text": [
            "Overwriting test.cpp\n"
          ],
          "name": "stdout"
        }
      ]
    },
    {
      "cell_type": "code",
      "metadata": {
        "id": "b3tOSLaTZ_Ys",
        "colab_type": "code",
        "outputId": "0c20bf6f-bdfa-4849-9fa9-9f4449477d2e",
        "colab": {
          "base_uri": "https://localhost:8080/",
          "height": 0
        }
      },
      "source": [
        "%%script bash\n",
        "g++ test.cpp -o test \n",
        "./test"
      ],
      "execution_count": 44,
      "outputs": [
        {
          "output_type": "stream",
          "text": [
            "Number of value less than zeros is: 2"
          ],
          "name": "stdout"
        }
      ]
    },
    {
      "cell_type": "markdown",
      "metadata": {
        "id": "BKkbLc7yLcfD",
        "colab_type": "text"
      },
      "source": [
        "*    Find the maximum number in an array."
      ]
    },
    {
      "cell_type": "code",
      "metadata": {
        "id": "VFhNRHf1KjYG",
        "colab_type": "code",
        "outputId": "6ff777a1-e9a4-4bff-b0e7-977e7f59babd",
        "colab": {
          "base_uri": "https://localhost:8080/",
          "height": 0
        }
      },
      "source": [
        "%%writefile test.cpp\n",
        "//One dimensional array\n",
        "#include <iostream>\n",
        "using namespace std;\n",
        "int getMaxValue(int arr[], int size){\n",
        "    for(int i = 0; i < size - 1; ++i){\n",
        "        if(arr[i] > arr[i+1]){\n",
        "            int a = arr[i+1];\n",
        "            arr[i+1] = arr[i];\n",
        "            arr[i] = a;\n",
        "        }\n",
        "    }\n",
        "    return arr[size-1];\n",
        "}\n",
        "int main(){\n",
        "    const int N = 5;\n",
        "    int arr[N] = {2,3,1,4,-1};\n",
        "    cout<<\"Max value is: \"<<getMaxValue(arr, N);\n",
        "    return 0;\n",
        "}"
      ],
      "execution_count": 45,
      "outputs": [
        {
          "output_type": "stream",
          "text": [
            "Overwriting test.cpp\n"
          ],
          "name": "stdout"
        }
      ]
    },
    {
      "cell_type": "code",
      "metadata": {
        "id": "zZyly2q_Lntm",
        "colab_type": "code",
        "outputId": "3ab56a24-7942-40ff-a292-f251fdbcc154",
        "colab": {
          "base_uri": "https://localhost:8080/",
          "height": 0
        }
      },
      "source": [
        "%%script bash\n",
        "g++ test.cpp -o test \n",
        "./test"
      ],
      "execution_count": 46,
      "outputs": [
        {
          "output_type": "stream",
          "text": [
            "Max value is: 4"
          ],
          "name": "stdout"
        }
      ]
    },
    {
      "cell_type": "markdown",
      "metadata": {
        "id": "zhlVt6LCOOmO",
        "colab_type": "text"
      },
      "source": [
        "So the code above needs a little bit of explanation.\n",
        "\n",
        "The array [2,3,1,4,-1] is passed from the main function to the function which has the name getMaxValue. The size of the array which is 5 is send along it.\n",
        "After that the following line of code runs on it.\n",
        "```\n",
        "1.for(int i = 0; i < size - 1; ++i){\n",
        "2.        if(arr[i] > arr[i+1]){\n",
        "3.            int a = arr[i+1];\n",
        "4.            arr[i+1] = arr[i];\n",
        "5.            arr[i] = a;\n",
        "6.        }\n",
        "7.    }\n",
        "```\n",
        "The value of the variable `size` is `5`. However, it is not possible to access the value `arr[size]`, since indexing of an array starts from `0`. The maximum index that can be accessed is `4`. The `i < size` code snippet would ensure that effect. Howv, why is it `i < size - 1`. It is because the comparison of arr[i] and arr[i+1] would require us to access values which are not accessible. If value of `i` for example is `4` still less than `5`, will it be possible to access `i+1` which is `4+1 = 5` , no. So, `i` runs upto `size - 1`.\n",
        "\n",
        "In line 2 the comparison happens between `arr[i]` and `arr[i+1]` . If `arr[i]` is greater than `arr[i+1]` we need to do something. The thing we do is swapping. We swap value contained in `arr[i+1]` with the value of `arr[i]` , such that the value of `arr[i+1]` goes to `arr[i]` and the value of `arr[i]` goes to `arr[i+1]` . Line 3, Line 4 and Line 5 is responsible for the swapping. In Line 3 the value from `arr[i+1]` is stored into variable a. Remember value of `arr[i+1]` is less than `arr[i]`.  In line 4 value of `arr[i]` which is greater than `arr[i+1]` is transferred to `arr[i+1]`. In Line 5 value of variable a which is smaller and was previously in `arr[i+1]` is transferred to `arr[i]`.\n",
        "This process continues till the 2nd last index of the array, swapping values of array, if one is smaller than the previous one. This allows for the maximum value to be transferred to the last index of the array.\n",
        "\n",
        "Lastly this piece of code return `arr[size-1]`; is necessary since we are only interested in returning the value of the last index of the array which is size-1( 5 - 1 = 4 in this case).\n",
        "\n",
        "\n"
      ]
    },
    {
      "cell_type": "markdown",
      "metadata": {
        "id": "vKtY_jY4iBUa",
        "colab_type": "text"
      },
      "source": [
        "# Functions with 2 dimensional array\n",
        "2 dimensional arrays can be utilized with functions in a similar way as 1 dimensional array with function. For example:\n",
        "*    Printing the contents of the final marks for 2 semesters"
      ]
    },
    {
      "cell_type": "code",
      "metadata": {
        "id": "oVzwQQnX3HTG",
        "colab_type": "code",
        "outputId": "a709145d-f755-4711-e5ce-76feff752f8b",
        "colab": {
          "base_uri": "https://localhost:8080/",
          "height": 0
        }
      },
      "source": [
        "%%writefile test.cpp\n",
        "//Two dimensional array\n",
        "#include <iostream>\n",
        "using namespace std;\n",
        "void printArray(int arr[][3], int row, int col){\n",
        "    \n",
        "    for(int i = 0; i < row; ++i){\n",
        "        cout<<\"Semester: \"<<i+1<<endl;\n",
        "        cout<<\"Final Marks: \";\n",
        "        for(int j = 0; j < col; ++j){\n",
        "            cout<<arr[i][j]<<\" \";\n",
        "        }\n",
        "        cout<<endl;\n",
        "    }\n",
        "}\n",
        "int main(){\n",
        "    const int row = 2; const int col = 3;\n",
        "    int marks[row][col] = {\n",
        "                            {90, 100, 90},\n",
        "                            {100, 89, 90}\n",
        "                          };\n",
        "    printArray(marks, row, col);\n",
        "    return 0;\n",
        "}"
      ],
      "execution_count": 47,
      "outputs": [
        {
          "output_type": "stream",
          "text": [
            "Overwriting test.cpp\n"
          ],
          "name": "stdout"
        }
      ]
    },
    {
      "cell_type": "code",
      "metadata": {
        "id": "cgCqCppq4wW7",
        "colab_type": "code",
        "outputId": "1200ad45-3c97-495b-bf5c-ca940c09869d",
        "colab": {
          "base_uri": "https://localhost:8080/",
          "height": 0
        }
      },
      "source": [
        "%%script bash\n",
        "g++ test.cpp -o test \n",
        "./test"
      ],
      "execution_count": 48,
      "outputs": [
        {
          "output_type": "stream",
          "text": [
            "Semester: 1\n",
            "Final Marks: 90 100 90 \n",
            "Semester: 2\n",
            "Final Marks: 100 89 90 \n"
          ],
          "name": "stdout"
        }
      ]
    },
    {
      "cell_type": "markdown",
      "metadata": {
        "id": "bXDSkKun9BS2",
        "colab_type": "text"
      },
      "source": [
        "Couple of things before jumping to the next example. Observe the parameters send to the function signature here: `void printArray(int arr[][3], int row, int col)`. There is a empty `[]` bracket after `arr`. If you any number out there it will not be a problem. Normally it is kept empty. Observe the second bracket of `arr`. It contains the value `3`. This signifies the number of columns that is present in the two dimensional array. That value should strictly be the value of the number of columns that is contained in the two dimensional array."
      ]
    },
    {
      "cell_type": "markdown",
      "metadata": {
        "id": "tWrkmEHI52Iz",
        "colab_type": "text"
      },
      "source": [
        "*     Adding two matrices together using a function"
      ]
    },
    {
      "cell_type": "code",
      "metadata": {
        "id": "3kAXpUfR6HX-",
        "colab_type": "code",
        "outputId": "282028b2-520e-476f-ad51-ef8d84e851c2",
        "colab": {
          "base_uri": "https://localhost:8080/",
          "height": 0
        }
      },
      "source": [
        "%%writefile test.cpp\n",
        "//Two dimensional array\n",
        "#include <iostream>\n",
        "using namespace std;\n",
        "void printArray(int arrA[][3], int r1, int c1, int arrB[][3], int r2, int c2 ){\n",
        "    \n",
        "    for(int i = 0; i < r1; ++i){\n",
        "        cout<<\"Semester: \"<<i+1<<endl;\n",
        "        cout<<\"After adding bonus: \";\n",
        "        for(int j = 0; j < c1; ++j){\n",
        "            cout<<arrA[i][j] + arrB[i][j]<<\" \";\n",
        "        }cout<<endl;\n",
        "    }\n",
        "}\n",
        "int main(){\n",
        "    const int row = 2; const int col = 3;\n",
        "    int marks[row][col] = {\n",
        "                            {90, 100, 90},\n",
        "                            {100, 89, 90}\n",
        "                          };\n",
        "    int bonus[row][col] = {\n",
        "                            {10, 4, 5},\n",
        "                            {3, 5, 1}\n",
        "                          };\n",
        "    printArray(marks, row, col, bonus, row, col);\n",
        "    return 0;\n",
        "}"
      ],
      "execution_count": 49,
      "outputs": [
        {
          "output_type": "stream",
          "text": [
            "Overwriting test.cpp\n"
          ],
          "name": "stdout"
        }
      ]
    },
    {
      "cell_type": "code",
      "metadata": {
        "id": "M3a4k7R38L2y",
        "colab_type": "code",
        "outputId": "0570c112-9a22-42c5-b46b-307043326409",
        "colab": {
          "base_uri": "https://localhost:8080/",
          "height": 0
        }
      },
      "source": [
        "%%script bash\n",
        "g++ test.cpp -o test \n",
        "./test"
      ],
      "execution_count": 50,
      "outputs": [
        {
          "output_type": "stream",
          "text": [
            "Semester: 1\n",
            "After adding bonus: 100 104 95 \n",
            "Semester: 2\n",
            "After adding bonus: 103 94 91 \n"
          ],
          "name": "stdout"
        }
      ]
    },
    {
      "cell_type": "markdown",
      "metadata": {
        "id": "D5os9A1X_KOy",
        "colab_type": "text"
      },
      "source": [
        "# Return array from functions\n",
        "There are couple of ways in which array's can be returned from a function. Some of the ways that I have used in CSC 101 will be shown here.\n",
        "*     There is no need to explicitly return arrays in C++. After calling the function with the array from the main function , if the array is printed again, the array changes its value. The value that the array takes, is due to the changes in the function which was called from the main function."
      ]
    },
    {
      "cell_type": "code",
      "metadata": {
        "id": "htgVI8W68MqI",
        "colab_type": "code",
        "outputId": "22b66d8a-f25a-427d-e182-080cfd21c110",
        "colab": {
          "base_uri": "https://localhost:8080/",
          "height": 0
        }
      },
      "source": [
        "%%writefile test.cpp\n",
        "//One dimensional array\n",
        "#include <iostream>\n",
        "using namespace std;\n",
        "void addValueToArray(int arr[], int row){\n",
        "    for(int i = 0; i < row; ++i){\n",
        "        arr[i] = arr[i] + 10;\n",
        "    }\n",
        "}\n",
        "int main(){\n",
        "    const int row = 5 ; \n",
        "    int marks[row] = {89,91,91,88,90};\n",
        "    addValueToArray(marks, row);\n",
        "    cout<<\"Values in the array after calling the function: \"<<endl;\n",
        "    for(int i = 0 ; i < row; ++i){\n",
        "        cout << marks[i] << \" \";\n",
        "    }\n",
        "    return 0;\n",
        "}"
      ],
      "execution_count": 51,
      "outputs": [
        {
          "output_type": "stream",
          "text": [
            "Overwriting test.cpp\n"
          ],
          "name": "stdout"
        }
      ]
    },
    {
      "cell_type": "code",
      "metadata": {
        "id": "rXr3BBEWCtgr",
        "colab_type": "code",
        "outputId": "f8577899-9a98-4d0b-9139-72e6b7a8661d",
        "colab": {
          "base_uri": "https://localhost:8080/",
          "height": 0
        }
      },
      "source": [
        "%%script bash\n",
        "g++ test.cpp -o test \n",
        "./test"
      ],
      "execution_count": 52,
      "outputs": [
        {
          "output_type": "stream",
          "text": [
            "Values in the array after calling the function: \n",
            "99 101 101 98 100 "
          ],
          "name": "stdout"
        }
      ]
    },
    {
      "cell_type": "markdown",
      "metadata": {
        "id": "toXC2jdQSdUE",
        "colab_type": "text"
      },
      "source": [
        "One can modularize the code above further, but the idea will remain the same."
      ]
    },
    {
      "cell_type": "code",
      "metadata": {
        "id": "r1shrSNYSo1l",
        "colab_type": "code",
        "outputId": "4237d5ad-79a6-4fae-a0a3-fbc80dff0c06",
        "colab": {
          "base_uri": "https://localhost:8080/",
          "height": 0
        }
      },
      "source": [
        "%%writefile test.cpp\n",
        "//One dimensional array\n",
        "#include <iostream>\n",
        "using namespace std;\n",
        "void addValueToArray(int arr[], int row){\n",
        "    for(int i = 0; i < row; ++i){\n",
        "        arr[i] = arr[i] + 10;\n",
        "    }\n",
        "}\n",
        "void printArray(int arr[], int row){\n",
        "    for(int i = 0; i < row; ++i){\n",
        "        cout << arr[i] << \" \";\n",
        "    }\n",
        "    cout<<endl;\n",
        "}\n",
        "void setValueToArray(int arr[], int row){\n",
        "    for(int i = 0; i < row; ++i){\n",
        "        arr[i] = 90 + i;\n",
        "    }\n",
        "}\n",
        "\n",
        "int main(){\n",
        "    const int row = 5 ; \n",
        "    int marks[row];\n",
        "    setValueToArray(marks, row);\n",
        "\n",
        "    cout<<\"Array content before: \";\n",
        "    printArray(marks,row);\n",
        "    \n",
        "    //The value of the array changes \n",
        "    //due to the function below\n",
        "    addValueToArray(marks, row);\n",
        "\n",
        "    //The changes in the array is \n",
        "    //shown below\n",
        "    cout<<\"Array content after: \";\n",
        "    printArray(marks, row);\n",
        "    \n",
        "    return 0;\n",
        "}"
      ],
      "execution_count": 53,
      "outputs": [
        {
          "output_type": "stream",
          "text": [
            "Overwriting test.cpp\n"
          ],
          "name": "stdout"
        }
      ]
    },
    {
      "cell_type": "code",
      "metadata": {
        "id": "o58gQCvfSrBm",
        "colab_type": "code",
        "outputId": "21ce2a57-05c7-4e20-c443-8b638ae1add4",
        "colab": {
          "base_uri": "https://localhost:8080/",
          "height": 0
        }
      },
      "source": [
        "%%script bash\n",
        "g++ test.cpp -o test \n",
        "./test"
      ],
      "execution_count": 54,
      "outputs": [
        {
          "output_type": "stream",
          "text": [
            "Array content before: 90 91 92 93 94 \n",
            "Array content after: 100 101 102 103 104 \n"
          ],
          "name": "stdout"
        }
      ]
    },
    {
      "cell_type": "markdown",
      "metadata": {
        "id": "1WF_E1dpVaQ3",
        "colab_type": "text"
      },
      "source": [
        "Ideas presented in the above code block can be replicated for 2 dimensional arrays as well."
      ]
    },
    {
      "cell_type": "code",
      "metadata": {
        "id": "8Fnsbvg9TeNg",
        "colab_type": "code",
        "outputId": "78306398-154f-41ed-839b-1ed867d5e2c0",
        "colab": {
          "base_uri": "https://localhost:8080/",
          "height": 0
        }
      },
      "source": [
        "%%writefile test.cpp\n",
        "//One dimensional array\n",
        "#include <iostream>\n",
        "using namespace std;\n",
        "\n",
        "//Print the two dimensional array\n",
        "void printArray(int arr[][3], int row, int col){\n",
        "    for(int i = 0; i < row; ++i){\n",
        "        for(int j = 0; j < col; ++j){\n",
        "          cout << arr[i][j] << \" \";\n",
        "        }cout<<endl;\n",
        "    }\n",
        "}\n",
        "//Add bonus marks to the array\n",
        "void addBonusToMarks(int marks[][3], int row1, int col1, int bonus[][3], int row2, int col2){\n",
        "    for(int i = 0; i < row1; ++i){\n",
        "        for(int j = 0 ; j < col1; ++j){\n",
        "          marks[i][j] = marks[i][j] + bonus[i][j];\n",
        "      }\n",
        "    }\n",
        "}\n",
        "//Initialize the arrays \n",
        "void initializeTheArrays(int marks[][3], int row1, int col1, int bonus[][3], int row2, int col2){\n",
        "    for(int i = 0; i < row1; ++i){\n",
        "        for(int j = 0; j < col1; ++j){\n",
        "          marks[i][j] = 90 + i;\n",
        "          bonus[i][j] = 10 + i;\n",
        "        }\n",
        "    }\n",
        "}\n",
        "\n",
        "int main(){\n",
        "    const int row = 2 ; const int col = 3; \n",
        "    //Marks of the student in 2 semesters, each having 3 courses\n",
        "    int marks[row][col];\n",
        "\n",
        "    //Bonus marks of the students in each of the 2 semesters\n",
        "    //and each of the 3 courses\n",
        "    int bonus[row][col];\n",
        "\n",
        "    //Initialize the arrays with values\n",
        "    initializeTheArrays(marks, row, col, bonus, row, col);\n",
        "\n",
        "    cout<<\"Array content before adding bonus marks: \"<<endl;\n",
        "    printArray(marks,row,col);\n",
        "    \n",
        "    //The value of the array changes due to the function below\n",
        "    addBonusToMarks(marks, row,col, bonus, row, col);\n",
        "\n",
        "    //The changes in the array is shown below\n",
        "    cout<<\"Array content after bonus marks are added: \"<<endl;\n",
        "    printArray(marks, row, col);\n",
        "    \n",
        "    return 0;\n",
        "}"
      ],
      "execution_count": 55,
      "outputs": [
        {
          "output_type": "stream",
          "text": [
            "Overwriting test.cpp\n"
          ],
          "name": "stdout"
        }
      ]
    },
    {
      "cell_type": "code",
      "metadata": {
        "id": "2k9AHOia8C74",
        "colab_type": "code",
        "outputId": "823db04d-57e7-40a8-d377-e69c9b1bb328",
        "colab": {
          "base_uri": "https://localhost:8080/",
          "height": 0
        }
      },
      "source": [
        "%%script bash\n",
        "g++ test.cpp -o test \n",
        "./test"
      ],
      "execution_count": 56,
      "outputs": [
        {
          "output_type": "stream",
          "text": [
            "Array content before adding bonus marks: \n",
            "90 90 90 \n",
            "91 91 91 \n",
            "Array content after bonus marks are added: \n",
            "100 100 100 \n",
            "102 102 102 \n"
          ],
          "name": "stdout"
        }
      ]
    },
    {
      "cell_type": "markdown",
      "metadata": {
        "id": "vkJnjfHyLj3a",
        "colab_type": "text"
      },
      "source": [
        "# Memory \n",
        "So memory is an important topic in Computer Science. The examples that will be shown below hopefully illustrate that.\n",
        "\n",
        "So, let us begin with swapping numbers. For example in the code example below, after swapping values of variable `a` and `b` the values of the variable will change after swapping of the value. "
      ]
    },
    {
      "cell_type": "code",
      "metadata": {
        "id": "bYVD2rAWN6JP",
        "colab_type": "code",
        "outputId": "f9f91bc4-1a4b-4a45-9384-4a6af13cbf3a",
        "colab": {
          "base_uri": "https://localhost:8080/",
          "height": 0
        }
      },
      "source": [
        "%%writefile test.cpp\n",
        "#include <iostream>\n",
        "using namespace std;\n",
        "//Swapping of two numbers\n",
        "\n",
        "int main(){\n",
        "    int a = 3; int b = 5; \n",
        "    cout<<\"Before swapping - a: \"<<a<<\" b: \"<<b<<endl;\n",
        "    \n",
        "    int temp = a;//Value of temp is 3 and value of a is 3\n",
        "    a = b; //Value of a is 5 and value of b is 5\n",
        "    b = temp; //Value of b is 3 because value of temp is 3\n",
        "\n",
        "    //So, printing the value of a and b after swapping is\n",
        "    cout<<\"After swapping - a: \"<<a<<\" b: \"<<b<<endl;\n",
        "    return 0;\n",
        "}"
      ],
      "execution_count": 57,
      "outputs": [
        {
          "output_type": "stream",
          "text": [
            "Overwriting test.cpp\n"
          ],
          "name": "stdout"
        }
      ]
    },
    {
      "cell_type": "code",
      "metadata": {
        "id": "0a0oJNnGRoQi",
        "colab_type": "code",
        "outputId": "948fa6d6-d00e-4a62-d168-b82c94acfd20",
        "colab": {
          "base_uri": "https://localhost:8080/",
          "height": 0
        }
      },
      "source": [
        "%%script bash\n",
        "g++ test.cpp -o test \n",
        "./test"
      ],
      "execution_count": 58,
      "outputs": [
        {
          "output_type": "stream",
          "text": [
            "Before swapping - a: 3 b: 5\n",
            "After swapping - a: 5 b: 3\n"
          ],
          "name": "stdout"
        }
      ]
    },
    {
      "cell_type": "markdown",
      "metadata": {
        "id": "zQQWaDPae_jo",
        "colab_type": "text"
      },
      "source": [
        "Let us do swapping of the variable `a` and `b` using a function."
      ]
    },
    {
      "cell_type": "code",
      "metadata": {
        "id": "_GYii8WnclmG",
        "colab_type": "code",
        "outputId": "18d358ee-b36f-413a-df8e-a0bcb900ac11",
        "colab": {
          "base_uri": "https://localhost:8080/",
          "height": 0
        }
      },
      "source": [
        "%%writefile test.cpp\n",
        "#include <iostream>\n",
        "using namespace std;\n",
        "//Swapping of two numbers\n",
        "\n",
        "void swapValues(int a , int b){\n",
        "    int temp = a;//Value of temp is 3 and value of a is 3\n",
        "    a = b; //Value of a is 5 and value of b is 5\n",
        "    b = temp; //Value of b is 3 because value of temp is 3\n",
        "}\n",
        "int main(){\n",
        "    int a = 3; int b = 5; \n",
        "    cout<<\"Before swapping - a: \"<<a<<\" b: \"<<b<<endl;\n",
        "    swapValues(a,b);\n",
        "    cout<<\"After swapping - a: \"<<a<<\" b: \"<<b<<endl;\n",
        "    return 0;\n",
        "}"
      ],
      "execution_count": 59,
      "outputs": [
        {
          "output_type": "stream",
          "text": [
            "Overwriting test.cpp\n"
          ],
          "name": "stdout"
        }
      ]
    },
    {
      "cell_type": "code",
      "metadata": {
        "id": "12mWJYpjfPSE",
        "colab_type": "code",
        "outputId": "678a4cd3-c868-48d7-a831-d4c222ecd7a7",
        "colab": {
          "base_uri": "https://localhost:8080/",
          "height": 0
        }
      },
      "source": [
        "%%script bash\n",
        "g++ test.cpp -o test \n",
        "./test"
      ],
      "execution_count": 60,
      "outputs": [
        {
          "output_type": "stream",
          "text": [
            "Before swapping - a: 3 b: 5\n",
            "After swapping - a: 3 b: 5\n"
          ],
          "name": "stdout"
        }
      ]
    },
    {
      "cell_type": "markdown",
      "metadata": {
        "id": "0ipnUrn4fsKc",
        "colab_type": "text"
      },
      "source": [
        "Look at the values of variables `a` and `b` after swapping using the function swapValues. The values of the variables `a` and `b` does not change. It is `3` and `5` even after the function is called. This is the result of scoping where the value of the function disappers after a function. If you rewrite the function like so ...\n",
        "```\n",
        "void swapValues(int a , int b){\n",
        "    cout<<\"a: \" << a << \"b: \" << b << endl;\n",
        "    int temp = a;//Value of temp is 3 and value of a is 3\n",
        "    a = b; //Value of a is 5 and value of b is 5\n",
        "    b = temp; //Value of b is 3 because value of temp is 3\n",
        "    cout<<\"a: \" << a << \"b: \" << b << endl;\n",
        "}\n",
        "```\n",
        "... you will see that the value actually changes inside the function.\n",
        "\n",
        "There are couple of ways to fix this issue with swapping.\n",
        "1.   Pass By Reference"
      ]
    },
    {
      "cell_type": "code",
      "metadata": {
        "id": "WTazcPvpfqQ_",
        "colab_type": "code",
        "outputId": "aa7dd4e6-c3df-4f70-cf6b-5b8a60f88cab",
        "colab": {
          "base_uri": "https://localhost:8080/",
          "height": 0
        }
      },
      "source": [
        "%%writefile test.cpp\n",
        "#include <iostream>\n",
        "using namespace std;\n",
        "//Swapping of two numbers\n",
        "\n",
        "void swapValues(int &a , int &b){\n",
        "    int temp = a;\n",
        "    a = b; \n",
        "    b = temp; \n",
        "}\n",
        "int main(){\n",
        "    int x = 3; int y = 5; \n",
        "    cout<<\"Before swapping - x: \"<<x<<\" y: \"<<y<<endl;\n",
        "    swapValues(x,y);\n",
        "    cout<<\"After swapping - x: \"<<x<<\" y: \"<<y<<endl;\n",
        "    return 0;\n",
        "}"
      ],
      "execution_count": 61,
      "outputs": [
        {
          "output_type": "stream",
          "text": [
            "Overwriting test.cpp\n"
          ],
          "name": "stdout"
        }
      ]
    },
    {
      "cell_type": "code",
      "metadata": {
        "id": "xZDsgTcz6t8p",
        "colab_type": "code",
        "outputId": "fded1373-d410-4d33-b554-2de0a5820bbb",
        "colab": {
          "base_uri": "https://localhost:8080/",
          "height": 0
        }
      },
      "source": [
        "%%script bash\n",
        "g++ test.cpp -o test \n",
        "./test"
      ],
      "execution_count": 62,
      "outputs": [
        {
          "output_type": "stream",
          "text": [
            "Before swapping - x: 3 y: 5\n",
            "After swapping - x: 5 y: 3\n"
          ],
          "name": "stdout"
        }
      ]
    },
    {
      "cell_type": "markdown",
      "metadata": {
        "id": "kg6oopWI7GjP",
        "colab_type": "text"
      },
      "source": [
        "2.   Pass by address"
      ]
    },
    {
      "cell_type": "code",
      "metadata": {
        "id": "lHfgs3K17EAi",
        "colab_type": "code",
        "outputId": "d8f0f19a-f4b9-4aa5-a9d9-8ed063172add",
        "colab": {
          "base_uri": "https://localhost:8080/",
          "height": 0
        }
      },
      "source": [
        "%%writefile test.cpp\n",
        "#include <iostream>\n",
        "using namespace std;\n",
        "//Swapping of two numbers\n",
        "\n",
        "void swapValues(int *a , int *b){\n",
        "    int temp = *a;\n",
        "    *a = *b;\n",
        "    *b = temp; \n",
        "}\n",
        "int main(){\n",
        "    int x = 3; int y = 5; \n",
        "    cout<<\"Before swapping - x: \"<<x<<\" y: \"<<y<<endl;\n",
        "    swapValues(&x,&y);\n",
        "    cout<<\"After swapping - x: \"<<x<<\" y: \"<<y<<endl;\n",
        "    return 0;\n",
        "}"
      ],
      "execution_count": 63,
      "outputs": [
        {
          "output_type": "stream",
          "text": [
            "Overwriting test.cpp\n"
          ],
          "name": "stdout"
        }
      ]
    },
    {
      "cell_type": "code",
      "metadata": {
        "id": "OGKMtR0S8c00",
        "colab_type": "code",
        "outputId": "5d06357b-7a1f-4210-f647-e6a619df0dbe",
        "colab": {
          "base_uri": "https://localhost:8080/",
          "height": 0
        }
      },
      "source": [
        "%%script bash\n",
        "g++ test.cpp -o test \n",
        "./test"
      ],
      "execution_count": 64,
      "outputs": [
        {
          "output_type": "stream",
          "text": [
            "Before swapping - x: 3 y: 5\n",
            "After swapping - x: 5 y: 3\n"
          ],
          "name": "stdout"
        }
      ]
    },
    {
      "cell_type": "markdown",
      "metadata": {
        "id": "TcXLN0HDEgyh",
        "colab_type": "text"
      },
      "source": [
        "In order to understand how pass by reference works one has to understand how memory works. So every variable in a program contains two things, an adress and a value. The address is where the variable lives in the RAM, and the value is what that variable contains in it.\n",
        "\n",
        "For example, in order to find the address of a variable, type something inside the main function like this:\n",
        "\n",
        "\n",
        "```\n",
        "int a = 56;\n",
        "cout << a << endl; //Value of a\n",
        "cout << &a << endl; //Adress of a\n",
        "```\n",
        "The number `56` which is transferred into `a` is the value of a amd `&a` is the address of `a`.\n",
        "The following program will illustrate it further.\n"
      ]
    },
    {
      "cell_type": "code",
      "metadata": {
        "id": "eMd3q-AH8fEk",
        "colab_type": "code",
        "outputId": "57b5e968-d9ab-4b02-e0df-b3a2562733c8",
        "colab": {
          "base_uri": "https://localhost:8080/",
          "height": 0
        }
      },
      "source": [
        "%%writefile test.cpp\n",
        "#include <iostream>\n",
        "using namespace std;\n",
        "int main(){\n",
        "    int a = 3;\n",
        "    cout<<\"The value of a is: \"<<a<<endl;\n",
        "    cout<<\"The address of a is: \"<<&a<<endl;\n",
        "    return 0;\n",
        "}"
      ],
      "execution_count": 65,
      "outputs": [
        {
          "output_type": "stream",
          "text": [
            "Overwriting test.cpp\n"
          ],
          "name": "stdout"
        }
      ]
    },
    {
      "cell_type": "code",
      "metadata": {
        "id": "6-TKXPDjId3K",
        "colab_type": "code",
        "outputId": "e16db14e-ac58-4974-b48b-58c28fca4951",
        "colab": {
          "base_uri": "https://localhost:8080/",
          "height": 0
        }
      },
      "source": [
        "%%script bash\n",
        "g++ test.cpp -o test \n",
        "./test"
      ],
      "execution_count": 66,
      "outputs": [
        {
          "output_type": "stream",
          "text": [
            "The value of a is: 3\n",
            "The address of a is: 0x7fff10669c44\n"
          ],
          "name": "stdout"
        }
      ]
    },
    {
      "cell_type": "markdown",
      "metadata": {
        "id": "ASNBlwvlL8eo",
        "colab_type": "text"
      },
      "source": [
        "Now the value of `&a` needs to be stored somewhere, something similar to how to values are stored in some variables. In the case of address of variables though, the addresses of variables are not stored little bit differently.\n",
        "The following way of storing is wrong:\n",
        "`int y = &a`. The correct way to store the address is `int *y = &a`. The `*` symbol denotes that `&a` is not a normal data type, instead it is of address data type, and it has to be stored in a different way.\n",
        "So, in order to find out the value of `a` and the address of `a` as it is stored in the variable `y`, one has to do the following: "
      ]
    },
    {
      "cell_type": "code",
      "metadata": {
        "id": "0Nq4nxB1IekJ",
        "colab_type": "code",
        "outputId": "12fb0af5-91ca-411d-a022-ec4639b69f5f",
        "colab": {
          "base_uri": "https://localhost:8080/",
          "height": 0
        }
      },
      "source": [
        "%%writefile test.cpp\n",
        "#include <iostream>\n",
        "using namespace std;\n",
        "int main(){\n",
        "    int a = 3;\n",
        "    int *y = &a;\n",
        "    cout<<\"y will give the address of the variable a\"<<endl;\n",
        "    cout<<\"y is : \"<< y <<\" and &a is : \"<<&a<<endl;\n",
        "    cout<<\"*y will give the value of the variable a\"<<endl;\n",
        "    cout<<\"*y is : \"<<*y<<\" and a is : \"<<a<<endl;\n",
        "    return 0;\n",
        "}"
      ],
      "execution_count": 67,
      "outputs": [
        {
          "output_type": "stream",
          "text": [
            "Overwriting test.cpp\n"
          ],
          "name": "stdout"
        }
      ]
    },
    {
      "cell_type": "code",
      "metadata": {
        "id": "B9tlk56ySZ-Y",
        "colab_type": "code",
        "outputId": "777dcdba-3993-4188-c46b-142091fb2e57",
        "colab": {
          "base_uri": "https://localhost:8080/",
          "height": 0
        }
      },
      "source": [
        "%%script bash\n",
        "g++ test.cpp -o test \n",
        "./test"
      ],
      "execution_count": 68,
      "outputs": [
        {
          "output_type": "stream",
          "text": [
            "y will give the address of the variable a\n",
            "y is : 0x7ffd098439ac and &a is : 0x7ffd098439ac\n",
            "*y will give the value of the variable a\n",
            "*y is : 3 and a is : 3\n"
          ],
          "name": "stdout"
        }
      ]
    },
    {
      "cell_type": "markdown",
      "metadata": {
        "id": "qtD7SVQZYwB_",
        "colab_type": "text"
      },
      "source": [
        "One has to remember an important nomenclature while dealing with addresses of variables. In the following example:\n",
        "```\n",
        "int x = 10;\n",
        "int *y = &x;\n",
        "cout << *y << endl; //Gets value of x \n",
        "cout << y << endl; //Gets address of x\n",
        "\n",
        "```\n",
        "`*y` is known as dereferencing. There are couple of things to notice in the above code:\n",
        "```\n",
        "int a = &x; //It is not allowed\n",
        "int y = 95 // It is also not allowed\n",
        "```\n"
      ]
    },
    {
      "cell_type": "markdown",
      "metadata": {
        "id": "W4EC3SSBcJ5y",
        "colab_type": "text"
      },
      "source": [
        "Pass by address as mentioned happens due to something known as aliasing.\n",
        "Here is an example how it works:"
      ]
    },
    {
      "cell_type": "code",
      "metadata": {
        "id": "yKAii-laSbwY",
        "colab_type": "code",
        "outputId": "7aa740bf-d1e2-4340-a0b4-08c0e2017392",
        "colab": {
          "base_uri": "https://localhost:8080/",
          "height": 0
        }
      },
      "source": [
        "%%writefile test.cpp\n",
        "#include <iostream>\n",
        "using namespace std;\n",
        "int main(){\n",
        "   int a = 5;\n",
        "   /*\n",
        "    The line below replicates the passing of\n",
        "    the variable a to the parameter of the \n",
        "    function passByReference in the code block\n",
        "    for passByReference\n",
        "   */\n",
        "   int &x = a;\n",
        "   /*\n",
        "    Here, when the above code is compiled, a very\n",
        "    important thing happens, the variable x and\n",
        "    a , shares the same value. So, if the following \n",
        "    is done to the value of x ...\n",
        "   */\n",
        "    x = 56;\n",
        "    //The value of a also changes to 56\n",
        "    cout<<\"a is: \"<<a<<endl;\n",
        "    cout<<\"x is: \"<<x<<endl;\n",
        "    return 0;\n",
        "}"
      ],
      "execution_count": 69,
      "outputs": [
        {
          "output_type": "stream",
          "text": [
            "Overwriting test.cpp\n"
          ],
          "name": "stdout"
        }
      ]
    },
    {
      "cell_type": "code",
      "metadata": {
        "id": "HjPLiovcfhZl",
        "colab_type": "code",
        "outputId": "5e6f0a73-4641-46f2-ecae-9494a2679102",
        "colab": {
          "base_uri": "https://localhost:8080/",
          "height": 0
        }
      },
      "source": [
        "%%script bash\n",
        "g++ test.cpp -o test \n",
        "./test"
      ],
      "execution_count": 70,
      "outputs": [
        {
          "output_type": "stream",
          "text": [
            "a is: 56\n",
            "x is: 56\n"
          ],
          "name": "stdout"
        }
      ]
    },
    {
      "cell_type": "markdown",
      "metadata": {
        "id": "tA-b4DgUk9dJ",
        "colab_type": "text"
      },
      "source": [
        "Compare the above program with the program below:"
      ]
    },
    {
      "cell_type": "code",
      "metadata": {
        "id": "eKSu14n-jhRq",
        "colab_type": "code",
        "outputId": "8828b67c-89c1-4262-bb01-f96d208ca13c",
        "colab": {
          "base_uri": "https://localhost:8080/",
          "height": 0
        }
      },
      "source": [
        "%%writefile test.cpp\n",
        "#include <iostream>\n",
        "using namespace std;\n",
        "int main(){\n",
        "   int a = 5;\n",
        "   int x = a;\n",
        "   x = 56;\n",
        "\n",
        "   cout<<\"a is: \"<<a<<endl;\n",
        "   cout<<\"x is: \"<<x<<endl;\n",
        "   \n",
        "   return 0;\n",
        "}"
      ],
      "execution_count": 71,
      "outputs": [
        {
          "output_type": "stream",
          "text": [
            "Overwriting test.cpp\n"
          ],
          "name": "stdout"
        }
      ]
    },
    {
      "cell_type": "code",
      "metadata": {
        "id": "o_veu47BlJ5S",
        "colab_type": "code",
        "outputId": "221ac2a7-269e-4d74-d848-ccc8e01c1cca",
        "colab": {
          "base_uri": "https://localhost:8080/",
          "height": 0
        }
      },
      "source": [
        "%%script bash\n",
        "g++ test.cpp -o test \n",
        "./test"
      ],
      "execution_count": 72,
      "outputs": [
        {
          "output_type": "stream",
          "text": [
            "a is: 5\n",
            "x is: 56\n"
          ],
          "name": "stdout"
        }
      ]
    },
    {
      "cell_type": "markdown",
      "metadata": {
        "id": "QEZC8BGnlUZO",
        "colab_type": "text"
      },
      "source": [
        "The value of the variable `a` does not change, only the value of the variable `x` change. Note this is a very important concept, we will revisit it in the later chapters."
      ]
    },
    {
      "cell_type": "markdown",
      "metadata": {
        "id": "rO60wsjXmMe2",
        "colab_type": "text"
      },
      "source": [
        "One of the important implications of pass by reference and pass by memory is that, it can used to return the value of more than one variable from a function."
      ]
    },
    {
      "cell_type": "code",
      "metadata": {
        "id": "Iz8BKSNNmkpI",
        "colab_type": "code",
        "outputId": "35b0bb76-d4dc-43e5-d5ce-5d14cad37a54",
        "colab": {
          "base_uri": "https://localhost:8080/",
          "height": 0
        }
      },
      "source": [
        "%%writefile test.cpp\n",
        "#include <iostream>\n",
        "using namespace std;\n",
        "//Using pass by reference\n",
        "/*\n",
        " Remember very carefully of \"&\" infront of \"addition\" and \"multiplication\"\n",
        " This helps to relay the computation in the function addAndMult\n",
        " to the main function.\n",
        "*/\n",
        "\n",
        "void addAndmult(int &addition, int &multiplication, int a , int b){\n",
        "    addition = a+b; multiplication = a*b;\n",
        "}\n",
        "int main(){\n",
        "    int a = 5; int b = 6; int add = 0; int mult = 0;\n",
        "    addAndmult(add,mult, a, b);\n",
        "    cout<<\"After adding a and b: \" << add<< endl;\n",
        "    cout<<\"After multiplying a and b: \" << mult << endl;\n",
        "    return 0;\n",
        "}"
      ],
      "execution_count": 73,
      "outputs": [
        {
          "output_type": "stream",
          "text": [
            "Overwriting test.cpp\n"
          ],
          "name": "stdout"
        }
      ]
    },
    {
      "cell_type": "code",
      "metadata": {
        "id": "fzFl5aokG-t_",
        "colab_type": "code",
        "outputId": "0609a832-8a80-4b24-d2f5-751f9b8f704d",
        "colab": {
          "base_uri": "https://localhost:8080/",
          "height": 0
        }
      },
      "source": [
        "%%script bash\n",
        "g++ test.cpp -o test \n",
        "./test"
      ],
      "execution_count": 74,
      "outputs": [
        {
          "output_type": "stream",
          "text": [
            "After adding a and b: 11\n",
            "After multiplying a and b: 30\n"
          ],
          "name": "stdout"
        }
      ]
    },
    {
      "cell_type": "markdown",
      "metadata": {
        "id": "4rdkgVZZHK1C",
        "colab_type": "text"
      },
      "source": [
        "Another way of getting the same effect using pass by address concepts"
      ]
    },
    {
      "cell_type": "code",
      "metadata": {
        "id": "9LNGr97wlKy7",
        "colab_type": "code",
        "outputId": "a6418f1b-b25b-4763-cfee-a67634c4075b",
        "colab": {
          "base_uri": "https://localhost:8080/",
          "height": 0
        }
      },
      "source": [
        "%%writefile test.cpp\n",
        "#include <iostream>\n",
        "using namespace std;\n",
        "//Using pass by reference\n",
        "/*\n",
        " Remember very carefully of \"&\" infront of \"addition\" and \"multiplication\"\n",
        " This helps to relay the computation in the function addAndMult\n",
        " to the main function.\n",
        "*/\n",
        "\n",
        "void addAndmult(int *addition, int *multiplication, int a , int b){\n",
        "    *addition = a+b; *multiplication = a*b;\n",
        "}\n",
        "int main(){\n",
        "    int a = 5; int b = 6; int add = 0; int mult = 0;\n",
        "    //Since this int *y = &x , therefore \n",
        "    addAndmult(&add,&mult, a, b);\n",
        "    cout<<\"After adding a and b: \" << add << endl;\n",
        "    cout<<\"After multiplying a and b: \" << mult << endl;\n",
        "    return 0;\n",
        "}"
      ],
      "execution_count": 75,
      "outputs": [
        {
          "output_type": "stream",
          "text": [
            "Overwriting test.cpp\n"
          ],
          "name": "stdout"
        }
      ]
    },
    {
      "cell_type": "code",
      "metadata": {
        "id": "5kQ4P53zHTf8",
        "colab_type": "code",
        "outputId": "076934d8-c0c0-4925-9501-cc0dbbc07212",
        "colab": {
          "base_uri": "https://localhost:8080/",
          "height": 0
        }
      },
      "source": [
        "%%script bash\n",
        "g++ test.cpp -o test \n",
        "./test"
      ],
      "execution_count": 76,
      "outputs": [
        {
          "output_type": "stream",
          "text": [
            "After adding a and b: 11\n",
            "After multiplying a and b: 30\n"
          ],
          "name": "stdout"
        }
      ]
    },
    {
      "cell_type": "markdown",
      "metadata": {
        "id": "5e2U7VL6KRam",
        "colab_type": "text"
      },
      "source": [
        "These above two examples of \"returning\" more than one value from a C++ function."
      ]
    },
    {
      "cell_type": "markdown",
      "metadata": {
        "id": "8thS0arXKqY2",
        "colab_type": "text"
      },
      "source": [
        "# String\n",
        "In order to handle alphanumeric characters string is used in C++. Here only string class will be shown, array based implementation will be shown in more detail in the later chapters."
      ]
    },
    {
      "cell_type": "code",
      "metadata": {
        "id": "NAj-Yt_0Ieox",
        "colab_type": "code",
        "outputId": "99a6bf93-899b-465c-8b4c-0e27cfc1f6fe",
        "colab": {
          "base_uri": "https://localhost:8080/",
          "height": 0
        }
      },
      "source": [
        "%%writefile test.cpp\n",
        "#include <iostream>\n",
        "using namespace std;\n",
        "\n",
        "int main(){\n",
        "    //So a string can be written something like this\n",
        "    string str = \"hello today is 15th June\";\n",
        "    //In order to find the length of a string, do something like\n",
        "    cout<<\"Length of the string is: \"<< str.length() << endl;\n",
        "\n",
        "    //You can iterate the string like so:\n",
        "    int len = str.length();\n",
        "    for(int i = 0; i < len; ++i){\n",
        "        cout<<str[i]<<\" \";\n",
        "    }\n",
        "    cout<<endl;\n",
        "    //You can also find substring of a given string like this\n",
        "    int start = 5; int numOfChar = 6;\n",
        "    cout<<\"The substring is:\"<<str.substr(start, numOfChar);\n",
        "\n",
        "    return 0;\n",
        "}"
      ],
      "execution_count": 77,
      "outputs": [
        {
          "output_type": "stream",
          "text": [
            "Overwriting test.cpp\n"
          ],
          "name": "stdout"
        }
      ]
    },
    {
      "cell_type": "code",
      "metadata": {
        "id": "hKQh-zfIiCG9",
        "colab_type": "code",
        "outputId": "b35afaa7-39f5-44ac-f979-a63a84dcf052",
        "colab": {
          "base_uri": "https://localhost:8080/",
          "height": 0
        }
      },
      "source": [
        "%%script bash\n",
        "g++ test.cpp -o test \n",
        "./test"
      ],
      "execution_count": 78,
      "outputs": [
        {
          "output_type": "stream",
          "text": [
            "Length of the string is: 24\n",
            "h e l l o   t o d a y   i s   1 5 t h   J u n e \n",
            "The substring is: today"
          ],
          "name": "stdout"
        }
      ]
    },
    {
      "cell_type": "markdown",
      "metadata": {
        "id": "_HzLhfTAkNbQ",
        "colab_type": "text"
      },
      "source": [
        "One of the application of pass by reference when it comes to string is given below:"
      ]
    },
    {
      "cell_type": "code",
      "metadata": {
        "id": "-DgqJIrUiClv",
        "colab_type": "code",
        "outputId": "ccd4c465-0db4-4a45-c9e3-e445f4ea0d10",
        "colab": {
          "base_uri": "https://localhost:8080/",
          "height": 0
        }
      },
      "source": [
        "%%writefile test.cpp\n",
        "#include <iostream>\n",
        "using namespace std;\n",
        "//Using pass by reference\n",
        "/*\n",
        " Count the number of vowels,consonants and space in a string\n",
        "*/\n",
        "\n",
        "void numOfVowConsSpace(string str, int &vowel, int &cons, int &space){\n",
        "    int len = str.length();\n",
        "    for(int i = 0; i < len; ++i){\n",
        "        if(str[i]==' '){\n",
        "          space = space + 1;\n",
        "        }\n",
        "        else if(str[i] == 'a'||str[i] == 'e'||str[i] == 'i'||str[i] == 'o'||str[i]=='u'){\n",
        "          vowel = vowel + 1;  \n",
        "        }\n",
        "        else{\n",
        "            cons = cons + 1;\n",
        "        }\n",
        "    }\n",
        "}\n",
        "int main(){\n",
        "    string str = \"today is monday\";\n",
        "    int vowel = 0; int cons = 0; int space = 0;\n",
        "    numOfVowConsSpace(str, vowel, cons, space);\n",
        "    cout<<\"Number of vowels : \"<< vowel << endl;\n",
        "    cout<<\"Number of consonant : \"<< cons << endl;\n",
        "    cout<<\"Number of space : \"<< space << endl;\n",
        "    \n",
        "    return 0;\n",
        "}"
      ],
      "execution_count": 79,
      "outputs": [
        {
          "output_type": "stream",
          "text": [
            "Overwriting test.cpp\n"
          ],
          "name": "stdout"
        }
      ]
    },
    {
      "cell_type": "code",
      "metadata": {
        "id": "CAFnTrZJlzBi",
        "colab_type": "code",
        "outputId": "8ee8abc4-2857-461a-840b-ff0e220eaf3c",
        "colab": {
          "base_uri": "https://localhost:8080/",
          "height": 0
        }
      },
      "source": [
        "%%script bash\n",
        "g++ test.cpp -o test \n",
        "./test\n"
      ],
      "execution_count": 80,
      "outputs": [
        {
          "output_type": "stream",
          "text": [
            "Number of vowels : 5\n",
            "Number of consonant : 8\n",
            "Number of space : 2\n"
          ],
          "name": "stdout"
        }
      ]
    },
    {
      "cell_type": "markdown",
      "metadata": {
        "id": "4lBwaqOJnMzj",
        "colab_type": "text"
      },
      "source": [
        "One another interesting application of pass by reference is that the content of a string variable can change just like a variable of int, float  or double while using aliasing.\n",
        "\n",
        "An example is shown below:"
      ]
    },
    {
      "cell_type": "code",
      "metadata": {
        "id": "CXZGdRRsmb1x",
        "colab_type": "code",
        "outputId": "b946363d-0c29-459f-f5cf-09b184879317",
        "colab": {
          "base_uri": "https://localhost:8080/",
          "height": 0
        }
      },
      "source": [
        "%%writefile test.cpp\n",
        "#include <iostream>\n",
        "using namespace std;\n",
        "//Using pass by reference\n",
        "/*\n",
        " Count the number of vowels and consonants in a string\n",
        "*/\n",
        "\n",
        "void changeColor(string &color){\n",
        "    color = \"blue\";\n",
        "}\n",
        "int main(){\n",
        "    string str = \"red\";\n",
        "    changeColor(str);\n",
        "    cout<<\"Color is now: \"<<str<<endl;\n",
        "    return 0;\n",
        "}"
      ],
      "execution_count": 81,
      "outputs": [
        {
          "output_type": "stream",
          "text": [
            "Overwriting test.cpp\n"
          ],
          "name": "stdout"
        }
      ]
    },
    {
      "cell_type": "code",
      "metadata": {
        "id": "wBDmUcrMoPBa",
        "colab_type": "code",
        "outputId": "2e5aa530-88c1-4247-f21a-acd2bd98143a",
        "colab": {
          "base_uri": "https://localhost:8080/",
          "height": 0
        }
      },
      "source": [
        "%%script bash\n",
        "g++ test.cpp -o test \n",
        "./test\n"
      ],
      "execution_count": 82,
      "outputs": [
        {
          "output_type": "stream",
          "text": [
            "Color is now: blue\n"
          ],
          "name": "stdout"
        }
      ]
    },
    {
      "cell_type": "markdown",
      "metadata": {
        "id": "5nJUjDbioSbw",
        "colab_type": "text"
      },
      "source": [
        "There will be a comprehensive discussion about string and pass by reference in the coming lesson, for now appreciate that the strings can be changed using pass by reference, without any explicit return from a function."
      ]
    },
    {
      "cell_type": "code",
      "metadata": {
        "id": "Dgunxv3GolfD",
        "colab_type": "code",
        "colab": {}
      },
      "source": [
        ""
      ],
      "execution_count": 0,
      "outputs": []
    },
    {
      "cell_type": "markdown",
      "metadata": {
        "id": "f7ii4wvPonYg",
        "colab_type": "text"
      },
      "source": [
        "# File\n",
        "Writing to a file and reading to a file is important aspect of C++. It is important to read stored data from disk , as well write data to disk for later usage.\n",
        "\n",
        "1.  Reading a file from disk\n",
        "\n",
        "Write something to a file named hello.txt"
      ]
    },
    {
      "cell_type": "code",
      "metadata": {
        "id": "hfUMCkeU9YWU",
        "colab_type": "code",
        "outputId": "15edffd6-1b68-4f0f-a7c3-0fa2a3865546",
        "colab": {
          "base_uri": "https://localhost:8080/",
          "height": 0
        }
      },
      "source": [
        "%%writefile hello.txt\n",
        "So, we meet again, after all these years.\n",
        "It has been some time."
      ],
      "execution_count": 83,
      "outputs": [
        {
          "output_type": "stream",
          "text": [
            "Overwriting hello.txt\n"
          ],
          "name": "stdout"
        }
      ]
    },
    {
      "cell_type": "markdown",
      "metadata": {
        "id": "oUrxE2_M-zcF",
        "colab_type": "text"
      },
      "source": [
        "And then read from that text file"
      ]
    },
    {
      "cell_type": "code",
      "metadata": {
        "id": "W4vWxdWWopgh",
        "colab_type": "code",
        "outputId": "d18b12d0-1a85-4870-957a-ebed6abae297",
        "colab": {
          "base_uri": "https://localhost:8080/",
          "height": 0
        }
      },
      "source": [
        "%%writefile test.cpp\n",
        "#include <iostream>\n",
        "#include <fstream>\n",
        "using namespace std;\n",
        "\n",
        "int main(){\n",
        "    \n",
        "    /*\n",
        "    Initialize the variable file with the filename\n",
        "    The file type is ifstream. ifstream is also \n",
        "    known as input file stream\n",
        "    */\n",
        "    ifstream myfile(\"hello.txt\");\n",
        "\n",
        "    //If the file is not open, do not do anything\n",
        "    if(!myfile.is_open()){\n",
        "        cout<<\"Could not read\"<<endl;\n",
        "        return -1;\n",
        "    }\n",
        "\n",
        "    /*\n",
        "    Else read the file line by line from filestream \n",
        "    variable myfile to a string myStr\n",
        "    */\n",
        "    string myStr;\n",
        "    while(getline(myfile, myStr)){\n",
        "        cout<<myStr<<endl;\n",
        "    }\n",
        "    return 0;\n",
        "}"
      ],
      "execution_count": 84,
      "outputs": [
        {
          "output_type": "stream",
          "text": [
            "Overwriting test.cpp\n"
          ],
          "name": "stdout"
        }
      ]
    },
    {
      "cell_type": "code",
      "metadata": {
        "id": "Oz3FaVOI9u-B",
        "colab_type": "code",
        "outputId": "7b5673a3-98c4-4f39-c9e9-4afb7d58269a",
        "colab": {
          "base_uri": "https://localhost:8080/",
          "height": 0
        }
      },
      "source": [
        "%%script bash\n",
        "g++ test.cpp -o test \n",
        "./test"
      ],
      "execution_count": 85,
      "outputs": [
        {
          "output_type": "stream",
          "text": [
            "So, we meet again, after all these years.\n",
            "It has been some time.\n"
          ],
          "name": "stdout"
        }
      ]
    },
    {
      "cell_type": "markdown",
      "metadata": {
        "id": "AMkO13tvAEmU",
        "colab_type": "text"
      },
      "source": [
        "2.  Writing to a file in the hardisk"
      ]
    },
    {
      "cell_type": "code",
      "metadata": {
        "id": "Or1IGKmH9xLJ",
        "colab_type": "code",
        "outputId": "61540527-6f1b-4ad3-c68d-4e11c50a4523",
        "colab": {
          "base_uri": "https://localhost:8080/",
          "height": 0
        }
      },
      "source": [
        "%%writefile test.cpp\n",
        "#include <iostream>\n",
        "#include <fstream>\n",
        "using namespace std;\n",
        "\n",
        "int main(){\n",
        "    \n",
        "    /*\n",
        "    Initialize the variable file with the filename\n",
        "    The file type is now ofstream. ofstream is also \n",
        "    known as output file stream\n",
        "    */\n",
        "    ofstream myfile(\"hello.txt\");\n",
        "\n",
        "    //If the file is not open, do not do anything\n",
        "    if(!myfile.is_open()){\n",
        "        cout<<\"Could not read\"<<endl;\n",
        "        return -1;\n",
        "    }\n",
        "\n",
        "    /*\n",
        "    Else write something to the filestream\n",
        "    */\n",
        "    myfile << \"I see, it really has been sometime\";\n",
        "    return 0;\n",
        "}"
      ],
      "execution_count": 86,
      "outputs": [
        {
          "output_type": "stream",
          "text": [
            "Overwriting test.cpp\n"
          ],
          "name": "stdout"
        }
      ]
    },
    {
      "cell_type": "code",
      "metadata": {
        "id": "3fmtRSwbBvTl",
        "colab_type": "code",
        "colab": {}
      },
      "source": [
        "%%script bash\n",
        "g++ test.cpp -o test \n",
        "./test"
      ],
      "execution_count": 0,
      "outputs": []
    },
    {
      "cell_type": "markdown",
      "metadata": {
        "id": "b5ezPXuuB4vi",
        "colab_type": "text"
      },
      "source": [
        "3. Appending text to a file\n",
        "\n",
        "If you want to append to an existing file containing previous data."
      ]
    },
    {
      "cell_type": "code",
      "metadata": {
        "id": "eVjSMldgBxA-",
        "colab_type": "code",
        "outputId": "2a109327-40ca-4046-c63d-46e1fea30d7f",
        "colab": {
          "base_uri": "https://localhost:8080/",
          "height": 0
        }
      },
      "source": [
        "%%writefile test.cpp\n",
        "#include <iostream>\n",
        "#include <fstream>\n",
        "using namespace std;\n",
        "\n",
        "int main(){\n",
        "    \n",
        "    /*\n",
        "    Initialize the variable file with the filename\n",
        "    The file type is now ofstream. ofstream is also \n",
        "    known as output file stream. If you want to append\n",
        "    to an exisiting file, you have to write like the \n",
        "    following...\n",
        "    */\n",
        "    ofstream myfile(\"hello.txt\", ios_base::out|ios_base::app);\n",
        "\n",
        "    //If the file is not open, do not do anything\n",
        "    if(!myfile.is_open()){\n",
        "        cout<<\"Could not read\"<<endl;\n",
        "        return -1;\n",
        "    }\n",
        "\n",
        "    /*\n",
        "    Else write something to the filestream\n",
        "    */\n",
        "    myfile << \"I didn't realize that you will be waiting for me for so long\";\n",
        "    return 0;\n",
        "}"
      ],
      "execution_count": 88,
      "outputs": [
        {
          "output_type": "stream",
          "text": [
            "Overwriting test.cpp\n"
          ],
          "name": "stdout"
        }
      ]
    },
    {
      "cell_type": "code",
      "metadata": {
        "id": "nl6NUyPjDNnA",
        "colab_type": "code",
        "colab": {}
      },
      "source": [
        "%%script bash\n",
        "g++ test.cpp -o test \n",
        "./test"
      ],
      "execution_count": 0,
      "outputs": []
    },
    {
      "cell_type": "markdown",
      "metadata": {
        "id": "s9LlhzokDRti",
        "colab_type": "text"
      },
      "source": [
        "To test whether the file contains what you were expecting you can test the file reading program and see what is in the file `hello.txt`"
      ]
    },
    {
      "cell_type": "markdown",
      "metadata": {
        "id": "oYDibb9WGXBh",
        "colab_type": "text"
      },
      "source": [
        "# Recursion\n",
        "This is one another way to write programs in C++. An example is given below:"
      ]
    },
    {
      "cell_type": "code",
      "metadata": {
        "id": "e858kl-1JO9t",
        "colab_type": "code",
        "outputId": "9f280d9e-30e2-4b76-815f-e3263d85c205",
        "colab": {
          "base_uri": "https://localhost:8080/",
          "height": 35
        }
      },
      "source": [
        "%%writefile test.cpp\n",
        "#include <iostream>\n",
        "\n",
        "using namespace std;\n",
        "void printNumber(int num){\n",
        "  for(int i = 0; i < num; ++i){\n",
        "      cout << i << endl;\n",
        "  }    \n",
        "}\n",
        "int main(){\n",
        "    int a = 5;\n",
        "    printNumber(a);    \n",
        "    return 0;\n",
        "}"
      ],
      "execution_count": 90,
      "outputs": [
        {
          "output_type": "stream",
          "text": [
            "Overwriting test.cpp\n"
          ],
          "name": "stdout"
        }
      ]
    },
    {
      "cell_type": "code",
      "metadata": {
        "id": "FzaKfH2FLZ4m",
        "colab_type": "code",
        "outputId": "4fce939c-ed5d-4fb1-e2fd-9237a857acc1",
        "colab": {
          "base_uri": "https://localhost:8080/",
          "height": 104
        }
      },
      "source": [
        "%%script bash\n",
        "g++ test.cpp -o test \n",
        "./test"
      ],
      "execution_count": 91,
      "outputs": [
        {
          "output_type": "stream",
          "text": [
            "0\n",
            "1\n",
            "2\n",
            "3\n",
            "4\n"
          ],
          "name": "stdout"
        }
      ]
    },
    {
      "cell_type": "markdown",
      "metadata": {
        "id": "WdMo3vaiMCD1",
        "colab_type": "text"
      },
      "source": [
        "It can be also be written like this:"
      ]
    },
    {
      "cell_type": "code",
      "metadata": {
        "id": "85E2shMKL_S3",
        "colab_type": "code",
        "outputId": "9a6cdc86-f232-4b42-d2b7-43829f5184aa",
        "colab": {
          "base_uri": "https://localhost:8080/",
          "height": 35
        }
      },
      "source": [
        "%%writefile test.cpp\n",
        "#include <iostream>\n",
        "\n",
        "using namespace std;\n",
        "void printNumber(int num){\n",
        " //What is the meaning of num-- , find it out\n",
        " while(num--){\n",
        "     cout<<num<<endl;\n",
        " }  \n",
        "}\n",
        "int main(){\n",
        "    int a = 5;\n",
        "    printNumber(a);    \n",
        "    return 0;\n",
        "}"
      ],
      "execution_count": 92,
      "outputs": [
        {
          "output_type": "stream",
          "text": [
            "Overwriting test.cpp\n"
          ],
          "name": "stdout"
        }
      ]
    },
    {
      "cell_type": "code",
      "metadata": {
        "id": "j60El6kVMJUT",
        "colab_type": "code",
        "outputId": "08a1a86a-71b9-4697-b104-dc6403ae3c71",
        "colab": {
          "base_uri": "https://localhost:8080/",
          "height": 104
        }
      },
      "source": [
        "%%script bash\n",
        "g++ test.cpp -o test \n",
        "./test"
      ],
      "execution_count": 93,
      "outputs": [
        {
          "output_type": "stream",
          "text": [
            "4\n",
            "3\n",
            "2\n",
            "1\n",
            "0\n"
          ],
          "name": "stdout"
        }
      ]
    },
    {
      "cell_type": "markdown",
      "metadata": {
        "id": "hjyy6FzKNQGY",
        "colab_type": "text"
      },
      "source": [
        "Something in the while loop can be done to make it more interesting."
      ]
    },
    {
      "cell_type": "code",
      "metadata": {
        "id": "AJISHIgeMUcw",
        "colab_type": "code",
        "outputId": "3e124051-68a1-416c-c90a-3e049f27317a",
        "colab": {
          "base_uri": "https://localhost:8080/",
          "height": 35
        }
      },
      "source": [
        "%%writefile test.cpp\n",
        "#include <iostream>\n",
        "\n",
        "using namespace std;\n",
        "void printNumber(int num){\n",
        " //What is the meaning of num-- , find it out\n",
        " while(num--){\n",
        "     if(num == 5) return ;\n",
        "     else cout<<num<<endl;\n",
        " }  \n",
        "}\n",
        "int main(){\n",
        "    int a = 10;\n",
        "    printNumber(a);    \n",
        "    return 0;\n",
        "}"
      ],
      "execution_count": 94,
      "outputs": [
        {
          "output_type": "stream",
          "text": [
            "Overwriting test.cpp\n"
          ],
          "name": "stdout"
        }
      ]
    },
    {
      "cell_type": "code",
      "metadata": {
        "id": "M6YD0kaVNsnC",
        "colab_type": "code",
        "outputId": "b3573d02-26e0-4762-e14f-7909455fa425",
        "colab": {
          "base_uri": "https://localhost:8080/",
          "height": 87
        }
      },
      "source": [
        "%%script bash\n",
        "g++ test.cpp -o test \n",
        "./test"
      ],
      "execution_count": 95,
      "outputs": [
        {
          "output_type": "stream",
          "text": [
            "9\n",
            "8\n",
            "7\n",
            "6\n"
          ],
          "name": "stdout"
        }
      ]
    },
    {
      "cell_type": "markdown",
      "metadata": {
        "id": "-49vtgRhOSZ_",
        "colab_type": "text"
      },
      "source": [
        "Finally it can be written be written like this:"
      ]
    },
    {
      "cell_type": "code",
      "metadata": {
        "id": "0zs2wirSOGpA",
        "colab_type": "code",
        "outputId": "d658462d-d4e1-4126-b442-f29cf0f801ae",
        "colab": {
          "base_uri": "https://localhost:8080/",
          "height": 35
        }
      },
      "source": [
        "%%writefile test.cpp\n",
        "#include <iostream>\n",
        "\n",
        "using namespace std;\n",
        "void printNumber(int num){\n",
        "    if(num == 0) return ;\n",
        "    else cout<<num<<endl;\n",
        "    printNumber(--num);\n",
        "}\n",
        "int main(){\n",
        "    int a = 10;\n",
        "    printNumber(a);    \n",
        "    return 0;\n",
        "}"
      ],
      "execution_count": 96,
      "outputs": [
        {
          "output_type": "stream",
          "text": [
            "Overwriting test.cpp\n"
          ],
          "name": "stdout"
        }
      ]
    },
    {
      "cell_type": "code",
      "metadata": {
        "id": "TOgnV60GO0WZ",
        "colab_type": "code",
        "outputId": "1add2bc5-c70e-42a7-afdf-43294f884dd2",
        "colab": {
          "base_uri": "https://localhost:8080/",
          "height": 191
        }
      },
      "source": [
        "%%script bash\n",
        "g++ test.cpp -o test \n",
        "./test"
      ],
      "execution_count": 97,
      "outputs": [
        {
          "output_type": "stream",
          "text": [
            "10\n",
            "9\n",
            "8\n",
            "7\n",
            "6\n",
            "5\n",
            "4\n",
            "3\n",
            "2\n",
            "1\n"
          ],
          "name": "stdout"
        }
      ]
    },
    {
      "cell_type": "markdown",
      "metadata": {
        "id": "05yqYzvuQMCI",
        "colab_type": "text"
      },
      "source": [
        "Let us modify the code a little bit more."
      ]
    },
    {
      "cell_type": "code",
      "metadata": {
        "id": "n1hsB0RlP_uj",
        "colab_type": "code",
        "colab": {
          "base_uri": "https://localhost:8080/",
          "height": 35
        },
        "outputId": "8bbf612f-1701-43e9-cf9d-aa42cb06ae9e"
      },
      "source": [
        "%%writefile test.cpp\n",
        "#include <iostream>\n",
        "\n",
        "using namespace std;\n",
        "void printNumber(int num){\n",
        "    if(num == 0) return ;\n",
        "    else cout<<num<<endl;\n",
        "    num = num - 1;\n",
        "    printNumber(num);\n",
        "}\n",
        "int main(){\n",
        "    int a = 10;\n",
        "    printNumber(a);    \n",
        "    return 0;\n",
        "}"
      ],
      "execution_count": 98,
      "outputs": [
        {
          "output_type": "stream",
          "text": [
            "Overwriting test.cpp\n"
          ],
          "name": "stdout"
        }
      ]
    },
    {
      "cell_type": "code",
      "metadata": {
        "id": "ySpp5v8uO2i3",
        "colab_type": "code",
        "colab": {
          "base_uri": "https://localhost:8080/",
          "height": 191
        },
        "outputId": "cb88d0f6-d0ca-4f97-a72b-681618c1d412"
      },
      "source": [
        "%%script bash\n",
        "g++ test.cpp -o test \n",
        "./test"
      ],
      "execution_count": 99,
      "outputs": [
        {
          "output_type": "stream",
          "text": [
            "10\n",
            "9\n",
            "8\n",
            "7\n",
            "6\n",
            "5\n",
            "4\n",
            "3\n",
            "2\n",
            "1\n"
          ],
          "name": "stdout"
        }
      ]
    },
    {
      "cell_type": "markdown",
      "metadata": {
        "id": "8XKuC6aNQ6LZ",
        "colab_type": "text"
      },
      "source": [
        "What happens if the code is written like this?"
      ]
    },
    {
      "cell_type": "code",
      "metadata": {
        "id": "ZxNud7-MQ1LR",
        "colab_type": "code",
        "colab": {
          "base_uri": "https://localhost:8080/",
          "height": 35
        },
        "outputId": "b002fb68-d9d9-4056-96f5-00389b2c3d33"
      },
      "source": [
        "%%writefile test.cpp\n",
        "#include <iostream>\n",
        "\n",
        "using namespace std;\n",
        "void printNumber(int num){\n",
        "    if(num == 0) return ;\n",
        "    else cout<<num<<endl;\n",
        "    /*\n",
        "      Be careful before running this\n",
        "      Uncomment it before trying to run it\n",
        "    */\n",
        "    //printNumber(num--);\n",
        "}\n",
        "int main(){\n",
        "    int a = 10;\n",
        "    printNumber(a);    \n",
        "    return 0;\n",
        "}"
      ],
      "execution_count": 100,
      "outputs": [
        {
          "output_type": "stream",
          "text": [
            "Overwriting test.cpp\n"
          ],
          "name": "stdout"
        }
      ]
    },
    {
      "cell_type": "code",
      "metadata": {
        "id": "KPUfVQUcREAw",
        "colab_type": "code",
        "colab": {
          "base_uri": "https://localhost:8080/",
          "height": 35
        },
        "outputId": "dc043ac4-0468-4e37-ddda-9e3f787b5501"
      },
      "source": [
        "%%script bash\n",
        "g++ test.cpp -o test \n",
        "./test"
      ],
      "execution_count": 101,
      "outputs": [
        {
          "output_type": "stream",
          "text": [
            "10\n"
          ],
          "name": "stdout"
        }
      ]
    },
    {
      "cell_type": "markdown",
      "metadata": {
        "id": "EYLbmbygRL-6",
        "colab_type": "text"
      },
      "source": [
        "Anyhow the last code block that ran successfully is an example of recursive programming. Example of another program which can be written recursively is given below:"
      ]
    },
    {
      "cell_type": "code",
      "metadata": {
        "id": "GylWcAIcVAn2",
        "colab_type": "code",
        "colab": {
          "base_uri": "https://localhost:8080/",
          "height": 35
        },
        "outputId": "7f595021-7032-41c2-b047-526c2def9dc7"
      },
      "source": [
        "%%writefile test.cpp\n",
        "#include <iostream>\n",
        "\n",
        "using namespace std;\n",
        "void findEven(int i){\n",
        "    if(i > 10)return ;\n",
        "    else if(i % 2 == 0) cout<<i<<endl;\n",
        "    findEven(++i);   \n",
        "}\n",
        "int main(){\n",
        "    int a = 0;\n",
        "    findEven(a);    \n",
        "    return 0;\n",
        "}"
      ],
      "execution_count": 102,
      "outputs": [
        {
          "output_type": "stream",
          "text": [
            "Overwriting test.cpp\n"
          ],
          "name": "stdout"
        }
      ]
    },
    {
      "cell_type": "code",
      "metadata": {
        "id": "V2WpygxDVWjM",
        "colab_type": "code",
        "colab": {
          "base_uri": "https://localhost:8080/",
          "height": 121
        },
        "outputId": "c1729cb0-9e93-40a4-f4bc-a903b407af32"
      },
      "source": [
        "%%script bash\n",
        "g++ test.cpp -o test \n",
        "./test"
      ],
      "execution_count": 103,
      "outputs": [
        {
          "output_type": "stream",
          "text": [
            "0\n",
            "2\n",
            "4\n",
            "6\n",
            "8\n",
            "10\n"
          ],
          "name": "stdout"
        }
      ]
    },
    {
      "cell_type": "markdown",
      "metadata": {
        "id": "r5YtqTTBVg00",
        "colab_type": "text"
      },
      "source": [
        "More example of recursive programs will be shown in the upcoming chapters."
      ]
    },
    {
      "cell_type": "markdown",
      "metadata": {
        "id": "4wxfP_aIVqOm",
        "colab_type": "text"
      },
      "source": [
        "# Matrix transformation\n",
        "Topic such as linear transform, rotation, reflection of 2dimensional matrix  will be written here.However , it is right now under construction.\n",
        "\n",
        "I will come back to it hopfully later."
      ]
    },
    {
      "cell_type": "code",
      "metadata": {
        "id": "EU9aYEqLVXSe",
        "colab_type": "code",
        "colab": {}
      },
      "source": [
        ""
      ],
      "execution_count": 0,
      "outputs": []
    }
  ]
}