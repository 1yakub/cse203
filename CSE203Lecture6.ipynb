{
  "nbformat": 4,
  "nbformat_minor": 0,
  "metadata": {
    "colab": {
      "name": "CSE203Lecture6.ipynb",
      "provenance": [],
      "authorship_tag": "ABX9TyPkFv7pG0G1CS4RgS4uzh3A",
      "include_colab_link": true
    },
    "kernelspec": {
      "name": "python3",
      "display_name": "Python 3"
    }
  },
  "cells": [
    {
      "cell_type": "markdown",
      "metadata": {
        "id": "view-in-github",
        "colab_type": "text"
      },
      "source": [
        "<a href=\"https://colab.research.google.com/github/mohammadmotiurrahman/cse203/blob/master/CSE203Lecture6.ipynb\" target=\"_parent\"><img src=\"https://colab.research.google.com/assets/colab-badge.svg\" alt=\"Open In Colab\"/></a>"
      ]
    },
    {
      "cell_type": "markdown",
      "metadata": {
        "id": "GednbwDeiak6",
        "colab_type": "text"
      },
      "source": [
        "## Stack And Queue\n",
        "Stack is a data structure which follows last in first out data retrieval policy , something similar to a stack of unwashed dish on a kitchen sink.\n",
        "\n",
        "Queue on the other hand is a data structure which follows first in first out data retrieval policy, something similar to a queue of passengers at a bus stop.\n",
        "\n",
        "In this notebook , we will try to simulate the behaviour of stack and queues with two methods, linked list and arrays. We will not be concerned about the running time of these data structures yet.\n",
        "\n",
        "### Using linked list\n",
        "\n",
        "Let us start with representing stack and queues using linked list.\n",
        "\n",
        "So, a stack when represented as a linked list can be thought of having two operations adding an element at the back and then removing an element from the back. Think of the stack of plates in the kitchen sink but horizontally. You put a plate on top of the stack, you can also say that you put a plate in the back, if you think horizonatally. Afterwards you can also say that you take a plate from top of the stack or take a plate from the back in the horizontal fashion. So, in a linked list terminology, it is adding an element back, and then removing an element from the back. Let us implement it for a stack.\n"
      ]
    },
    {
      "cell_type": "code",
      "metadata": {
        "id": "hPM0rTCNiedh",
        "colab_type": "code",
        "colab": {
          "base_uri": "https://localhost:8080/",
          "height": 35
        },
        "outputId": "18a4701c-bc04-429d-d4b4-109b5ed74538"
      },
      "source": [
        "%%writefile test.cpp\n",
        "#include <iostream>\n",
        "using namespace std;\n",
        "/*Implementing the two functions for Stack.\n",
        "addBack() and removeBack() is\n",
        "quite trivial if someone has followed\n",
        "the last lectures notebook quite closely.*/\n",
        "\n",
        "struct node{\n",
        "    int data;\n",
        "    node *next;\n",
        "};\n",
        "\n",
        "void printLinkedList(node *p){\n",
        "    cout<<\"The linked list is : \"; \n",
        "    while(p!= NULL){\n",
        "        cout<<p->data<<\" \";\n",
        "        p = p->next;\n",
        "    }\n",
        "    cout<<endl;\n",
        "}\n",
        "\n",
        "/*The function addNode can be repurposed\n",
        "as addBack, as it is adding an element\n",
        "to the back of an existing linked list.*/\n",
        "void addBack(node *&a, int val){ \n",
        " if(a == NULL){\n",
        "     a = new node;\n",
        "     a->data = val;\n",
        "     a->next = NULL;\n",
        "  }\n",
        "  else{\n",
        "   \n",
        "     node *current = a;\n",
        "     while(current->next!=NULL){\n",
        "        current = current->next;\n",
        "    }\n",
        "\n",
        "    node* h = new node; \n",
        "    h->data = val;\n",
        "    h->next = NULL;\n",
        "     \n",
        "    current->next = h; \n",
        "  }\n",
        "}\n",
        "\n",
        "/*Some modifications is required for the\n",
        "function removeElement to work as required\n",
        "by the specification of removeBack function*/\n",
        "\n",
        "int removeBack(node *&a){\n",
        "\n",
        "  if(a == NULL)return -5000;\n",
        "  /*Think about the linked list in the \n",
        "  sequence: 2->null . If you just delete\n",
        "  node value 2, by shifting it to the \n",
        "  next position, the linked list a becomes\n",
        "  null. Remember to store the value 2 \n",
        "  before deleting it.*/\n",
        "\n",
        "  if(a->next == NULL){\n",
        "      int d = a->data;\n",
        "      a = a->next;\n",
        "      return d;\n",
        "  }\n",
        "  /*Now, think of the linked list as something\n",
        "  like this: 2->4->null, or something like the\n",
        "  following: 2->4->6->8->10->12->14->null. In\n",
        "  both of these accounts you have to make the \n",
        "  last element null. One of the ways to make the\n",
        "  last element null, is to iterate the nodes till\n",
        "  you can point the current->next to the element\n",
        "  you want to remove. In the above cases, the current\n",
        "  node will be 2 for the former example, and for\n",
        "  the later example it will be 12. And the element\n",
        "  that needs to be removed will be 4 in the former\n",
        "  case and 14 in the later case.*/\n",
        "  \n",
        "  node *current = a;\n",
        "  while(current->next->next!=NULL){\n",
        "      current = current->next;\n",
        "  }\n",
        "  /*When you reach such a situation store the value \n",
        "  of the element that you want to remove in a variable\n",
        "  and then delete the node.*/\n",
        "\n",
        "  int p = current->next->data;\n",
        "  current->next = NULL;\n",
        "  return p;\n",
        "  \n",
        "}\n",
        "\n",
        "\n",
        "int main(){\n",
        "\n",
        "  node* n = NULL;\n",
        "  addBack(n,2);\n",
        "  addBack(n,4);\n",
        "  addBack(n,6);\n",
        "  addBack(n,8);\n",
        "  addBack(n,10);\n",
        "  addBack(n,12);\n",
        "  addBack(n,14);\n",
        "  printLinkedList(n);\n",
        "  int x = removeBack(n);\n",
        "  printLinkedList(n);\n",
        "  cout<<\"The last element is: \"<<x<<endl;\n",
        "  \n",
        "  return 0;\n",
        "\n",
        "}"
      ],
      "execution_count": 35,
      "outputs": [
        {
          "output_type": "stream",
          "text": [
            "Overwriting test.cpp\n"
          ],
          "name": "stdout"
        }
      ]
    },
    {
      "cell_type": "code",
      "metadata": {
        "id": "X4RAllaYNUde",
        "colab_type": "code",
        "colab": {
          "base_uri": "https://localhost:8080/",
          "height": 69
        },
        "outputId": "f8b30e28-40f4-47b4-e094-3933271cd00d"
      },
      "source": [
        "%%script bash\n",
        "g++ test.cpp -o test \n",
        "./test"
      ],
      "execution_count": 36,
      "outputs": [
        {
          "output_type": "stream",
          "text": [
            "The linked list is : 2 4 6 8 10 12 14 \n",
            "The linked list is : 2 4 6 8 10 12 \n",
            "The last element is: 14\n"
          ],
          "name": "stdout"
        }
      ]
    },
    {
      "cell_type": "markdown",
      "metadata": {
        "id": "g6RCaxqEXi_H",
        "colab_type": "text"
      },
      "source": [
        "In common data structure inserting an element in the back is referred to as `push` and removing an element from the back is called `pop`.\n",
        "\n",
        "Queue is represented similarly, however, in queue the value is removed from the front instead of the back. A given value is usually added to the back though. In the following codeblock we will refer anything that is removed from the front with the function removeFront and the function that is used in stack for inserting elements addBack can be reused here. So lets implement the ideas:"
      ]
    },
    {
      "cell_type": "code",
      "metadata": {
        "id": "hLF5-GVYYAd9",
        "colab_type": "code",
        "colab": {
          "base_uri": "https://localhost:8080/",
          "height": 35
        },
        "outputId": "a6f056e0-903d-40f8-e0bd-713e5be5c334"
      },
      "source": [
        "%%writefile test.cpp\n",
        "#include <iostream>\n",
        "using namespace std;\n",
        "/*Implementing the two functions,\n",
        "addBack() and removeFront() for Queue.*/\n",
        "\n",
        "struct node{\n",
        "    int data;\n",
        "    node *next;\n",
        "};\n",
        "\n",
        "void printLinkedList(node *p){\n",
        "    cout<<\"The linked list is : \"; \n",
        "    while(p!= NULL){\n",
        "        cout<<p->data<<\" \";\n",
        "        p = p->next;\n",
        "    }\n",
        "    cout<<endl;\n",
        "}\n",
        "\n",
        "/*The function addNode remains unchanged.*/\n",
        "void addBack(node *&a, int val){ \n",
        " if(a == NULL){\n",
        "     a = new node;\n",
        "     a->data = val;\n",
        "     a->next = NULL;\n",
        "  }\n",
        "  else{\n",
        "   \n",
        "     node *current = a;\n",
        "     while(current->next!=NULL){\n",
        "        current = current->next;\n",
        "    }\n",
        "\n",
        "    node* h = new node; \n",
        "    h->data = val;\n",
        "    h->next = NULL;\n",
        "     \n",
        "    current->next = h; \n",
        "  }\n",
        "}\n",
        "\n",
        "/*Some minor modifications to removeBack function*/\n",
        "\n",
        "int removeFront(node *&a){\n",
        "  \n",
        "  if(a == NULL)return -5000;\n",
        "  /*If there is an element in the list, \n",
        "  just shift to the next element in the list.\n",
        "  Delete the intial element*/\n",
        "  else{\n",
        "      node* t = a;\n",
        "      int d = a->data;\n",
        "      a = a->next;\n",
        "      delete t;\n",
        "      return d;\n",
        "  }\n",
        "}\n",
        "\n",
        "\n",
        "int main(){\n",
        "\n",
        "  node* n = NULL;\n",
        "  addBack(n,2);\n",
        "  addBack(n,4);\n",
        "  addBack(n,6);\n",
        "  addBack(n,8);\n",
        "  addBack(n,10);\n",
        "  addBack(n,12);\n",
        "  addBack(n,14);\n",
        "  printLinkedList(n);\n",
        "  int x = removeFront(n);\n",
        "  printLinkedList(n);\n",
        "  cout<<\"The last element is: \"<<x<<endl;\n",
        "  \n",
        "  return 0;\n",
        "\n",
        "}"
      ],
      "execution_count": 37,
      "outputs": [
        {
          "output_type": "stream",
          "text": [
            "Overwriting test.cpp\n"
          ],
          "name": "stdout"
        }
      ]
    },
    {
      "cell_type": "code",
      "metadata": {
        "id": "HKwXX9i1bc2I",
        "colab_type": "code",
        "colab": {
          "base_uri": "https://localhost:8080/",
          "height": 69
        },
        "outputId": "c16d86ef-6131-4b74-87f1-e9cbfa72a6a9"
      },
      "source": [
        "%%script bash\n",
        "g++ test.cpp -o test \n",
        "./test"
      ],
      "execution_count": 38,
      "outputs": [
        {
          "output_type": "stream",
          "text": [
            "The linked list is : 2 4 6 8 10 12 14 \n",
            "The linked list is : 4 6 8 10 12 14 \n",
            "The last element is: 2\n"
          ],
          "name": "stdout"
        }
      ]
    },
    {
      "cell_type": "markdown",
      "metadata": {
        "id": "93_fcJ4Hboq8",
        "colab_type": "text"
      },
      "source": [
        "Again, in populare literature inserting an element in the back of a Queue is known as enqueue and remove  and element from the front is known as dequeue."
      ]
    },
    {
      "cell_type": "markdown",
      "metadata": {
        "id": "AZhQwupYcO1W",
        "colab_type": "text"
      },
      "source": [
        "### Using an array"
      ]
    },
    {
      "cell_type": "code",
      "metadata": {
        "id": "TZvVLkCNbe7z",
        "colab_type": "code",
        "colab": {}
      },
      "source": [
        ""
      ],
      "execution_count": null,
      "outputs": []
    }
  ]
}