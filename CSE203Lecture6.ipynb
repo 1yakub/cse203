{
  "nbformat": 4,
  "nbformat_minor": 0,
  "metadata": {
    "colab": {
      "name": "CSE203Lecture6.ipynb",
      "provenance": [],
      "include_colab_link": true
    },
    "kernelspec": {
      "name": "python3",
      "display_name": "Python 3"
    }
  },
  "cells": [
    {
      "cell_type": "markdown",
      "metadata": {
        "id": "view-in-github",
        "colab_type": "text"
      },
      "source": [
        "<a href=\"https://colab.research.google.com/github/mohammadmotiurrahman/cse203/blob/master/CSE203Lecture6.ipynb\" target=\"_parent\"><img src=\"https://colab.research.google.com/assets/colab-badge.svg\" alt=\"Open In Colab\"/></a>"
      ]
    },
    {
      "cell_type": "markdown",
      "metadata": {
        "id": "GednbwDeiak6",
        "colab_type": "text"
      },
      "source": [
        "## Stack And Queue\n",
        "Stack is a data structure which follows last in first out data retrieval policy , something similar to a stack of unwashed dish on a kitchen sink.\n",
        "\n",
        "Queue on the other hand is a data structure which follows first in first out data retrieval policy, something similar to a queue of passengers at a bus stop.\n",
        "\n",
        "In this notebook , we will try to simulate the behaviour of stack and queues with two methods, linked list and arrays. We will not be concerned about the running time of these data structures yet.\n",
        "\n",
        "### Using linked list\n",
        "\n",
        "Let us start with representing stack and queues using linked list.\n",
        "\n",
        "So, a stack when represented as a linked list can be thought of having two operations adding an element at the back and then removing an element from the back. Think of the stack of plates in the kitchen sink but horizontally. You put a plate on top of the stack, you can also say that you put a plate in the back, if you think horizonatally. Afterwards you can also say that you take a plate from top of the stack or take a plate from the back in the horizontal fashion. So, in a linked list terminology, it is adding an element back, and then removing an element from the back. Let us implement it for a stack.\n"
      ]
    },
    {
      "cell_type": "code",
      "metadata": {
        "id": "hPM0rTCNiedh",
        "colab_type": "code",
        "colab": {
          "base_uri": "https://localhost:8080/",
          "height": 35
        },
        "outputId": "bbc2879e-578b-4bb1-bbf4-a67a4d4f1339"
      },
      "source": [
        "%%writefile test.cpp\n",
        "#include <iostream>\n",
        "using namespace std;\n",
        "/*Implementing the two functions for Stack.\n",
        "addBack() and removeBack() is\n",
        "quite trivial if someone has followed\n",
        "the last lectures notebook quite closely.*/\n",
        "\n",
        "struct node{\n",
        "    int data;\n",
        "    node *next;\n",
        "};\n",
        "\n",
        "void printLinkedList(node *p){\n",
        "    cout<<\"The linked list is : \"; \n",
        "    while(p!= NULL){\n",
        "        cout<<p->data<<\" \";\n",
        "        p = p->next;\n",
        "    }\n",
        "    cout<<endl;\n",
        "}\n",
        "\n",
        "/*The function addNode can be repurposed\n",
        "as addBack, as it is adding an element\n",
        "to the back of an existing linked list.*/\n",
        "void addBack(node *&a, int val){ \n",
        " if(a == NULL){\n",
        "     a = new node;\n",
        "     a->data = val;\n",
        "     a->next = NULL;\n",
        "  }\n",
        "  else{\n",
        "   \n",
        "     node *current = a;\n",
        "     while(current->next!=NULL){\n",
        "        current = current->next;\n",
        "    }\n",
        "\n",
        "    node* h = new node; \n",
        "    h->data = val;\n",
        "    h->next = NULL;\n",
        "     \n",
        "    current->next = h; \n",
        "  }\n",
        "}\n",
        "\n",
        "/*Some modifications is required for the\n",
        "function removeElement to work as required\n",
        "by the specification of removeBack function*/\n",
        "\n",
        "int removeBack(node *&a){\n",
        "\n",
        "  if(a == NULL)return -5000;\n",
        "  /*Think about the linked list in the \n",
        "  sequence: 2->null . If you just delete\n",
        "  node value 2, by shifting it to the \n",
        "  next position, the linked list a becomes\n",
        "  null. Remember to store the value 2 \n",
        "  before deleting it.*/\n",
        "\n",
        "  if(a->next == NULL){\n",
        "      int d = a->data;\n",
        "      a = a->next;\n",
        "      return d;\n",
        "  }\n",
        "  /*Now, think of the linked list as something\n",
        "  like this: 2->4->null, or something like the\n",
        "  following: 2->4->6->8->10->12->14->null. In\n",
        "  both of these accounts you have to make the \n",
        "  last element null. One of the ways to make the\n",
        "  last element null, is to iterate the nodes till\n",
        "  you can point the current->next to the element\n",
        "  you want to remove. In the above cases, the current\n",
        "  node will be 2 for the former example, and for\n",
        "  the later example it will be 12. And the element\n",
        "  that needs to be removed will be 4 in the former\n",
        "  case and 14 in the later case.*/\n",
        "  \n",
        "  node *current = a;\n",
        "  while(current->next->next!=NULL){\n",
        "      current = current->next;\n",
        "  }\n",
        "  /*When you reach such a situation store the value \n",
        "  of the element that you want to remove in a variable\n",
        "  and then delete the node.*/\n",
        "\n",
        "  int p = current->next->data;\n",
        "  current->next = NULL;\n",
        "  return p;\n",
        "  \n",
        "}\n",
        "\n",
        "\n",
        "int main(){\n",
        "\n",
        "  node* n = NULL;\n",
        "  addBack(n,2);\n",
        "  addBack(n,4);\n",
        "  addBack(n,6);\n",
        "  addBack(n,8);\n",
        "  addBack(n,10);\n",
        "  addBack(n,12);\n",
        "  addBack(n,14);\n",
        "  printLinkedList(n);\n",
        "  int x = removeBack(n);\n",
        "  printLinkedList(n);\n",
        "  cout<<\"The last element is: \"<<x<<endl;\n",
        "  \n",
        "  return 0;\n",
        "\n",
        "}"
      ],
      "execution_count": 1,
      "outputs": [
        {
          "output_type": "stream",
          "text": [
            "Writing test.cpp\n"
          ],
          "name": "stdout"
        }
      ]
    },
    {
      "cell_type": "code",
      "metadata": {
        "id": "X4RAllaYNUde",
        "colab_type": "code",
        "colab": {
          "base_uri": "https://localhost:8080/",
          "height": 69
        },
        "outputId": "f942e25a-daa4-4ff2-e6da-255e9e1a2b84"
      },
      "source": [
        "%%script bash\n",
        "g++ test.cpp -o test \n",
        "./test"
      ],
      "execution_count": 2,
      "outputs": [
        {
          "output_type": "stream",
          "text": [
            "The linked list is : 2 4 6 8 10 12 14 \n",
            "The linked list is : 2 4 6 8 10 12 \n",
            "The last element is: 14\n"
          ],
          "name": "stdout"
        }
      ]
    },
    {
      "cell_type": "markdown",
      "metadata": {
        "id": "g6RCaxqEXi_H",
        "colab_type": "text"
      },
      "source": [
        "In common data structure inserting an element in the back is referred to as `push` and removing an element from the back is called `pop`.\n",
        "\n",
        "Queue is represented similarly, however, in queue the value is removed from the front instead of the back. A given value is usually added to the back though. In the following codeblock we will refer anything that is removed from the front with the function removeFront and the function that is used in stack for inserting elements addBack can be reused here. So lets implement the ideas:"
      ]
    },
    {
      "cell_type": "code",
      "metadata": {
        "id": "hLF5-GVYYAd9",
        "colab_type": "code",
        "colab": {
          "base_uri": "https://localhost:8080/",
          "height": 35
        },
        "outputId": "96d71b33-2c79-47c2-d629-063f8340c762"
      },
      "source": [
        "%%writefile test.cpp\n",
        "#include <iostream>\n",
        "using namespace std;\n",
        "/*Implementing the two functions,\n",
        "addBack() and removeFront() for Queue.*/\n",
        "\n",
        "struct node{\n",
        "    int data;\n",
        "    node *next;\n",
        "};\n",
        "\n",
        "void printLinkedList(node *p){\n",
        "    cout<<\"The linked list is : \"; \n",
        "    while(p!= NULL){\n",
        "        cout<<p->data<<\" \";\n",
        "        p = p->next;\n",
        "    }\n",
        "    cout<<endl;\n",
        "}\n",
        "\n",
        "/*The function addNode remains unchanged.*/\n",
        "void addBack(node *&a, int val){ \n",
        " if(a == NULL){\n",
        "     a = new node;\n",
        "     a->data = val;\n",
        "     a->next = NULL;\n",
        "  }\n",
        "  else{\n",
        "   \n",
        "     node *current = a;\n",
        "     while(current->next!=NULL){\n",
        "        current = current->next;\n",
        "    }\n",
        "\n",
        "    node* h = new node; \n",
        "    h->data = val;\n",
        "    h->next = NULL;\n",
        "     \n",
        "    current->next = h; \n",
        "  }\n",
        "}\n",
        "\n",
        "/*Some minor modifications to removeBack function*/\n",
        "\n",
        "int removeFront(node *&a){\n",
        "  \n",
        "  if(a == NULL)return -5000;\n",
        "  /*If there is an element in the list, \n",
        "  just shift to the next element in the list.\n",
        "  Delete the intial element*/\n",
        "  else{\n",
        "      node* t = a;\n",
        "      int d = a->data;\n",
        "      a = a->next;\n",
        "      delete t;\n",
        "      return d;\n",
        "  }\n",
        "}\n",
        "\n",
        "\n",
        "int main(){\n",
        "\n",
        "  node* n = NULL;\n",
        "  addBack(n,2);\n",
        "  addBack(n,4);\n",
        "  addBack(n,6);\n",
        "  addBack(n,8);\n",
        "  addBack(n,10);\n",
        "  addBack(n,12);\n",
        "  addBack(n,14);\n",
        "  printLinkedList(n);\n",
        "  int x = removeFront(n);\n",
        "  printLinkedList(n);\n",
        "  cout<<\"The last element is: \"<<x<<endl;\n",
        "  \n",
        "  return 0;\n",
        "\n",
        "}"
      ],
      "execution_count": 3,
      "outputs": [
        {
          "output_type": "stream",
          "text": [
            "Overwriting test.cpp\n"
          ],
          "name": "stdout"
        }
      ]
    },
    {
      "cell_type": "code",
      "metadata": {
        "id": "HKwXX9i1bc2I",
        "colab_type": "code",
        "colab": {
          "base_uri": "https://localhost:8080/",
          "height": 69
        },
        "outputId": "ddce7c88-b3c1-4bf9-8593-d128587e9773"
      },
      "source": [
        "%%script bash\n",
        "g++ test.cpp -o test \n",
        "./test"
      ],
      "execution_count": 4,
      "outputs": [
        {
          "output_type": "stream",
          "text": [
            "The linked list is : 2 4 6 8 10 12 14 \n",
            "The linked list is : 4 6 8 10 12 14 \n",
            "The last element is: 2\n"
          ],
          "name": "stdout"
        }
      ]
    },
    {
      "cell_type": "markdown",
      "metadata": {
        "id": "93_fcJ4Hboq8",
        "colab_type": "text"
      },
      "source": [
        "Again, in populare literature inserting an element in the back of a Queue is known as enqueue and remove  and element from the front is known as dequeue."
      ]
    },
    {
      "cell_type": "markdown",
      "metadata": {
        "id": "AZhQwupYcO1W",
        "colab_type": "text"
      },
      "source": [
        "### Using an array\n",
        "Stacks can be very effectively implemented using an array. There are couple of functions that needs to be implemented are isEmpty( ), push( ) and pop( )"
      ]
    },
    {
      "cell_type": "code",
      "metadata": {
        "id": "TZvVLkCNbe7z",
        "colab_type": "code",
        "colab": {
          "base_uri": "https://localhost:8080/",
          "height": 35
        },
        "outputId": "87866052-cb28-413c-f9cf-a14555440b41"
      },
      "source": [
        "%%writefile test.cpp\n",
        "#include <iostream>\n",
        "using namespace std;\n",
        "\n",
        "/*First of all a stack struct is constructed*/\n",
        "struct myStack{\n",
        "    /*Counter counts number of element\n",
        "     in the array at the moment. Maxsize\n",
        "     is the maximum number of element \n",
        "     that is allowed to be in the stack.\n",
        "     Elements is a pointer which points \n",
        "     to an array containing maximum size of\n",
        "     elements. The memory is allocated from \n",
        "     the heap*/\n",
        "    int counter = 0;\n",
        "    int maxSize = 100;\n",
        "    int *elements = new int[maxSize];\n",
        "};\n",
        "\n",
        "/*isEmpty( ) function denotes whether\n",
        "the stack contains any value at any \n",
        "moment, if the counter is 0 it means\n",
        "that there are no elements in the stack*/\n",
        "\n",
        "bool isEmpty(myStack &st){\n",
        "    return (st.counter == 0);\n",
        "}\n",
        "\n",
        "/*So here in the elements field, the\n",
        "array is first populated with the variable\n",
        "val and then the counter variable is incremented*/\n",
        "\n",
        "void push(myStack &st, int val){\n",
        "    if(st.counter < st.maxSize){\n",
        "        st.elements[st.counter++] = val;\n",
        "    }\n",
        "}\n",
        "\n",
        "/*In the function the counter varible is decremented\n",
        "first , then the value at that position of counter is\n",
        "returned.See the slides for more details.*/\n",
        "int pop(myStack &st){\n",
        "    if(!isEmpty(st)){\n",
        "        return st.elements[--st.counter];\n",
        "    }\n",
        "}\n",
        "\n",
        "int main(){\n",
        "    myStack st;\n",
        "    push(st,1);\n",
        "    push(st,2);\n",
        "    push(st,3);\n",
        "    push(st,4);\n",
        "    /*So util the stack is empty spill \n",
        "    out everything*/\n",
        "    while(!isEmpty(st)){\n",
        "        cout<<pop(st)<<endl;\n",
        "    }\n",
        "    return 0;\n",
        "}"
      ],
      "execution_count": 9,
      "outputs": [
        {
          "output_type": "stream",
          "text": [
            "Overwriting test.cpp\n"
          ],
          "name": "stdout"
        }
      ]
    },
    {
      "cell_type": "code",
      "metadata": {
        "id": "EfIYGJiSRMEN",
        "colab_type": "code",
        "colab": {
          "base_uri": "https://localhost:8080/",
          "height": 87
        },
        "outputId": "6dd08cb1-9feb-4ec0-e9da-72b5675061b8"
      },
      "source": [
        "%%script bash\n",
        "g++ test.cpp -o test \n",
        "./test"
      ],
      "execution_count": 10,
      "outputs": [
        {
          "output_type": "stream",
          "text": [
            "4\n",
            "3\n",
            "2\n",
            "1\n"
          ],
          "name": "stdout"
        }
      ]
    },
    {
      "cell_type": "markdown",
      "metadata": {
        "id": "DXk1ssP2S79e",
        "colab_type": "text"
      },
      "source": [
        "Queue will be implemented using an array as well. The functions that will be implemented are isEmpty( ), enqueue( ), dequeue( )."
      ]
    },
    {
      "cell_type": "code",
      "metadata": {
        "id": "oQpgzt6iRM-Q",
        "colab_type": "code",
        "colab": {
          "base_uri": "https://localhost:8080/",
          "height": 35
        },
        "outputId": "ae15b4f2-8f58-48b2-8f3b-3ad762fe5629"
      },
      "source": [
        "%%writefile test.cpp\n",
        "#include <iostream>\n",
        "using namespace std;\n",
        "\n",
        "/*Queue has the same elements as\n",
        "that of Stack, how it has one \n",
        "extra variable tail . The tail\n",
        "increments when a value is inserted\n",
        "into the queue, head increments\n",
        "when a value is removed from \n",
        "the queue.  */\n",
        "struct myQueue{\n",
        "    int maxSize = 100;\n",
        "    int head = 0;\n",
        "    int tail = 0;\n",
        "    int* elements = new int[maxSize];\n",
        "};\n",
        "\n",
        "/*Whenever, the head of a queue \n",
        "equals to the tail of the queue,\n",
        "it signifies that the queue is \n",
        "empty*/\n",
        "bool isEmpty(myQueue &q){\n",
        "    if(q.head == q.tail) return true;\n",
        "    return false;\n",
        "}\n",
        "\n",
        "/*Here a value is inserted ,into the \n",
        "queue. The field tail is incremented\n",
        "after the value is inserted.*/\n",
        "void enqueue(myQueue &q, int val){\n",
        "    if(q.tail < q.maxSize){\n",
        "        q.elements[q.tail++] = val;\n",
        "    }\n",
        "}\n",
        "\n",
        "/*Here value is returned, after that \n",
        "the variable head is incremented.*/\n",
        "int dequeue(myQueue &q){\n",
        "    if(!isEmpty(q)){\n",
        "        int result = q.elements[q.head++];\n",
        "        return result;\n",
        "    }\n",
        "}\n",
        "int main(){\n",
        "    myQueue q;\n",
        "    enqueue(q,1);\n",
        "    enqueue(q,2);\n",
        "    enqueue(q,3);\n",
        "    enqueue(q,4);\n",
        "    \n",
        "    cout<<dequeue(q)<<endl;\n",
        "    cout<<dequeue(q)<<endl;\n",
        "    cout<<dequeue(q)<<endl;\n",
        "    cout<<dequeue(q)<<endl;\n",
        "    return 0;\n",
        "\n",
        "}"
      ],
      "execution_count": 7,
      "outputs": [
        {
          "output_type": "stream",
          "text": [
            "Overwriting test.cpp\n"
          ],
          "name": "stdout"
        }
      ]
    },
    {
      "cell_type": "code",
      "metadata": {
        "id": "u6XljXcUZULc",
        "colab_type": "code",
        "colab": {
          "base_uri": "https://localhost:8080/",
          "height": 87
        },
        "outputId": "e8903332-8f3f-4d81-83e5-d6bb9ffbadaa"
      },
      "source": [
        "%%script bash\n",
        "g++ test.cpp -o test \n",
        "./test"
      ],
      "execution_count": 8,
      "outputs": [
        {
          "output_type": "stream",
          "text": [
            "1\n",
            "2\n",
            "3\n",
            "4\n"
          ],
          "name": "stdout"
        }
      ]
    },
    {
      "cell_type": "markdown",
      "metadata": {
        "id": "GFzn0dCfvgiK",
        "colab_type": "text"
      },
      "source": [
        "So the above implementation of stack and queue using an array is a basic implementation. Compare the output of the stack with queue. In the stack th output comes out as `4`,`3`,`2`,`1` and in the queue it comes out as `1`,`2`,`3`,`4` - even though the data input in both the datastructure is done as `1`,`2`,`3`,`4`. \n",
        "\n",
        "FInally several other features can be added to make the implementation of the stack and queue more robust. Those will be part of assignments. Also ability to use a stack or a queue to solve a given problem is the most important part. We will talk about it more in assignments."
      ]
    }
  ]
}