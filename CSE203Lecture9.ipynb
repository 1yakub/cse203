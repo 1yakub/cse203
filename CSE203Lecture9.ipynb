{
  "nbformat": 4,
  "nbformat_minor": 0,
  "metadata": {
    "colab": {
      "name": "CSE203Lecture9.ipynb",
      "provenance": [],
      "toc_visible": true,
      "authorship_tag": "ABX9TyMYmybdAcW0r4e1vOroSSKU",
      "include_colab_link": true
    },
    "kernelspec": {
      "name": "python3",
      "display_name": "Python 3"
    }
  },
  "cells": [
    {
      "cell_type": "markdown",
      "metadata": {
        "id": "view-in-github",
        "colab_type": "text"
      },
      "source": [
        "<a href=\"https://colab.research.google.com/github/mohammadmotiurrahman/cse203/blob/master/CSE203Lecture9.ipynb\" target=\"_parent\"><img src=\"https://colab.research.google.com/assets/colab-badge.svg\" alt=\"Open In Colab\"/></a>"
      ]
    },
    {
      "cell_type": "markdown",
      "metadata": {
        "id": "wgdObAz6wxjk",
        "colab_type": "text"
      },
      "source": [
        "## Graph\n",
        "So, as you have seen in the previous lecture on binary search trees each parent has 0 to 2 child/children(left and right node). What if we want to accommodate more that 2 children, enter graph. Here a single parent can have 0 to n number of child/chidren. In real life, this situation simulates scenarios such as road connection between cities, chemical bonds between elements, internet connections between different nodes.\n",
        "\n",
        "There are two ways to represent a relationship like that, one is known as adjacency matrix representation and another is known as adjacency list representation.\n",
        "\n",
        "In adjacency list representation, the nodes are represented as 2 dimesional array. If there is a connection between two nodes, a `1` is used to denote the relationship. If there is no connection between two node, a `0` is used to denote the relationship. Below is a representation of it:\n",
        "```\n",
        "       | 0 | 1 | 2 | 3 | 4 |    \n",
        "   ---------------------------\n",
        "    0  | 1 | 1 | 0 | 1 | 1 |    \n",
        "   ---------------------------\n",
        "    1  | 1 | 0 | 1 | 0 | 0 |    \n",
        "   ---------------------------\n",
        "    2  | 0 | 1 | 1 | 1 | 1 |    \n",
        "   ---------------------------\n",
        "    3  | 1 | 1 | 0 | 1 | 0 |    \n",
        "   ---------------------------\n",
        "    4  | 1 | 0 | 1 | 0 | 1 |  \n",
        "```\n",
        "\n",
        "  The 2 dimensional matrix above represents 5 node, `0`, `1`, `2`, `3` and `4` and their connection with each other.\n",
        "\n",
        "In adjacency list representation an array of singly linked list. In order to traverse a node, one has to go to a specific index of the array to find the relevant nodes which are its neighbors.\n",
        "\n",
        "```\n",
        "    0  | 1 -> 2 -> 4 -> NULL\n",
        "   ------------------------------\n",
        "    1  | 0 -> 2 -> 3 -> 4 -> NULL\n",
        "   ------------------------------\n",
        "    2  | 3 -> 4 -> 1 -> NULL\n",
        "   ------------------------------\n",
        "    3  | 1 -> NULL\n",
        "   ------------------------------\n",
        "    4  | 2 -> 4 -> 3 -> NULL\n",
        "```\n",
        "\n",
        "There are pros and cons in both of these representation methods. In the case of 2d matrix arrays, access time of checking relationship betwee two nodes is very fast, however, there are lots of realtionships which are denoted by 0. On the other hand if a linked list representation has been used, there would not be such wastage of bit to store useless relationship, but the traversal time of a linked in in the order of O(n).\n",
        "\n",
        "Anyhow, in real life scenarios, data points' relationship are usually representated since there is small cluster where the relationship is actually concentrated. Moving on, let us write some code to represent our ideas.\n"
      ]
    },
    {
      "cell_type": "code",
      "metadata": {
        "id": "3aA-uRNNwziE",
        "colab_type": "code",
        "colab": {}
      },
      "source": [
        ""
      ],
      "execution_count": null,
      "outputs": []
    }
  ]
}