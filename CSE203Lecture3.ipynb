{
  "nbformat": 4,
  "nbformat_minor": 0,
  "metadata": {
    "colab": {
      "name": "CSE203Lecture3.ipynb",
      "provenance": [],
      "include_colab_link": true
    },
    "kernelspec": {
      "name": "python3",
      "display_name": "Python 3"
    }
  },
  "cells": [
    {
      "cell_type": "markdown",
      "metadata": {
        "id": "view-in-github",
        "colab_type": "text"
      },
      "source": [
        "<a href=\"https://colab.research.google.com/github/mohammadmotiurrahman/cse203/blob/master/CSE203Lecture3.ipynb\" target=\"_parent\"><img src=\"https://colab.research.google.com/assets/colab-badge.svg\" alt=\"Open In Colab\"/></a>"
      ]
    },
    {
      "cell_type": "markdown",
      "metadata": {
        "id": "GiyIo9yvY_-A",
        "colab_type": "text"
      },
      "source": [
        "# Something about `const`\n",
        "So `const` in C++ allows data types in a way that helps to write safe and secure way. Let's begin.\n",
        "\n"
      ]
    },
    {
      "cell_type": "markdown",
      "metadata": {
        "id": "3noLN0ufaHRX",
        "colab_type": "text"
      },
      "source": [
        "## C strings\n",
        "So, string in C++ is written using class convention\n",
        "Strings in C is not written using class convention. \n",
        "However it is useful to know how it works in fine details.\n",
        "Here we go:"
      ]
    },
    {
      "cell_type": "code",
      "metadata": {
        "id": "tVTac166a1V1",
        "colab_type": "code",
        "colab": {
          "base_uri": "https://localhost:8080/",
          "height": 35
        },
        "outputId": "0fbfbb56-cee1-4c12-ef2f-3e998a309639"
      },
      "source": [
        "%%writefile test.cpp\n",
        "#include <iostream>\n",
        "using namespace std;\n",
        "\n",
        "int main(){\n",
        "    \n",
        "  /*So these are the way in which\n",
        "  character array can be respresented\n",
        "  in C++, but firstly let me show \n",
        "  the standard way of writing it.*/\n",
        "  \n",
        "  char a[4] = {'i','c','e','\\0'};\n",
        "  \n",
        "  /*The character 'i','c' and 'e'\n",
        "  are the first 3 characters, which\n",
        "  is followed by the '\\0' character,\n",
        "  that signifies that the character\n",
        "  array has ended.There are other\n",
        "  conventions of writing character\n",
        "  array as shown below.*/\n",
        "\n",
        "  char b[] = { 'r','i','c','e','\\0' };\n",
        "\n",
        "  /*In the above notation you don't have\n",
        "  explicitly mention the size of the \n",
        "  character array, however, you need\n",
        "  to put the '\\0' sign after the array\n",
        "  is over*/\n",
        "\n",
        "  /*In the notation below, the compiler\n",
        "  automatically puts a '\\0' at the end\n",
        "  of the string.Notice the empty \"[]\"\n",
        "  notation after the variable \"c\". */\n",
        "  \n",
        "  char c[] = \"nice\";\n",
        "\n",
        "  /*If you put a number inside the empty\n",
        "  \"[]\", it has to be 1 more than the \n",
        "  number of characters you want to write.\n",
        "  For example, the word \"dice\" has 4 \n",
        "  characters, to signify the last '\\0'\n",
        "  character, the size of the array is \n",
        "  allocated for 5 characters.*/\n",
        "\n",
        "  char d[5] = \"dice\";\n",
        "\n",
        "  /*If you want to write dynamic memory\n",
        "  from the heap to represent character array,\n",
        "  you can do that as well*/\n",
        "\n",
        "  char *e = new char[6]{'s','p','i','c','e','\\0'};\n",
        "\n",
        "  /*And finally a character array, also known \n",
        "  as c string can also be written be written \n",
        "  int the following way. The context of the \n",
        "  keyword \"const\" with regard to a \"char *\"\n",
        "  will be explained in the subsequent sections*/\n",
        "\n",
        "  const char *f = \"price\";\n",
        "\n",
        "  /*Now, let us print the content that is \n",
        "  present in each of the character array*/\n",
        "\n",
        "  cout<<\"Content of the character array/ cstring: \"<<endl;\n",
        "  cout << a << endl;\n",
        "  cout << b << endl;\n",
        "  cout << c << endl;\n",
        "  cout << d << endl;\n",
        "  cout << e << endl;\n",
        "  cout << f << endl;\n",
        "\n",
        "  /*How about the address of each of the variable\n",
        "  that reprsents a character array or c string.\n",
        "  But before doing that realize that what did you\n",
        "  do just above, what does a,b,c,d,e,f represents.\n",
        "  Shouldn't they represent some kind of address,\n",
        "  instead of the value that it holds.So just remember\n",
        "  that when it comes to c string , things are a little\n",
        "  bit different*/\n",
        "\n",
        "  /*Now, if you want to print the address of a \n",
        "  c string , you have to do the following. The\n",
        "  variable when written as cout<<...<<endl will\n",
        "  only show the value contained in it. In order\n",
        "  show the address , one has to type the variable\n",
        "  to a \"void *\" pointer type.*/\n",
        "\n",
        "  cout<<\"Value of address of character array / cstring: \"<<endl;\n",
        "  cout << (void*)a << endl;\n",
        "  cout << (void*)b << endl;\n",
        "  cout << (void*)c << endl;\n",
        "  cout << (void*)d << endl;\n",
        "  cout << (void*)e << endl;\n",
        "  cout << (void*)f << endl;\n",
        "\n",
        "  /*One can also use any other pointer type,\n",
        "  \"int *\" , \"float* \" or \"double*\".\n",
        "  It can also be printed like this:*/\n",
        "  cout<<\"Address of character array/ cstring\"<<endl;\n",
        "  cout << (void*)a << endl;\n",
        "  cout << (int*)b << endl;\n",
        "  cout << (float*)c << endl;\n",
        "  cout << (double*)d << endl;\n",
        "\n",
        "  /*However be careful of \"char*\", it will \n",
        "  convert the address into char * type, and\n",
        "  print out the whole cstring. In general \n",
        "  \"char *\" is an address which when used in\n",
        "  combination of cout, would print the whole\n",
        "  string.Look back at line 65 to line 70 for\n",
        "  comparsion.*/\n",
        "  cout<<\"The whole cstring is:\"<<endl;\n",
        "  cout << (char*)e << endl;\n",
        "\n",
        "  return 0;\n",
        "}"
      ],
      "execution_count": 1,
      "outputs": [
        {
          "output_type": "stream",
          "text": [
            "Writing test.cpp\n"
          ],
          "name": "stdout"
        }
      ]
    },
    {
      "cell_type": "code",
      "metadata": {
        "id": "RwSrFTRgtFDy",
        "colab_type": "code",
        "colab": {
          "base_uri": "https://localhost:8080/",
          "height": 381
        },
        "outputId": "71cf4a9a-fd18-4cac-cf99-3d64be473159"
      },
      "source": [
        "%%script bash\n",
        "g++ test.cpp -o test \n",
        "./test"
      ],
      "execution_count": 2,
      "outputs": [
        {
          "output_type": "stream",
          "text": [
            "Content of the character array/ cstring: \n",
            "ice\n",
            "rice\n",
            "nice\n",
            "dice\n",
            "spice\n",
            "price\n",
            "Value of address of character array / cstring: \n",
            "0x7ffe66345b05\n",
            "0x7ffe66345b09\n",
            "0x7ffe66345b0e\n",
            "0x7ffe66345b13\n",
            "0x555b63250008\n",
            "0x555b62606ea9\n",
            "Address of character array/ cstring\n",
            "0x7ffe66345b05\n",
            "0x7ffe66345b09\n",
            "0x7ffe66345b0e\n",
            "0x7ffe66345b13\n",
            "The whole cstring is:\n",
            "spice\n"
          ],
          "name": "stdout"
        }
      ]
    },
    {
      "cell_type": "markdown",
      "metadata": {
        "id": "lS_WhEpn5H44",
        "colab_type": "text"
      },
      "source": [
        "### The thing about (void *)"
      ]
    },
    {
      "cell_type": "code",
      "metadata": {
        "id": "eNsOlUeNuCGs",
        "colab_type": "code",
        "colab": {
          "base_uri": "https://localhost:8080/",
          "height": 35
        },
        "outputId": "04e6b349-9db7-47db-e00e-b5056b3a1a49"
      },
      "source": [
        "%%writefile test.cpp\n",
        "#include <iostream>\n",
        "using namespace std;\n",
        "\n",
        "int main(){\n",
        "  int a = 12;\n",
        "  /*The code below will give problem\n",
        "  due to derefencing a void pointer.*/\n",
        "  void* x = &a;\n",
        "  //Uncomment the line to see the effect\n",
        "  //cout<<\"Derefencing x using void* : \"<<*x<<endl;\n",
        "  \n",
        "  /*However if it is like so, it will \n",
        "  not be problematic.*/\n",
        "  int *y = &a;\n",
        "  cout<<\"Deferencing y using int* : \"<<*y<<endl;\n",
        "\n",
        "  return 0;\n",
        "}"
      ],
      "execution_count": 3,
      "outputs": [
        {
          "output_type": "stream",
          "text": [
            "Overwriting test.cpp\n"
          ],
          "name": "stdout"
        }
      ]
    },
    {
      "cell_type": "code",
      "metadata": {
        "id": "WUnx8Vxi6dOL",
        "colab_type": "code",
        "colab": {
          "base_uri": "https://localhost:8080/",
          "height": 35
        },
        "outputId": "09624439-bc58-4dfa-fbc3-73f646ef229f"
      },
      "source": [
        "%%script bash\n",
        "g++ test.cpp -o test \n",
        "./test"
      ],
      "execution_count": 4,
      "outputs": [
        {
          "output_type": "stream",
          "text": [
            "Deferencing y using int* : 12\n"
          ],
          "name": "stdout"
        }
      ]
    },
    {
      "cell_type": "markdown",
      "metadata": {
        "id": "ZOJjzHCk-dEo",
        "colab_type": "text"
      },
      "source": [
        "### About printing character arrays"
      ]
    },
    {
      "cell_type": "code",
      "metadata": {
        "id": "W4XxA2747Jh_",
        "colab_type": "code",
        "colab": {
          "base_uri": "https://localhost:8080/",
          "height": 35
        },
        "outputId": "a896154b-47f8-49aa-ecf1-326015cfc1b6"
      },
      "source": [
        "%%writefile test.cpp\n",
        "#include <iostream>\n",
        "using namespace std;\n",
        "\n",
        "/*The program below shows how to print \n",
        "address of characters and values of characters\n",
        "in a character array using C++.*/\n",
        "\n",
        "int main(){\n",
        "  \n",
        "  /*In the example below the address of the \n",
        "  characters in the character array can be\n",
        "  printed using (void*)(&a[i]). \"&a[i]\" gives\n",
        "  the address of each character which is then\n",
        "  type casted to \"void*\". Another thing to observe\n",
        "  is this line : \"cout<<&a[i]<<endl\".This line\n",
        "  was supposed to print the address of each character\n",
        "  in the array \"a\".However, since the address of\n",
        "  characters can not be printed like this, what \n",
        "  ends up happening is the array gets printed\n",
        "  from the address that the index \"i\" begins to\n",
        "  represent.Look at Line 30 and Line 31. Line 30\n",
        "  prints the address of each character element,\n",
        "  and line 32 prints the content of the character\n",
        "  array starting from that character till the end\n",
        "  of the array.*/\n",
        "\n",
        "  char a[8] = {'i','c','e','\\0'};\n",
        "  for(int i = 0; i < 3; ++i){\n",
        "      cout<<(void*)(&a[i])<<\" \";\n",
        "      cout<<&a[i]<<\" \";\n",
        "      cout<<a[i]<<endl;\n",
        "  }\n",
        "  cout<<\"-------------------------\"<<endl;\n",
        "  \n",
        "  char b[] = { 'r','i','c','e','\\0' };\n",
        "  for(int i = 0; i<4; ++i){\n",
        "      cout<<(void*)(&b[i])<<\" \";\n",
        "      cout<<&b[i]<<\" \";\n",
        "      cout<<b[i]<<endl;\n",
        "  }\n",
        "  \n",
        "  cout<<\"-------------------------\"<<endl;\n",
        "  \n",
        "  char c[] = \"nice\";\n",
        "  for(int i = 0; i<4; ++i){\n",
        "      cout<<(void*)(&c[i])<<\" \";\n",
        "      cout<<&c[i]<<\" \";\n",
        "      cout<<c[i]<<endl;\n",
        "  }\n",
        "\n",
        "  cout<<\"-------------------------\"<<endl;\n",
        "\n",
        "  char d[5] = \"dice\";\n",
        "  for(int i = 0; i<4; ++i){\n",
        "      cout<<(void*)(&d[i])<<\" \";\n",
        "      cout<<&d[i]<<\" \";\n",
        "      cout<<d[i]<<endl;\n",
        "  }\n",
        "\n",
        "  cout<<\"-------------------------\"<<endl;\n",
        "\n",
        "  /*\n",
        "  If the character array is represented as\n",
        "  character pointer, then the notation changes\n",
        "  but the concept remains the same. The pointers\n",
        "  are incremented or decremented using pointer\n",
        "  arithmetic like pointer++ or pointer--. \n",
        "  \"(void*)e\" as shown in line 79 will print \n",
        "  the address of a particular character. \"e[0]\" \n",
        "  in line 80 will print the first element of\n",
        "  the array, and \"e\" in line 81 will print \n",
        "  the whole array starting from a particular \n",
        "  character address.\n",
        " */\n",
        "\n",
        "  char *e = new char[6]{'s','p','i','c','e','\\0'};\n",
        "  for(int i = 0; i < 5; ++i){\n",
        "      cout<<(void*)e<<\" \";\n",
        "      cout<<e[0]<<\" \";\n",
        "      cout<<e<<endl;\n",
        "      e = e+1;\n",
        "  }\n",
        "\n",
        "  cout<<\"-------------------------\"<<endl;\n",
        "  \n",
        "  const char* f = \"pierre\";\n",
        "  for(int i = 0 ; i < 6; ++i){\n",
        "      cout<<(void*)f<<\" \";\n",
        "      cout<<f[0]<<\" \";\n",
        "      cout<<f<<endl;\n",
        "      f = f+1;\n",
        "  }\n",
        "\n",
        "  return 0;\n",
        "}"
      ],
      "execution_count": 133,
      "outputs": [
        {
          "output_type": "stream",
          "text": [
            "Overwriting test.cpp\n"
          ],
          "name": "stdout"
        }
      ]
    },
    {
      "cell_type": "code",
      "metadata": {
        "id": "jwMjjJYJyvfa",
        "colab_type": "code",
        "colab": {
          "base_uri": "https://localhost:8080/",
          "height": 555
        },
        "outputId": "2602b4e3-7caa-4ece-b2d9-df60ddb032bd"
      },
      "source": [
        "%%script bash\n",
        "g++ test.cpp -o test \n",
        "./test"
      ],
      "execution_count": 134,
      "outputs": [
        {
          "output_type": "stream",
          "text": [
            "0x7ffd47a7e280 ice i\n",
            "0x7ffd47a7e281 ce c\n",
            "0x7ffd47a7e282 e e\n",
            "-------------------------\n",
            "0x7ffd47a7e271 rice r\n",
            "0x7ffd47a7e272 ice i\n",
            "0x7ffd47a7e273 ce c\n",
            "0x7ffd47a7e274 e e\n",
            "-------------------------\n",
            "0x7ffd47a7e276 nice n\n",
            "0x7ffd47a7e277 ice i\n",
            "0x7ffd47a7e278 ce c\n",
            "0x7ffd47a7e279 e e\n",
            "-------------------------\n",
            "0x7ffd47a7e27b dice d\n",
            "0x7ffd47a7e27c ice i\n",
            "0x7ffd47a7e27d ce c\n",
            "0x7ffd47a7e27e e e\n",
            "-------------------------\n",
            "0x562f579c6008 s spice\n",
            "0x562f579c6009 p pice\n",
            "0x562f579c600a i ice\n",
            "0x562f579c600b c ce\n",
            "0x562f579c600c e e\n",
            "-------------------------\n",
            "0x562f55f49051 p pierre\n",
            "0x562f55f49052 i ierre\n",
            "0x562f55f49053 e erre\n",
            "0x562f55f49054 r rre\n",
            "0x562f55f49055 r re\n",
            "0x562f55f49056 e e\n"
          ],
          "name": "stdout"
        }
      ]
    },
    {
      "cell_type": "markdown",
      "metadata": {
        "id": "xXYE4kAk1CJH",
        "colab_type": "text"
      },
      "source": [
        "The code block above shows array of characters represented in couple of different ways. But do they have any inherent differences among them. They do have and that difference is highlighted below."
      ]
    }
  ]
}