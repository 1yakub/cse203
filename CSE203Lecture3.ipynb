{
  "nbformat": 4,
  "nbformat_minor": 0,
  "metadata": {
    "colab": {
      "name": "CSE203Lecture3.ipynb",
      "provenance": [],
      "authorship_tag": "ABX9TyPPfj6nDdMeHMAtL079Dx8x",
      "include_colab_link": true
    },
    "kernelspec": {
      "name": "python3",
      "display_name": "Python 3"
    }
  },
  "cells": [
    {
      "cell_type": "markdown",
      "metadata": {
        "id": "view-in-github",
        "colab_type": "text"
      },
      "source": [
        "<a href=\"https://colab.research.google.com/github/mohammadmotiurrahman/cse203/blob/master/CSE203Lecture3.ipynb\" target=\"_parent\"><img src=\"https://colab.research.google.com/assets/colab-badge.svg\" alt=\"Open In Colab\"/></a>"
      ]
    },
    {
      "cell_type": "markdown",
      "metadata": {
        "id": "GiyIo9yvY_-A",
        "colab_type": "text"
      },
      "source": [
        "# Something about `const`\n",
        "So `const` in C++ allows data types in a way that helps to write safe and secure way. Let's begin.\n",
        "\n"
      ]
    },
    {
      "cell_type": "markdown",
      "metadata": {
        "id": "3noLN0ufaHRX",
        "colab_type": "text"
      },
      "source": [
        "## C strings\n",
        "So, string in C++ is written using class convention\n",
        "Strings in C is not written using class convention. \n",
        "However it is useful to know how it works in fine details.\n",
        "Here we go:"
      ]
    },
    {
      "cell_type": "code",
      "metadata": {
        "id": "tVTac166a1V1",
        "colab_type": "code",
        "colab": {
          "base_uri": "https://localhost:8080/",
          "height": 35
        },
        "outputId": "5417fe75-2201-4d14-e6aa-0a652373d33e"
      },
      "source": [
        "%%writefile test.cpp\n",
        "#include <iostream>\n",
        "using namespace std;\n",
        "\n",
        "int main(){\n",
        "    \n",
        "  /*So these are the way in which\n",
        "  character array can be respresented\n",
        "  in C++, but firstly let me show \n",
        "  the standard way of writing it.*/\n",
        "  \n",
        "  char a[4] = {'i','c','e','\\0'};\n",
        "  \n",
        "  /*The character 'i','c' and 'e'\n",
        "  are the first 3 characters, which\n",
        "  is followed by the '\\0' character,\n",
        "  that signifies that the character\n",
        "  array has ended.There are other\n",
        "  conventions of writing character\n",
        "  array as shown below.*/\n",
        "\n",
        "  char b[] = { 'r','i','c','e','\\0' };\n",
        "\n",
        "  /*In the above notation you don't have\n",
        "  explicitly mention the size of the \n",
        "  character array, however, you need\n",
        "  to put the '\\0' sign after the array\n",
        "  is over*/\n",
        "\n",
        "  /*In the notation below, the compiler\n",
        "  automatically puts a '\\0' at the end\n",
        "  of the string.Notice the empty \"[]\"\n",
        "  notation after the variable \"c\". */\n",
        "  \n",
        "  char c[] = \"nice\";\n",
        "\n",
        "  /*If you put a number inside the empty\n",
        "  \"[]\", it has to be 1 more than the \n",
        "  number of characters you want to write.\n",
        "  For example, the word \"dice\" has 4 \n",
        "  characters, to signify the last '\\0'\n",
        "  character, the size of the array is \n",
        "  allocated for 5 characters.*/\n",
        "\n",
        "  char d[5] = \"dice\";\n",
        "\n",
        "  /*If you want to write dynamic memory\n",
        "  from the heap to represent character array,\n",
        "  you can do that as well*/\n",
        "\n",
        "  char *e = new char[6]{'s','p','i','c','e','\\0'};\n",
        "\n",
        "  /*And finally a character array, also known \n",
        "  as c string can also be written be written \n",
        "  int the following way. The context of the \n",
        "  keyword \"const\" with regard to a \"char *\"\n",
        "  will be explained in the subsequent sections*/\n",
        "\n",
        "  const char *f = \"price\";\n",
        "\n",
        "  /*Now, let us print the content that is \n",
        "  present in each of the character array*/\n",
        "\n",
        "  cout<<\"Content of the character array/ cstring: \"<<endl;\n",
        "  cout << a << endl;\n",
        "  cout << b << endl;\n",
        "  cout << c << endl;\n",
        "  cout << d << endl;\n",
        "  cout << e << endl;\n",
        "  cout << f << endl;\n",
        "\n",
        "  /*How about the address of each of the variable\n",
        "  that reprsents a character array or c string.\n",
        "  But before doing that realize that what did you\n",
        "  do just above, what does a,b,c,d,e,f represents.\n",
        "  Shouldn't they represent some kind of address,\n",
        "  instead of the value that it holds.So just remember\n",
        "  that when it comes to c string , things are a little\n",
        "  bit different*/\n",
        "\n",
        "  /*Now, if you want to print the address of a \n",
        "  c string , you have to do the following. The\n",
        "  variable when written as cout<<...<<endl will\n",
        "  only show the value contained in it. In order\n",
        "  show the address , one has to type the variable\n",
        "  to a \"void *\" pointer type.*/\n",
        "\n",
        "  cout<<\"Value of address of character array / cstring: \"<<endl;\n",
        "  cout << (void*)a << endl;\n",
        "  cout << (void*)b << endl;\n",
        "  cout << (void*)c << endl;\n",
        "  cout << (void*)d << endl;\n",
        "  cout << (void*)e << endl;\n",
        "  cout << (void*)f << endl;\n",
        "\n",
        "  /*One can also use any other pointer type,\n",
        "  \"int *\" , \"float* \" or \"double*\".\n",
        "  It can also be printed like this:*/\n",
        "  cout<<\"Address of character array/ cstring\"<<endl;\n",
        "  cout << (void*)a << endl;\n",
        "  cout << (int*)b << endl;\n",
        "  cout << (float*)c << endl;\n",
        "  cout << (double*)d << endl;\n",
        "\n",
        "  /*However be careful of \"char*\", it will \n",
        "  convert the address into char * type, and\n",
        "  print out the whole cstring. In general \n",
        "  \"char *\" is an address which when used in\n",
        "  combination of cout, would print the whole\n",
        "  string.Look back at line 65 to line 70 for\n",
        "  comparsion.*/\n",
        "  cout<<\"The whole cstring is:\"<<endl;\n",
        "  cout << (char*)e << endl;\n",
        "\n",
        "  return 0;\n",
        "}"
      ],
      "execution_count": 9,
      "outputs": [
        {
          "output_type": "stream",
          "text": [
            "Overwriting test.cpp\n"
          ],
          "name": "stdout"
        }
      ]
    },
    {
      "cell_type": "code",
      "metadata": {
        "id": "RwSrFTRgtFDy",
        "colab_type": "code",
        "colab": {
          "base_uri": "https://localhost:8080/",
          "height": 381
        },
        "outputId": "592391a1-9347-46d0-efc4-3c803dbf3376"
      },
      "source": [
        "%%script bash\n",
        "g++ test.cpp -o test \n",
        "./test"
      ],
      "execution_count": 10,
      "outputs": [
        {
          "output_type": "stream",
          "text": [
            "Content of the character array/ cstring: \n",
            "ice\n",
            "rice\n",
            "nice\n",
            "dice\n",
            "spice\n",
            "price\n",
            "Value of address of character array / cstring: \n",
            "0x7fff61d0d805\n",
            "0x7fff61d0d809\n",
            "0x7fff61d0d80e\n",
            "0x7fff61d0d813\n",
            "0x55c177af4008\n",
            "0x55c1768deea9\n",
            "Address of character array/ cstring\n",
            "0x7fff61d0d805\n",
            "0x7fff61d0d809\n",
            "0x7fff61d0d80e\n",
            "0x7fff61d0d813\n",
            "The whole cstring is:\n",
            "spice\n"
          ],
          "name": "stdout"
        }
      ]
    },
    {
      "cell_type": "markdown",
      "metadata": {
        "id": "lS_WhEpn5H44",
        "colab_type": "text"
      },
      "source": [
        "### The thing about (void *)"
      ]
    },
    {
      "cell_type": "code",
      "metadata": {
        "id": "eNsOlUeNuCGs",
        "colab_type": "code",
        "colab": {
          "base_uri": "https://localhost:8080/",
          "height": 35
        },
        "outputId": "3186c12f-9870-4a57-89b2-becdbd40b9f4"
      },
      "source": [
        "%%writefile test.cpp\n",
        "#include <iostream>\n",
        "using namespace std;\n",
        "\n",
        "int main(){\n",
        "  int a = 12;\n",
        "  /*The code below will give problem\n",
        "  due to derefencing a void pointer.*/\n",
        "  void* x = &a;\n",
        "  //Uncomment the line to see the effect\n",
        "  //cout<<\"Derefencing x using void* : \"<<*x<<endl;\n",
        "  \n",
        "  /*However if it is like so, it will \n",
        "  not be problematic.*/\n",
        "  int *y = &a;\n",
        "  cout<<\"Deferencing y using int* : \"<<*y<<endl;\n",
        "\n",
        "  return 0;\n",
        "}"
      ],
      "execution_count": 17,
      "outputs": [
        {
          "output_type": "stream",
          "text": [
            "Overwriting test.cpp\n"
          ],
          "name": "stdout"
        }
      ]
    },
    {
      "cell_type": "code",
      "metadata": {
        "id": "WUnx8Vxi6dOL",
        "colab_type": "code",
        "colab": {
          "base_uri": "https://localhost:8080/",
          "height": 35
        },
        "outputId": "9c21911d-d87a-4cf4-f5cb-e9e256bbbde7"
      },
      "source": [
        "%%script bash\n",
        "g++ test.cpp -o test \n",
        "./test"
      ],
      "execution_count": 18,
      "outputs": [
        {
          "output_type": "stream",
          "text": [
            "Deferencing y using int* : 12\n"
          ],
          "name": "stdout"
        }
      ]
    },
    {
      "cell_type": "markdown",
      "metadata": {
        "id": "ZOJjzHCk-dEo",
        "colab_type": "text"
      },
      "source": [
        "### About printing character arrays"
      ]
    },
    {
      "cell_type": "code",
      "metadata": {
        "id": "W4XxA2747Jh_",
        "colab_type": "code",
        "colab": {}
      },
      "source": [
        ""
      ],
      "execution_count": 0,
      "outputs": []
    }
  ]
}