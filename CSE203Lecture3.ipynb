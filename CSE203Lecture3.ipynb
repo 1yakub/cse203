{
  "nbformat": 4,
  "nbformat_minor": 0,
  "metadata": {
    "colab": {
      "name": "CSE203Lecture3.ipynb",
      "provenance": [],
      "include_colab_link": true
    },
    "kernelspec": {
      "name": "python3",
      "display_name": "Python 3"
    }
  },
  "cells": [
    {
      "cell_type": "markdown",
      "metadata": {
        "id": "view-in-github",
        "colab_type": "text"
      },
      "source": [
        "<a href=\"https://colab.research.google.com/github/mohammadmotiurrahman/cse203/blob/master/CSE203Lecture3.ipynb\" target=\"_parent\"><img src=\"https://colab.research.google.com/assets/colab-badge.svg\" alt=\"Open In Colab\"/></a>"
      ]
    },
    {
      "cell_type": "markdown",
      "metadata": {
        "id": "GiyIo9yvY_-A",
        "colab_type": "text"
      },
      "source": [
        "# Something about `const` and `c string`\n",
        "So `const` in C++ allows data types in a way that helps to write safe and secure way. Let's begin.\n",
        "\n"
      ]
    },
    {
      "cell_type": "markdown",
      "metadata": {
        "id": "3noLN0ufaHRX",
        "colab_type": "text"
      },
      "source": [
        "## C strings\n",
        "So, string in C++ is written using class convention\n",
        "Strings in C is not written using class convention. \n",
        "However it is useful to know how it works in fine details.\n",
        "Here we go:"
      ]
    },
    {
      "cell_type": "code",
      "metadata": {
        "id": "tVTac166a1V1",
        "colab_type": "code",
        "colab": {
          "base_uri": "https://localhost:8080/",
          "height": 35
        },
        "outputId": "b322a126-5078-4909-e3b9-544dd67227f2"
      },
      "source": [
        "%%writefile test.cpp\n",
        "#include <iostream>\n",
        "using namespace std;\n",
        "\n",
        "int main(){\n",
        "    \n",
        "  /*So these are the way in which\n",
        "  character array can be respresented\n",
        "  in C++, but firstly let me show \n",
        "  the standard way of writing it.*/\n",
        "  \n",
        "  char a[4] = {'i','c','e','\\0'};\n",
        "  \n",
        "  /*The character 'i','c' and 'e'\n",
        "  are the first 3 characters, which\n",
        "  is followed by the '\\0' character,\n",
        "  that signifies that the character\n",
        "  array has ended.There are other\n",
        "  conventions of writing character\n",
        "  array as shown below.*/\n",
        "\n",
        "  char b[] = { 'r','i','c','e','\\0' };\n",
        "\n",
        "  /*In the above notation you don't have\n",
        "  explicitly mention the size of the \n",
        "  character array, however, you need\n",
        "  to put the '\\0' sign after the array\n",
        "  is over*/\n",
        "\n",
        "  /*In the notation below, the compiler\n",
        "  automatically puts a '\\0' at the end\n",
        "  of the string.Notice the empty \"[]\"\n",
        "  notation after the variable \"c\". */\n",
        "  \n",
        "  char c[] = \"nice\";\n",
        "\n",
        "  /*If you put a number inside the empty\n",
        "  \"[]\", it has to be 1 more than the \n",
        "  number of characters you want to write.\n",
        "  For example, the word \"dice\" has 4 \n",
        "  characters, to signify the last '\\0'\n",
        "  character, the size of the array is \n",
        "  allocated for 5 characters.*/\n",
        "\n",
        "  char d[5] = \"dice\";\n",
        "\n",
        "  /*If you want to write dynamic memory\n",
        "  from the heap to represent character array,\n",
        "  you can do that as well*/\n",
        "\n",
        "  char *e = new char[6]{'s','p','i','c','e','\\0'};\n",
        "\n",
        "  /*And finally a character array, also known \n",
        "  as c string can also be written be written \n",
        "  int the following way. The context of the \n",
        "  keyword \"const\" with regard to a \"char *\"\n",
        "  will be explained in the subsequent sections*/\n",
        "\n",
        "  const char *f = \"price\";\n",
        "\n",
        "  /*Now, let us print the content that is \n",
        "  present in each of the character array*/\n",
        "\n",
        "  cout<<\"Content of the character array/ cstring: \"<<endl;\n",
        "  cout << a << endl;\n",
        "  cout << b << endl;\n",
        "  cout << c << endl;\n",
        "  cout << d << endl;\n",
        "  cout << e << endl;\n",
        "  cout << f << endl;\n",
        "\n",
        "  /*How about the address of each of the variable\n",
        "  that reprsents a character array or c string.\n",
        "  But before doing that realize that what did you\n",
        "  do just above, what does a,b,c,d,e,f represents.\n",
        "  Shouldn't they represent some kind of address,\n",
        "  instead of the value that it holds.So just remember\n",
        "  that when it comes to c string , things are a little\n",
        "  bit different*/\n",
        "\n",
        "  /*Now, if you want to print the address of a \n",
        "  c string , you have to do the following. The\n",
        "  variable when written as cout<<...<<endl will\n",
        "  only show the value contained in it. In order\n",
        "  show the address , one has to type the variable\n",
        "  to a \"void *\" pointer type.*/\n",
        "\n",
        "  cout<<\"Value of address of character array / cstring: \"<<endl;\n",
        "  cout << (void*)a << endl;\n",
        "  cout << (void*)b << endl;\n",
        "  cout << (void*)c << endl;\n",
        "  cout << (void*)d << endl;\n",
        "  cout << (void*)e << endl;\n",
        "  cout << (void*)f << endl;\n",
        "\n",
        "  /*One can also use any other pointer type,\n",
        "  \"int *\" , \"float* \" or \"double*\".\n",
        "  It can also be printed like this:*/\n",
        "  cout<<\"Address of character array/ cstring\"<<endl;\n",
        "  cout << (void*)a << endl;\n",
        "  cout << (int*)b << endl;\n",
        "  cout << (float*)c << endl;\n",
        "  cout << (double*)d << endl;\n",
        "\n",
        "  /*However be careful of \"char*\", it will \n",
        "  convert the address into char * type, and\n",
        "  print out the whole cstring. In general \n",
        "  \"char *\" is an address which when used in\n",
        "  combination of cout, would print the whole\n",
        "  string.Look back at line 65 to line 70 for\n",
        "  comparsion.*/\n",
        "  cout<<\"The whole cstring is:\"<<endl;\n",
        "  cout << (char*)e << endl;\n",
        "\n",
        "  return 0;\n",
        "}"
      ],
      "execution_count": 1,
      "outputs": [
        {
          "output_type": "stream",
          "text": [
            "Overwriting test.cpp\n"
          ],
          "name": "stdout"
        }
      ]
    },
    {
      "cell_type": "code",
      "metadata": {
        "id": "RwSrFTRgtFDy",
        "colab_type": "code",
        "colab": {
          "base_uri": "https://localhost:8080/",
          "height": 381
        },
        "outputId": "690d30cb-fff0-4617-faf2-8ef2ef905215"
      },
      "source": [
        "%%script bash\n",
        "g++ test.cpp -o test \n",
        "./test"
      ],
      "execution_count": 2,
      "outputs": [
        {
          "output_type": "stream",
          "text": [
            "Content of the character array/ cstring: \n",
            "ice\n",
            "rice\n",
            "nice\n",
            "dice\n",
            "spice\n",
            "price\n",
            "Value of address of character array / cstring: \n",
            "0x7ffffc70ef85\n",
            "0x7ffffc70ef89\n",
            "0x7ffffc70ef8e\n",
            "0x7ffffc70ef93\n",
            "0x560abc1f4008\n",
            "0x560aba849ea9\n",
            "Address of character array/ cstring\n",
            "0x7ffffc70ef85\n",
            "0x7ffffc70ef89\n",
            "0x7ffffc70ef8e\n",
            "0x7ffffc70ef93\n",
            "The whole cstring is:\n",
            "spice\n"
          ],
          "name": "stdout"
        }
      ]
    },
    {
      "cell_type": "markdown",
      "metadata": {
        "id": "lS_WhEpn5H44",
        "colab_type": "text"
      },
      "source": [
        "### The thing about (void *)"
      ]
    },
    {
      "cell_type": "code",
      "metadata": {
        "id": "eNsOlUeNuCGs",
        "colab_type": "code",
        "colab": {
          "base_uri": "https://localhost:8080/",
          "height": 35
        },
        "outputId": "33193edd-8373-4ec6-b451-5e6a7eb2bb2b"
      },
      "source": [
        "%%writefile test.cpp\n",
        "#include <iostream>\n",
        "using namespace std;\n",
        "\n",
        "int main(){\n",
        "  int a = 12;\n",
        "  /*The code below will give problem\n",
        "  due to derefencing a void pointer.*/\n",
        "  void* x = &a;\n",
        "  //Uncomment the line to see the effect\n",
        "  //cout<<\"Derefencing x using void* : \"<<*x<<endl;\n",
        "  \n",
        "  /*However if it is like so, it will \n",
        "  not be problematic.*/\n",
        "  int *y = &a;\n",
        "  cout<<\"Deferencing y using int* : \"<<*y<<endl;\n",
        "\n",
        "  return 0;\n",
        "}"
      ],
      "execution_count": 3,
      "outputs": [
        {
          "output_type": "stream",
          "text": [
            "Overwriting test.cpp\n"
          ],
          "name": "stdout"
        }
      ]
    },
    {
      "cell_type": "code",
      "metadata": {
        "id": "WUnx8Vxi6dOL",
        "colab_type": "code",
        "colab": {
          "base_uri": "https://localhost:8080/",
          "height": 35
        },
        "outputId": "3ae50b27-3a78-43a9-ad23-fe6665eb55d7"
      },
      "source": [
        "%%script bash\n",
        "g++ test.cpp -o test \n",
        "./test"
      ],
      "execution_count": 4,
      "outputs": [
        {
          "output_type": "stream",
          "text": [
            "Deferencing y using int* : 12\n"
          ],
          "name": "stdout"
        }
      ]
    },
    {
      "cell_type": "markdown",
      "metadata": {
        "id": "ZOJjzHCk-dEo",
        "colab_type": "text"
      },
      "source": [
        "### About printing character arrays"
      ]
    },
    {
      "cell_type": "code",
      "metadata": {
        "id": "W4XxA2747Jh_",
        "colab_type": "code",
        "colab": {
          "base_uri": "https://localhost:8080/",
          "height": 35
        },
        "outputId": "d69dcacd-d6b9-428f-aed9-43cae8142657"
      },
      "source": [
        "%%writefile test.cpp\n",
        "#include <iostream>\n",
        "using namespace std;\n",
        "\n",
        "/*The program below shows how to print \n",
        "address of characters and values of characters\n",
        "in a character array using C++.*/\n",
        "\n",
        "int main(){\n",
        "  \n",
        "  /*In the example below the address of the \n",
        "  characters in the character array can be\n",
        "  printed using (void*)(&a[i]). \"&a[i]\" gives\n",
        "  the address of each character which is then\n",
        "  type casted to \"void*\". Another thing to observe\n",
        "  is this line : \"cout<<&a[i]<<endl\".This line\n",
        "  was supposed to print the address of each character\n",
        "  in the array \"a\".However, since the address of\n",
        "  characters can not be printed like this, what \n",
        "  ends up happening is the array gets printed\n",
        "  from the address that the index \"i\" begins to\n",
        "  represent.Look at Line 30 and Line 31. Line 30\n",
        "  prints the address of each character element,\n",
        "  and line 32 prints the content of the character\n",
        "  array starting from that character till the end\n",
        "  of the array.*/\n",
        "\n",
        "  char a[8] = {'i','c','e','\\0'};\n",
        "  for(int i = 0; i < 3; ++i){\n",
        "      cout<<(void*)(&a[i])<<\" \";\n",
        "      cout<<&a[i]<<\" \";\n",
        "      cout<<a[i]<<endl;\n",
        "  }\n",
        "  cout<<\"-------------------------\"<<endl;\n",
        "  \n",
        "  char b[] = { 'r','i','c','e','\\0' };\n",
        "  for(int i = 0; i<4; ++i){\n",
        "      cout<<(void*)(&b[i])<<\" \";\n",
        "      cout<<&b[i]<<\" \";\n",
        "      cout<<b[i]<<endl;\n",
        "  }\n",
        "  \n",
        "  cout<<\"-------------------------\"<<endl;\n",
        "  \n",
        "  char c[] = \"nice\";\n",
        "  for(int i = 0; i<4; ++i){\n",
        "      cout<<(void*)(&c[i])<<\" \";\n",
        "      cout<<&c[i]<<\" \";\n",
        "      cout<<c[i]<<endl;\n",
        "  }\n",
        "\n",
        "  cout<<\"-------------------------\"<<endl;\n",
        "\n",
        "  char d[5] = \"dice\";\n",
        "  for(int i = 0; i<4; ++i){\n",
        "      cout<<(void*)(&d[i])<<\" \";\n",
        "      cout<<&d[i]<<\" \";\n",
        "      cout<<d[i]<<endl;\n",
        "  }\n",
        "\n",
        "  cout<<\"-------------------------\"<<endl;\n",
        "\n",
        "  /*\n",
        "  If the character array is represented as\n",
        "  character pointer, then the notation changes\n",
        "  but the concept remains the same. The pointers\n",
        "  are incremented or decremented using pointer\n",
        "  arithmetic like pointer++ or pointer--. \n",
        "  \"(void*)e\" as shown in line 79 will print \n",
        "  the address of a particular character. \"e[0]\" \n",
        "  in line 80 will print the first element of\n",
        "  the array, and \"e\" in line 81 will print \n",
        "  the whole array starting from a particular \n",
        "  character address.\n",
        " */\n",
        "\n",
        "  char *e = new char[6]{'s','p','i','c','e','\\0'};\n",
        "  for(int i = 0; i < 5; ++i){\n",
        "      cout<<(void*)e<<\" \";\n",
        "      cout<<e[0]<<\" \";\n",
        "      cout<<e<<endl;\n",
        "      e = e+1;\n",
        "  }\n",
        "\n",
        "  cout<<\"-------------------------\"<<endl;\n",
        "  \n",
        "  const char* f = \"pierre\";\n",
        "  for(int i = 0 ; i < 6; ++i){\n",
        "      cout<<(void*)f<<\" \";\n",
        "      cout<<f[0]<<\" \";\n",
        "      cout<<f<<endl;\n",
        "      f = f+1;\n",
        "  }\n",
        "\n",
        "  return 0;\n",
        "}"
      ],
      "execution_count": 5,
      "outputs": [
        {
          "output_type": "stream",
          "text": [
            "Overwriting test.cpp\n"
          ],
          "name": "stdout"
        }
      ]
    },
    {
      "cell_type": "code",
      "metadata": {
        "id": "jwMjjJYJyvfa",
        "colab_type": "code",
        "colab": {
          "base_uri": "https://localhost:8080/",
          "height": 555
        },
        "outputId": "d6527a0f-831c-48ec-9746-befc3dc0494e"
      },
      "source": [
        "%%script bash\n",
        "g++ test.cpp -o test \n",
        "./test"
      ],
      "execution_count": 6,
      "outputs": [
        {
          "output_type": "stream",
          "text": [
            "0x7fffbc528170 ice i\n",
            "0x7fffbc528171 ce c\n",
            "0x7fffbc528172 e e\n",
            "-------------------------\n",
            "0x7fffbc528161 rice r\n",
            "0x7fffbc528162 ice i\n",
            "0x7fffbc528163 ce c\n",
            "0x7fffbc528164 e e\n",
            "-------------------------\n",
            "0x7fffbc528166 nice n\n",
            "0x7fffbc528167 ice i\n",
            "0x7fffbc528168 ce c\n",
            "0x7fffbc528169 e e\n",
            "-------------------------\n",
            "0x7fffbc52816b dice d\n",
            "0x7fffbc52816c ice i\n",
            "0x7fffbc52816d ce c\n",
            "0x7fffbc52816e e e\n",
            "-------------------------\n",
            "0x555e17870008 s spice\n",
            "0x555e17870009 p pice\n",
            "0x555e1787000a i ice\n",
            "0x555e1787000b c ce\n",
            "0x555e1787000c e e\n",
            "-------------------------\n",
            "0x555e15c3b051 p pierre\n",
            "0x555e15c3b052 i ierre\n",
            "0x555e15c3b053 e erre\n",
            "0x555e15c3b054 r rre\n",
            "0x555e15c3b055 r re\n",
            "0x555e15c3b056 e e\n"
          ],
          "name": "stdout"
        }
      ]
    },
    {
      "cell_type": "markdown",
      "metadata": {
        "id": "xXYE4kAk1CJH",
        "colab_type": "text"
      },
      "source": [
        "The code block above shows array of characters represented in couple of different ways. But do they have any inherent differences among them. They do have and that difference is highlighted below."
      ]
    },
    {
      "cell_type": "code",
      "metadata": {
        "id": "1ibrCmu-S-mu",
        "colab_type": "code",
        "colab": {
          "base_uri": "https://localhost:8080/",
          "height": 35
        },
        "outputId": "3c0f5b21-4992-42bc-a0ae-06ce1fba6c41"
      },
      "source": [
        "%%writefile test.cpp\n",
        "#include <iostream>\n",
        "using namespace std;\n",
        "\n",
        "void swapAddress(const char*& a, const char*& b) {\n",
        "   \tconst char* temp = a;\n",
        "   \ta = b;\n",
        "   \tb = temp;\n",
        "}\n",
        "void swapAddressNoConst(char*& a, char*&b){\n",
        "    char* temp = a;\n",
        "    a = b;\n",
        "    b = temp;\n",
        "}\n",
        "void swapAddressArr(char x[], char y[]){\n",
        "    \n",
        "}\n",
        "\n",
        "int main(){\n",
        "  /*There is a portion of memory underneath\n",
        "  the global variable declaration portion which\n",
        "  is known as the \"read only portion\" memory.\n",
        "  Character array pointer of the following\n",
        "  type \"const char *\" is kept here. The reason\n",
        "  for the \"const\" infront of the \"char *\" will\n",
        "  be discussed in more detail in the upcoming\n",
        "  section, but for now just remember that it is\n",
        "  necessary since the character string \"ice\"\n",
        "  is stored in read only portion of memory.\n",
        "  The \"const\" keyword ensures that there is\n",
        "  no change to that character string. \n",
        "  */\n",
        "  cout<<\"Example 1: \"<<endl;\n",
        "  const char* x = \"ice\";\n",
        "  const char* y = \"water\";\n",
        "  cout<<\"Before swapping address of x: \"<< (void*)x <<\" and y: \"<< (void*)y <<endl;\n",
        "  cout<<\"Before swapping value of x is: \"<<x<<\" y is: \"<<y<<endl;\n",
        "  swapAddress(x,y);\n",
        "  cout<<\"After swapping address of x:\"<< (void*)x <<\" and y: \"<< (void*)y <<endl;\n",
        "  cout<<\"After swapping value of x is: \"<< x <<\" y is: \"<<y<<endl;\n",
        "  \n",
        "  /*Doing something like the following is not valid,\n",
        "  as the \"char *\" is of \"const\", and it will therefore\n",
        "  give an error. Uncomment the following line \n",
        "  to see the full effect*/\n",
        "  \n",
        "  //x[0] = 'f'; y[0] = 'a';\n",
        "\n",
        "  /*If the character pointer is initialized\n",
        "  using memory address from the heap, then \n",
        "  it is possible to swap the address.\n",
        "  Also consider this fact, if the addresses\n",
        "  \"a\" and \"b\" were to be to passed to the\n",
        "  function \"swapAddress\", then the \"char *a\"\n",
        "  in line 62 needs to be changed to \"const char*a\",\n",
        "  same goes for \"char *b\" in line 63 . In those\n",
        "  cases it would not be possible to change the \n",
        "  content of the character array \"a\" and \n",
        "  character array \"b\".*/\n",
        "\n",
        "  cout<<\"\\nExample 2:\"<<endl;\n",
        "  char *a = new char[6]{'b','e','a','n','s','\\0'};\n",
        "  char *b = new char[6]{'a','p','p','l','e','\\0'};\n",
        "\n",
        "  cout<<\"Before swapping address of a: \"<< (void*)a <<\" and b: \"<< (void*)b << endl;\n",
        "  cout<<\"Before swapping value of a is: \"<< a <<\" b is: \"<< b <<endl;\n",
        "  swapAddressNoConst(a, b);\n",
        "  cout<<\"After swapping a is: \"<< a <<\" b is: \"<< b <<endl;\n",
        "  cout<<\"After swapping address of a: \"<< (void*)a <<\" and b: \"<< (void*)b << endl;\n",
        "  a[0] = 'y';\n",
        "  b[0] = 'r';\n",
        "  cout<<\"a is: \"<<a<<\"b is: \"<<b<<endl;\n",
        "  \n",
        "\n",
        "  /*In the example below it is simply not possible to \n",
        "  exchange the address of the character arrays \"m\"\n",
        "  and \"n\".The characters are physically there in \n",
        "  the memory and are represented by some electronic\n",
        "  impulse. The same is true for an integer array. \n",
        "  The address of \"k\" and \"p\" cannot be exchanged. \n",
        "  The only thing that can be exchanged, is if there \n",
        "  are variables into which the address values of the\n",
        "  arrays are kept, only the content of those variables\n",
        "  can be exchanged.*/\n",
        "\n",
        "  cout<<\"\\nExample 3:\"<<endl;\n",
        "  char m[4] = \"ice\";\n",
        "  char n[4] = \"the\";\n",
        "  m[0] = 'a'; n[0] = 'p';\n",
        "  cout<<\"m is: \"<<m<<\" n is: \"<<n<<endl;\n",
        "  int k[4] = {1,2,3,4};\n",
        "  int p[4] = {4,5,5,6};\n",
        "  k[0] = 23;\n",
        "  p[0] = 973;\n",
        "  for(int i=0; i<4;++i)cout<<k[i]<<\" \";\n",
        "  cout<<endl;\n",
        "  for(int i=0; i<4;++i)cout<<p[i]<<\" \";\n",
        "  \n",
        "  return 0;\n",
        "}"
      ],
      "execution_count": 7,
      "outputs": [
        {
          "output_type": "stream",
          "text": [
            "Overwriting test.cpp\n"
          ],
          "name": "stdout"
        }
      ]
    },
    {
      "cell_type": "code",
      "metadata": {
        "id": "5I7ogPoTb4YB",
        "colab_type": "code",
        "colab": {
          "base_uri": "https://localhost:8080/",
          "height": 312
        },
        "outputId": "a49cc791-693a-4b46-e80c-8e543a83e97a"
      },
      "source": [
        "%%script bash\n",
        "g++ test.cpp -o test \n",
        "./test"
      ],
      "execution_count": 8,
      "outputs": [
        {
          "output_type": "stream",
          "text": [
            "Example 1: \n",
            "Before swapping address of x: 0x555d91754155 and y: 0x555d91754159\n",
            "Before swapping value of x is: ice y is: water\n",
            "After swapping address of x:0x555d91754159 and y: 0x555d91754155\n",
            "After swapping value of x is: water y is: ice\n",
            "\n",
            "Example 2:\n",
            "Before swapping address of a: 0x555d93312008 and b: 0x555d93312010\n",
            "Before swapping value of a is: beans b is: apple\n",
            "After swapping a is: apple b is: beans\n",
            "After swapping address of a: 0x555d93312010 and b: 0x555d93312008\n",
            "a is: yppleb is: reans\n",
            "\n",
            "Example 3:\n",
            "m is: ace n is: phe\n",
            "23 2 3 4 \n",
            "973 5 5 6 "
          ],
          "name": "stdout"
        }
      ]
    },
    {
      "cell_type": "code",
      "metadata": {
        "id": "k5w1xMfedQbS",
        "colab_type": "code",
        "colab": {}
      },
      "source": [
        ""
      ],
      "execution_count": 8,
      "outputs": []
    },
    {
      "cell_type": "markdown",
      "metadata": {
        "id": "W78nd1U6N0sZ",
        "colab_type": "text"
      },
      "source": [
        "### Going further on `const`"
      ]
    },
    {
      "cell_type": "code",
      "metadata": {
        "id": "bBqqe72kN6Ko",
        "colab_type": "code",
        "colab": {
          "base_uri": "https://localhost:8080/",
          "height": 35
        },
        "outputId": "2c873c61-e1b2-417c-9c19-93f23024f589"
      },
      "source": [
        "%%writefile test.cpp\n",
        "#include <iostream>\n",
        "using namespace std;\n",
        "\n",
        "int main(){\n",
        "    /*One of the reason of using \n",
        "    \"const\" in code is security \n",
        "    reason. Below are given couple of \n",
        "    example to show the reasoning.*/\n",
        "\n",
        "    string str = \"hello\";//Lets say we have the string str \n",
        "    int len = str.length();//The length of the string is len\n",
        "    //Iterating over the string\n",
        "    for(int i = 0; i < len; ++i){\n",
        "        cout<<str[i]<<\" \";\n",
        "    }\n",
        "\n",
        "    /*\n",
        "    Now think about if somehow the length of the\n",
        "    string has been accidentally modified, will it\n",
        "    iterate the same length, no!. It is also true\n",
        "    that if say someone changes value of len to 450,\n",
        "    then the for loop will iterate 450 times.So to \n",
        "    prevent that the following is done.\n",
        "    */\n",
        "    string st = \"hello\";\n",
        "    const int l = st.length();\n",
        "    for(int i=0; i < len; ++i){\n",
        "        cout<<st[i]<<\" \";\n",
        "    }\n",
        "    /*The code above will prevent the value of the\n",
        "    variable \"len\" to remain unchanged, and the \n",
        "    program will show an error if someone tries\n",
        "    to change the value. The are other examples\n",
        "    where such security issues can occur.*/\n",
        "    //Let's say we have the following scenario\n",
        "    int *b = new int[2]{451,3};\n",
        "    int *a = new int[2]{293,2};\n",
        "    //The following two lines are valid lines\n",
        "    a[0] = 234;//It is valid\n",
        "    a = b;//This is also valid\n",
        "    cout<<\"\\n\"<<endl;\n",
        "    //And this results in the following\n",
        "    cout<<a[0]<<endl;\n",
        "    cout<<b[0]<<endl;\n",
        "\n",
        "    /*Here is another situation*/\n",
        "    const char* x = \"hello\";\n",
        "    const char* y = \"jello\";\n",
        "    //x[1]  = 'c'; //Invalid as \"x\" is \"const\" already\n",
        "    x = y;//This is valid as \"x\" and \"y\" are of same type \"const char*\"\n",
        "    x = \"blackbear\";//It is valid, since \"blackbear\" is of type \"const char*\"\n",
        "    \n",
        "    /*Is there a way to prevent the valid codes above,\n",
        "    the next section will highlight, how to mitigate \n",
        "    this issue.*/\n",
        "\n",
        "    return 0;\n",
        "}"
      ],
      "execution_count": 9,
      "outputs": [
        {
          "output_type": "stream",
          "text": [
            "Overwriting test.cpp\n"
          ],
          "name": "stdout"
        }
      ]
    },
    {
      "cell_type": "code",
      "metadata": {
        "id": "V7d-_tPhavk0",
        "colab_type": "code",
        "colab": {
          "base_uri": "https://localhost:8080/",
          "height": 87
        },
        "outputId": "f64f6484-e160-4ddc-b5c0-952c8c442012"
      },
      "source": [
        "%%script bash\n",
        "g++ test.cpp -o test \n",
        "./test"
      ],
      "execution_count": 10,
      "outputs": [
        {
          "output_type": "stream",
          "text": [
            "h e l l o h e l l o \n",
            "\n",
            "451\n",
            "451\n"
          ],
          "name": "stdout"
        }
      ]
    },
    {
      "cell_type": "markdown",
      "metadata": {
        "id": "Z2P503wimoaQ",
        "colab_type": "text"
      },
      "source": [
        "The placement of the keyword `const` and `char` and `*` infront of a variable will determine, how the variable will behave. Some of the example in the code block below will hopefully clear some of the concepts."
      ]
    },
    {
      "cell_type": "code",
      "metadata": {
        "id": "DOOsL4NRngpJ",
        "colab_type": "code",
        "colab": {
          "base_uri": "https://localhost:8080/",
          "height": 35
        },
        "outputId": "7377b402-a756-4633-fa75-a9569084a128"
      },
      "source": [
        "%%writefile test.cpp\n",
        "#include <iostream>\n",
        "using namespace std;\n",
        "\n",
        "/*Note before running this codeblock,\n",
        "uncomment the lines one at a time to \n",
        "see the effect*/\n",
        "\n",
        "int main(){\n",
        "    /*Both of the data type below are the same.*/\n",
        "\n",
        "    //const char* fruit = \"apple\";\n",
        "    //char const* vegetable = \"unripe banana\";\n",
        "\n",
        "    /*As you have seen this previously,\n",
        "    you can not do this :*/\n",
        "    //fruit[0] = 'p';\n",
        "    //vegetable[0] = 'k';\n",
        "    \n",
        "\n",
        "    /*However you can do the following,\n",
        "    it is legitimate, and that is a problem*/\n",
        "    \n",
        "    //fruit = \"brocolli\";\n",
        "    //vegetable = \"mango\";\n",
        "    //cout<<\"Fruit is: \"<<fruit<<\" \"<<\"Vegetable is: \"<<vegetable<<endl;\n",
        "\n",
        "    /*So in order to prevent it, you need to\n",
        "    do the following, add an extra \"const\".\n",
        "    Both of the data types below have the \n",
        "    same effect*/\n",
        "\n",
        "    //const char* const laptop = \"MacBook Pro\";\n",
        "    //char const* const plane = \"boeing 747\";\n",
        "\n",
        "    /*Here, not any one of these are allowed\n",
        "    and that is what we were looking for.\n",
        "    You will get read-only error while trying \n",
        "    to execute the following line of code*/\n",
        "    \n",
        "    //Example 1: \n",
        "    //laptop[0] = 'e';\n",
        "    //laptop = \"iPhone 12\";\n",
        "\n",
        "    //Example 2: \n",
        "    //plane[0] = 'g';\n",
        "    //plane = \"rolls royce phantom\";\n",
        "\n",
        "    /*Finally there is something that needs\n",
        "    some look out. The following notation is\n",
        "    not valid one. So, be careful of that.\n",
        "    It does not works because both of them\n",
        "    are of different types.*/\n",
        "\n",
        "    //char * const bird = \"penguin\";\n",
        "\n",
        "\n",
        "    return 0;\n",
        "}"
      ],
      "execution_count": 11,
      "outputs": [
        {
          "output_type": "stream",
          "text": [
            "Overwriting test.cpp\n"
          ],
          "name": "stdout"
        }
      ]
    },
    {
      "cell_type": "code",
      "metadata": {
        "id": "bONieJLmni-0",
        "colab_type": "code",
        "colab": {}
      },
      "source": [
        "%%script bash\n",
        "g++ test.cpp -o test \n",
        "./test"
      ],
      "execution_count": 12,
      "outputs": []
    },
    {
      "cell_type": "markdown",
      "metadata": {
        "id": "QNULl0Ci8dHu",
        "colab_type": "text"
      },
      "source": [
        "Just to be really , really pedantic the code block above can be replicated using integet array, here is how."
      ]
    },
    {
      "cell_type": "code",
      "metadata": {
        "id": "F8aCAVPH_Ki8",
        "colab_type": "code",
        "colab": {
          "base_uri": "https://localhost:8080/",
          "height": 35
        },
        "outputId": "54118b20-5afb-4a5b-ea1b-4432b0e4eff5"
      },
      "source": [
        "%%writefile test.cpp\n",
        "#include <iostream>\n",
        "using namespace std;\n",
        "\n",
        "/*Note before running this codeblock,\n",
        "uncomment the lines one at a time to \n",
        "see the effect*/\n",
        "\n",
        "int main(){\n",
        "    /*Both of the data type means the same*/ \n",
        "    //const int* odd = new int[2]{1,3};\n",
        "    //int const* even = new int[2]{2,4};\n",
        "\n",
        "    //The following will not work:\n",
        "    //odd[0] = 666;\n",
        "    //even[0] = 111;\n",
        "\n",
        "    /*The following will work , which is \n",
        "    why it is a security risk*/\n",
        "    \n",
        "    //odd = new int[4]{2,3,5,7};\n",
        "    //even = new int[3]{1,2,3};\n",
        "    //cout<<\"\\n Odd Numbers: \";\n",
        "    //for(int i=0; i<4; ++i){cout<<odd[i]<<\" \";}cout<<endl;\n",
        "    //cout<<\"Even numbers: \";\n",
        "    //for(int i=0; i<4; ++i){cout<<even[i]<<\" \";}cout<<endl;\n",
        "    \n",
        "\n",
        "    /*To prevent it from happeing,let us\n",
        "    do the following.*/\n",
        "    \n",
        "    //const int* const a = new int[3]{1,2,3};\n",
        "    //int const* const b = new int[2]{2,4};\n",
        "\n",
        "    /*The following is not allowed, and it \n",
        "    is a very good news. This is what we \n",
        "    were looking for from the beginning*/\n",
        "\n",
        "    //a[0] = 9000;\n",
        "    //a = new int[4]{4,5,6,7};\n",
        "\n",
        "    //b[0] = 8000;\n",
        "    //b = new int[4]{100,200,300,400};\n",
        "\n",
        "    /*Just like before though the following\n",
        "    is a syntax error, due to type mismatch*/\n",
        "    \n",
        "    int * const z = new int[3]{111,222,333};\n",
        "    //z = new int[4]{1,2,3,4};\n",
        "\n",
        "    return 0;\n",
        "}"
      ],
      "execution_count": 13,
      "outputs": [
        {
          "output_type": "stream",
          "text": [
            "Overwriting test.cpp\n"
          ],
          "name": "stdout"
        }
      ]
    },
    {
      "cell_type": "code",
      "metadata": {
        "id": "8m9u6P-__Z6m",
        "colab_type": "code",
        "colab": {}
      },
      "source": [
        "%%script bash\n",
        "g++ test.cpp -o test \n",
        "./test"
      ],
      "execution_count": 14,
      "outputs": []
    },
    {
      "cell_type": "code",
      "metadata": {
        "id": "5AMo0C58C3u3",
        "colab_type": "code",
        "colab": {}
      },
      "source": [
        ""
      ],
      "execution_count": 14,
      "outputs": []
    }
  ]
}