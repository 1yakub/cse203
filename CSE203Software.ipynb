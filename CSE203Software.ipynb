{
  "nbformat": 4,
  "nbformat_minor": 0,
  "metadata": {
    "colab": {
      "name": "CSE203Software.ipynb",
      "provenance": [],
      "authorship_tag": "ABX9TyPOAV4bsYinJJ952k1cUcte",
      "include_colab_link": true
    },
    "kernelspec": {
      "name": "python3",
      "display_name": "Python 3"
    }
  },
  "cells": [
    {
      "cell_type": "markdown",
      "metadata": {
        "id": "view-in-github",
        "colab_type": "text"
      },
      "source": [
        "<a href=\"https://colab.research.google.com/github/mohammadmotiurrahman/cse203/blob/master/CSE203Software.ipynb\" target=\"_parent\"><img src=\"https://colab.research.google.com/assets/colab-badge.svg\" alt=\"Open In Colab\"/></a>"
      ]
    },
    {
      "cell_type": "code",
      "metadata": {
        "id": "pmm2dcNK1AIi",
        "colab_type": "code",
        "colab": {}
      },
      "source": [
        "Microsoft Visual Studio 2019 is strongly preferred for this course.\n",
        "This detailed note shows how to install and use it in your PC.\n",
        "https://docs.google.com/document/d/1S5Nc0v4qk72sMvKO03WrSVhvJLR3XP7DYnbxkjkleNI/edit?usp=sharing"
      ],
      "execution_count": null,
      "outputs": []
    }
  ]
}