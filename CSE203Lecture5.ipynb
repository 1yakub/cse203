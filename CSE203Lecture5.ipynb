{
  "nbformat": 4,
  "nbformat_minor": 0,
  "metadata": {
    "colab": {
      "name": "CSE203Lecture5.ipynb",
      "provenance": [],
      "collapsed_sections": [],
      "authorship_tag": "ABX9TyMTviqvEGx+TvB5driwMIi4",
      "include_colab_link": true
    },
    "kernelspec": {
      "name": "python3",
      "display_name": "Python 3"
    }
  },
  "cells": [
    {
      "cell_type": "markdown",
      "metadata": {
        "id": "view-in-github",
        "colab_type": "text"
      },
      "source": [
        "<a href=\"https://colab.research.google.com/github/mohammadmotiurrahman/cse203/blob/master/CSE203Lecture5.ipynb\" target=\"_parent\"><img src=\"https://colab.research.google.com/assets/colab-badge.svg\" alt=\"Open In Colab\"/></a>"
      ]
    },
    {
      "cell_type": "markdown",
      "metadata": {
        "id": "CcOeNP6Dyhe1",
        "colab_type": "text"
      },
      "source": [
        "## Linked List\n",
        "So linked list is a data structure which is designed to alleviate one of the weakest point of array data structure, it is inability to insert/remove an element without copying the orginal array again.It leads to wastage of space. So, computer scientist have designed linked list to cause minimal space wastage, even then there is considerable amount of code complexity as well as time complexity involved. Anyhow in the code blocks below, there is a step by step process in which linked list are developed. Hopefully, you will find it useful.\n",
        "\n",
        "So, in linked list is a list of numbers which are connected by means of links or in this case pointers. Theses pointers contains adddresses of the next number in the link. Formally, a linked list is a list of nodes, and each node contain the address of the next node in the list. If any number is required to be removed from the list, a node containing the number is removed from the list. There is no necessity of adding extra space for this removal. On the comtrary if a number is required to be added to a particular place in the list, no extra space is required for that either. A for loop or while loop is used to find the relevant place for that node containing that number.\n"
      ]
    },
    {
      "cell_type": "code",
      "metadata": {
        "id": "3BsPD8JQyKPu",
        "colab_type": "code",
        "colab": {
          "base_uri": "https://localhost:8080/",
          "height": 35
        },
        "outputId": "655e4715-97ec-4e54-e9b8-789db5eaab12"
      },
      "source": [
        "%%writefile test.cpp\n",
        "#include <iostream>\n",
        "using namespace std;\n",
        "/*So a node in linked list is\n",
        "defined in the following way*/\n",
        "\n",
        "struct node{\n",
        "    int data;\n",
        "    node *next;\n",
        "};\n",
        "\n",
        "/*Here the variable \"next\" is of \n",
        "type \"node*\" and it contains the \n",
        "address of the next node*. It does\n",
        "not contain the address of the node it \n",
        "is contained in.*/\n",
        "\n",
        "int main(){\n",
        "  /*Let us intialize a node \"n\" first like \n",
        "  so, this is similar to declaring \n",
        "  \"int *x = new int\" using dynamic memory.*/\n",
        "  node * n = new node;\n",
        "\n",
        "  //What can we do with \"n\", we can do the following\n",
        "  n->data = 67;\n",
        "  n->next = NULL;\n",
        "  /*Why is \"n->next = NULL\", you might ask. It is \n",
        "  because, we still do not know who is going to \n",
        "  sit beside \"n\". So, let us put someone out there.*/\n",
        "\n",
        "  node *m = new node;\n",
        "  m->data = 98;\n",
        "  m->next = NULL;\n",
        "\n",
        "  //So, if we just do the following ...\n",
        "  \n",
        "  n->next = m;\n",
        "\n",
        "  /*... it will give us our first proper ,\n",
        "  linked list, where one node is linked \n",
        "  with the other one. A linked list can \n",
        "  also be formed using just one node.*/\n",
        "\n",
        "  /*So, the next step is how do we iterate \n",
        "  it,we can iterate it like the following*/\n",
        "\n",
        "  node *temporary = n;\n",
        "  cout<<\"1st node value: \";\n",
        "  cout<<temporary->data<<endl;\n",
        "\n",
        "  /*And after that we move temporary to \n",
        "  the next node, like the following.*/\n",
        "  temporary = temporary->next;\n",
        "  \n",
        "  /*Since temporary = n, and the node next\n",
        "  to n is m, so doing temporary = temporary->next\n",
        "  would allow temporary to move to point to \n",
        "  the next node.*/\n",
        "  cout<<\"2nd node value: \";\n",
        "  cout<<temporary->data<<endl;\n",
        "\n",
        "\n",
        "  return 0;\n",
        "}"
      ],
      "execution_count": 1,
      "outputs": [
        {
          "output_type": "stream",
          "text": [
            "Overwriting test.cpp\n"
          ],
          "name": "stdout"
        }
      ]
    },
    {
      "cell_type": "code",
      "metadata": {
        "id": "uUITKQNRyawA",
        "colab_type": "code",
        "colab": {
          "base_uri": "https://localhost:8080/",
          "height": 52
        },
        "outputId": "1a86391a-09f6-448d-f4d7-aedf62e076c0"
      },
      "source": [
        "%%script bash\n",
        "g++ test.cpp -o test \n",
        "./test"
      ],
      "execution_count": 2,
      "outputs": [
        {
          "output_type": "stream",
          "text": [
            "1st node value: 67\n",
            "2nd node value: 98\n"
          ],
          "name": "stdout"
        }
      ]
    },
    {
      "cell_type": "markdown",
      "metadata": {
        "id": "57j-grf0T15g",
        "colab_type": "text"
      },
      "source": [
        "So that is about that about an introduction to linked list, the rest of the notebook, infact the rest of this course will be build upon the ideas shown in the code block above.\n",
        "\n",
        "Now let us formalize linked list construction a little bit, since we already had an introduction about it."
      ]
    },
    {
      "cell_type": "code",
      "metadata": {
        "id": "fodITCYR0omc",
        "colab_type": "code",
        "colab": {
          "base_uri": "https://localhost:8080/",
          "height": 35
        },
        "outputId": "d5ee1d5a-7af0-4e7c-e9ab-ac1275080e90"
      },
      "source": [
        "%%writefile test.cpp\n",
        "#include <iostream>\n",
        "using namespace std;\n",
        "struct node{\n",
        "    int data;\n",
        "    node *next;\n",
        "};\n",
        "\n",
        "int main(){\n",
        "    /*So, lets say there are 3 nodes, \n",
        "    \"a\", \"b\" and \"c\" */\n",
        "    node* a = new node;\n",
        "    node* b = new node;\n",
        "    node* c = new node;\n",
        "\n",
        "    /*Let us fill the nodes' data field  with data*/\n",
        "    a->data = 11;\n",
        "    b->data = 22;\n",
        "    c->data = 33;\n",
        "\n",
        "    /*Let us also fill the nodes' next pointer will address.\n",
        "    Initially all of the next pointers will be NULL,since\n",
        "    nobody knows who their neighbour is going to be*/\n",
        "    a->next = NULL;\n",
        "    b->next = NULL;\n",
        "    c->next = NULL;\n",
        "\n",
        "    /*Now, let us fix the neighbour's of these nodes*/\n",
        "    a->next = b;\n",
        "    b->next = c;\n",
        "    c->next = NULL;//since there is no next door neighbour of node c\n",
        "\n",
        "    /*Now let us iterate. Iteration is the process of\n",
        "    going to every node, until \"null\" is reached.\n",
        "    In order to show that we actually reached a node,\n",
        "    we usually print the value field of the node*/\n",
        "\n",
        "    //So let us print the value field of the 1st node\n",
        "    cout<<\"Node a value : \";\n",
        "    cout<<a->data<<endl;\n",
        "\n",
        "    /*What about the next node, well you can reach \n",
        "    the next node data field like this*/\n",
        "    cout<<\"Node b value : \";  \n",
        "    cout<<a->next->data<<endl;//This is the data field of the node b\n",
        "\n",
        "    /*How about the next one*/\n",
        "    cout<<\"Node c value : \";\n",
        "    cout<<a->next->next->data<<endl;//This is the data field of the node c\n",
        "\n",
        "    /*Now the question is if there are thousands of \n",
        "    nodes in a linked list , is printing like the above is feasible?*/\n",
        "\n",
        "}"
      ],
      "execution_count": 3,
      "outputs": [
        {
          "output_type": "stream",
          "text": [
            "Overwriting test.cpp\n"
          ],
          "name": "stdout"
        }
      ]
    },
    {
      "cell_type": "code",
      "metadata": {
        "id": "zeyey0MMdt1t",
        "colab_type": "code",
        "colab": {
          "base_uri": "https://localhost:8080/",
          "height": 69
        },
        "outputId": "c87f61e6-1b70-453d-e8c7-ecd10a9e18ad"
      },
      "source": [
        "%%script bash\n",
        "g++ test.cpp -o test \n",
        "./test"
      ],
      "execution_count": 4,
      "outputs": [
        {
          "output_type": "stream",
          "text": [
            "Node a value : 11\n",
            "Node b value : 22\n",
            "Node c value : 33\n"
          ],
          "name": "stdout"
        }
      ]
    },
    {
      "cell_type": "markdown",
      "metadata": {
        "id": "bQVRYJGWjPLO",
        "colab_type": "text"
      },
      "source": [
        "Let us generalize some of the concepts shown above. Let us try to generalize printing the nodes."
      ]
    },
    {
      "cell_type": "code",
      "metadata": {
        "id": "x2yvxgxnd1VM",
        "colab_type": "code",
        "colab": {
          "base_uri": "https://localhost:8080/",
          "height": 35
        },
        "outputId": "42eecefd-8db3-4de5-ba8a-01172855c66f"
      },
      "source": [
        "%%writefile test.cpp\n",
        "#include <iostream>\n",
        "using namespace std;\n",
        "struct node{\n",
        "    int data;\n",
        "    node *next;\n",
        "};\n",
        "\n",
        "void printLinkedList(node *p){\n",
        "    /*Observe that the variable p works\n",
        "    like a temporary node like that a couple \n",
        "    of examples back . It helps to scan the linked list*/\n",
        "    \n",
        "    cout<<\"The linked list is : \";\n",
        "    \n",
        "    /*Until node p reaches the end of the\n",
        "    list, it updates it neighbors address*/ \n",
        "    \n",
        "    while(p!= NULL){\n",
        "        cout<<p->data<<\" \";\n",
        "        p = p->next;\n",
        "    }\n",
        "}\n",
        "\n",
        "int main(){\n",
        "    /*So, lets say there are 3 nodes, \"a\", \"b\" \n",
        "    and \"c\" like the previous code blocks */\n",
        "    node* a = new node;\n",
        "    node* b = new node;\n",
        "    node* c = new node;\n",
        "\n",
        "    /*Let us also fill the nodes' data field  with data*/\n",
        "    a->data = 11;\n",
        "    b->data = 22;\n",
        "    c->data = 33;\n",
        "\n",
        "    /*Let us also fill the nodes' next pointer will address.*/\n",
        "    a->next = NULL;\n",
        "    b->next = NULL;\n",
        "    c->next = NULL;\n",
        "\n",
        "    /*Now, let us fix the neighbour's of these nodes*/\n",
        "    a->next = b;\n",
        "    b->next = c;\n",
        "    c->next = NULL;//since there is no next door neighbour of node c\n",
        "\n",
        "    /*Let us make a function which is useful in \n",
        "    printing the linked list*/\n",
        "    printLinkedList(a);\n",
        "\n",
        "    return 0;\n",
        "    \n",
        "}"
      ],
      "execution_count": 5,
      "outputs": [
        {
          "output_type": "stream",
          "text": [
            "Overwriting test.cpp\n"
          ],
          "name": "stdout"
        }
      ]
    },
    {
      "cell_type": "code",
      "metadata": {
        "id": "Z9IshNkYjNvX",
        "colab_type": "code",
        "colab": {
          "base_uri": "https://localhost:8080/",
          "height": 35
        },
        "outputId": "fbf96539-61d3-438b-da72-307fdc99e5a1"
      },
      "source": [
        "%%script bash\n",
        "g++ test.cpp -o test \n",
        "./test"
      ],
      "execution_count": 6,
      "outputs": [
        {
          "output_type": "stream",
          "text": [
            "The linked list is : 11 22 33 "
          ],
          "name": "stdout"
        }
      ]
    },
    {
      "cell_type": "markdown",
      "metadata": {
        "id": "C9M_nQCPoyKo",
        "colab_type": "text"
      },
      "source": [
        "The above code is still messy , we need to do something about adding of node into the linked list. We need to modularize the system of adding a node to a linked list. Let's do that."
      ]
    },
    {
      "cell_type": "code",
      "metadata": {
        "id": "BvhMq0n7mhgq",
        "colab_type": "code",
        "colab": {
          "base_uri": "https://localhost:8080/",
          "height": 35
        },
        "outputId": "523183ce-456d-4e92-c465-8306479f3368"
      },
      "source": [
        "%%writefile test.cpp\n",
        "#include <iostream>\n",
        "using namespace std;\n",
        "struct node{\n",
        "    int data;\n",
        "    node *next;\n",
        "};\n",
        "\n",
        "void printLinkedList(node *p){\n",
        "    cout<<\"The linked list is : \"; \n",
        "    while(p!= NULL){\n",
        "        cout<<p->data<<\" \";\n",
        "        p = p->next;\n",
        "    }\n",
        "}\n",
        "\n",
        "void addNode(node *&n, int val){\n",
        " cout<<\"You have passed the value: \"<<val<<endl;\n",
        " cout<<\"Look into the next code block for more\"<<endl;   \n",
        "}\n",
        "\n",
        "int main(){\n",
        "\n",
        "  /*So, let us begin with the fact that \n",
        "   we can have two states for the linked\n",
        "   list. \n",
        "   1. Either the linked is empty.\n",
        "   2.The linked list is not empty, and it\n",
        "   has nodes in it already.All we have to \n",
        "   do is attach nodes to the end of the \n",
        "   linked list.\n",
        "   Also since we have to do this routine\n",
        "   each time a new node is added to the\n",
        "   linked list, it is better to have \n",
        "   a function which does this for us.\n",
        "   */ \n",
        "  /*So, let us have a node * which is null,\n",
        "  we have to start from somewhere*/\n",
        "  node* n = NULL;\n",
        "  /*After that add nodes to the initial node.\n",
        "  We will be doing it by adding the value of \n",
        "  the node, something like the following.*/\n",
        "\n",
        "  addNode(n,2);\n",
        "  addNode(n,4);\n",
        "  addNode(n,6);\n",
        "  addNode(n,8);\n",
        "\n",
        "  /*This will allow to have a linked list\n",
        "  like the following: \"2->4->6->8->null\".\n",
        "  After that there will be printing of\n",
        "  the linked list. So, let us implement\n",
        "  the function \"addNode(n,2)\". But while\n",
        "  doing that let us see what is happening\n",
        "  in the function \"addNode(n,2)\" in the \n",
        "  next code block*/ \n",
        "\n",
        "  printLinkedList(n);\n",
        "\n",
        "  return 0;\n",
        "    \n",
        "}"
      ],
      "execution_count": 7,
      "outputs": [
        {
          "output_type": "stream",
          "text": [
            "Overwriting test.cpp\n"
          ],
          "name": "stdout"
        }
      ]
    },
    {
      "cell_type": "code",
      "metadata": {
        "id": "0LvAHMNBCI2H",
        "colab_type": "code",
        "colab": {
          "base_uri": "https://localhost:8080/",
          "height": 173
        },
        "outputId": "5f4470d0-bba9-4bcf-cc43-a1ca9db4b7a2"
      },
      "source": [
        "%%script bash\n",
        "g++ test.cpp -o test \n",
        "./test"
      ],
      "execution_count": 8,
      "outputs": [
        {
          "output_type": "stream",
          "text": [
            "You have passed the value: 2\n",
            "Look into the next code block for more\n",
            "You have passed the value: 4\n",
            "Look into the next code block for more\n",
            "You have passed the value: 6\n",
            "Look into the next code block for more\n",
            "You have passed the value: 8\n",
            "Look into the next code block for more\n",
            "The linked list is : "
          ],
          "name": "stdout"
        }
      ]
    },
    {
      "cell_type": "code",
      "metadata": {
        "id": "GH6vOk1sI1-Z",
        "colab_type": "code",
        "colab": {
          "base_uri": "https://localhost:8080/",
          "height": 35
        },
        "outputId": "5ac0f18e-a9bd-4c80-8350-c8db0ff6c632"
      },
      "source": [
        "%%writefile test.cpp\n",
        "#include <iostream>\n",
        "using namespace std;\n",
        "\n",
        "\n",
        "struct node{\n",
        "    int data;\n",
        "    node *next;\n",
        "};\n",
        "\n",
        "void printLinkedList(node *p){\n",
        "    cout<<\"The linked list is : \"; \n",
        "    while(p!= NULL){\n",
        "        cout<<p->data<<\" \";\n",
        "        p = p->next;\n",
        "    }\n",
        "    cout<<endl;\n",
        "}\n",
        "/*So, in this function let us see\n",
        "in detail , how things are passed \n",
        "from the main function to here, \n",
        "and also explore couple of other\n",
        "variations.*/\n",
        "\n",
        "void addNode(node *&a, int val){\n",
        " \n",
        " //node a is null initially\n",
        " if(a == NULL){\n",
        "     /*Since a is NULL, allocate memory\n",
        "    from the heap for a new node. Put the\n",
        "    desired value into the node. It is our\n",
        "    linked list, and now print the list\n",
        "    from the main function.*/\n",
        "  \n",
        "     a = new node;\n",
        "     a->data = val;\n",
        "     a->next = NULL;\n",
        "  }\n",
        "\n",
        "}\n",
        "\n",
        "/*Look at the parameters \"node* a\" instead\n",
        "of \"node *&a\", and remember this code block\n",
        "from the days of CSC 101:\n",
        "  void squareA(int &x){x = x*x;}\n",
        "  void squareB(int x){x = x*x;}\n",
        "  int main(){\n",
        "    int x = 3; int y = 3;\n",
        "    squareA(x);squareB(y);\n",
        "    cout<<\"x \"<<x<<\"y \"<<y<<endl;\n",
        "    //x is 9 while y stays at 3\n",
        "  }\n",
        "The same concept is used for adding nodes to\n",
        "a linked list, if the functions do not have\n",
        "parameters that is accepted by pass by reference,\n",
        "then the change does not happen permanaently.\n",
        "So, the change of address of the nodes does not\n",
        "happen, even though it seems so.*/\n",
        "void addNodeDifferently(node *a, int val){\n",
        " \n",
        " //node a is null initially\n",
        " if(a == NULL){\n",
        "    a = new node;\n",
        "    a->data = val;\n",
        "    a->next = NULL;\n",
        "  }\n",
        "}\n",
        "\n",
        "int main(){\n",
        "\n",
        "  node* n = NULL;\n",
        "  addNode(n,2);\n",
        "  printLinkedList(n);\n",
        "\n",
        "  /*After calling the above function\n",
        "  the list will print 2. Now for a\n",
        "  second let us make a linked list in\n",
        "  a slightly different way.*/\n",
        "\n",
        "  node* m = NULL;\n",
        "  addNodeDifferently(m,20);\n",
        "  printLinkedList(m);\n",
        "  /*The is noting printed in the screen\n",
        "  for this linked list*/\n",
        "\n",
        "  return 0;\n",
        "    \n",
        "}"
      ],
      "execution_count": 9,
      "outputs": [
        {
          "output_type": "stream",
          "text": [
            "Overwriting test.cpp\n"
          ],
          "name": "stdout"
        }
      ]
    },
    {
      "cell_type": "code",
      "metadata": {
        "id": "6HfT3VgVMqYT",
        "colab_type": "code",
        "colab": {
          "base_uri": "https://localhost:8080/",
          "height": 52
        },
        "outputId": "7dae66c3-a4b0-48aa-81c2-674472915c0f"
      },
      "source": [
        "%%script bash\n",
        "g++ test.cpp -o test \n",
        "./test"
      ],
      "execution_count": 10,
      "outputs": [
        {
          "output_type": "stream",
          "text": [
            "The linked list is : 2 \n",
            "The linked list is : \n"
          ],
          "name": "stdout"
        }
      ]
    },
    {
      "cell_type": "markdown",
      "metadata": {
        "id": "nSXcX1hgVbmt",
        "colab_type": "text"
      },
      "source": [
        "Let us continue to add additional values to the linked list. For now, we will just add the value at the end of the list. The way we will find the end of the list , is by looking for a `null` pointer. Since a linked list has to end sometime, the `null` pointer at the end designates the end of the list."
      ]
    },
    {
      "cell_type": "code",
      "metadata": {
        "id": "j98oR-s0Pnim",
        "colab_type": "code",
        "colab": {
          "base_uri": "https://localhost:8080/",
          "height": 35
        },
        "outputId": "aee7ddba-98ff-4565-a75f-07d4472a5ba6"
      },
      "source": [
        "%%writefile test.cpp\n",
        "#include <iostream>\n",
        "using namespace std;\n",
        "\n",
        "struct node{\n",
        "    int data;\n",
        "    node *next;\n",
        "};\n",
        "\n",
        "void printLinkedList(node *p){\n",
        "    cout<<\"The linked list is : \"; \n",
        "    while(p!= NULL){\n",
        "        cout<<p->data<<\" \";\n",
        "        p = p->next;\n",
        "    }\n",
        "    cout<<endl;\n",
        "}\n",
        "\n",
        "void addNode(node *&a, int val){ \n",
        " if(a == NULL){\n",
        "     a = new node;\n",
        "     a->data = val;\n",
        "     a->next = NULL;\n",
        "  }\n",
        "//Or a is not null , a can be a node\n",
        "else{\n",
        "    /*Take a temporary node pointer\n",
        "     and run it till the end of the \n",
        "     list to check for null*/\n",
        "     node *current = a;\n",
        "     while(current->next!=NULL){\n",
        "        current = current->next;\n",
        "    }\n",
        "\n",
        "    /*If the end is reached, then \n",
        "     it means the node next to \n",
        "     current is NULL. At that moment\n",
        "     initialize a new node, and make\n",
        "     that current node's next element\n",
        "     to be the new node*/\n",
        "\n",
        "    /*New node created , the value is \n",
        "     inserted into the new node*/\n",
        "\n",
        "    node* h = new node; \n",
        "    h->data = val;\n",
        "    h->next = NULL;\n",
        "     \n",
        "    /*Now make current node's next value\n",
        "     to be h, instead of NULL.*/\n",
        "    \n",
        "     current->next = h; \n",
        "  }\n",
        "}\n",
        "\n",
        "int main(){\n",
        "\n",
        "  node* n = NULL;\n",
        "  addNode(n,2);\n",
        "  addNode(n,4);\n",
        "  addNode(n,6);\n",
        "  addNode(n,8);\n",
        "  addNode(n,10);\n",
        "  printLinkedList(n);\n",
        "\n",
        "  return 0;\n",
        "\n",
        "}"
      ],
      "execution_count": 11,
      "outputs": [
        {
          "output_type": "stream",
          "text": [
            "Overwriting test.cpp\n"
          ],
          "name": "stdout"
        }
      ]
    },
    {
      "cell_type": "code",
      "metadata": {
        "id": "POyvnHOyibng",
        "colab_type": "code",
        "colab": {
          "base_uri": "https://localhost:8080/",
          "height": 35
        },
        "outputId": "0172d796-7b75-4820-c235-13f38b563ac6"
      },
      "source": [
        "%%script bash\n",
        "g++ test.cpp -o test \n",
        "./test"
      ],
      "execution_count": 12,
      "outputs": [
        {
          "output_type": "stream",
          "text": [
            "The linked list is : 2 4 6 8 10 \n"
          ],
          "name": "stdout"
        }
      ]
    },
    {
      "cell_type": "markdown",
      "metadata": {
        "id": "oZ6kdYB1i1e_",
        "colab_type": "text"
      },
      "source": [
        "Success, the first linked list has been created! Now let us try to remove some elements from the list. While removing an element from a list one has to remember that it is necessary to reclaim space of nodes which were removed."
      ]
    },
    {
      "cell_type": "code",
      "metadata": {
        "id": "7TTS66lkidkH",
        "colab_type": "code",
        "colab": {
          "base_uri": "https://localhost:8080/",
          "height": 35
        },
        "outputId": "29d6c165-d385-4413-8404-ac4214e70f0d"
      },
      "source": [
        "%%writefile test.cpp\n",
        "#include <iostream>\n",
        "using namespace std;\n",
        "\n",
        "struct node{\n",
        "    int data;\n",
        "    node *next;\n",
        "};\n",
        "\n",
        "void printLinkedList(node *p){\n",
        "    cout<<\"The linked list is : \"; \n",
        "    while(p!= NULL){\n",
        "        cout<<p->data<<\" \";\n",
        "        p = p->next;\n",
        "    }\n",
        "    cout<<endl;\n",
        "}\n",
        "\n",
        "void addNode(node *&a, int val){ \n",
        " if(a == NULL){\n",
        "     a = new node;\n",
        "     a->data = val;\n",
        "     a->next = NULL;\n",
        "  }\n",
        "else{\n",
        "   \n",
        "     node *current = a;\n",
        "     while(current->next!=NULL){\n",
        "        current = current->next;\n",
        "    }\n",
        "\n",
        "    node* h = new node; \n",
        "    h->data = val;\n",
        "    h->next = NULL;\n",
        "     \n",
        "    current->next = h; \n",
        "  }\n",
        "}\n",
        "\n",
        "void removeElement(node *&a, int val){\n",
        " \n",
        "  /*So if the element \"val\" that we are\n",
        "  interested to remove , is the first \n",
        "  element of a the list a, we need to \n",
        "  do the following, we just need to shift\n",
        "  the list one element. We are not quite\n",
        "  concerned about the rest of the list,\n",
        "  we are only focused on the first element\n",
        "  of the list. So, if the list is something\n",
        "  like the following: 2->4->6->8->null, \n",
        "  after removing \"2\" from the list, it would\n",
        "  look like this: 4->6->8->null.\n",
        "  However, lets first check whether the \n",
        "  node a is null, if it is null, terminate\n",
        "  from the function*/\n",
        "\n",
        "  if(a == NULL)return;\n",
        "  if(a->data == val){\n",
        "      node *d = a;\n",
        "      a = a->next;\n",
        "      delete d;\n",
        "  }\n",
        "  \n",
        "  /*If the element that we are looking to \n",
        "  delete is not the first element, then we have\n",
        "  to look for the element , until we reach the end\n",
        "  of the list. However, it is convenient to have\n",
        "  a temporary node, which allow us to iterate \n",
        "  through the list. We name this temporary node,\n",
        "  the current node.*/\n",
        "  else { \n",
        "    \n",
        "    node* current = a;\n",
        "    while(current->next!=NULL){\n",
        "       \n",
        "        /*Check if the next value to the current \n",
        "        equals the value you are looking for,\n",
        "        something like this 4->6->8->10.\n",
        "        The current pointer is at 6, \n",
        "        and you are checking whether 8 is the\n",
        "        value that you are looking for. \n",
        "        If it is the value you are looking\n",
        "        for, then do the following: */\n",
        "\n",
        "        if(current->next->data == val){\n",
        "          //Store current->next which has the value 8 into d\n",
        "          node *d = current->next;\n",
        "\n",
        "          /*Update the neighbour of 6 from 8 to 10,\n",
        "          so it looks like this, 4->6->10;*/\n",
        "          current->next = current->next->next;\n",
        "\n",
        "          //Reclaim the memory of d\n",
        "          delete d;  \n",
        "\n",
        "        }\n",
        "        //If you do not find the value, move along\n",
        "        else{\n",
        "            current = current->next;\n",
        "        }\n",
        "    }\n",
        "  } \n",
        "}\n",
        "\n",
        "\n",
        "int main(){\n",
        "\n",
        "  node* n = NULL;\n",
        "  addNode(n,2);\n",
        "  addNode(n,2);\n",
        "  addNode(n,8);\n",
        "  addNode(n,2);\n",
        "\n",
        "  addNode(n,4);\n",
        "  addNode(n,8);\n",
        "  addNode(n,6);\n",
        "  addNode(n,8);\n",
        "  \n",
        "  addNode(n,10);\n",
        "  printLinkedList(n);\n",
        "\n",
        "  /*So in order to remove an element\n",
        "  from a list, there are two cases\n",
        "  that we are going to consider .\n",
        "  a.Remove an element that is the \n",
        "  first element of a list.\n",
        "  b.Remove an element which is not \n",
        "  the first element of a list.\n",
        "  Note that the two elements\n",
        "  that we are going to remove,one\n",
        "  is 2 which is the first element of \n",
        "  the list and 8 , which is just any \n",
        "  other generic element in the list*/\n",
        "\n",
        "  removeElement(n,2);\n",
        "  removeElement(n,8);\n",
        "  printLinkedList(n);\n",
        "  /*Look into the second output , it reads\n",
        "  4 6 10, which means node contaning the\n",
        "  values 2 and 8 are removed from the list*/\n",
        "\n",
        "  return 0;\n",
        "\n",
        "}"
      ],
      "execution_count": 13,
      "outputs": [
        {
          "output_type": "stream",
          "text": [
            "Overwriting test.cpp\n"
          ],
          "name": "stdout"
        }
      ]
    },
    {
      "cell_type": "code",
      "metadata": {
        "id": "gyMyoqeJkx_C",
        "colab_type": "code",
        "colab": {
          "base_uri": "https://localhost:8080/",
          "height": 52
        },
        "outputId": "6c44e5ba-cd15-4dcd-ee14-27a8e82f1f6c"
      },
      "source": [
        "%%script bash\n",
        "g++ test.cpp -o test \n",
        "./test"
      ],
      "execution_count": 14,
      "outputs": [
        {
          "output_type": "stream",
          "text": [
            "The linked list is : 2 2 8 2 4 8 6 8 10 \n",
            "The linked list is : 2 2 4 6 10 \n"
          ],
          "name": "stdout"
        }
      ]
    },
    {
      "cell_type": "markdown",
      "metadata": {
        "id": "wi-T3K_hxP2Q",
        "colab_type": "text"
      },
      "source": [
        "Removing an element and inserting an element into a list are the two most basic operations in a linked list. In the following sections we will try to make modifications of those functions to take care of different corner cases.\n",
        "\n",
        "The first one is removing duplicate elements in a linked list. In the above example when we removed elements we removed one single element from a list, it fails to remove duplicate elements from a list if there is a duplicate number of times in the list. Try adding multiple number of '2's infront of the list and then delete them. Only one '2' will be removed, but try adding any other elements mulitple time e.g '8', all instances of that element will be removed, if that said element is decided for removal. So we have to only fix the issue of removing multiple instances of the same element from the beginning of the list."
      ]
    },
    {
      "cell_type": "code",
      "metadata": {
        "id": "0l_ooEmMwpJW",
        "colab_type": "code",
        "colab": {
          "base_uri": "https://localhost:8080/",
          "height": 35
        },
        "outputId": "bffacf29-02d3-4e7d-cc33-963e689646eb"
      },
      "source": [
        "%%writefile test.cpp\n",
        "#include <iostream>\n",
        "using namespace std;\n",
        "\n",
        "struct node{\n",
        "    int data;\n",
        "    node *next;\n",
        "};\n",
        "\n",
        "void printLinkedList(node *p){\n",
        "    cout<<\"The linked list is : \"; \n",
        "    while(p!= NULL){\n",
        "        cout<<p->data<<\" \";\n",
        "        p = p->next;\n",
        "    }\n",
        "    cout<<endl;\n",
        "}\n",
        "\n",
        "void addNode(node *&a, int val){ \n",
        " if(a == NULL){\n",
        "     a = new node;\n",
        "     a->data = val;\n",
        "     a->next = NULL;\n",
        "  }\n",
        "else{\n",
        "   \n",
        "     node *current = a;\n",
        "     while(current->next!=NULL){\n",
        "        current = current->next;\n",
        "    }\n",
        "\n",
        "    node* h = new node; \n",
        "    h->data = val;\n",
        "    h->next = NULL;\n",
        "     \n",
        "    current->next = h; \n",
        "  }\n",
        "}\n",
        "\n",
        "void removeElement(node *&a, int val){\n",
        " \n",
        "  if(a == NULL)return;\n",
        "  /*A simple modification here will allow\n",
        "  to remove multiple at the front of the list*/\n",
        "  \n",
        "  while(a->data == val){\n",
        "      node *d = a;\n",
        "      a = a->next;\n",
        "      delete d;\n",
        "  }\n",
        "     \n",
        "  node* current = a;\n",
        "  while(current->next!=NULL){\n",
        "\n",
        "      if(current->next->data == val){\n",
        "        //Store current->next which has the value 8 into d\n",
        "          node *d = current->next;\n",
        "\n",
        "        /*Update the neighbour of 6 from 8 to 10,\n",
        "          so it looks like this, 4->6->10;*/\n",
        "          current->next = current->next->next;\n",
        "\n",
        "          //Reclaim the memory of d\n",
        "        delete d;  \n",
        "\n",
        "      }\n",
        "      //If you do not find the value, move along\n",
        "      else{\n",
        "          current = current->next;\n",
        "      }\n",
        "  }\n",
        "}\n",
        "\n",
        "\n",
        "int main(){\n",
        "\n",
        "  node* n = NULL;\n",
        "  addNode(n,2);\n",
        "  addNode(n,2);\n",
        "  addNode(n,8);\n",
        "  addNode(n,2);\n",
        "  addNode(n,4);\n",
        "  addNode(n,8);\n",
        "  addNode(n,6);\n",
        "  addNode(n,8);\n",
        "  \n",
        "  addNode(n,10);\n",
        "  printLinkedList(n);\n",
        "\n",
        "  /*So in order to remove an element\n",
        "  from a list, there are two cases\n",
        "  that we are going to consider .\n",
        "  a.Remove an element that is the \n",
        "  first element of a list.\n",
        "  b.Remove an element which is not \n",
        "  the first element of a list.\n",
        "  Note that the two elements\n",
        "  that we are going to remove,one\n",
        "  is 2 which is the first element of \n",
        "  the list and 8 , which is just any \n",
        "  other generic element in the list*/\n",
        "\n",
        "  removeElement(n,2);\n",
        "  removeElement(n,8);\n",
        "  printLinkedList(n);\n",
        "  /*Look into the second output , it reads\n",
        "  4 6 10, which means node containing the\n",
        "  values 2 and 8 are removed from the list*/\n",
        "\n",
        "  return 0;\n",
        "\n",
        "}"
      ],
      "execution_count": 15,
      "outputs": [
        {
          "output_type": "stream",
          "text": [
            "Overwriting test.cpp\n"
          ],
          "name": "stdout"
        }
      ]
    },
    {
      "cell_type": "code",
      "metadata": {
        "id": "vnz7nleOmr5u",
        "colab_type": "code",
        "colab": {
          "base_uri": "https://localhost:8080/",
          "height": 52
        },
        "outputId": "7d024cf2-f22e-482a-9678-23980d8a0ca1"
      },
      "source": [
        "%%script bash\n",
        "g++ test.cpp -o test \n",
        "./test"
      ],
      "execution_count": 16,
      "outputs": [
        {
          "output_type": "stream",
          "text": [
            "The linked list is : 2 2 8 2 4 8 6 8 10 \n",
            "The linked list is : 4 6 10 \n"
          ],
          "name": "stdout"
        }
      ]
    },
    {
      "cell_type": "markdown",
      "metadata": {
        "id": "J8PonkGyq1iJ",
        "colab_type": "text"
      },
      "source": [
        "There is something to point here , this is the linked list as it stands out as this moment 2->2->8->2->4->8->6->8->null. When `2` is removed from the list, the first while loop removes the first 2 `2`s, the 2nd while loop removes the 3rd `2` which is the 4th node in the above list. The reason is the 3rd `2` is not in the front of the list, even though its duplicates are in the front of the list. So, the 2nd while loop takes care of that.\n",
        "\n",
        "Finally, there is something that needs to be said about the insert operation in linked list. SO the linked list operation was shown `addNode` function. The job of the `addNode` function was to add nodes at the end of the list. What if someone wants to add node arbitrarily at any point in the list. We also need to accommodate such options."
      ]
    },
    {
      "cell_type": "code",
      "metadata": {
        "id": "_HE79Y8-mw8U",
        "colab_type": "code",
        "colab": {
          "base_uri": "https://localhost:8080/",
          "height": 35
        },
        "outputId": "b3b852f2-5ddb-43d9-c484-4d6f06fcca49"
      },
      "source": [
        "%%writefile test.cpp\n",
        "#include <iostream>\n",
        "using namespace std;\n",
        "\n",
        "struct node{\n",
        "    int data;\n",
        "    node *next;\n",
        "};\n",
        "\n",
        "void printLinkedList(node *p){\n",
        "    cout<<\"The linked list is : \"; \n",
        "    while(p!= NULL){\n",
        "        cout<<p->data<<\" \";\n",
        "        p = p->next;\n",
        "    }\n",
        "    cout<<endl;\n",
        "}\n",
        "\n",
        "void addNode(node *&a, int val){ \n",
        " if(a == NULL){\n",
        "     a = new node;\n",
        "     a->data = val;\n",
        "     a->next = NULL;\n",
        "  }\n",
        "else{\n",
        "   \n",
        "     node *current = a;\n",
        "     while(current->next!=NULL){\n",
        "        current = current->next;\n",
        "    }\n",
        "\n",
        "    node* h = new node; \n",
        "    h->data = val;\n",
        "    h->next = NULL;\n",
        "     \n",
        "    current->next = h; \n",
        "  }\n",
        "}\n",
        "\n",
        "void removeElement(node *&a, int val){\n",
        " \n",
        "  if(a == NULL)return;\n",
        "\n",
        "  /*A simple modification here will allow\n",
        "  to remove multiple elements at the front of the list*/\n",
        "  \n",
        "  while(a->data == val){\n",
        "      node *d = a;\n",
        "      a = a->next;\n",
        "      delete d;\n",
        "  }\n",
        "     \n",
        "  node* current = a;\n",
        "  while(current->next!=NULL){\n",
        "\n",
        "      if(current->next->data == val){\n",
        "        //Store current->next which has the value 8 into d\n",
        "          node *d = current->next;\n",
        "\n",
        "        /*Update the neighbour of 6 from 8 to 10,\n",
        "          so it looks like this, 4->6->10;*/\n",
        "          current->next = current->next->next;\n",
        "\n",
        "          //Reclaim the memory of d\n",
        "        delete d;  \n",
        "\n",
        "      }\n",
        "      //If you do not find the value, move along\n",
        "      else{\n",
        "          current = current->next;\n",
        "      }\n",
        "  }\n",
        "}\n",
        "\n",
        "\n",
        "void insertAt(node *&n, int index, int val){\n",
        "    /*If the index is 0 it means the value\n",
        "    is the first value in the list, everything\n",
        "    else in the list 'n' will come after it*/\n",
        "    if(index == 0){\n",
        "        //Initialize a new node like so:\n",
        "        node *a = new node;\n",
        "        a->data = val;\n",
        "        //Make the existing linked list as your neighbour\n",
        "        a->next = n;\n",
        "\n",
        "        /*Make the new node 'a' the leader, by \n",
        "        storing the address of the new node 'a' into 'n'.*/\n",
        "        n = a;\n",
        "        \n",
        "    }\n",
        "    /*If the index is not 0 then you have to do the following.*/\n",
        "    else {\n",
        "        node *current = n;\n",
        "\n",
        "        /*Move the current index to 2 index less than the \n",
        "        index number you wanted.\n",
        "        \n",
        "        2->4->6->8->10->12->14->null\n",
        "        0  1  2  3  4   5   6\n",
        "\n",
        "        If we want to put the value 365 in index 2, the \n",
        "        linked list will look like the following:\n",
        "\n",
        "        2->4->365->6->8->10->12->14->null\n",
        "        0  1   2   3  4  5   6    7\n",
        "\n",
        "        In the for-loop below the value of 'i' goes till i < 2 - 1; \n",
        "        which is i < 1. Since i starts from 0 , at least one single \n",
        "        loop ensures that current node moves from 0 index to 1 index.\n",
        "        So the current node points from node with value 2 to the node\n",
        "        with value 4. Similar argument can be made for other indices as well.\n",
        "        */\n",
        "        for(int i = 0; i < index - 1; ++i){\n",
        "            current = current->next;\n",
        "        }  \n",
        "\n",
        "        /*After reaching the current node reached index 1 in\n",
        "         the above example , a new node is created and the links\n",
        "          are readjusted*/\n",
        "\n",
        "        node *h = new node;\n",
        "        h->data = val;\n",
        "        \n",
        "        /*current is at node with value 4, its next node's value is 6\n",
        "        Node with value 6 will be the next of node with value 365*/\n",
        "\n",
        "        h->next = current->next;\n",
        "\n",
        "        /*Finally the current node needs to welcome its new neighbour, \n",
        "        so...*/\n",
        "        current->next = h;\n",
        "\n",
        "\n",
        "    }\n",
        "}\n",
        "\n",
        "\n",
        "int main(){\n",
        "\n",
        "  node* n = NULL;\n",
        "  insertAt(n, 0, 2);\n",
        "  insertAt(n, 1, 4);\n",
        "  insertAt(n, 2, 6);\n",
        "  insertAt(n, 3, 8);\n",
        "  insertAt(n, 4, 10);\n",
        "  insertAt(n, 5, 12);\n",
        "  insertAt(n, 2, 365);\n",
        "  printLinkedList(n);\n",
        "\n",
        "  return 0;\n",
        "\n",
        "}"
      ],
      "execution_count": 17,
      "outputs": [
        {
          "output_type": "stream",
          "text": [
            "Overwriting test.cpp\n"
          ],
          "name": "stdout"
        }
      ]
    },
    {
      "cell_type": "code",
      "metadata": {
        "id": "t58MuAayx3mO",
        "colab_type": "code",
        "colab": {
          "base_uri": "https://localhost:8080/",
          "height": 35
        },
        "outputId": "8c24a9ad-ba9e-4f65-d145-7a8db5254493"
      },
      "source": [
        "%%script bash\n",
        "g++ test.cpp -o test \n",
        "./test"
      ],
      "execution_count": 18,
      "outputs": [
        {
          "output_type": "stream",
          "text": [
            "The linked list is : 2 4 365 6 8 10 12 \n"
          ],
          "name": "stdout"
        }
      ]
    },
    {
      "cell_type": "markdown",
      "metadata": {
        "id": "oVsit4GfQo2U",
        "colab_type": "text"
      },
      "source": [
        "So that is that about linked list. The assignments will help you know further in this topic."
      ]
    }
  ]
}